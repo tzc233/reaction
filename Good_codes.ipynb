{
 "cells": [
  {
   "cell_type": "markdown",
   "id": "bf76a0da-ed58-4f7b-afcd-2a749981b233",
   "metadata": {
    "tags": []
   },
   "source": [
    "# 一.导入原始数据"
   ]
  },
  {
   "cell_type": "markdown",
   "id": "731bde27-2af2-4cfa-b902-9e3348560d6c",
   "metadata": {
    "tags": []
   },
   "source": [
    "## 1.数据导入和格式化"
   ]
  },
  {
   "cell_type": "code",
   "execution_count": 1,
   "id": "28ea72c0-a785-445d-9403-77c8ee23eed6",
   "metadata": {},
   "outputs": [
    {
     "name": "stdout",
     "output_type": "stream",
     "text": [
      "(2658,)\n",
      "[['Mo3O9' '55']\n",
      " ['MoO2' '18']\n",
      " ['MoO' '3']]\n"
     ]
    }
   ],
   "source": [
    "import torch\n",
    "import pandas as pd\n",
    "import os\n",
    "import torch.nn as nn\n",
    "import torch.optim as optim\n",
    "import numpy as np\n",
    "import matplotlib.pyplot as plt\n",
    "from torch.utils.data import TensorDataset, DataLoader\n",
    "from tqdm import tqdm\n",
    "from sklearn.model_selection import train_test_split\n",
    "from sklearn.metrics import mean_squared_error\n",
    "from torch.optim.lr_scheduler import ReduceLROnPlateau\n",
    "from sklearn.preprocessing import MinMaxScaler\n",
    "from copy import deepcopy\n",
    "from torch.nn.parallel import DataParallel\n",
    "import torch.nn.functional as F\n",
    "# 设定随机种子以保证结果可复现\n",
    "torch.manual_seed(0)\n",
    "np.random.seed(0)\n",
    "\n",
    "# 设定设备\n",
    "device = torch.device(\"cuda\" if torch.cuda.is_available() else \"cpu\")\n",
    "\n",
    "# 新数据\n",
    "# 读取所有数据\n",
    "paths = [\n",
    "    'C:/Users/Administrator/Desktop/My research/2_ML_predict_product/data_product/1500K_3atm/clean_processed_data_1500_1.csv',\n",
    "    'C:/Users/Administrator/Desktop/My research/2_ML_predict_product/data_product/1500K_3atm/clean_processed_data_1500_2.csv',\n",
    "    'C:/Users/Administrator/Desktop/My research/2_ML_predict_product/data_product/1500K_3atm/clean_processed_data_1500_3.csv',\n",
    "    'C:/Users/Administrator/Desktop/My research/2_ML_predict_product/data_product/1500K_3atm/clean_processed_data_1500_4.csv',\n",
    "    'C:/Users/Administrator/Desktop/My research/2_ML_predict_product/data_product/1500K_3atm/clean_processed_data_1500_5.csv',\n",
    "    'C:/Users/Administrator/Desktop/My research/2_ML_predict_product/data_product/1500K_3atm/clean_processed_data_1500_6.csv'\n",
    "]\n",
    "all_data = []\n",
    "for path in paths:\n",
    "    data = pd.read_csv(path,header=None)\n",
    "    data = np.array(data)\n",
    "    all_data.append(data)\n",
    "all_data = np.concatenate(all_data, axis=0)\n",
    "\n",
    "# 处理数据的函数\n",
    "def process_data(data):\n",
    "    pro_data = []\n",
    "    for record in data:\n",
    "        # 每条记录是一个字符串，将其按分号分割\n",
    "        elements = record[0].split(';')\n",
    "        processed_data = []\n",
    "        for element in elements:\n",
    "            # print(element)\n",
    "            # 去除括号并按逗号分割成元素和数字\n",
    "            mol, count = element.strip('()').split(',')\n",
    "            processed_data.append((mol, int(count)))\n",
    "        pro_data.append(np.array(processed_data))\n",
    "    return pro_data\n",
    "\n",
    "# 调用函数处理数据\n",
    "processed = process_data(all_data) \n",
    "processed = np.array(processed, dtype=object)\n",
    "print(processed.shape)\n",
    "print(processed[0][:3])"
   ]
  },
  {
   "cell_type": "markdown",
   "id": "3f06aa47-3f8f-4e22-899a-736a81194da7",
   "metadata": {
    "jp-MarkdownHeadingCollapsed": true,
    "tags": []
   },
   "source": [
    "## 2.原始数据(processed)统计分析"
   ]
  },
  {
   "cell_type": "code",
   "execution_count": 14,
   "id": "b8b8e9ba-cc98-48c0-a4af-674ddd25663e",
   "metadata": {},
   "outputs": [
    {
     "name": "stdout",
     "output_type": "stream",
     "text": [
      "39\n"
     ]
    }
   ],
   "source": [
    "# 统计所有物种类型\n",
    "unique_species = set()\n",
    "\n",
    "for record in processed:\n",
    "    for element in record:\n",
    "        # element 是一个包含 ['物种名称', '停留时间'] 的数组\n",
    "        mol = element[0]  # 获取物种名称\n",
    "        unique_species.add(mol)\n",
    "\n",
    "# 输出所有物种类型的名称\n",
    "print(len(unique_species))\n",
    "#print(unique_species)"
   ]
  },
  {
   "cell_type": "code",
   "execution_count": 16,
   "id": "dedcd295-b361-4dbf-804e-941495dfc15e",
   "metadata": {},
   "outputs": [
    {
     "name": "stdout",
     "output_type": "stream",
     "text": [
      "\n",
      "物种类型                 总出现次数           停留时间<= 10 次数         停留时间> 10 次数         \n",
      "---------------------------------------------------------------------------\n",
      "MoS5                 63174           50439                12735               \n",
      "MoS6                 57354           7585                 49769               \n",
      "MoOS6                35272           4826                 30446               \n",
      "MoS4                 33365           24494                8871                \n",
      "MoS7                 27551           3508                 24043               \n",
      "MoS8                 27438           9756                 17682               \n",
      "MoO2S5               22761           7726                 15035               \n",
      "MoOS5                22472           4317                 18155               \n",
      "MoS9                 16737           10548                6189                \n",
      "MoOS7                15215           8336                 6879                \n",
      "MoS3                 10019           4178                 5841                \n",
      "MoOS4                8162            4783                 3379                \n",
      "MoS2                 7260            3265                 3995                \n",
      "MoOS2                6451            3298                 3153                \n",
      "MoS                  6247            2940                 3307                \n",
      "MoOS3                5804            2734                 3070                \n",
      "MoO2S4               5563            2198                 3365                \n",
      "MoO                  5361            2537                 2824                \n",
      "Mo2S10               4942            1719                 3223                \n",
      "MoO2                 4435            1490                 2945                \n",
      "Mo2S9                4351            1225                 3126                \n",
      "MoOS                 3907            1428                 2479                \n",
      "Mo2S8                3546            982                  2564                \n",
      "Mo2S7                3023            715                  2308                \n",
      "Mo3O9                2666            225                  2441                \n",
      "Mo2S6                2386            579                  1807                \n",
      "MoO3                 1700            1497                 203                 \n",
      "MoO2S                1567            1099                 468                 \n",
      "MoO2S2               1468            1059                 409                 \n",
      "MoO2S6               1283            615                  668                 \n",
      "Mo                   1252            723                  529                 \n",
      "Mo2S5                1177            364                  813                 \n",
      "Mo3O9S2              996             526                  470                 \n",
      "MoO2S3               281             166                  115                 \n",
      "Mo2O4                165             157                  8                   \n",
      "Mo2S4                164             46                   118                 \n",
      "Mo2O3                103             81                   22                  \n",
      "Mo2OS                51              33                   18                  \n",
      "Mo2O2                48              32                   16                  \n"
     ]
    }
   ],
   "source": [
    "from collections import Counter\n",
    "import numpy as np\n",
    "import pandas as pd\n",
    "\n",
    "def count_species_with_time(processed, n):\n",
    "    \"\"\"\n",
    "    统计每个物种的总出现次数以及停留时间小于等于n的次数。\n",
    "\n",
    "    参数:\n",
    "    - processed (np.array): 处理后的数据数组，元素为每条记录的物种及停留时间。\n",
    "    - n (int): 停留时间的阈值。\n",
    "\n",
    "    返回:\n",
    "    - species_counter (Counter): 每个物种的总出现次数。\n",
    "    - species_counter_le_n (Counter): 每个物种停留时间小于等于n的出现次数。\n",
    "    \"\"\"\n",
    "    species_counter = Counter()\n",
    "    species_counter_le_n = Counter()\n",
    "    \n",
    "    for record in processed:\n",
    "        for element in record:\n",
    "            mol = element[0]\n",
    "            try:\n",
    "                count = int(element[1])\n",
    "            except ValueError:\n",
    "                print(f\"无法将停留时间转换为整数: {element[1]}，跳过该元素。\")\n",
    "                continue  # 跳过无法转换的元素\n",
    "            \n",
    "            species_counter[mol] += 1\n",
    "            if count <= n:\n",
    "                species_counter_le_n[mol] += 1\n",
    "    \n",
    "    return species_counter, species_counter_le_n\n",
    "\n",
    "def print_species_statistics(species_counts, species_counts_le_n, n):\n",
    "    \"\"\"\n",
    "    打印每种物种的总出现次数、停留时间小于等于n的出现次数以及停留时间大于n的出现次数，\n",
    "    按总出现次数降序排列。\n",
    "\n",
    "    参数:\n",
    "    - species_counts (Counter): 每个物种的总出现次数。\n",
    "    - species_counts_le_n (Counter): 每个物种停留时间小于等于n的出现次数。\n",
    "    - n (int): 停留时间的阈值。\n",
    "    \"\"\"\n",
    "    # 获取按总出现次数降序排列的物种列表\n",
    "    sorted_species = species_counts.most_common()\n",
    "    \n",
    "    # 打印表头\n",
    "    print(f\"\\n{'物种类型':<20} {'总出现次数':<15} {'停留时间<= ' + str(n) + ' 次数':<20} {'停留时间> ' + str(n) + ' 次数':<20}\")\n",
    "    print(\"-\" * 75)\n",
    "    \n",
    "    # 打印每种物种的统计数据\n",
    "    for mol, total in sorted_species:\n",
    "        le_n = species_counts_le_n.get(mol, 0)\n",
    "        gt_n = total - le_n  # 计算停留时间 > n 的次数\n",
    "        print(f\"{mol:<20} {total:<15} {le_n:<20} {gt_n:<20}\")\n",
    "\n",
    "\n",
    "# 示例调用\n",
    "if __name__ == \"__main__\":\n",
    "\n",
    "    n = 10  # 设定阈值\n",
    "    \n",
    "    # 统计物种出现次数和停留时间小于等于n的出现次数\n",
    "    species_counts, species_counts_le_n = count_species_with_time(processed, n)\n",
    "    \n",
    "    # 打印统计结果，按总出现次数降序排列\n",
    "    print_species_statistics(species_counts, species_counts_le_n, n)"
   ]
  },
  {
   "cell_type": "code",
   "execution_count": 5,
   "id": "470944cd-77b8-4a48-92eb-d407658fff93",
   "metadata": {},
   "outputs": [
    {
     "name": "stdout",
     "output_type": "stream",
     "text": [
      "\n",
      "每种物种类型的最大、最小和平均停留时间：\n",
      "Mo2O4: 最小停留时间 = 1, 最大停留时间 = 69, 平均停留时间 = 4.71\n",
      "Mo2O3: 最小停留时间 = 1, 最大停留时间 = 26, 平均停留时间 = 6.44\n",
      "MoO3: 最小停留时间 = 1, 最大停留时间 = 473, 平均停留时间 = 8.19\n",
      "Mo2OS: 最小停留时间 = 1, 最大停留时间 = 43, 平均停留时间 = 9.71\n",
      "Mo3O9S2: 最小停留时间 = 1, 最大停留时间 = 62, 平均停留时间 = 11.20\n",
      "Mo2O2: 最小停留时间 = 1, 最大停留时间 = 62, 平均停留时间 = 13.27\n",
      "MoO2S2: 最小停留时间 = 1, 最大停留时间 = 730, 平均停留时间 = 14.52\n",
      "MoO2S3: 最小停留时间 = 1, 最大停留时间 = 459, 平均停留时间 = 16.78\n",
      "MoO2S: 最小停留时间 = 1, 最大停留时间 = 604, 平均停留时间 = 16.85\n",
      "MoS9: 最小停留时间 = 1, 最大停留时间 = 1877, 平均停留时间 = 20.44\n",
      "MoO2S4: 最小停留时间 = 1, 最大停留时间 = 1976, 平均停留时间 = 26.09\n",
      "MoOS7: 最小停留时间 = 1, 最大停留时间 = 1588, 平均停留时间 = 29.29\n",
      "MoO2S6: 最小停留时间 = 1, 最大停留时间 = 405, 平均停留时间 = 30.13\n",
      "MoS5: 最小停留时间 = 1, 最大停留时间 = 2017, 平均停留时间 = 36.85\n",
      "MoOS4: 最小停留时间 = 1, 最大停留时间 = 1124, 平均停留时间 = 37.73\n",
      "Mo: 最小停留时间 = 1, 最大停留时间 = 544, 平均停留时间 = 38.35\n",
      "MoO2S5: 最小停留时间 = 1, 最大停留时间 = 1414, 平均停留时间 = 41.01\n",
      "MoS4: 最小停留时间 = 1, 最大停留时间 = 2915, 平均停留时间 = 41.34\n",
      "MoOS2: 最小停留时间 = 1, 最大停留时间 = 1242, 平均停留时间 = 42.33\n",
      "MoO2: 最小停留时间 = 1, 最大停留时间 = 665, 平均停留时间 = 44.40\n",
      "MoS: 最小停留时间 = 1, 最大停留时间 = 642, 平均停留时间 = 49.92\n",
      "MoOS3: 最小停留时间 = 1, 最大停留时间 = 1243, 平均停留时间 = 52.62\n",
      "Mo2S4: 最小停留时间 = 1, 最大停留时间 = 453, 平均停留时间 = 55.81\n",
      "MoO: 最小停留时间 = 1, 最大停留时间 = 719, 平均停留时间 = 55.84\n",
      "MoS2: 最小停留时间 = 1, 最大停留时间 = 1575, 平均停留时间 = 57.34\n",
      "MoOS: 最小停留时间 = 1, 最大停留时间 = 862, 平均停留时间 = 64.59\n",
      "MoS8: 最小停留时间 = 1, 最大停留时间 = 2051, 平均停留时间 = 65.57\n",
      "Mo2S5: 最小停留时间 = 1, 最大停留时间 = 724, 平均停留时间 = 66.94\n",
      "MoS3: 最小停留时间 = 1, 最大停留时间 = 1828, 平均停留时间 = 70.17\n",
      "Mo3O9: 最小停留时间 = 1, 最大停留时间 = 480, 平均停留时间 = 72.07\n",
      "Mo2S6: 最小停留时间 = 1, 最大停留时间 = 1704, 平均停留时间 = 88.51\n",
      "Mo2S7: 最小停留时间 = 1, 最大停留时间 = 1980, 平均停留时间 = 105.92\n",
      "Mo2S8: 最小停留时间 = 1, 最大停留时间 = 1424, 平均停留时间 = 109.62\n",
      "MoOS5: 最小停留时间 = 1, 最大停留时间 = 3162, 平均停留时间 = 111.80\n",
      "Mo2S9: 最小停留时间 = 1, 最大停留时间 = 3443, 平均停留时间 = 114.50\n",
      "Mo2S10: 最小停留时间 = 1, 最大停留时间 = 3151, 平均停留时间 = 133.02\n",
      "MoOS6: 最小停留时间 = 1, 最大停留时间 = 4603, 平均停留时间 = 163.85\n",
      "MoS6: 最小停留时间 = 1, 最大停留时间 = 11353, 平均停留时间 = 670.69\n",
      "MoS7: 最小停留时间 = 1, 最大停留时间 = 10330, 平均停留时间 = 726.64\n"
     ]
    }
   ],
   "source": [
    "from collections import Counter, defaultdict\n",
    "# -----------------------------------------------\n",
    "# 统计每个物种的最大、最小和平均停留时间\n",
    "# -----------------------------------------------\n",
    "\n",
    "# 使用 defaultdict 存储每个物种的最小、最大停留时间及总停留时间\n",
    "species_time_stats = defaultdict(lambda: {'min': None, 'max': None, 'total': 0, 'count': 0})\n",
    "\n",
    "for record in processed:\n",
    "    for element in record:\n",
    "        mol, count = element[0], int(element[1])\n",
    "        if species_time_stats[mol]['min'] is None or count < species_time_stats[mol]['min']:\n",
    "            species_time_stats[mol]['min'] = count\n",
    "        if species_time_stats[mol]['max'] is None or count > species_time_stats[mol]['max']:\n",
    "            species_time_stats[mol]['max'] = count\n",
    "        species_time_stats[mol]['total'] += count\n",
    "        species_time_stats[mol]['count'] += 1\n",
    "\n",
    "# 计算平均停留时间并准备输出列表\n",
    "species_time_list = sorted(\n",
    "    [\n",
    "        (\n",
    "            stats['total'] / stats['count'] if stats['count'] > 0 else 0,\n",
    "            stats['max'],\n",
    "            stats['min'],\n",
    "            mol\n",
    "        )\n",
    "        for mol, stats in species_time_stats.items()\n",
    "    ],\n",
    "    key=lambda x: x[0]\n",
    ")\n",
    "\n",
    "# 输出统计结果\n",
    "print(\"\\n每种物种类型的最大、最小和平均停留时间：\")\n",
    "for avg_time, max_time,min_time,mol in species_time_list:\n",
    "    print(f\"{mol}: 最小停留时间 = {min_time}, 最大停留时间 = {max_time}, 平均停留时间 = {avg_time:.2f}\")"
   ]
  },
  {
   "cell_type": "markdown",
   "id": "c45776e7-8286-4ec9-b480-65f961db6013",
   "metadata": {
    "tags": []
   },
   "source": [
    "## 3.深度过滤原始数据(processed)"
   ]
  },
  {
   "cell_type": "code",
   "execution_count": 2,
   "id": "9e4e7bdc-c0fe-4779-badd-5cbd74fea966",
   "metadata": {},
   "outputs": [
    {
     "name": "stdout",
     "output_type": "stream",
     "text": [
      "过滤前 (原始数据) ：\n",
      "[['Mo3O9' '26']\n",
      " ['Mo3O9S2' '11']\n",
      " ['MoO3' '2']\n",
      " ['MoO2' '96']\n",
      " ['MoO2S2' '2']\n",
      " ['MoOS' '102']\n",
      " ['MoOS3' '8']\n",
      " ['MoS2' '20']\n",
      " ['MoS4' '4']\n",
      " ['MoS2' '76']]\n",
      "\n",
      "过滤后 (删除停留时间 < 5 并合并相邻相同状态) ：\n",
      "[['Mo3O9' '26']\n",
      " ['Mo3O9S2' '11']\n",
      " ['MoO2' '96']\n",
      " ['MoOS' '102']\n",
      " ['MoOS3' '8']\n",
      " ['MoS2' '96']\n",
      " ['MoOS2' '5']\n",
      " ['MoS' '232']\n",
      " ['MoS2' '80']\n",
      " ['MoS4' '14']]\n"
     ]
    }
   ],
   "source": [
    "import numpy as np\n",
    "\n",
    "def filter_and_merge_one_record(record, min_time=5):\n",
    "    \"\"\"\n",
    "    对单条记录进行过滤和合并操作：\n",
    "    1. 删除停留时间小于 min_time 的状态。\n",
    "    2. 将删除后连续且相同物种的状态合并为一个状态（停留时间累加）。\n",
    "    \n",
    "    参数：\n",
    "    - record: 形如 array([['MoO','33'], ['MoS','251'], ['MoS','254'], ...]) 的数组\n",
    "    - min_time: 停留时间的阈值，删除停留时间小于该值的状态\n",
    "    \n",
    "    返回：\n",
    "    - 处理后的 NumPy 数组，满足以上两步操作\n",
    "    \"\"\"\n",
    "    # 1) 过滤：删除停留时间 < min_time 的状态\n",
    "    filtered = [row for row in record if int(row[1]) >= min_time]\n",
    "    \n",
    "    # 2) 合并连续相同物种的状态\n",
    "    merged = []\n",
    "    for mol, time_str in filtered:\n",
    "        time_val = int(time_str)\n",
    "        if merged and merged[-1][0] == mol:\n",
    "            # 若与上一个物种相同，则合并（累加停留时间）\n",
    "            merged[-1][1] = str(int(merged[-1][1]) + time_val)\n",
    "        else:\n",
    "            # 否则添加新的物种状态\n",
    "            merged.append([mol, str(time_val)])\n",
    "    \n",
    "    return np.array(merged)\n",
    "\n",
    "def filter_and_merge_processed(processed, min_time=5):\n",
    "    \"\"\"\n",
    "    对完整的 processed 数据进行过滤和合并操作：\n",
    "    对 processed 每个元素（单条记录）调用 filter_and_merge_one_record\n",
    "    \n",
    "    参数：\n",
    "    - processed: 形如 [record_1, record_2, ...] 的对象数组（dtype=object）\n",
    "    - min_time: 停留时间的阈值\n",
    "    \n",
    "    返回：\n",
    "    - 处理后的 NumPy 对象数组\n",
    "    \"\"\"\n",
    "    new_processed = []\n",
    "    for idx, record in enumerate(processed):\n",
    "        merged_record = filter_and_merge_one_record(record, min_time=min_time)\n",
    "        new_processed.append(merged_record)\n",
    "    \n",
    "    return np.array(new_processed, dtype=object)\n",
    "\n",
    "# -------------------- 测试示例 --------------------\n",
    "if __name__ == \"__main__\":    \n",
    "    # 设定阈值，比如 n=5\n",
    "    n = 5\n",
    "    \n",
    "    # 调用过滤和合并函数\n",
    "    new_processed = filter_and_merge_processed(processed, min_time=n)\n",
    "    \n",
    "    # 打印过滤前和过滤后的结果\n",
    "    print(\"过滤前 (原始数据) ：\")\n",
    "    print(processed[3][:10])\n",
    "    \n",
    "    print(\"\\n过滤后 (删除停留时间 < 5 并合并相邻相同状态) ：\")\n",
    "    print(new_processed[3][:10])"
   ]
  },
  {
   "cell_type": "markdown",
   "id": "7ecd358e-1f67-4fce-9201-12e5d68354f2",
   "metadata": {
    "tags": []
   },
   "source": [
    "# 二.数据编码"
   ]
  },
  {
   "cell_type": "markdown",
   "id": "2b19adf6-3000-4f19-a84e-ba637ccf0691",
   "metadata": {
    "tags": []
   },
   "source": [
    "## 编码方式1 - [ 3, 9, 0, 55],得到cy_data"
   ]
  },
  {
   "cell_type": "code",
   "execution_count": 4,
   "id": "9e80247d-9e18-4563-b80e-f27cdbbf5901",
   "metadata": {},
   "outputs": [
    {
     "data": {
      "text/plain": [
       "array([ 1,  1, 13])"
      ]
     },
     "execution_count": 4,
     "metadata": {},
     "output_type": "execute_result"
    }
   ],
   "source": [
    "# 编码，转换成向量\n",
    "def incode(molecule):\n",
    "    vec = np.zeros(3)\n",
    "    length = len(molecule)\n",
    "    Mo = molecule.find('Mo')\n",
    "    O = molecule.find('O')\n",
    "    S = molecule.find('S')\n",
    "    # print(Mo, O, S)\n",
    "    moi = oi = si = 0\n",
    "    moi = 1\n",
    "    if O==-1 and S==-1 and length>2:\n",
    "        moi = molecule[Mo+2:]\n",
    "    elif O != -1:\n",
    "        if O > Mo + 2:\n",
    "            moi = int(molecule[Mo+2:O])\n",
    "        else:\n",
    "            moi = 1\n",
    "        if S == O + 1 or O+1==length:\n",
    "            oi = 1\n",
    "        elif S==-1:\n",
    "            oi = int(molecule[O+1:])\n",
    "        else:\n",
    "            oi = int(molecule[O+1:S])\n",
    "    elif S != -1:\n",
    "        if S > Mo + 2:\n",
    "            moi = int(molecule[Mo+2:S])\n",
    "        else:\n",
    "            moi = 1\n",
    "        if S+1==length:\n",
    "            si = 1\n",
    "        else:\n",
    "            si = int(molecule[S+1:])\n",
    "    if S!=-1:\n",
    "        if S+1==length:\n",
    "            si = 1\n",
    "        else:\n",
    "            si = int(molecule[S+1:])\n",
    "    vec = np.array([moi, oi, si])\n",
    "    return vec\n",
    "incode('MoOS13')"
   ]
  },
  {
   "cell_type": "markdown",
   "id": "7543daea-4781-4ed6-b85c-a8fbccfa5063",
   "metadata": {},
   "source": [
    "对processed或new_processed进行编码"
   ]
  },
  {
   "cell_type": "code",
   "execution_count": 5,
   "id": "b7d1b052-e451-43b8-971b-71f2ba9cf44e",
   "metadata": {},
   "outputs": [
    {
     "name": "stdout",
     "output_type": "stream",
     "text": [
      "(2658,)\n"
     ]
    },
    {
     "data": {
      "text/plain": [
       "[array([ 3,  9,  0, 55]),\n",
       " array([ 1,  2,  0, 18]),\n",
       " array([ 1,  0,  1, 10]),\n",
       " array([  1,   0,   3, 159]),\n",
       " array([ 1,  1,  4, 20])]"
      ]
     },
     "execution_count": 5,
     "metadata": {},
     "output_type": "execute_result"
    }
   ],
   "source": [
    "# 使用列表推导式遍历二维数组并调用函数进行编码，将返回值存储在新的二维数组中\n",
    "cy_data = new_processed #使用深度处理后的数据\n",
    "cy_data = [[np.append(incode(value[0]), int(value[1])) for value in row] for row in cy_data]\n",
    "cy_data = np.array(cy_data,dtype=object)\n",
    "print(cy_data.shape)\n",
    "cy_data[0][:5]"
   ]
  },
  {
   "cell_type": "markdown",
   "id": "8a37a1c6-300f-4c8a-aef6-74a17d3f1ae6",
   "metadata": {
    "tags": []
   },
   "source": [
    "## 编码方式2 - [37 55] [类别编号,时间],得到cy_data_encoded --备注:先执行编码方式1"
   ]
  },
  {
   "cell_type": "code",
   "execution_count": 6,
   "id": "35abd889-1ae5-4e04-968e-11f9a3846076",
   "metadata": {},
   "outputs": [
    {
     "name": "stdout",
     "output_type": "stream",
     "text": [
      "编码后数据示例：\n",
      "[37 55]\n"
     ]
    }
   ],
   "source": [
    "# 在现有代码基础上添加以下部分\n",
    "from sklearn.preprocessing import LabelEncoder\n",
    "import joblib  # 用于保存编码器\n",
    "\n",
    "# ====== 新增函数：将Mo/O/S组合编码为唯一类别 ======\n",
    "def encode_mo_os_combinations(cy_data):\n",
    "    \"\"\"将每个[Mo, O, S]组合编码为唯一整数类别\"\"\"\n",
    "    # 提取所有Mo/O/S组合\n",
    "    all_combinations = []\n",
    "    for row in cy_data:\n",
    "        for state in row:\n",
    "            mo_os = tuple(state[:3])  # 前三个元素为Mo/O/S原子数\n",
    "            all_combinations.append(mo_os)\n",
    "    \n",
    "    # 训练编码器\n",
    "    encoder = LabelEncoder()\n",
    "    # 将组合转换为字符串（例如 (3,9,0) -> \"3_9_0\"）\n",
    "    str_combinations = [\"_\".join(map(str, comb)) for comb in all_combinations]\n",
    "    encoder.fit(str_combinations)\n",
    "    \n",
    "    # 替换原始数据中的前3列为编码后的类别\n",
    "    encoded_cy_data = []\n",
    "    for row in cy_data:\n",
    "        encoded_row = []\n",
    "        for state in row:\n",
    "            mo_os_str = \"_\".join(map(str, state[:3]))\n",
    "            encoded_label = encoder.transform([mo_os_str])[0]\n",
    "            # 新数据格式：[encoded_label, time]\n",
    "            encoded_row.append([encoded_label, state[3]])\n",
    "        encoded_cy_data.append(np.array(encoded_row))\n",
    "    \n",
    "    return np.array(encoded_cy_data, dtype=object), encoder\n",
    "\n",
    "# 执行编码\n",
    "cy_data_encoded, state_encoder = encode_mo_os_combinations(cy_data)\n",
    "\n",
    "# 保存编码器（用于后续推理）\n",
    "joblib.dump(state_encoder, 'state_encoder.pkl')\n",
    "\n",
    "# 检查编码后数据格式\n",
    "print(\"编码后数据示例：\")\n",
    "print(cy_data_encoded[0][0])  # 应输出类似 [5, 50]（类别索引, 时间）"
   ]
  },
  {
   "cell_type": "code",
   "execution_count": 7,
   "id": "01a0a214-2f2d-4939-bdf7-5743e61bea60",
   "metadata": {},
   "outputs": [
    {
     "name": "stdout",
     "output_type": "stream",
     "text": [
      "所有物种类型的数量： 39\n"
     ]
    },
    {
     "data": {
      "text/plain": [
       "array(['1_0_0', '1_0_1', '1_0_2', '1_0_3', '1_0_4', '1_0_5', '1_0_6',\n",
       "       '1_0_7', '1_0_8', '1_0_9', '1_1_0', '1_1_1', '1_1_2', '1_1_3',\n",
       "       '1_1_4', '1_1_5', '1_1_6', '1_1_7', '1_2_0', '1_2_1', '1_2_2',\n",
       "       '1_2_3', '1_2_4', '1_2_5', '1_2_6', '1_3_0', '2_0_10', '2_0_4',\n",
       "       '2_0_5', '2_0_6', '2_0_7', '2_0_8', '2_0_9', '2_1_1', '2_2_0',\n",
       "       '2_3_0', '2_4_0', '3_9_0', '3_9_2'], dtype='<U6')"
      ]
     },
     "execution_count": 7,
     "metadata": {},
     "output_type": "execute_result"
    }
   ],
   "source": [
    "print(\"所有物种类型的数量：\",len(state_encoder.classes_))\n",
    "state_encoder.classes_"
   ]
  },
  {
   "cell_type": "code",
   "execution_count": 8,
   "id": "b517e136-7ec4-409b-be8b-10bad0e472d2",
   "metadata": {},
   "outputs": [
    {
     "name": "stdout",
     "output_type": "stream",
     "text": [
      "物种编号及对应的物种名称：\n",
      "类别 0: 1_0_0\n",
      "类别 1: 1_0_1\n",
      "类别 2: 1_0_2\n",
      "类别 3: 1_0_3\n",
      "类别 4: 1_0_4\n",
      "类别 5: 1_0_5\n",
      "类别 6: 1_0_6\n",
      "类别 7: 1_0_7\n",
      "类别 8: 1_0_8\n",
      "类别 9: 1_0_9\n",
      "类别 10: 1_1_0\n",
      "类别 11: 1_1_1\n",
      "类别 12: 1_1_2\n",
      "类别 13: 1_1_3\n",
      "类别 14: 1_1_4\n",
      "类别 15: 1_1_5\n",
      "类别 16: 1_1_6\n",
      "类别 17: 1_1_7\n",
      "类别 18: 1_2_0\n",
      "类别 19: 1_2_1\n",
      "类别 20: 1_2_2\n",
      "类别 21: 1_2_3\n",
      "类别 22: 1_2_4\n",
      "类别 23: 1_2_5\n",
      "类别 24: 1_2_6\n",
      "类别 25: 1_3_0\n",
      "类别 26: 2_0_10\n",
      "类别 27: 2_0_4\n",
      "类别 28: 2_0_5\n",
      "类别 29: 2_0_6\n",
      "类别 30: 2_0_7\n",
      "类别 31: 2_0_8\n",
      "类别 32: 2_0_9\n",
      "类别 33: 2_1_1\n",
      "类别 34: 2_2_0\n",
      "类别 35: 2_3_0\n",
      "类别 36: 2_4_0\n",
      "类别 37: 3_9_0\n",
      "类别 38: 3_9_2\n"
     ]
    }
   ],
   "source": [
    "# 获取 state_encoder.classes_ 的内容\n",
    "classes = state_encoder.classes_\n",
    "\n",
    "# 输出每个物种的编号及其对应的名称\n",
    "print(\"物种编号及对应的物种名称：\")\n",
    "for idx, class_name in enumerate(classes):\n",
    "    print(f\"类别 {idx}: {class_name}\")"
   ]
  },
  {
   "cell_type": "markdown",
   "id": "2fdd1e5b-4dae-4af5-a75f-3b30d335cd47",
   "metadata": {
    "tags": []
   },
   "source": [
    "# 三.构建数据集"
   ]
  },
  {
   "cell_type": "markdown",
   "id": "3b3d19a5-fe8b-480d-8712-6fd3132c867a",
   "metadata": {
    "tags": []
   },
   "source": [
    "## 3.1.设计X和y & 划分数据集(对cy_data和cy_data_encoded进行处理)"
   ]
  },
  {
   "cell_type": "markdown",
   "id": "b2d9bfa6-b9e3-4366-858e-66cfc7ade8d8",
   "metadata": {
    "jp-MarkdownHeadingCollapsed": true,
    "tags": []
   },
   "source": [
    "### 1.1. 针对单输出回归任务设计x和y ,且x,y的特征均为4(针对cy_data进行设计)"
   ]
  },
  {
   "cell_type": "code",
   "execution_count": null,
   "id": "dec6e1ce-3109-4433-a318-fb1bda2689dd",
   "metadata": {},
   "outputs": [],
   "source": [
    "import numpy as np\n",
    "from tqdm import tqdm\n",
    "\n",
    "# 构建数据集\n",
    "def create_dataset(data, sequence_length):\n",
    "    \"\"\"\n",
    "    将输入数据分割为长度为 sequence_length 的序列。\n",
    "    \"\"\"\n",
    "    sequences = []\n",
    "    for i in range(len(data) - sequence_length): #窗口是一个一个推后,所以如果一行原本有110组数据,那么就会产生110-sequence_length+1个 窗格\n",
    "        # 构建序列\n",
    "        sequences.append(data[i:i + sequence_length])\n",
    "    return sequences\n",
    "\n",
    "# 参数\n",
    "sequence_length = 3\n",
    "\n",
    "sequences = []\n",
    "X = []\n",
    "y = []\n",
    "for row in cy_data:\n",
    "    sequence = create_dataset(row, sequence_length)\n",
    "    sequence = np.array(sequence)\n",
    "    sequences.append(sequence)\n",
    "    X.append(sequence[:-1])  # 除去最后一个序列\n",
    "    y.append(sequence[1:, -1])  # 没有问题，因为连续的sequence之间中间段本来就相同\n",
    "\n",
    "sequences = np.array(sequences,dtype=object)\n",
    "X = np.array(X,dtype=object)\n",
    "y = np.array(y,dtype=object)\n",
    "# 检查生成的序列形状\n",
    "print('sequences.shape', sequences.shape)\n",
    "\n",
    "# 构建输入 X 和输出 y\n",
    "\n",
    "print('X.shape', X.shape)  # 输入的形状\n",
    "print('y.shape', y.shape)  # 输出的形状\n",
    "print(X[0][:3])\n",
    "print(y[0][:2])"
   ]
  },
  {
   "cell_type": "code",
   "execution_count": null,
   "id": "69c9afa7-cef6-4519-b93d-a606223019c6",
   "metadata": {},
   "outputs": [],
   "source": [
    "# 将数据划分为训练集和测试集，可以指定测试集的大小和随机种子\n",
    "X_train, X_test, y_train, y_test = train_test_split(X, y, test_size=0.3, random_state=42)\n",
    "print('X_train.shape', X_train.shape,'X_test.shape', X_test.shape)\n",
    "print('y_train.shape', y_train.shape,'y_test.shape', y_test.shape)\n",
    "X_train = np.concatenate(X_train)\n",
    "y_train = np.concatenate(y_train)\n",
    "X_test = np.concatenate(X_test)\n",
    "y_test = np.concatenate(y_test)\n",
    "print('X_train.shape', X_train.shape,'X_test.shape', X_test.shape)\n",
    "print('y_train.shape', y_train.shape,'y_test.shape', y_test.shape)"
   ]
  },
  {
   "cell_type": "markdown",
   "id": "ac6718da-a21e-43d7-85ad-6b709ad62ab7",
   "metadata": {
    "jp-MarkdownHeadingCollapsed": true,
    "tags": []
   },
   "source": [
    "### 1.2.针对单输出回归任务设计x和y ,且x,y的特征分别为4和1(时间)(针对cy_data进行设计)"
   ]
  },
  {
   "cell_type": "code",
   "execution_count": null,
   "id": "5f471b40-5038-441b-9137-e6049c7e2e4b",
   "metadata": {},
   "outputs": [],
   "source": [
    "import numpy as np\n",
    "from tqdm import tqdm\n",
    "\n",
    "# 构建数据集\n",
    "def create_dataset(data, sequence_length):\n",
    "    \"\"\"\n",
    "    将输入数据分割为长度为 sequence_length 的序列。\n",
    "    \"\"\"\n",
    "    sequences = []\n",
    "    for i in range(len(data) - sequence_length): #窗口是一个一个推后,所以如果一行原本有110组数据,那么就会产生110-sequence_length+1个 窗格\n",
    "        # 构建序列\n",
    "        sequences.append(data[i:i + sequence_length])\n",
    "    return sequences\n",
    "\n",
    "# 参数\n",
    "sequence_length = 3\n",
    "\n",
    "sequences = []\n",
    "X = []\n",
    "y = []\n",
    "for row in cy_data:\n",
    "    sequence = create_dataset(row, sequence_length)\n",
    "    sequence = np.array(sequence)\n",
    "    sequences.append(sequence)\n",
    "    X.append(sequence[:-1])  # 除去最后一个序列\n",
    "    y.append(sequence[1:, -1])  # 没有问题，因为连续的sequence之间中间段本来就相同\n",
    "\n",
    "sequences = np.array(sequences,dtype=object)\n",
    "X = np.array(X,dtype=object)\n",
    "y = np.array(y,dtype=object)\n",
    "\n",
    "\n",
    "\n",
    "# 将数据划分为训练集和测试集，可以指定测试集的大小和随机种子\n",
    "X_train, X_test, y_train, y_test = train_test_split(X, y, test_size=0.3, random_state=42)\n",
    "\n",
    "X_train = np.concatenate(X_train)\n",
    "y_train = np.concatenate(y_train)\n",
    "X_test = np.concatenate(X_test)\n",
    "y_test = np.concatenate(y_test)\n",
    "\n",
    "\n",
    "# 将x_train和y_train接起来####################把y原本的特征接到了X上,比sequence多一个维度.\n",
    "y_train_expanded = np.expand_dims(y_train, axis=1)  # 将 y_train 从 (n, 4) 转换为 (n, 1, 4)\n",
    "train_data = np.concatenate((X_train, y_train_expanded), axis=1)\n",
    "\n",
    "# 将x_test和y_test接起来\n",
    "y_test_expanded = np.expand_dims(y_test, axis=1)  # 将 y_test 从 (n, 4) 转换为 (n, 1, 4)\n",
    "test_data = np.concatenate((X_test, y_test_expanded), axis=1)\n",
    "\n",
    "\n",
    "train_data[:, -1, -1] = 0 #将训练数据中的y值中的时间部分转变为0\n",
    "test_data[:, -1, -1] = 0\n",
    "\n",
    "X_train = train_data  #输入变成了11维,并且强行将最后一维度的时间变为0\n",
    "X_test = test_data\n",
    "print(X_train.shape)\n",
    "print(X_test.shape)\n",
    "\n",
    "y_train = y_train[:, 3]#n行，1列，及一个X矩阵预测一个值\n",
    "y_test = y_test[:, 3]\n",
    "y_train = y_train.reshape(-1, 1)\n",
    "y_test = y_test.reshape(-1, 1)\n",
    "print(y_train.shape)\n",
    "print(y_test.shape)"
   ]
  },
  {
   "cell_type": "markdown",
   "id": "01824393-60b9-4f94-a351-ede013637008",
   "metadata": {},
   "source": [
    "### 1.3 针对单输出分类任务设计x和y,并且x和y只包含物种类别一个特征 (针对cy_data_encoded进行设计)¶"
   ]
  },
  {
   "cell_type": "code",
   "execution_count": 19,
   "id": "017163d8-3357-4ae5-9832-8043fa30aca9",
   "metadata": {},
   "outputs": [
    {
     "name": "stdout",
     "output_type": "stream",
     "text": [
      "(1860,) (798,)\n",
      "(1860,) (798,)\n",
      "(132480, 5, 1) (56761, 5, 1)\n",
      "(132480, 1) (56761, 1)\n",
      "训练集中包含的类别数量: 35\n",
      "测试集中包含的类别数量: 35\n",
      "总类别数量: 39\n",
      "训练集中缺失的类别: {35, 36, 37, 38}\n",
      "测试集中缺失的类别: {35, 36, 37, 38}\n"
     ]
    }
   ],
   "source": [
    "import numpy as np\n",
    "from tqdm import tqdm\n",
    "\n",
    "# 构建数据集\n",
    "def create_dataset(data, sequence_length):\n",
    "    \"\"\"\n",
    "    将输入数据分割为长度为 sequence_length 的序列。\n",
    "    \"\"\"\n",
    "    sequences = []\n",
    "    for i in range(len(data) - sequence_length): #窗口是一个一个推后,所以如果一行原本有110组数据,那么就会产生110-sequence_length+1个 窗格\n",
    "        # 构建序列\n",
    "        sequences.append(data[i:i + sequence_length])\n",
    "    return sequences\n",
    "\n",
    "# 参数\n",
    "sequence_length = 5\n",
    "\n",
    "sequences = []\n",
    "X = []\n",
    "y = []\n",
    "for row in cy_data_encoded:\n",
    "    sequence = create_dataset(row, sequence_length)\n",
    "    sequence = np.array(sequence)\n",
    "    sequences.append(sequence)\n",
    "    X.append(sequence[:-1,:, 0].reshape(-1,sequence_length,1))  # 除去最后一个序列,并且只取状态\n",
    "    y.append(sequence[1:, -1,0].reshape(-1,1))   # 除去第一个序列,并且只取状态\n",
    "\n",
    "sequences = np.array(sequences,dtype=object)\n",
    "X = np.array(X,dtype=object)\n",
    "y = np.array(y,dtype=object)\n",
    "\n",
    "# 将数据划分为训练集和测试集，可以指定测试集的大小和随机种子\n",
    "X_train, X_test, y_train, y_test = train_test_split(X, y, test_size=0.3, random_state=42)\n",
    "print(X_train.shape,X_test.shape)\n",
    "print(y_train.shape,y_test.shape)\n",
    "\n",
    "X_train = np.concatenate(X_train)\n",
    "y_train = np.concatenate(y_train)\n",
    "X_test = np.concatenate(X_test)\n",
    "y_test = np.concatenate(y_test)\n",
    "\n",
    "print(X_train.shape,X_test.shape)\n",
    "print(y_train.shape,y_test.shape)\n",
    "\n",
    "\n",
    "\n",
    "\n",
    "# 获取训练集和测试集中的唯一类别\n",
    "unique_train_classes = np.unique(y_train)\n",
    "unique_test_classes = np.unique(y_test)\n",
    "\n",
    "# 获取总的类别范围（通过 state_encoder 的类别总数）\n",
    "total_classes = np.arange(len(state_encoder.classes_))\n",
    "\n",
    "# 统计训练集和测试集中的类别数量\n",
    "num_train_classes = len(unique_train_classes)\n",
    "num_test_classes = len(unique_test_classes)\n",
    "\n",
    "\n",
    "# 检查训练集中是否缺少某些类别\n",
    "missing_classes_in_train = set(total_classes) - set(unique_train_classes)\n",
    "# 检查测试集中是否缺少某些类别\n",
    "missing_classes_in_test = set(total_classes) - set(unique_test_classes)\n",
    "\n",
    "\n",
    "\n",
    "# 输出结果\n",
    "print(f\"训练集中包含的类别数量: {num_train_classes}\")\n",
    "print(f\"测试集中包含的类别数量: {num_test_classes}\")\n",
    "print(f\"总类别数量: {len(total_classes)}\")\n",
    "\n",
    "if missing_classes_in_train:\n",
    "    print(f\"训练集中缺失的类别: {missing_classes_in_train}\")\n",
    "else:\n",
    "    print(\"训练集中没有缺失任何类别。\")\n",
    "\n",
    "\n",
    "if missing_classes_in_test:\n",
    "    print(f\"测试集中缺失的类别: {missing_classes_in_test}\")\n",
    "else:\n",
    "    print(\"测试集中没有缺失任何类别。\")"
   ]
  },
  {
   "cell_type": "code",
   "execution_count": 20,
   "id": "f8adbb79-8239-466b-9a12-deaf8b6630c2",
   "metadata": {},
   "outputs": [
    {
     "name": "stdout",
     "output_type": "stream",
     "text": [
      "类别索引对应的物种名称：\n",
      "类别 35: 2_3_0\n",
      "类别 37: 3_9_0\n",
      "类别 38: 3_9_2\n"
     ]
    }
   ],
   "source": [
    "# 获取 state_encoder.classes_ 的内容\n",
    "classes = state_encoder.classes_\n",
    "\n",
    "# 定义需要查询的类别索引\n",
    "target_indices = [35, 37, 38]\n",
    "\n",
    "# 输出对应的物种名称\n",
    "print(\"类别索引对应的物种名称：\")\n",
    "for idx in target_indices:\n",
    "    if idx < len(classes):  # 确保索引在范围内\n",
    "        print(f\"类别 {idx}: {classes[idx]}\")\n",
    "    else:\n",
    "        print(f\"类别 {idx} 超出了范围，无法找到对应物种。\")"
   ]
  },
  {
   "cell_type": "markdown",
   "id": "0899cd32-21f4-437a-a31f-eb5031869158",
   "metadata": {
    "jp-MarkdownHeadingCollapsed": true,
    "tags": []
   },
   "source": [
    "### 2.针对多输出(分类+回归)任务,设计X和y1,y2 (针对cy_data_encoded进行设计)"
   ]
  },
  {
   "cell_type": "code",
   "execution_count": 83,
   "id": "00f300ee-c0a8-4cc6-bcb4-57c01b6d6f07",
   "metadata": {},
   "outputs": [
    {
     "name": "stdout",
     "output_type": "stream",
     "text": [
      "sequences.shape (2658,)\n",
      "X.shape (2658,)\n",
      "y_state (2658,)\n",
      "y_time (2658,)\n",
      "[[[ 37  55]\n",
      "  [ 18  18]\n",
      "  [ 10   3]]\n",
      "\n",
      " [[ 18  18]\n",
      "  [ 10   3]\n",
      "  [  1  10]]\n",
      "\n",
      " [[ 10   3]\n",
      "  [  1  10]\n",
      "  [  3 159]]]\n",
      "[1 3]\n",
      "[ 10 159]\n"
     ]
    }
   ],
   "source": [
    "# 构建数据集\n",
    "def create_dataset(data, sequence_length):\n",
    "    \"\"\"\n",
    "    将输入数据分割为长度为 sequence_length 的序列。\n",
    "    \"\"\"\n",
    "    sequences = []\n",
    "    for i in range(len(data) - sequence_length): #窗口是一个一个推后,所以如果一行原本有110组数据,那么就会产生110-sequence_length+1个 窗格\n",
    "        # 构建序列\n",
    "        sequences.append(data[i:i + sequence_length])\n",
    "    return sequences\n",
    "\n",
    "# 参数\n",
    "sequence_length = 3\n",
    "\n",
    "sequences = []\n",
    "# 构建输入 X 和输出 y\n",
    "X = []       # 输入序列：形状 (n_samples, sequence_length, 2)\n",
    "y_state = [] # 目标状态类别：形状 (n_samples,)\n",
    "y_time = []  # 目标时间：形状 (n_samples,)\n",
    "for row in cy_data_encoded:\n",
    "    sequence = create_dataset(row, sequence_length)\n",
    "    sequence = np.array(sequence)\n",
    "    \n",
    "    sequences.append(sequence)\n",
    "    X.append(sequence[:-1])  # 除去最后一个序列\n",
    "    y_state.append(sequence[1:, -1][:,0])  # 没有问题，因为连续的sequence之间中间段本来就相同\n",
    "    y_time.append(sequence[1:, -1][:,1])  \n",
    "    \n",
    "sequences = np.array(sequences,dtype=object)\n",
    "X = np.array(X,dtype=object)\n",
    "y_state = np.array(y_state,dtype=object)    \n",
    "y_time = np.array(y_time,dtype=object)    \n",
    "\n",
    "# 检查生成的序列形状\n",
    "print('sequences.shape', sequences.shape)\n",
    "print('X.shape', X.shape)  # 输入的形状\n",
    "print('y_state', y_state.shape)  # 输出的形状\n",
    "print('y_time', y_time.shape)  # 输出的形状\n",
    "print(X[0][:3])\n",
    "print(y_state[0][:2])   \n",
    "print(y_time[0][:2])"
   ]
  },
  {
   "cell_type": "code",
   "execution_count": 10,
   "id": "9a77b9ec-44ba-4bb7-893f-85ca3c9b0c65",
   "metadata": {},
   "outputs": [
    {
     "name": "stdout",
     "output_type": "stream",
     "text": [
      "(1860,) (1860,) (1860,)\n",
      "(798,) (798,) (798,)\n",
      "X_train.shape (284855, 2, 2) X_test.shape (122888, 2, 2)\n",
      "y_state_train.shape (284855,) y_state_test.shape (122888,)\n",
      "y_time_train.shape (284855,) y_time_test.shape (122888,)\n"
     ]
    }
   ],
   "source": [
    "# 将数据划分为训练集和测试集，可以指定测试集的大小和随机种子\n",
    "# 同时保持三个部分的对应关系\n",
    "X_train, X_test, y_state_train, y_state_test, y_time_train, y_time_test = train_test_split(\n",
    "    X, y_state, y_time, \n",
    "    test_size=0.3, \n",
    "    random_state=42\n",
    ")\n",
    "print(X_train.shape,y_state_train.shape, y_time_train.shape)\n",
    "print(X_test.shape,y_state_test.shape, y_time_test.shape)\n",
    "\n",
    "X_train = np.concatenate(X_train)\n",
    "y_state_train = np.concatenate(y_state_train)\n",
    "y_time_train = np.concatenate(y_time_train)\n",
    "\n",
    "X_test = np.concatenate(X_test)\n",
    "y_state_test = np.concatenate(y_state_test)\n",
    "y_time_test = np.concatenate(y_time_test)\n",
    "print('X_train.shape', X_train.shape,'X_test.shape', X_test.shape)\n",
    "print('y_state_train.shape', y_state_train.shape,'y_state_test.shape',y_state_test.shape)\n",
    "print('y_time_train.shape', y_time_train.shape,'y_time_test.shape',y_time_test.shape)"
   ]
  },
  {
   "cell_type": "markdown",
   "id": "35c82633-644a-44fc-972c-86c944018905",
   "metadata": {
    "tags": []
   },
   "source": [
    "## 3.2 对数据集进行特征处理"
   ]
  },
  {
   "cell_type": "markdown",
   "id": "099f1406-32c0-4b4c-b14c-7e6ea20bfc96",
   "metadata": {
    "jp-MarkdownHeadingCollapsed": true,
    "tags": []
   },
   "source": [
    "### 1.1. 针对单输出任务,x,y的特征均为4的数据集进行特征处理"
   ]
  },
  {
   "cell_type": "markdown",
   "id": "9a57d433-98cd-47aa-a8ed-bfed9a4dd2fa",
   "metadata": {
    "jp-MarkdownHeadingCollapsed": true,
    "tags": []
   },
   "source": [
    "#### a.对前三维特征进行标准化处理,对第4维特征进行取对数处理"
   ]
  },
  {
   "cell_type": "code",
   "execution_count": null,
   "id": "4e2c7ca6-d994-4cca-8c5d-f2732d4f8f6c",
   "metadata": {},
   "outputs": [],
   "source": [
    "import numpy as np\n",
    "from sklearn.preprocessing import StandardScaler\n",
    "\n",
    "# 假设你的训练集和测试集是 X_train 和 X_test\n",
    "# X_train 和 X_test 形状为 (n_samples, 10, 4)\n",
    "\n",
    "# 提取前三个特征（前3列）\n",
    "X_train_features_3 = X_train[:, :, :3]\n",
    "X_test_features_3 = X_test[:, :, :3]\n",
    "\n",
    "# 提取第四个特征（第4列）\n",
    "X_train_feature_4 = X_train[:, :, 3]\n",
    "X_test_feature_4 = X_test[:, :, 3]\n",
    "\n",
    "# 标准化前三个特征，标准化特征可以使得数据不会受到某个特征由于数值范围与其它特征的数值范围差别较大而导致对于模型对于特征敏感度的影响\n",
    "X_scaler = StandardScaler()\n",
    "X_train_features_3 = X_scaler.fit_transform(X_train_features_3.reshape(-1, 3)).reshape(X_train_features_3.shape)\n",
    "X_test_features_3 = X_scaler.transform(X_test_features_3.reshape(-1, 3)).reshape(X_test_features_3.shape)\n",
    "# 对第四个特征取对数（确保数值大于0）\n",
    "X_train_feature_4 = np.log(X_train_feature_4) \n",
    "X_test_feature_4 = np.log(X_test_feature_4)\n",
    "\n",
    "# 合并处理后的特征\n",
    "X_train_processed = np.concatenate([X_train_features_3, X_train_feature_4[..., np.newaxis]], axis=-1)\n",
    "X_test_processed = np.concatenate([X_test_features_3, X_test_feature_4[..., np.newaxis]], axis=-1)\n",
    "\n",
    "\n",
    "\n",
    "\n",
    "\n",
    "# 提取前三个特征（前3列）\n",
    "y_train_features_3 = y_train[:, :3]\n",
    "y_test_features_3 = y_test[:, :3]\n",
    "\n",
    "# 提取第四个特征（第4列）\n",
    "y_train_feature_4 = y_train[:, 3]\n",
    "y_test_feature_4 = y_test[:, 3]\n",
    "\n",
    "# 标准化前三个特征，标准化特征可以使得数据不会受到某个特征由于数值范围与其它特征的数值范围差别较大而导致对于模型对于特征敏感度的影响\n",
    "y_scaler = StandardScaler()\n",
    "y_train_features_3 = y_scaler.fit_transform(y_train_features_3.reshape(-1, 3)).reshape(y_train_features_3.shape)\n",
    "y_test_features_3 = y_scaler.transform(y_test_features_3.reshape(-1, 3)).reshape(y_test_features_3.shape)\n",
    "\n",
    "# 对第四个特征取对数（确保数值大于0）\n",
    "y_train_feature_4 = np.log(y_train_feature_4) \n",
    "y_test_feature_4 = np.log(y_test_feature_4)\n",
    "\n",
    "# 合并处理后的特征\n",
    "y_train_processed = np.concatenate([y_train_features_3, y_train_feature_4[..., np.newaxis]], axis=-1)\n",
    "y_test_processed = np.concatenate([y_test_features_3, y_test_feature_4[..., np.newaxis]], axis=-1)\n",
    "\n",
    "# 检查结果\n",
    "print(X_train_processed.shape)  # 应该是 (89204, 10, 4) #如果是分子状态和停留时间同时预测\n",
    "print(X_test_processed.shape)   # 应该是 (38902, 10, 4)\n",
    "\n",
    "\n",
    "\n",
    "# 检查结果\n",
    "print(y_train_processed.shape)  # 应该是 (89204, 4)\n",
    "print(y_test_processed.shape)   # 应该是 (38902, 4)"
   ]
  },
  {
   "cell_type": "code",
   "execution_count": null,
   "id": "5ab18d16-ab07-4307-9d06-509d476c77c0",
   "metadata": {},
   "outputs": [],
   "source": [
    "#将数据进一步转换成深度学习框架需要的张量tensor形式\n",
    "train_data = TensorDataset(torch.tensor(X_train_processed), torch.tensor(y_train_processed))\n",
    "\n",
    "test_data = TensorDataset(torch.tensor(X_test_processed), torch.tensor(y_test_processed))"
   ]
  },
  {
   "cell_type": "markdown",
   "id": "cdab29ab-5db5-48ff-97ea-afb7f7f405a9",
   "metadata": {
    "jp-MarkdownHeadingCollapsed": true,
    "tags": []
   },
   "source": [
    "#### b.对前三维特征进行标准化处理,对第4维特征不处理"
   ]
  },
  {
   "cell_type": "code",
   "execution_count": null,
   "id": "69977295-d76f-48e2-a488-2583932169de",
   "metadata": {},
   "outputs": [],
   "source": [
    "import numpy as np\n",
    "from sklearn.preprocessing import StandardScaler\n",
    "\n",
    "# 假设你的训练集和测试集是 X_train 和 X_test\n",
    "# X_train 和 X_test 形状为 (n_samples, 10, 4)\n",
    "\n",
    "# 提取前三个特征（前3列）\n",
    "X_train_features_3 = X_train[:, :, :3]\n",
    "X_test_features_3 = X_test[:, :, :3]\n",
    "\n",
    "# 提取第四个特征（第4列）\n",
    "X_train_feature_4 = X_train[:, :, 3]\n",
    "X_test_feature_4 = X_test[:, :, 3]\n",
    "\n",
    "# 标准化前三个特征，标准化特征可以使得数据不会受到某个特征由于数值范围与其它特征的数值范围差别较大而导致对于模型对于特征敏感度的影响\n",
    "X_scaler = StandardScaler()\n",
    "X_train_features_3 = X_scaler.fit_transform(X_train_features_3.reshape(-1, 3)).reshape(X_train_features_3.shape)\n",
    "X_test_features_3 = X_scaler.transform(X_test_features_3.reshape(-1, 3)).reshape(X_test_features_3.shape)\n",
    "\n",
    "# 对第四个特征不做处理\n",
    "X_train_feature_4 = X_train_feature_4 \n",
    "X_test_feature_4 = X_test_feature_4\n",
    "\n",
    "# 合并处理后的特征\n",
    "X_train_processed = np.concatenate([X_train_features_3, X_train_feature_4[..., np.newaxis]], axis=-1)\n",
    "X_test_processed = np.concatenate([X_test_features_3, X_test_feature_4[..., np.newaxis]], axis=-1)\n",
    "\n",
    "\n",
    "\n",
    "\n",
    "\n",
    "# 提取前三个特征（前3列）\n",
    "y_train_features_3 = y_train[:, :3]\n",
    "y_test_features_3 = y_test[:, :3]\n",
    "\n",
    "# 提取第四个特征（第4列）\n",
    "y_train_feature_4 = y_train[:, 3]\n",
    "y_test_feature_4 = y_test[:, 3]\n",
    "\n",
    "# 标准化前三个特征，标准化特征可以使得数据不会受到某个特征由于数值范围与其它特征的数值范围差别较大而导致对于模型对于特征敏感度的影响\n",
    "y_scaler = StandardScaler()\n",
    "y_train_features_3 = y_scaler.fit_transform(y_train_features_3.reshape(-1, 3)).reshape(y_train_features_3.shape)\n",
    "y_test_features_3 = y_scaler.transform(y_test_features_3.reshape(-1, 3)).reshape(y_test_features_3.shape)\n",
    "\n",
    "# 对第四个特征不做处理\n",
    "y_train_feature_4 = y_train_feature_4\n",
    "y_test_feature_4 = y_test_feature_4\n",
    "\n",
    "# 合并处理后的特征\n",
    "y_train_processed = np.concatenate([y_train_features_3, y_train_feature_4[..., np.newaxis]], axis=-1)\n",
    "y_test_processed = np.concatenate([y_test_features_3, y_test_feature_4[..., np.newaxis]], axis=-1)\n",
    "\n",
    "# 检查结果\n",
    "print(X_train_processed.shape)  # 应该是 (89204, 10, 4) #如果是分子状态和停留时间同时预测\n",
    "print(X_test_processed.shape)   # 应该是 (38902, 10, 4)\n",
    "\n",
    "\n",
    "\n",
    "# 检查结果\n",
    "print(y_train_processed.shape)  # 应该是 (89204, 4)\n",
    "print(y_test_processed.shape)   # 应该是 (38902, 4)"
   ]
  },
  {
   "cell_type": "code",
   "execution_count": null,
   "id": "cbb6952e-ba0e-4b2a-8a13-623bf9d21556",
   "metadata": {},
   "outputs": [],
   "source": [
    "#将数据进一步转换成深度学习框架需要的张量tensor形式\n",
    "train_data = TensorDataset(torch.tensor(X_train_processed), torch.tensor(y_train_processed))\n",
    "\n",
    "test_data = TensorDataset(torch.tensor(X_test_processed), torch.tensor(y_test_processed))"
   ]
  },
  {
   "cell_type": "markdown",
   "id": "dfcaa0f0-acbb-4d1f-bb0d-d391b67c1130",
   "metadata": {
    "jp-MarkdownHeadingCollapsed": true,
    "tags": []
   },
   "source": [
    "#### c.对前四个维特征进行标准化处理"
   ]
  },
  {
   "cell_type": "code",
   "execution_count": null,
   "id": "93186545-2924-41fc-9ece-b39b154310d4",
   "metadata": {},
   "outputs": [],
   "source": [
    "import numpy as np\n",
    "from sklearn.preprocessing import StandardScaler\n",
    "\n",
    "# 假设你的训练集和测试集是 X_train 和 X_test\n",
    "# X_train 和 X_test 形状为 (n_samples, 10, 4)\n",
    "\n",
    "# 提取前三个特征（前3列）\n",
    "X_train_features_3 = X_train[:, :, :3]\n",
    "X_test_features_3 = X_test[:, :, :3]\n",
    "\n",
    "# 提取第四个特征（第4列）\n",
    "X_train_feature_4 = X_train[:, :, 3]\n",
    "X_test_feature_4 = X_test[:, :, 3]\n",
    "\n",
    "# 标准化前三个特征，标准化特征可以使得数据不会受到某个特征由于数值范围与其它特征的数值范围差别较大而导致对于模型对于特征敏感度的影响\n",
    "X1_scaler = StandardScaler()\n",
    "X_train_features_3 = X1_scaler.fit_transform(X_train_features_3.reshape(-1, 3)).reshape(X_train_features_3.shape)\n",
    "X_test_features_3 = X1_scaler.transform(X_test_features_3.reshape(-1, 3)).reshape(X_test_features_3.shape)\n",
    "\n",
    "# 对第四个特征也进行scaler处理\n",
    "X2_scaler = StandardScaler()\n",
    "X_train_features_4 = X2_scaler.fit_transform(X_train_feature_4.reshape(-1, 1)).reshape(X_train_feature_4.shape)\n",
    "X_test_features_4 = X2_scaler.transform(X_test_feature_4.reshape(-1, 1)).reshape(X_test_feature_4.shape)\n",
    "\n",
    "# 合并处理后的特征\n",
    "X_train_processed = np.concatenate([X_train_features_3, X_train_features_4[..., np.newaxis]], axis=-1)\n",
    "X_test_processed = np.concatenate([X_test_features_3, X_test_features_4[..., np.newaxis]], axis=-1)\n",
    "\n",
    "\n",
    "\n",
    "# 提取前三个特征（前3列）\n",
    "y_train_features_3 = y_train[:, :3]\n",
    "y_test_features_3 = y_test[:, :3]\n",
    "\n",
    "# 提取第四个特征（第4列）\n",
    "y_train_feature_4 = y_train[:, 3]\n",
    "y_test_feature_4 = y_test[:, 3]\n",
    "\n",
    "# 标准化前三个特征，标准化特征可以使得数据不会受到某个特征由于数值范围与其它特征的数值范围差别较大而导致对于模型对于特征敏感度的影响\n",
    "y1_scaler = StandardScaler()\n",
    "y_train_features_3 = y1_scaler.fit_transform(y_train_features_3.reshape(-1, 3)).reshape(y_train_features_3.shape)\n",
    "y_test_features_3 = y1_scaler.transform(y_test_features_3.reshape(-1, 3)).reshape(y_test_features_3.shape)\n",
    "\n",
    "# 对第四个特征也进行scaler处理\n",
    "y2_scaler = StandardScaler()\n",
    "y_train_features_4 = y2_scaler.fit_transform(y_train_feature_4.reshape(-1, 1)).reshape(y_train_feature_4.shape)\n",
    "y_test_features_4 = y2_scaler.transform(y_test_feature_4.reshape(-1, 1)).reshape(y_test_feature_4.shape)\n",
    "\n",
    "# 合并处理后的特征\n",
    "y_train_processed = np.concatenate([y_train_features_3, y_train_features_4[..., np.newaxis]], axis=-1)\n",
    "y_test_processed = np.concatenate([y_test_features_3, y_test_features_4[..., np.newaxis]], axis=-1)\n",
    "\n",
    "# 检查结果\n",
    "print(X_train_processed.shape)  # 应该是 (89204, 10, 4) #如果是分子状态和停留时间同时预测\n",
    "print(X_test_processed.shape)   # 应该是 (38902, 10, 4)\n",
    "\n",
    "\n",
    "\n",
    "# 检查结果\n",
    "print(y_train_processed.shape)  # 应该是 (89204, 4)\n",
    "print(y_test_processed.shape)   # 应该是 (38902, 4)"
   ]
  },
  {
   "cell_type": "code",
   "execution_count": null,
   "id": "3275d83e-594a-45d6-aa6a-3520f1b4fd78",
   "metadata": {},
   "outputs": [],
   "source": [
    "#将数据进一步转换成深度学习框架需要的张量tensor形式\n",
    "train_data = TensorDataset(torch.tensor(X_train_processed), torch.tensor(y_train_processed))\n",
    "\n",
    "test_data = TensorDataset(torch.tensor(X_test_processed), torch.tensor(y_test_processed))"
   ]
  },
  {
   "cell_type": "markdown",
   "id": "8957fdc2-4df2-45eb-b69d-0e58c716482c",
   "metadata": {
    "tags": []
   },
   "source": [
    "### 1.2.  针对单输出任务,x,y的特征分别为4和1的数据集进行特征处理"
   ]
  },
  {
   "cell_type": "markdown",
   "id": "91a12a9e-44ab-45d4-8e95-d4b6014e6274",
   "metadata": {
    "jp-MarkdownHeadingCollapsed": true,
    "tags": []
   },
   "source": [
    "#### a.对X特征进行标准化和取对数处理,对y取对数"
   ]
  },
  {
   "cell_type": "code",
   "execution_count": null,
   "id": "72a1c7ce-b5e1-4eb0-9f0f-e141cb566300",
   "metadata": {},
   "outputs": [],
   "source": [
    "import numpy as np\n",
    "from sklearn.preprocessing import StandardScaler\n",
    "\n",
    "# 假设你的训练集和测试集是 X_train 和 X_test\n",
    "# X_train 和 X_test 形状为 (n_samples, 10, 4)\n",
    "\n",
    "# 提取前三个特征（前3列）\n",
    "X_train_features_3 = X_train[:, :, :3]\n",
    "X_test_features_3 = X_test[:, :, :3]\n",
    "\n",
    "# 提取第四个特征（第4列）\n",
    "X_train_feature_4 = X_train[:, :, 3]\n",
    "X_test_feature_4 = X_test[:, :, 3]\n",
    "\n",
    "# 标准化前三个特征，标准化特征可以使得数据不会受到某个特征由于数值范围与其它特征的数值范围差别较大而导致对于模型对于特征敏感度的影响\n",
    "scaler = StandardScaler()\n",
    "X_train_features_3 = scaler.fit_transform(X_train_features_3.reshape(-1, 3)).reshape(X_train_features_3.shape)\n",
    "X_test_features_3 = scaler.transform(X_test_features_3.reshape(-1, 3)).reshape(X_test_features_3.shape)################################################################################################################这里为啥是transform而不是fit_transform\n",
    "\n",
    "# 对第四个特征取对数（确保数值大于0）\n",
    "X_train_feature_4 = np.log(X_train_feature_4 + 1e-6)  # 加上一个小常数避免取log(0)的错误#############################################################################################这么处理会导致时间原本设定为0的位置变为了一个相同的但是比较大的负数，会不会对结果造成干扰？??,改成+1会不会好一些？\n",
    "X_test_feature_4 = np.log(X_test_feature_4 + 1e-6)\n",
    "\n",
    "# 合并处理后的特征\n",
    "X_train_processed = np.concatenate([X_train_features_3, X_train_feature_4[..., np.newaxis]], axis=-1)\n",
    "X_test_processed = np.concatenate([X_test_features_3, X_test_feature_4[..., np.newaxis]], axis=-1)\n",
    "\n",
    "# 检查结果\n",
    "print(X_train_processed.shape)  # 应该是 (89204, 10, 4) #如果是分子状态和停留时间同时预测\n",
    "print(X_test_processed.shape)   # 应该是 (38902, 10, 4)\n",
    "\n",
    "# 对第四个特征取对数（确保数值大于0）\n",
    "y_train_processed = np.log(y_train + 1e-6)  # 加上一个小常数避免log(0)\n",
    "y_test_processed = np.log(y_test + 1e-6)\n",
    "\n",
    "\n",
    "# 检查结果\n",
    "print(y_train_processed.shape)  \n",
    "print(y_test_processed.shape)   "
   ]
  },
  {
   "cell_type": "code",
   "execution_count": null,
   "id": "56355cdb-edfc-471b-a157-e253ec3f43f3",
   "metadata": {},
   "outputs": [],
   "source": [
    "#将数据进一步转换成深度学习框架需要的张量tensor形式\n",
    "train_data = TensorDataset(torch.tensor(X_train_processed), torch.tensor(y_train_processed))\n",
    "\n",
    "test_data = TensorDataset(torch.tensor(X_test_processed), torch.tensor(y_test_processed))"
   ]
  },
  {
   "cell_type": "markdown",
   "id": "9b47c90f-e530-4618-8387-86ecd70d4a3c",
   "metadata": {
    "jp-MarkdownHeadingCollapsed": true,
    "tags": []
   },
   "source": [
    "#### b.对X特征进行归一化和取对数处理,对y取对数"
   ]
  },
  {
   "cell_type": "code",
   "execution_count": null,
   "id": "87cfa620-4aab-4907-aa51-692de1cc2746",
   "metadata": {},
   "outputs": [],
   "source": [
    "import numpy as np\n",
    "from sklearn.preprocessing import MinMaxScaler\n",
    "\n",
    "# 假设你的训练集和测试集是 X_train 和 X_test\n",
    "# X_train 和 X_test 形状为 (n_samples, 10, 4)\n",
    "\n",
    "# 提取前三个特征（前3列）\n",
    "X_train_features_3 = X_train[:, :, :3]\n",
    "X_test_features_3 = X_test[:, :, :3]\n",
    "\n",
    "# 提取第四个特征（第4列）\n",
    "X_train_feature_4 = X_train[:, :, 3]\n",
    "X_test_feature_4 = X_test[:, :, 3]\n",
    "\n",
    "# 归一化前三个特征\n",
    "scaler = MinMaxScaler()\n",
    "X_train_features_3 = scaler.fit_transform(X_train_features_3.reshape(-1, 3)).reshape(X_train_features_3.shape)\n",
    "X_test_features_3 = scaler.transform(X_test_features_3.reshape(-1, 3)).reshape(X_test_features_3.shape)\n",
    "\n",
    "# 对第四个特征取对数（确保数值大于0）\n",
    "X_train_feature_4 = np.log(X_train_feature_4 + 1e-6)  # 加上一个小常数避免取log(0)的错误\n",
    "X_test_feature_4 = np.log(X_test_feature_4 + 1e-6)\n",
    "\n",
    "# 合并处理后的特征\n",
    "X_train_processed = np.concatenate([X_train_features_3, X_train_feature_4[..., np.newaxis]], axis=-1)\n",
    "X_test_processed = np.concatenate([X_test_features_3, X_test_feature_4[..., np.newaxis]], axis=-1)\n",
    "\n",
    "# 检查结果\n",
    "print(X_train_processed.shape)\n",
    "print(X_test_processed.shape)\n",
    "\n",
    "# 对第四个特征取对数（确保数值大于0）\n",
    "y_train_processed = np.log(y_train + 1e-6)  # 加上一个小常数避免log(0)\n",
    "y_test_processed = np.log(y_test + 1e-6)\n",
    "\n",
    "# 检查结果\n",
    "print(y_train_processed.shape) \n",
    "print(y_test_processed.shape) \n"
   ]
  },
  {
   "cell_type": "code",
   "execution_count": null,
   "id": "5e842e95-6281-44d8-9378-c9f383995d41",
   "metadata": {},
   "outputs": [],
   "source": [
    "#将数据进一步转换成深度学习框架需要的张量tensor形式\n",
    "train_data = TensorDataset(torch.tensor(X_train_processed), torch.tensor(y_train_processed))\n",
    "\n",
    "test_data = TensorDataset(torch.tensor(X_test_processed), torch.tensor(y_test_processed))"
   ]
  },
  {
   "cell_type": "markdown",
   "id": "26e9f093-66b8-4b22-a50b-95eb544912fb",
   "metadata": {
    "jp-MarkdownHeadingCollapsed": true,
    "tags": []
   },
   "source": [
    "#### c.对X特征进行归一化和标准化处理,对y进行标准化处理"
   ]
  },
  {
   "cell_type": "code",
   "execution_count": null,
   "id": "e3a18256-a39a-4c31-94cf-32c2455037b2",
   "metadata": {},
   "outputs": [],
   "source": [
    "import numpy as np\n",
    "from sklearn.preprocessing import MinMaxScaler, StandardScaler\n",
    "\n",
    "# 假设你的训练集和测试集是 X_train 和 X_test\n",
    "# X_train 和 X_test 形状为 (n_samples, 10, 4)\n",
    "\n",
    "# 提取前三个特征（前3列）\n",
    "X_train_features_3 = X_train[:, :, :3]\n",
    "X_test_features_3 = X_test[:, :, :3]\n",
    "\n",
    "# 提取第四个特征（第4列）\n",
    "X_train_feature_4 = X_train[:, :, 3]\n",
    "X_test_feature_4 = X_test[:, :, 3]\n",
    "\n",
    "# 归一化前三个特征\n",
    "scaler_3 = MinMaxScaler()\n",
    "X_train_features_3 = scaler_3.fit_transform(X_train_features_3.reshape(-1, 3)).reshape(X_train_features_3.shape)\n",
    "X_test_features_3 = scaler_3.transform(X_test_features_3.reshape(-1, 3)).reshape(X_test_features_3.shape)\n",
    "\n",
    "# 对第四个特征取对数（确保数值大于0）\n",
    "X_train_feature_4 = np.log(X_train_feature_4 + 1e-6)  # 加上一个小常数避免log(0)\n",
    "X_test_feature_4 = np.log(X_test_feature_4 + 1e-6)\n",
    "\n",
    "# 标准化第四个特征\n",
    "scaler_4 = StandardScaler()\n",
    "X_train_feature_4 = scaler_4.fit_transform(X_train_feature_4.reshape(-1, 1)).reshape(X_train_feature_4.shape)\n",
    "X_test_feature_4 = scaler_4.transform(X_test_feature_4.reshape(-1, 1)).reshape(X_test_feature_4.shape)\n",
    "\n",
    "\n",
    "\n",
    "# 合并处理后的特征\n",
    "X_train_processed = np.concatenate([X_train_features_3, X_train_feature_4[..., np.newaxis]], axis=-1)\n",
    "X_test_processed = np.concatenate([X_test_features_3, X_test_feature_4[..., np.newaxis]], axis=-1)\n",
    "\n",
    "# 检查结果\n",
    "print(X_train_processed.shape)  # 应该是 (n_samples, 10, 4)\n",
    "print(X_test_processed.shape)   # 应该是 (n_samples, 10, 4)\n",
    "\n",
    "# 对第四个特征取对数（确保数值大于0）\n",
    "y_train_processed = np.log(y_train + 1e-6)  # 加上一个小常数避免log(0)\n",
    "y_test_processed = np.log(y_test + 1e-6)\n",
    "\n",
    "# 对目标变量进行标准化\n",
    "scaler_y = StandardScaler()\n",
    "y_train_processed = scaler_y.fit_transform(y_train)  # 直接对y进行标准化\n",
    "y_test_processed = scaler_y.transform(y_test)  # 使用训练集的标准化参数处理测试集\n",
    "\n",
    "\n",
    "# 检查结果\n",
    "print(y_train_processed.shape)  # 应该是 (n_samples, 4)\n",
    "print(y_test_processed.shape)   # 应该是 (n_samples, 4)"
   ]
  },
  {
   "cell_type": "code",
   "execution_count": null,
   "id": "358b8b8a-9c21-404f-b179-6a49b34e96bc",
   "metadata": {},
   "outputs": [],
   "source": [
    "#将数据进一步转换成深度学习框架需要的张量tensor形式\n",
    "train_data = TensorDataset(torch.tensor(X_train_processed), torch.tensor(y_train_processed))\n",
    "\n",
    "test_data = TensorDataset(torch.tensor(X_test_processed), torch.tensor(y_test_processed))"
   ]
  },
  {
   "cell_type": "markdown",
   "id": "d666d869-eebf-4b50-91c7-b5f06c03d576",
   "metadata": {
    "tags": []
   },
   "source": [
    "### 1.3 针对单目标输出任务,x,y的特征均为1(状态)"
   ]
  },
  {
   "cell_type": "code",
   "execution_count": 99,
   "id": "071fe1e7-acca-4136-be17-0bad269ed203",
   "metadata": {},
   "outputs": [],
   "source": [
    "# 目前还没有特征处理代码"
   ]
  },
  {
   "cell_type": "code",
   "execution_count": 21,
   "id": "18c82468-bb72-4852-8959-29ee229f3866",
   "metadata": {},
   "outputs": [],
   "source": [
    "#将数据进一步转换成深度学习框架需要的张量tensor形式\n",
    "train_data = TensorDataset(torch.tensor(X_train), torch.tensor(y_train))\n",
    "\n",
    "test_data = TensorDataset(torch.tensor(X_test), torch.tensor(y_test))"
   ]
  },
  {
   "cell_type": "markdown",
   "id": "7a5bc0cf-cbd8-4596-ac91-e1d7eee695c8",
   "metadata": {
    "jp-MarkdownHeadingCollapsed": true,
    "tags": []
   },
   "source": [
    "### 2. 针对多输出任务,X和y_state,y_time的特征均为1的数据集进行特征处理"
   ]
  },
  {
   "cell_type": "code",
   "execution_count": 8,
   "id": "fb0b024f-28f4-4f32-9862-758e2a32c7a7",
   "metadata": {},
   "outputs": [],
   "source": [
    "# 目前还没有特征处理代码"
   ]
  },
  {
   "cell_type": "code",
   "execution_count": 11,
   "id": "f60df299-37e9-4255-8f8c-6f6304b89b7c",
   "metadata": {},
   "outputs": [],
   "source": [
    "#将数据进一步转换成深度学习框架需要的张量tensor形式\n",
    "X_train_tensor = torch.tensor(X_train)\n",
    "X_test_tensor = torch.tensor(X_test)\n",
    "y_state_train_tensor = torch.tensor(y_state_train)\n",
    "y_state_test_tensor = torch.tensor(y_state_test)\n",
    "y_time_train_tensor = torch.tensor(y_time_train)\n",
    "y_time_test_tensor = torch.tensor(y_time_test)\n",
    "\n",
    "# 创建带多目标的数据集\n",
    "from torch.utils.data import TensorDataset, DataLoader\n",
    "\n",
    "train_data = TensorDataset(\n",
    "    X_train_tensor, \n",
    "    y_state_train_tensor,\n",
    "    y_time_train_tensor\n",
    ")\n",
    "\n",
    "test_data = TensorDataset(\n",
    "    X_test_tensor,\n",
    "    y_state_test_tensor,\n",
    "    y_time_test_tensor\n",
    ")"
   ]
  },
  {
   "cell_type": "markdown",
   "id": "0e122054-f397-4963-baa3-99b643f7a9c8",
   "metadata": {
    "tags": []
   },
   "source": [
    "# 四.机器学习模型框架"
   ]
  },
  {
   "cell_type": "markdown",
   "id": "71a76aa8-e8be-4266-a7a3-dbcbba76a3db",
   "metadata": {},
   "source": [
    "## 1. 单输出任务"
   ]
  },
  {
   "cell_type": "markdown",
   "id": "033857ec-4842-4b3c-b1bb-a5f4eb9549b6",
   "metadata": {
    "jp-MarkdownHeadingCollapsed": true,
    "tags": []
   },
   "source": [
    "### 1.1 LSTM模型 - 回归任务"
   ]
  },
  {
   "cell_type": "code",
   "execution_count": null,
   "id": "cb98671d-c1a8-47d5-bb40-31dc1963d747",
   "metadata": {},
   "outputs": [],
   "source": [
    "hidden_size = 128\n",
    "num_layers = 2\n",
    "\n",
    "# LSTM model (Stacked Long Short-Term Memory Networks,因为num_layers=2)\n",
    "class LSTM(nn.Module):\n",
    "    def __init__(self, input_size, hidden_size, num_layers, num_classes, dropout_prob=0.5):\n",
    "        super(LSTM, self).__init__()\n",
    "        self.hidden_size = hidden_size\n",
    "        self.num_layers = num_layers\n",
    "        self.lstm = nn.LSTM(input_size, hidden_size, num_layers, batch_first=True, dropout=dropout_prob if num_layers > 1 else 0)\n",
    "        self.fc = nn.Linear(hidden_size, num_classes)\n",
    "        self.dropout = nn.Dropout(dropout_prob)\n",
    "\n",
    "    def forward(self, x):\n",
    "        # Initialize hidden state with zeros\n",
    "        h0 = torch.zeros(self.num_layers, x.size(0), self.hidden_size).to(x.device)\n",
    "        # Initialize cell state\n",
    "        c0 = torch.zeros(self.num_layers, x.size(0), self.hidden_size).to(x.device)\n",
    "        # Forward propagate LSTM\n",
    "        out, _ = self.lstm(x, (h0, c0))\n",
    "        # Decode the hidden state of the last time step\n",
    "        out = self.dropout(out[:, -1, :])  # Apply dropout before the fully connected layer\n",
    "        out = self.fc(out)\n",
    "        return out"
   ]
  },
  {
   "cell_type": "markdown",
   "id": "e9ca5698-2233-4337-8b2a-b67b26781136",
   "metadata": {
    "jp-MarkdownHeadingCollapsed": true,
    "tags": []
   },
   "source": [
    "### 1.2 LSTM+单头自注意力机制 - 回归任务"
   ]
  },
  {
   "cell_type": "code",
   "execution_count": null,
   "id": "9d6e902d-187a-41d2-b2ed-f7d340be67cd",
   "metadata": {},
   "outputs": [],
   "source": [
    "# LSTM_SelfAttention model\n",
    "#简化版的单头子注意力机制代码\n",
    "class SelfAttention(nn.Module): #这里相当于一个简化版的自注意力机制机制,输出的是一个综合性的结果\n",
    "    def __init__(self, hidden_size):\n",
    "        super(SelfAttention, self).__init__()\n",
    "        self.hidden_size = hidden_size\n",
    "        self.attention_weights = nn.Parameter(torch.rand(hidden_size, 1))\n",
    "\n",
    "    def forward(self, lstm_output):\n",
    "        # lstm_output的形状是(batch_size, seq_len, hidden_size)\n",
    "        attention_scores = torch.matmul(lstm_output, self.attention_weights) #请注意,这里lstm_output的维度为(batch_size, seq_len, hidden_size)\n",
    "        # attention_scores的形状是(batch_size, seq_len, 1)\n",
    "        attention_scores = F.softmax(attention_scores, dim=1) \n",
    "        # 使用attention_scores对lstm_output进行加权求和\n",
    "        weighted_output = lstm_output * attention_scores\n",
    "        output = torch.sum(weighted_output, dim=1) #自注意力机制一定是要进行这一步对加权后的结果进行求和的步骤,对时间维度进行归一化,输出一个综合了序列全部信息的新结果,维度维(batch_size, hidden_size),\n",
    "        # output的形状是(batch_size, hidden_size)\n",
    "        return output\n",
    "\n",
    "\n",
    "\n",
    "# #标准版的含有q,k,v的自注意力机制代码\n",
    "# class SelfAttention(nn.Module):\n",
    "#     def __init__(self, hidden_size, num_heads=1):\n",
    "#         super(SelfAttention, self).__init__()\n",
    "#         self.hidden_size = hidden_size\n",
    "#         self.num_heads = num_heads  # 注意力头的数量\n",
    "#         self.d_k = hidden_size // num_heads  # 每个头的维度\n",
    "        \n",
    "#         # 定义线性变换层，用于生成 Q、K、V\n",
    "#         self.q_linear = nn.Linear(hidden_size, hidden_size)\n",
    "#         self.k_linear = nn.Linear(hidden_size, hidden_size)\n",
    "#         self.v_linear = nn.Linear(hidden_size, hidden_size)\n",
    "        \n",
    "#         # 输出线性变换层\n",
    "#         self.out_linear = nn.Linear(hidden_size, hidden_size)\n",
    "\n",
    "#     def forward(self, lstm_output):\n",
    "#         \"\"\"\n",
    "#         输入:\n",
    "#             lstm_output: LSTM 的输出，形状为 (batch_size, seq_len, hidden_size)\n",
    "#         输出:\n",
    "#             output: 自注意力机制处理后的结果，形状为 (batch_size, hidden_size)\n",
    "#         \"\"\"\n",
    "#         batch_size, seq_len, _ = lstm_output.size()\n",
    "        \n",
    "#         # 生成 Query、Key 和 Value\n",
    "#         q = self.q_linear(lstm_output).view(batch_size, seq_len, self.num_heads, self.d_k).transpose(1, 2)  # (batch_size, num_heads, seq_len, d_k) #输出形状：(batch_size, num_heads, seq_len, head_dim)。\n",
    "#         k = self.k_linear(lstm_output).view(batch_size, seq_len, self.num_heads, self.d_k).transpose(1, 2)  # (batch_size, num_heads, seq_len, d_k)\n",
    "#         v = self.v_linear(lstm_output).view(batch_size, seq_len, self.num_heads, self.d_k).transpose(1, 2)  # (batch_size, num_heads, seq_len, d_k)\n",
    "        \n",
    "#         # 计算注意力分数\n",
    "#         attention_scores = torch.matmul(q, k.transpose(-2, -1)) / torch.sqrt(torch.tensor(self.d_k, dtype=torch.float))  # (batch_size, num_heads, seq_len, seq_len)\n",
    "#         attention_weights = F.softmax(attention_scores, dim=-1)  # 对最后一个维度（seq_len）进行 softmax 归一化\n",
    "        \n",
    "#         # 加权求和\n",
    "#         weighted_output = torch.matmul(attention_weights, v)  # (batch_size, num_heads, seq_len, d_k)\n",
    "#         weighted_output = weighted_output.transpose(1, 2).contiguous().view(batch_size, seq_len, -1)  # (batch_size, seq_len, hidden_size)\n",
    "        \n",
    "#         # 输出线性变换\n",
    "#         output = self.out_linear(weighted_output)  # (batch_size, seq_len, hidden_size)\n",
    "        \n",
    "#         # 对时间维度进行加权求和，生成最终的表示\n",
    "#         output = torch.sum(output, dim=1)  # (batch_size, hidden_size)\n",
    "        \n",
    "#         return output\n",
    "\n",
    "# LSTM_SelfAttention model\n",
    "class LSTMWithAttention(nn.Module):\n",
    "    def __init__(self, input_size, hidden_size, num_layers, num_classes, dropout_rate):\n",
    "        super(LSTMWithAttention, self).__init__()\n",
    "        self.hidden_size = hidden_size\n",
    "        self.num_layers = num_layers\n",
    "        self.lstm = nn.LSTM(input_size, hidden_size, num_layers, batch_first=True)\n",
    "        self.attention = SelfAttention(hidden_size)\n",
    "        self.dropout = nn.Dropout(dropout_rate)\n",
    "        self.fc = nn.Linear(hidden_size, num_classes)\n",
    "\n",
    "    def forward(self, x):\n",
    "        h0 = torch.zeros(self.num_layers, x.size(0), self.hidden_size).to(x.device)\n",
    "        c0 = torch.zeros(self.num_layers, x.size(0), self.hidden_size).to(x.device)\n",
    "        lstm_out, _ = self.lstm(x, (h0, c0))\n",
    "        # 使用自注意力机制处理LSTM的输出\n",
    "        attn_out = self.attention(lstm_out)\n",
    "        # 应用 Dropout\n",
    "        drop_out = self.dropout(attn_out)\n",
    "        out = self.fc(drop_out)\n",
    "        return out"
   ]
  },
  {
   "cell_type": "markdown",
   "id": "e0e2e48a-a4db-4545-92b1-aa453eb496e7",
   "metadata": {
    "jp-MarkdownHeadingCollapsed": true,
    "tags": []
   },
   "source": [
    "### 1.3 MultiHeadSelfAttention-回归任务"
   ]
  },
  {
   "cell_type": "code",
   "execution_count": 101,
   "id": "e9a5f992-d2e5-41e5-ab83-122d9c26496e",
   "metadata": {},
   "outputs": [],
   "source": [
    "# BiLSTM-MAIN model\n",
    "\n",
    "# # 简化版的多头自注意力机制代码,没有使用q,k,v\n",
    "# class MultiHeadSelfAttention(nn.Module):\n",
    "#     def __init__(self, hidden_size, num_heads):\n",
    "#         super(MultiHeadSelfAttention, self).__init__()\n",
    "#         self.num_heads = num_heads\n",
    "#         self.head_dim = hidden_size // num_heads\n",
    "#         assert hidden_size % num_heads == 0, \"hidden_size must be divisible by num_heads\"\n",
    "        \n",
    "#         self.attention_heads = nn.Parameter(torch.Tensor(num_heads, self.head_dim, 1))\n",
    "#         nn.init.xavier_uniform_(self.attention_heads)\n",
    "        \n",
    "#         self.fc = nn.Linear(hidden_size, hidden_size)\n",
    "\n",
    "#     def forward(self, lstm_output):\n",
    "#         batch_size, seq_len, hidden_size = lstm_output.size(0), lstm_output.size(1), lstm_output.size(2)\n",
    "#         # Reshape lstm_output to (batch_size, seq_len, num_heads, head_dim)\n",
    "#         lstm_output = lstm_output.view(batch_size, seq_len, self.num_heads, self.head_dim)\n",
    "#         # Transpose for matrix multiplication: (batch_size, num_heads, seq_len, head_dim)\n",
    "#         lstm_output = lstm_output.transpose(1, 2)\n",
    "#         # Compute attention scores\n",
    "#         attention_scores = torch.matmul(lstm_output, self.attention_heads)\n",
    "#         # Apply softmax to get the weights on the values\n",
    "#         attention_scores = F.softmax(attention_scores, dim=-2)\n",
    "#         # Apply attention weights to lstm_output\n",
    "#         weighted_output = attention_scores * lstm_output\n",
    "#         # Sum weighted output over seq_len dimension\n",
    "#         weighted_output = weighted_output.sum(dim=-2)\n",
    "#         # Reshape weighted_output to (batch_size, hidden_size)\n",
    "#         weighted_output = weighted_output.reshape(batch_size, -1)\n",
    "#         # Pass through the fully connected layer\n",
    "#         output = self.fc(weighted_output)\n",
    "#         return output\n",
    "\n",
    "#标准版本的多头自注意力机制代码\n",
    "class MultiHeadSelfAttention(nn.Module):\n",
    "    def __init__(self, hidden_size, num_heads):\n",
    "        super(MultiHeadSelfAttention, self).__init__()\n",
    "        self.num_heads = num_heads\n",
    "        self.head_dim = hidden_size // num_heads\n",
    "        assert hidden_size % num_heads == 0, \"hidden_size must be divisible by num_heads\"\n",
    "        \n",
    "        # 定义线性变换层，用于生成 Q、K、V\n",
    "        self.q_linear = nn.Linear(hidden_size, hidden_size)\n",
    "        self.k_linear = nn.Linear(hidden_size, hidden_size)\n",
    "        self.v_linear = nn.Linear(hidden_size, hidden_size)\n",
    "        \n",
    "        # 输出线性变换层\n",
    "        self.fc = nn.Linear(hidden_size, hidden_size)\n",
    "\n",
    "    def forward(self, lstm_output):\n",
    "        \"\"\"\n",
    "        输入:\n",
    "            lstm_output: LSTM 的输出，形状为 (batch_size, seq_len, hidden_size)\n",
    "        输出:\n",
    "            output: 多头自注意力机制处理后的结果，形状为 (batch_size, hidden_size)\n",
    "        \"\"\"\n",
    "        batch_size, seq_len, hidden_size = lstm_output.size()\n",
    "        \n",
    "        # 生成 Query、Key 和 Value\n",
    "        q = self.q_linear(lstm_output).view(batch_size, seq_len, self.num_heads, self.head_dim).transpose(1, 2)  # (batch_size, num_heads, seq_len, head_dim)\n",
    "        k = self.k_linear(lstm_output).view(batch_size, seq_len, self.num_heads, self.head_dim).transpose(1, 2)  # (batch_size, num_heads, seq_len, head_dim)\n",
    "        v = self.v_linear(lstm_output).view(batch_size, seq_len, self.num_heads, self.head_dim).transpose(1, 2)  # (batch_size, num_heads, seq_len, head_dim)\n",
    "        \n",
    "        # 计算注意力分数\n",
    "        attention_scores = torch.matmul(q, k.transpose(-2, -1)) / torch.sqrt(torch.tensor(self.head_dim, dtype=torch.float))  # (batch_size, num_heads, seq_len, seq_len)\n",
    "        attention_weights = F.softmax(attention_scores, dim=-1)  # 对最后一个维度（seq_len）进行 softmax 归一化\n",
    "        \n",
    "        # 加权求和\n",
    "        weighted_output = torch.matmul(attention_weights, v)  # (batch_size, num_heads, seq_len, head_dim)\n",
    "        weighted_output = weighted_output.transpose(1, 2).contiguous().view(batch_size, seq_len, -1)  # (batch_size, seq_len, hidden_size)\n",
    "        \n",
    "        # 输出线性变换\n",
    "        output = self.fc(weighted_output)  # (batch_size, seq_len, hidden_size)\n",
    "        \n",
    "        # 对时间维度进行加权求和，生成最终的表示\n",
    "        #output = torch.sum(output, dim=1)  # (batch_size, hidden_size) #考虑这一步可以替换为:out = out[:, -1, :]  # 取最后一个时间步的输出作为最终结果;或者out = torch.mean(out, dim=1)  # 平均池化;或者out = torch.max(out, dim=1)[0]  # 最大池化;或者attention_weights = F.softmax(torch.randn(out.size(0), out.size(1)).to(out.device), dim=1).unsqueeze(-1),out = torch.sum(out * attention_weights, dim=1)\n",
    "        output = output[:,-1,:]\n",
    "        \n",
    "        return output\n",
    "    \n",
    "    \n",
    "    \n",
    "# # BiLSTM-MAIN model\n",
    "# class LSTMWithMulAttention(nn.Module):\n",
    "#     def __init__(self, input_size, hidden_size, num_layers, num_classes, dropout_rate, num_heads):\n",
    "#         super(LSTMWithMulAttention, self).__init__()\n",
    "#         self.hidden_size = hidden_size\n",
    "#         self.num_layers = num_layers\n",
    "#         self.lstm = nn.LSTM(input_size, hidden_size, num_layers, batch_first=True, bidirectional=True)\n",
    "#         self.attention = MultiHeadSelfAttention(hidden_size*2, num_heads)  # 注意hidden_size*2因为BiLSTM\n",
    "#         self.layer_norm = nn.LayerNorm(hidden_size*2)\n",
    "#         self.dropout = nn.Dropout(dropout_rate)\n",
    "#         self.fc = nn.Linear(hidden_size*2, num_classes)\n",
    "#         # 添加残差连接的线性层\n",
    "#         self.residual_fc = nn.Linear(hidden_size*2, hidden_size*2)\n",
    "\n",
    "#     def forward(self, x):\n",
    "#         h0 = torch.zeros(self.num_layers*2, x.size(0), self.hidden_size).to(x.device)  # 乘以2因为BiLSTM\n",
    "#         c0 = torch.zeros(self.num_layers*2, x.size(0), self.hidden_size).to(x.device)\n",
    "#         lstm_out, _ = self.lstm(x, (h0, c0))\n",
    "#         # 添加残差连接\n",
    "#         residual_output = lstm_out + self.residual_fc(lstm_out)\n",
    "#         lstm_out = self.layer_norm(residual_output)\n",
    "#         attn_out = self.attention(lstm_out)\n",
    "#         drop_out = self.dropout(attn_out)\n",
    "#         out = self.fc(drop_out)\n",
    "#         return out\n",
    "    \n",
    "# #修改了残差连接的BiLSTM-MAIN model\n",
    "class LSTMWithMulAttention(nn.Module):\n",
    "    def __init__(self, input_size, hidden_size, num_layers, num_classes, dropout_rate, num_heads):\n",
    "        super(LSTMWithMulAttention, self).__init__()\n",
    "        self.hidden_size = hidden_size\n",
    "        self.num_layers = num_layers\n",
    "        self.lstm = nn.LSTM(input_size, hidden_size, num_layers, batch_first=True, bidirectional=True)\n",
    "        self.attention = MultiHeadSelfAttention(hidden_size*2, num_heads)  # 注意hidden_size*2因为BiLSTM\n",
    "        self.layer_norm = nn.LayerNorm(hidden_size*2)\n",
    "        self.dropout = nn.Dropout(dropout_rate)\n",
    "        self.fc = nn.Linear(hidden_size*2, num_classes)\n",
    "        # 添加用于调整 lstm_input 维度的线性层\n",
    "        self.input_fc = nn.Linear(input_size, hidden_size * 2)\n",
    "\n",
    "    def forward(self, x):\n",
    "        h0 = torch.zeros(self.num_layers*2, x.size(0), self.hidden_size).to(x.device)  # 乘以2因为BiLSTM\n",
    "        c0 = torch.zeros(self.num_layers*2, x.size(0), self.hidden_size).to(x.device)  # 如果初始化性能不好,则尝试h0 = torch.randn(self.num_layers*2, x.size(0), self.hidden_size).to(x.device),c0 = torch.randn(self.num_layers*2, x.size(0), self.hidden_size).to(x.device)\n",
    "        # 保存 LSTM 输入并调整其维度\n",
    "        lstm_input = self.input_fc(x)  # 调整维度到 (batch_size, sequence_length, hidden_size * 2)        \n",
    "        lstm_out, _ = self.lstm(x, (h0, c0))\n",
    "        # 添加残差连接\n",
    "        residual_output = lstm_out + lstm_input\n",
    "        # 层归一化\n",
    "        lstm_out = self.layer_norm(residual_output)\n",
    "        # 多头自注意力机制\n",
    "        attn_out = self.attention(lstm_out)\n",
    "        # Dropout\n",
    "        drop_out = self.dropout(attn_out)\n",
    "        out = self.fc(drop_out)\n",
    "        return out"
   ]
  },
  {
   "cell_type": "markdown",
   "id": "83c6a728-188c-4b9e-9e36-7b8b0d67fd2d",
   "metadata": {},
   "source": [
    "### 1.4 MultiHeadSelfAttention-分类任务"
   ]
  },
  {
   "cell_type": "code",
   "execution_count": 22,
   "id": "14c026e2-cb94-4caf-98e5-46509334fef0",
   "metadata": {},
   "outputs": [],
   "source": [
    "#标准版本的多头自注意力机制代码\n",
    "class MultiHeadSelfAttention(nn.Module):\n",
    "    def __init__(self, hidden_size, num_heads):\n",
    "        super(MultiHeadSelfAttention, self).__init__()\n",
    "        self.num_heads = num_heads\n",
    "        self.head_dim = hidden_size // num_heads\n",
    "        assert hidden_size % num_heads == 0, \"hidden_size must be divisible by num_heads\"\n",
    "        \n",
    "        # 定义线性变换层，用于生成 Q、K、V\n",
    "        self.q_linear = nn.Linear(hidden_size, hidden_size)\n",
    "        self.k_linear = nn.Linear(hidden_size, hidden_size)\n",
    "        self.v_linear = nn.Linear(hidden_size, hidden_size)\n",
    "        \n",
    "        # 输出线性变换层\n",
    "        self.fc = nn.Linear(hidden_size, hidden_size)\n",
    "\n",
    "    def forward(self, lstm_output):\n",
    "        \"\"\"\n",
    "        输入:\n",
    "            lstm_output: LSTM 的输出，形状为 (batch_size, seq_len, hidden_size)\n",
    "        输出:\n",
    "            output: 多头自注意力机制处理后的结果，形状为 (batch_size, hidden_size)\n",
    "        \"\"\"\n",
    "        batch_size, seq_len, hidden_size = lstm_output.size()\n",
    "        \n",
    "        # 生成 Query、Key 和 Value\n",
    "        q = self.q_linear(lstm_output).view(batch_size, seq_len, self.num_heads, self.head_dim).transpose(1, 2)  # (batch_size, num_heads, seq_len, head_dim)\n",
    "        k = self.k_linear(lstm_output).view(batch_size, seq_len, self.num_heads, self.head_dim).transpose(1, 2)  # (batch_size, num_heads, seq_len, head_dim)\n",
    "        v = self.v_linear(lstm_output).view(batch_size, seq_len, self.num_heads, self.head_dim).transpose(1, 2)  # (batch_size, num_heads, seq_len, head_dim)\n",
    "        \n",
    "        # 计算注意力分数\n",
    "        attention_scores = torch.matmul(q, k.transpose(-2, -1)) / torch.sqrt(torch.tensor(self.head_dim, dtype=torch.float))  # (batch_size, num_heads, seq_len, seq_len)\n",
    "        attention_weights = F.softmax(attention_scores, dim=-1)  # 对最后一个维度（seq_len）进行 softmax 归一化\n",
    "        \n",
    "        # 加权求和\n",
    "        weighted_output = torch.matmul(attention_weights, v)  # (batch_size, num_heads, seq_len, head_dim)\n",
    "        weighted_output = weighted_output.transpose(1, 2).contiguous().view(batch_size, seq_len, -1)  # (batch_size, seq_len, hidden_size)\n",
    "        \n",
    "        # 输出线性变换\n",
    "        output = self.fc(weighted_output)  # (batch_size, seq_len, hidden_size)\n",
    "        \n",
    "        # 对时间维度进行加权求和，生成最终的表示\n",
    "        #output = torch.sum(output, dim=1)  # (batch_size, hidden_size) #考虑这一步可以替换为:out = out[:, -1, :]  # 取最后一个时间步的输出作为最终结果;或者out = torch.mean(out, dim=1)  # 平均池化;或者out = torch.max(out, dim=1)[0]  # 最大池化;或者attention_weights = F.softmax(torch.randn(out.size(0), out.size(1)).to(out.device), dim=1).unsqueeze(-1),out = torch.sum(out * attention_weights, dim=1)\n",
    "        output = output[:,-1,:]\n",
    "        \n",
    "        return output\n",
    "\n",
    "    \n",
    "# ========== 修改1：模型定义 ==========\n",
    "class LSTMWithMulAttention(nn.Module):\n",
    "    def __init__(self, input_size, hidden_size, num_layers, \n",
    "                 num_state_classes,  # 编码后的类别总数\n",
    "                 dropout_rate=0.3, num_heads=8):\n",
    "        super().__init__()\n",
    "        self.hidden_size = hidden_size\n",
    "        self.num_layers = num_layers\n",
    "        \n",
    "        # 双向LSTM\n",
    "        self.lstm = nn.LSTM(input_size, hidden_size, num_layers, \n",
    "                          batch_first=True, bidirectional=True)\n",
    "        \n",
    "        # 注意力机制\n",
    "        self.attention = MultiHeadSelfAttention(hidden_size*2, num_heads)\n",
    "        \n",
    "        # 共享层\n",
    "        self.layer_norm = nn.LayerNorm(hidden_size*2)\n",
    "        self.dropout = nn.Dropout(dropout_rate)\n",
    "        self.input_fc = nn.Linear(input_size, hidden_size * 2)\n",
    "        \n",
    "        # 输出层 ---------------------------\n",
    "        self.fc = nn.Linear(hidden_size*2, num_state_classes)  # 单分类任务\n",
    "        # ---------------------------------\n",
    "\n",
    "    def forward(self, x):\n",
    "        h0 = torch.zeros(self.num_layers*2, x.size(0), self.hidden_size).to(x.device)\n",
    "        c0 = torch.zeros(self.num_layers*2, x.size(0), self.hidden_size).to(x.device)\n",
    "        \n",
    "        lstm_input = self.input_fc(x)\n",
    "        lstm_out, _ = self.lstm(x, (h0, c0))\n",
    "        residual_output = lstm_out + lstm_input\n",
    "        lstm_out = self.layer_norm(residual_output)\n",
    "        attn_out = self.attention(lstm_out)\n",
    "        drop_out = self.dropout(attn_out)\n",
    "        \n",
    "        # 输出 ---------------------------\n",
    "        state_pred = self.fc(drop_out)      # (batch, num_state_classes)\n",
    "        return state_pred"
   ]
  },
  {
   "cell_type": "markdown",
   "id": "a7b162a1-03f7-4f22-bfc7-0c6c9b6820bb",
   "metadata": {
    "tags": []
   },
   "source": [
    "## 2.多输出任务"
   ]
  },
  {
   "cell_type": "markdown",
   "id": "c1336cb8-fa85-4d08-9abb-e75c06492de3",
   "metadata": {
    "jp-MarkdownHeadingCollapsed": true,
    "tags": []
   },
   "source": [
    "### 2.1 MultiHeadSelfAttention - 分类+回归任务"
   ]
  },
  {
   "cell_type": "code",
   "execution_count": 12,
   "id": "ccceb33f-8b3b-4da5-b3a1-128db2e7e8a7",
   "metadata": {},
   "outputs": [],
   "source": [
    "#标准版本的多头自注意力机制代码\n",
    "class MultiHeadSelfAttention(nn.Module):\n",
    "    def __init__(self, hidden_size, num_heads):\n",
    "        super(MultiHeadSelfAttention, self).__init__()\n",
    "        self.num_heads = num_heads\n",
    "        self.head_dim = hidden_size // num_heads\n",
    "        assert hidden_size % num_heads == 0, \"hidden_size must be divisible by num_heads\"\n",
    "        \n",
    "        # 定义线性变换层，用于生成 Q、K、V\n",
    "        self.q_linear = nn.Linear(hidden_size, hidden_size)\n",
    "        self.k_linear = nn.Linear(hidden_size, hidden_size)\n",
    "        self.v_linear = nn.Linear(hidden_size, hidden_size)\n",
    "        \n",
    "        # 输出线性变换层\n",
    "        self.fc = nn.Linear(hidden_size, hidden_size)\n",
    "\n",
    "    def forward(self, lstm_output):\n",
    "        \"\"\"\n",
    "        输入:\n",
    "            lstm_output: LSTM 的输出，形状为 (batch_size, seq_len, hidden_size)\n",
    "        输出:\n",
    "            output: 多头自注意力机制处理后的结果，形状为 (batch_size, hidden_size)\n",
    "        \"\"\"\n",
    "        batch_size, seq_len, hidden_size = lstm_output.size()\n",
    "        \n",
    "        # 生成 Query、Key 和 Value\n",
    "        q = self.q_linear(lstm_output).view(batch_size, seq_len, self.num_heads, self.head_dim).transpose(1, 2)  # (batch_size, num_heads, seq_len, head_dim)\n",
    "        k = self.k_linear(lstm_output).view(batch_size, seq_len, self.num_heads, self.head_dim).transpose(1, 2)  # (batch_size, num_heads, seq_len, head_dim)\n",
    "        v = self.v_linear(lstm_output).view(batch_size, seq_len, self.num_heads, self.head_dim).transpose(1, 2)  # (batch_size, num_heads, seq_len, head_dim)\n",
    "        \n",
    "        # 计算注意力分数\n",
    "        attention_scores = torch.matmul(q, k.transpose(-2, -1)) / torch.sqrt(torch.tensor(self.head_dim, dtype=torch.float))  # (batch_size, num_heads, seq_len, seq_len)\n",
    "        attention_weights = F.softmax(attention_scores, dim=-1)  # 对最后一个维度（seq_len）进行 softmax 归一化\n",
    "        \n",
    "        # 加权求和\n",
    "        weighted_output = torch.matmul(attention_weights, v)  # (batch_size, num_heads, seq_len, head_dim)\n",
    "        weighted_output = weighted_output.transpose(1, 2).contiguous().view(batch_size, seq_len, -1)  # (batch_size, seq_len, hidden_size)\n",
    "        \n",
    "        # 输出线性变换\n",
    "        output = self.fc(weighted_output)  # (batch_size, seq_len, hidden_size)\n",
    "        \n",
    "        # 对时间维度进行加权求和，生成最终的表示\n",
    "        #output = torch.sum(output, dim=1)  # (batch_size, hidden_size) #考虑这一步可以替换为:out = out[:, -1, :]  # 取最后一个时间步的输出作为最终结果;或者out = torch.mean(out, dim=1)  # 平均池化;或者out = torch.max(out, dim=1)[0]  # 最大池化;或者attention_weights = F.softmax(torch.randn(out.size(0), out.size(1)).to(out.device), dim=1).unsqueeze(-1),out = torch.sum(out * attention_weights, dim=1)\n",
    "        output = output[:,-1,:]\n",
    "        \n",
    "        return output\n",
    "\n",
    "    \n",
    "# ========== 修改1：模型定义 ==========\n",
    "class LSTMWithMulAttention(nn.Module):\n",
    "    def __init__(self, input_size, hidden_size, num_layers, \n",
    "                 num_state_classes,  # 编码后的类别总数\n",
    "                 dropout_rate=0.3, num_heads=8):\n",
    "        super().__init__()\n",
    "        self.hidden_size = hidden_size\n",
    "        self.num_layers = num_layers\n",
    "        \n",
    "        # 双向LSTM\n",
    "        self.lstm = nn.LSTM(input_size, hidden_size, num_layers, \n",
    "                          batch_first=True, bidirectional=True)\n",
    "        \n",
    "        # 注意力机制\n",
    "        self.attention = MultiHeadSelfAttention(hidden_size*2, num_heads)\n",
    "        \n",
    "        # 共享层\n",
    "        self.layer_norm = nn.LayerNorm(hidden_size*2)\n",
    "        self.dropout = nn.Dropout(dropout_rate)\n",
    "        self.input_fc = nn.Linear(input_size, hidden_size * 2)\n",
    "        \n",
    "        # 输出层 ---------------------------\n",
    "        self.fc_state = nn.Linear(hidden_size*2, num_state_classes)  # 单分类任务\n",
    "        self.fc_time = nn.Linear(hidden_size*2, 1)                   # 回归任务\n",
    "        # ---------------------------------\n",
    "\n",
    "    def forward(self, x):\n",
    "        h0 = torch.zeros(self.num_layers*2, x.size(0), self.hidden_size).to(x.device)\n",
    "        c0 = torch.zeros(self.num_layers*2, x.size(0), self.hidden_size).to(x.device)\n",
    "        \n",
    "        lstm_input = self.input_fc(x)\n",
    "        lstm_out, _ = self.lstm(x, (h0, c0))\n",
    "        residual_output = lstm_out + lstm_input\n",
    "        lstm_out = self.layer_norm(residual_output)\n",
    "        attn_out = self.attention(lstm_out)\n",
    "        drop_out = self.dropout(attn_out)\n",
    "        \n",
    "        # 输出 ---------------------------\n",
    "        state_pred = self.fc_state(drop_out)      # (batch, num_state_classes)\n",
    "        time_pred = self.fc_time(drop_out).squeeze(-1)  # (batch,)\n",
    "        return state_pred, time_pred"
   ]
  },
  {
   "cell_type": "markdown",
   "id": "3483d028-39e8-46bc-8469-ed5b8b71bfce",
   "metadata": {
    "tags": []
   },
   "source": [
    "# 五. 模型训练"
   ]
  },
  {
   "cell_type": "markdown",
   "id": "a1bade94-69a0-48c4-ae94-e158e32f9760",
   "metadata": {
    "tags": []
   },
   "source": [
    "## 5.1导入数据加载器"
   ]
  },
  {
   "cell_type": "code",
   "execution_count": 23,
   "id": "c96b4c73-bc72-4cf9-8ad1-aa3603df6a53",
   "metadata": {},
   "outputs": [],
   "source": [
    "from torch.nn.parallel import DataParallel\n",
    "import torch.nn.functional as F\n",
    "batch_size = 256\n",
    "train_loader = DataLoader(train_data, shuffle=False, batch_size=batch_size) #表示每次从数据集中取出 256 条数据进行训练或测试。表示不打乱数据顺序（通常在时间序列任务中保持顺序很重要）\n",
    "test_loader = DataLoader(test_data, shuffle=False, batch_size=batch_size)"
   ]
  },
  {
   "cell_type": "markdown",
   "id": "5d4cdd57-0cf8-4f72-a813-0c17577b954a",
   "metadata": {
    "tags": []
   },
   "source": [
    "## 5.2 训练模型"
   ]
  },
  {
   "cell_type": "markdown",
   "id": "f87fc31f-9807-4196-bb30-d6ec94a68291",
   "metadata": {
    "tags": []
   },
   "source": [
    "### 单输出任务"
   ]
  },
  {
   "cell_type": "markdown",
   "id": "f6270808-1db7-493f-b933-3c2adf265350",
   "metadata": {
    "jp-MarkdownHeadingCollapsed": true,
    "tags": []
   },
   "source": [
    "#### 1.1 回归任务"
   ]
  },
  {
   "cell_type": "markdown",
   "id": "0b1e9fc7-77ff-46db-ae77-d7b44d466d64",
   "metadata": {},
   "source": [
    "模型定义与初始化"
   ]
  },
  {
   "cell_type": "code",
   "execution_count": 10,
   "id": "a0ad9d5f-ba26-492d-8274-b9b676962540",
   "metadata": {},
   "outputs": [],
   "source": [
    "hidden_size = 32\n",
    "num_layers = 2\n",
    "input_size = 4 #输入的X的特征维度\n",
    "num_classes = 4 #输出的y的特征维度\n",
    "num_heads = 8\n",
    "\n",
    "model = LSTMWithMulAttention(input_size, hidden_size, num_layers, num_classes, dropout_rate=0.3, num_heads=num_heads)\n",
    "model = model.to(device) #将模型移动到指定设备（如 GPU 或 CPU）\n",
    "model = nn.DataParallel(model) #如果有多块 GPU，可以使用数据并行加速训练。"
   ]
  },
  {
   "cell_type": "markdown",
   "id": "df2251cc-fe05-42df-92b9-4a8297146a0b",
   "metadata": {},
   "source": [
    "损失函数与优化器"
   ]
  },
  {
   "cell_type": "code",
   "execution_count": 11,
   "id": "c1e80141-75d8-446c-b6a6-2d9cb4e6d25e",
   "metadata": {},
   "outputs": [
    {
     "name": "stderr",
     "output_type": "stream",
     "text": [
      "C:\\ProgramData\\anaconda3\\lib\\site-packages\\torch\\optim\\lr_scheduler.py:62: UserWarning: The verbose parameter is deprecated. Please use get_last_lr() to access the learning rate.\n",
      "  warnings.warn(\n"
     ]
    }
   ],
   "source": [
    "criterion = nn.MSELoss() #定义损失函数\n",
    "optimizer = optim.Adam(model.parameters(), lr=0.0001) #使用 Adam 优化器,学习率为0.0001\n",
    "scheduler = ReduceLROnPlateau(optimizer, 'min', factor=0.4, patience=3, min_lr=1e-6, verbose=True) #学习率调度器，当验证损失不再下降时降低学习率;每次降低学习率为原来的 0.4 倍。;连续 3 轮验证损失不下降时触发学习率调整。;学习率的最小值;打印学习率调整信息。"
   ]
  },
  {
   "cell_type": "markdown",
   "id": "507572f6-e4f7-4b24-abd6-6d9c503d617e",
   "metadata": {},
   "source": [
    "训练过程/验证过程/早停机制与模型保存"
   ]
  },
  {
   "cell_type": "code",
   "execution_count": 12,
   "id": "8540897f-aa39-429c-abfd-04d0471b253e",
   "metadata": {},
   "outputs": [
    {
     "name": "stderr",
     "output_type": "stream",
     "text": [
      "train epoch 0:   0%|          | 0/1091 [00:00<?, ?batch/s]\n"
     ]
    },
    {
     "ename": "ValueError",
     "evalue": "too many values to unpack (expected 2)",
     "output_type": "error",
     "traceback": [
      "\u001b[1;31m---------------------------------------------------------------------------\u001b[0m",
      "\u001b[1;31mValueError\u001b[0m                                Traceback (most recent call last)",
      "File \u001b[1;32m<timed exec>:12\u001b[0m\n",
      "\u001b[1;31mValueError\u001b[0m: too many values to unpack (expected 2)"
     ]
    }
   ],
   "source": [
    "%%time\n",
    "# 训练模型\n",
    "num_epochs = 300\n",
    "best_loss = np.inf\n",
    "early_stopping_patience = 30\n",
    "early_stopping_counter = 0\n",
    "loss_values = []\n",
    "\n",
    "#训练过程\n",
    "for epoch in range(num_epochs):\n",
    "    model.train()\n",
    "    train_losses = []\n",
    "    for i, (x_batch, y_batch) in enumerate(tqdm(train_loader, desc=f\"train epoch {epoch}\", unit=\"batch\")):\n",
    "        x_batch = x_batch.to(device).float()#数据预处理：将 x_batch 和 y_batch 移动到指定设备，并转换为浮点类型。\n",
    "        y_batch = y_batch.to(device).float()\n",
    "\n",
    "        x_batch = x_batch.view(-1, sequence_length, input_size) \n",
    "        y_batch = y_batch.view(-1, num_classes)\n",
    "\n",
    "        \n",
    "        outputs = model(x_batch) #使用模型计算输出 outputs。\n",
    "        #print(\"Outputs shape:\", outputs.shape)\n",
    "        #print(\"y_batch shape:\", y_batch.shape)\n",
    "        loss = criterion(outputs, y_batch) #计算损失值 loss。\n",
    "        optimizer.zero_grad() #清空梯度\n",
    "        loss.backward() #反向传播,计算梯度\n",
    "        optimizer.step() #更新模型参数\n",
    "\n",
    "        train_losses.append(loss.item()) #将每个批次的损失值存储到 train_losses 中。\n",
    "\n",
    "#验证过程\n",
    "    val_losses = []\n",
    "    model.eval() #模型切换到评估模式：model.eval()。\n",
    "    with torch.no_grad():#禁用梯度计算：torch.no_grad()，减少内存消耗。在默认情况下，PyTorch 会为每个操作保留中间张量和梯度信息，以便在反向传播时计算梯度。即使在评估或推理阶段，这些中间张量仍然会被保存，占用额外的内存。\n",
    "        for i, (x_batch, y_batch) in enumerate(test_loader):\n",
    "            x_batch = x_batch.to(device).float()\n",
    "            y_batch = y_batch.to(device).float()\n",
    "\n",
    "            x_batch = x_batch.view(-1, sequence_length, input_size)\n",
    "            y_batch = y_batch.view(-1, num_classes)\n",
    "\n",
    "            outputs = model(x_batch)\n",
    "            loss = criterion(outputs, y_batch) #调用前面定义的损失函数对象\n",
    "            val_losses.append(loss.item())\n",
    "\n",
    "#早停机制与模型保存\n",
    "    train_loss = np.mean(train_losses) #train_losses 和 val_losses这两个列表分别存储了当前 epoch 中每个批次的训练损失和验证损失。train_loss：当前 epoch 的平均训练损失。\n",
    "    val_loss = np.mean(val_losses)\n",
    "    scheduler.step(train_loss) #scheduler：这是一个学习率调度器（如 ReduceLROnPlateau），用于动态调整优化器的学习率。\n",
    "    loss_values.append([train_loss, val_loss])\n",
    "    # 训练结束后打印当前学习率\n",
    "    current_lr = optimizer.param_groups[0]['lr']\n",
    "    print(f'Epoch {epoch+1}/{num_epochs}, Train Loss: {train_loss}, Validation Loss: {val_loss}', f\"Current learning rate: {current_lr}\")\n",
    "\n",
    "    if val_loss - best_loss < -0.000001: #(1) 判断验证损失是否降低\n",
    "        if best_loss - val_loss > 0.01:\n",
    "            early_stopping_counter = 0\n",
    "        best_loss = val_loss\n",
    "        best_model = deepcopy(model.state_dict()) #保存最佳模型：将最佳模型的参数保存到 best_model。\n",
    "    else:\n",
    "        early_stopping_counter += 1\n",
    "        print(f'EarlyStopping counter: {early_stopping_counter} out of {early_stopping_patience}')\n",
    "        if early_stopping_counter >= early_stopping_patience:\n",
    "            model.load_state_dict(best_model)\n",
    "            print('Early stopping')\n",
    "            break #避免模型在验证集上过拟合，通过提前停止训练来提高泛化能力。\n",
    "\n",
    "# 训练结束后保存最佳模型\n",
    "if best_model is not None:\n",
    "    # 构造模型文件名\n",
    "    model_name = \"Bi_LSTMWithMulAttention\"\n",
    "    learning_rate = scheduler.optimizer.param_groups[0]['lr']\n",
    "    filename = f\"{model_name}_input-{input_size}_hidden-{hidden_size}_layers-{num_layers}_heads-{num_heads}_lr-{learning_rate:.6f}_loss-{best_loss:.6f}_batch-{batch_size}_epoch-{epoch+1}.pth\"\n",
    "    \n",
    "    # 保存模型\n",
    "    torch.save(best_model, os.path.join('./model', filename))\n",
    "    print(f\"Best model saved: {filename}\")\n",
    "else:\n",
    "    print(\"No model was saved because no valid model was found during training.\")"
   ]
  },
  {
   "cell_type": "markdown",
   "id": "1badca21-6aaf-47b1-90cf-e180b0f5635d",
   "metadata": {},
   "source": [
    "#### 1.2 分类任务"
   ]
  },
  {
   "cell_type": "markdown",
   "id": "a208214a-7c3f-4b71-84ef-fc6480145dd6",
   "metadata": {},
   "source": [
    "模型定义与初始化"
   ]
  },
  {
   "cell_type": "code",
   "execution_count": 24,
   "id": "a8b2c030-5123-4d5e-9de0-86c0590e4189",
   "metadata": {},
   "outputs": [],
   "source": [
    "# ====== 参数设置 ======\n",
    "input_size = 1       # 输入特征维度：[encoded_label, time]\n",
    "hidden_size = 32\n",
    "num_layers = 2\n",
    "num_state_classes = len(state_encoder.classes_)  # 自动获取类别数\n",
    "num_heads = 2\n",
    "# ====== 初始化模型 ======\n",
    "model = LSTMWithMulAttention(\n",
    "    input_size=input_size,\n",
    "    hidden_size=hidden_size,\n",
    "    num_layers=num_layers,\n",
    "    num_state_classes=num_state_classes,\n",
    "    dropout_rate=0.3,\n",
    "    num_heads=num_heads\n",
    ").to(device)"
   ]
  },
  {
   "cell_type": "markdown",
   "id": "5b7a0e5a-aceb-4654-8d93-ab31b2f38529",
   "metadata": {},
   "source": [
    "损失函数与优化器"
   ]
  },
  {
   "cell_type": "code",
   "execution_count": 25,
   "id": "d122a410-def6-475e-b5b6-dbb9e2525aee",
   "metadata": {},
   "outputs": [],
   "source": [
    "# ====== 定义损失函数和优化器 ======\n",
    "# from sklearn.utils.class_weight import compute_class_weight\n",
    "# class_weights = compute_class_weight('balanced', classes=np.unique(y_train), y=y_train.flatten())\n",
    "# criterion_state = nn.CrossEntropyLoss(weight=torch.tensor(class_weights).to(device))\n",
    "criterion_state = nn.CrossEntropyLoss()\n",
    "optimizer = optim.Adam(model.parameters(), lr=0.0001)\n",
    "scheduler = ReduceLROnPlateau(optimizer, 'min', factor=0.5, patience=5)"
   ]
  },
  {
   "cell_type": "markdown",
   "id": "3e62c859-8d8e-4d98-aedc-af134897f9bb",
   "metadata": {},
   "source": [
    "训练过程/验证过程/早停机制与模型保存"
   ]
  },
  {
   "cell_type": "code",
   "execution_count": null,
   "id": "cc6e525e-27ce-4d9e-a5d1-a37c3250c6b6",
   "metadata": {},
   "outputs": [
    {
     "name": "stderr",
     "output_type": "stream",
     "text": [
      "Training Epoch 1: 100%|██████████| 518/518 [00:03<00:00, 141.60it/s]\n"
     ]
    },
    {
     "name": "stdout",
     "output_type": "stream",
     "text": [
      "Epoch 1/300 | Train Loss: 2.8794 | Val Loss: 2.5891, Current learning rate: 0.0001\n"
     ]
    },
    {
     "name": "stderr",
     "output_type": "stream",
     "text": [
      "Training Epoch 2: 100%|██████████| 518/518 [00:02<00:00, 181.35it/s]\n"
     ]
    },
    {
     "name": "stdout",
     "output_type": "stream",
     "text": [
      "Epoch 2/300 | Train Loss: 2.5525 | Val Loss: 2.4579, Current learning rate: 0.0001\n"
     ]
    },
    {
     "name": "stderr",
     "output_type": "stream",
     "text": [
      "Training Epoch 3: 100%|██████████| 518/518 [00:02<00:00, 189.30it/s]\n"
     ]
    },
    {
     "name": "stdout",
     "output_type": "stream",
     "text": [
      "Epoch 3/300 | Train Loss: 2.4574 | Val Loss: 2.3892, Current learning rate: 0.0001\n"
     ]
    },
    {
     "name": "stderr",
     "output_type": "stream",
     "text": [
      "Training Epoch 4: 100%|██████████| 518/518 [00:02<00:00, 181.34it/s]\n"
     ]
    },
    {
     "name": "stdout",
     "output_type": "stream",
     "text": [
      "Epoch 4/300 | Train Loss: 2.3791 | Val Loss: 2.3070, Current learning rate: 0.0001\n"
     ]
    },
    {
     "name": "stderr",
     "output_type": "stream",
     "text": [
      "Training Epoch 5: 100%|██████████| 518/518 [00:02<00:00, 190.19it/s]\n"
     ]
    },
    {
     "name": "stdout",
     "output_type": "stream",
     "text": [
      "Epoch 5/300 | Train Loss: 2.3022 | Val Loss: 2.2425, Current learning rate: 0.0001\n"
     ]
    },
    {
     "name": "stderr",
     "output_type": "stream",
     "text": [
      "Training Epoch 6: 100%|██████████| 518/518 [00:02<00:00, 180.76it/s]\n"
     ]
    },
    {
     "name": "stdout",
     "output_type": "stream",
     "text": [
      "Epoch 6/300 | Train Loss: 2.2342 | Val Loss: 2.1727, Current learning rate: 0.0001\n"
     ]
    },
    {
     "name": "stderr",
     "output_type": "stream",
     "text": [
      "Training Epoch 7: 100%|██████████| 518/518 [00:02<00:00, 189.64it/s]\n"
     ]
    },
    {
     "name": "stdout",
     "output_type": "stream",
     "text": [
      "Epoch 7/300 | Train Loss: 2.1673 | Val Loss: 2.1199, Current learning rate: 0.0001\n"
     ]
    },
    {
     "name": "stderr",
     "output_type": "stream",
     "text": [
      "Training Epoch 8: 100%|██████████| 518/518 [00:02<00:00, 181.33it/s]\n"
     ]
    },
    {
     "name": "stdout",
     "output_type": "stream",
     "text": [
      "Epoch 8/300 | Train Loss: 2.1197 | Val Loss: 2.0791, Current learning rate: 0.0001\n"
     ]
    },
    {
     "name": "stderr",
     "output_type": "stream",
     "text": [
      "Training Epoch 9: 100%|██████████| 518/518 [00:02<00:00, 189.92it/s]\n"
     ]
    },
    {
     "name": "stdout",
     "output_type": "stream",
     "text": [
      "Epoch 9/300 | Train Loss: 2.0776 | Val Loss: 2.0387, Current learning rate: 0.0001\n"
     ]
    },
    {
     "name": "stderr",
     "output_type": "stream",
     "text": [
      "Training Epoch 10: 100%|██████████| 518/518 [00:02<00:00, 182.73it/s]\n"
     ]
    },
    {
     "name": "stdout",
     "output_type": "stream",
     "text": [
      "Epoch 10/300 | Train Loss: 2.0391 | Val Loss: 2.0030, Current learning rate: 0.0001\n"
     ]
    },
    {
     "name": "stderr",
     "output_type": "stream",
     "text": [
      "Training Epoch 11: 100%|██████████| 518/518 [00:02<00:00, 188.98it/s]\n"
     ]
    },
    {
     "name": "stdout",
     "output_type": "stream",
     "text": [
      "Epoch 11/300 | Train Loss: 2.0083 | Val Loss: 1.9774, Current learning rate: 0.0001\n"
     ]
    },
    {
     "name": "stderr",
     "output_type": "stream",
     "text": [
      "Training Epoch 12: 100%|██████████| 518/518 [00:02<00:00, 191.06it/s]\n"
     ]
    },
    {
     "name": "stdout",
     "output_type": "stream",
     "text": [
      "Epoch 12/300 | Train Loss: 1.9861 | Val Loss: 1.9599, Current learning rate: 0.0001\n"
     ]
    },
    {
     "name": "stderr",
     "output_type": "stream",
     "text": [
      "Training Epoch 13: 100%|██████████| 518/518 [00:02<00:00, 190.75it/s]\n"
     ]
    },
    {
     "name": "stdout",
     "output_type": "stream",
     "text": [
      "Epoch 13/300 | Train Loss: 1.9704 | Val Loss: 1.9453, Current learning rate: 0.0001\n"
     ]
    },
    {
     "name": "stderr",
     "output_type": "stream",
     "text": [
      "Training Epoch 14: 100%|██████████| 518/518 [00:02<00:00, 191.57it/s]\n"
     ]
    },
    {
     "name": "stdout",
     "output_type": "stream",
     "text": [
      "Epoch 14/300 | Train Loss: 1.9538 | Val Loss: 1.9298, Current learning rate: 0.0001\n"
     ]
    },
    {
     "name": "stderr",
     "output_type": "stream",
     "text": [
      "Training Epoch 15: 100%|██████████| 518/518 [00:02<00:00, 182.34it/s]\n"
     ]
    },
    {
     "name": "stdout",
     "output_type": "stream",
     "text": [
      "Epoch 15/300 | Train Loss: 1.9375 | Val Loss: 1.9131, Current learning rate: 0.0001\n"
     ]
    },
    {
     "name": "stderr",
     "output_type": "stream",
     "text": [
      "Training Epoch 16:  79%|███████▊  | 407/518 [00:02<00:00, 188.41it/s]"
     ]
    }
   ],
   "source": [
    "%%time\n",
    "# ====== 训练循环 ======\n",
    "num_epochs = 300\n",
    "best_loss = np.inf\n",
    "early_stopping_patience = 20\n",
    "early_stopping_counter = 0\n",
    "loss_values = []\n",
    "\n",
    "# 训练循环\n",
    "for epoch in range(num_epochs):\n",
    "    model.train()\n",
    "    train_losses = []\n",
    "    for x_batch, y_state_batch in tqdm(train_loader, desc=f\"Training Epoch {epoch+1}\"):\n",
    "        x_batch = x_batch.to(device).float()\n",
    "        y_state_batch = y_state_batch.to(device).long()\n",
    "\n",
    "        # 确保目标值形状为 (batch_size,)\n",
    "        y_state_batch = y_state_batch.squeeze(-1)\n",
    "\n",
    "        # 前向传播\n",
    "        state_pred = model(x_batch)\n",
    "\n",
    "        # 计算损失\n",
    "        loss_state = criterion_state(state_pred, y_state_batch)\n",
    "\n",
    "        total_loss = loss_state\n",
    "\n",
    "        # 反向传播\n",
    "        optimizer.zero_grad()\n",
    "        total_loss.backward()\n",
    "        torch.nn.utils.clip_grad_norm_(model.parameters(), 1.0)\n",
    "        optimizer.step()\n",
    "\n",
    "        train_losses.append(total_loss.item())\n",
    "\n",
    "    # 验证\n",
    "    model.eval()\n",
    "    val_losses = []\n",
    "    with torch.no_grad():\n",
    "        for x_val, y_state_val in test_loader:\n",
    "            x_val = x_val.to(device).float()\n",
    "            y_state_val = y_state_val.to(device).long()\n",
    "\n",
    "            # 确保目标值形状为 (batch_size,)\n",
    "            y_state_val = y_state_val.squeeze(-1)\n",
    "\n",
    "            state_pred = model(x_val)\n",
    "            loss_state = criterion_state(state_pred, y_state_val)\n",
    "            val_loss = loss_state\n",
    "            val_losses.append(val_loss.item())\n",
    "\n",
    "    # 学习率调整\n",
    "    avg_train_loss = np.mean(train_losses)\n",
    "    avg_val_loss = np.mean(val_losses)\n",
    "    scheduler.step(avg_train_loss)\n",
    "    loss_values.append([avg_train_loss, avg_val_loss])\n",
    "\n",
    "    # 打印当前学习率\n",
    "    current_lr = optimizer.param_groups[0]['lr']\n",
    "    print(f\"Epoch {epoch+1}/{num_epochs} | Train Loss: {avg_train_loss:.4f} | Val Loss: {avg_val_loss:.4f}, Current learning rate: {current_lr}\")\n",
    "\n",
    "    # 早停机制\n",
    "    if avg_val_loss < best_loss:  # 判断验证损失是否降低\n",
    "        if best_loss - avg_val_loss > 0.03:\n",
    "            early_stopping_counter = 0\n",
    "        best_loss = avg_val_loss\n",
    "        best_model = deepcopy(model.state_dict())  # 保存最佳模型\n",
    "    else:\n",
    "        early_stopping_counter += 1\n",
    "        print(f'EarlyStopping counter: {early_stopping_counter} out of {early_stopping_patience}')\n",
    "        if early_stopping_counter >= early_stopping_patience:\n",
    "            model.load_state_dict(best_model)\n",
    "            print('Early stopping')\n",
    "            break\n",
    "    \n",
    "    \n",
    "# 训练结束后保存最佳模型\n",
    "if best_model is not None:\n",
    "    # 构造模型文件名\n",
    "    model_name = \"Bi_LSTMWithMulAttention\"\n",
    "    learning_rate = scheduler.optimizer.param_groups[0]['lr']\n",
    "    filename = f\"{model_name}_input-{input_size}_hidden-{hidden_size}_layers-{num_layers}_heads-{num_heads}_lr-{learning_rate:.6f}_loss-{best_loss:.6f}_batch-{batch_size}_epoch-{epoch+1}_seq-{sequence_length}.pth\"\n",
    "    \n",
    "    # 保存模型\n",
    "    torch.save(best_model, os.path.join('./model', filename))\n",
    "    print(f\"Best model saved: {filename}\")\n",
    "else:\n",
    "    print(\"No model was saved because no valid model was found during training.\")"
   ]
  },
  {
   "cell_type": "markdown",
   "id": "822fc549-163c-4943-96d8-4900a03cbc69",
   "metadata": {
    "jp-MarkdownHeadingCollapsed": true,
    "tags": []
   },
   "source": [
    "### 2.多输出任务"
   ]
  },
  {
   "cell_type": "markdown",
   "id": "dcc85f27-67e5-4515-8244-d0f7ddc65f02",
   "metadata": {},
   "source": [
    "模型定义与初始化"
   ]
  },
  {
   "cell_type": "code",
   "execution_count": 14,
   "id": "6de22c59-cccb-4b74-9002-1e394bb89f8a",
   "metadata": {},
   "outputs": [],
   "source": [
    "# ====== 参数设置 ======\n",
    "input_size = 2       # 输入特征维度：[encoded_label, time]\n",
    "hidden_size = 32\n",
    "num_layers = 2\n",
    "num_state_classes = len(state_encoder.classes_)  # 自动获取类别数\n",
    "num_heads = 2\n",
    "# ====== 初始化模型 ======\n",
    "model = LSTMWithMulAttention(\n",
    "    input_size=input_size,\n",
    "    hidden_size=hidden_size,\n",
    "    num_layers=num_layers,\n",
    "    num_state_classes=num_state_classes,\n",
    "    dropout_rate=0.3,\n",
    "    num_heads=num_heads\n",
    ").to(device)"
   ]
  },
  {
   "cell_type": "markdown",
   "id": "19398291-859b-4a24-ae96-ffad7bb5b6b4",
   "metadata": {},
   "source": [
    "损失函数与优化器"
   ]
  },
  {
   "cell_type": "code",
   "execution_count": 15,
   "id": "7aaa52a0-9967-44e1-90ed-fe608432d38b",
   "metadata": {},
   "outputs": [],
   "source": [
    "# ====== 定义损失函数和优化器 ======\n",
    "criterion_state = nn.CrossEntropyLoss()\n",
    "criterion_time = nn.HuberLoss()\n",
    "optimizer = optim.Adam(model.parameters(), lr=0.0001)\n",
    "scheduler = ReduceLROnPlateau(optimizer, 'min', factor=0.5, patience=5)"
   ]
  },
  {
   "cell_type": "markdown",
   "id": "117f1d35-a8aa-43a8-aeab-558b528a2e2b",
   "metadata": {},
   "source": [
    "训练过程/验证过程/早停机制与模型保存"
   ]
  },
  {
   "cell_type": "code",
   "execution_count": 16,
   "id": "d0ec8111-7a45-4747-8fc6-522a0dbf5810",
   "metadata": {},
   "outputs": [
    {
     "name": "stderr",
     "output_type": "stream",
     "text": [
      "Training Epoch 1: 100%|██████████| 17804/17804 [01:23<00:00, 212.34it/s]\n"
     ]
    },
    {
     "name": "stdout",
     "output_type": "stream",
     "text": [
      "Epoch 1/300 | Train Loss: 2.3762 | Val Loss: 2.1828 Current learning rate: 0.0001\n"
     ]
    },
    {
     "name": "stderr",
     "output_type": "stream",
     "text": [
      "Training Epoch 2: 100%|██████████| 17804/17804 [01:23<00:00, 213.95it/s]\n"
     ]
    },
    {
     "name": "stdout",
     "output_type": "stream",
     "text": [
      "Epoch 2/300 | Train Loss: 1.9749 | Val Loss: 1.8371 Current learning rate: 0.0001\n"
     ]
    },
    {
     "name": "stderr",
     "output_type": "stream",
     "text": [
      "Training Epoch 3: 100%|██████████| 17804/17804 [01:23<00:00, 214.47it/s]\n"
     ]
    },
    {
     "name": "stdout",
     "output_type": "stream",
     "text": [
      "Epoch 3/300 | Train Loss: 1.7725 | Val Loss: 1.7144 Current learning rate: 0.0001\n"
     ]
    },
    {
     "name": "stderr",
     "output_type": "stream",
     "text": [
      "Training Epoch 4: 100%|██████████| 17804/17804 [01:22<00:00, 214.67it/s]\n"
     ]
    },
    {
     "name": "stdout",
     "output_type": "stream",
     "text": [
      "Epoch 4/300 | Train Loss: 1.6831 | Val Loss: 1.6096 Current learning rate: 0.0001\n"
     ]
    },
    {
     "name": "stderr",
     "output_type": "stream",
     "text": [
      "Training Epoch 5: 100%|██████████| 17804/17804 [01:23<00:00, 214.22it/s]\n"
     ]
    },
    {
     "name": "stdout",
     "output_type": "stream",
     "text": [
      "Epoch 5/300 | Train Loss: 1.6236 | Val Loss: 1.5676 Current learning rate: 0.0001\n"
     ]
    },
    {
     "name": "stderr",
     "output_type": "stream",
     "text": [
      "Training Epoch 6: 100%|██████████| 17804/17804 [01:22<00:00, 214.72it/s]\n"
     ]
    },
    {
     "name": "stdout",
     "output_type": "stream",
     "text": [
      "Epoch 6/300 | Train Loss: 1.5781 | Val Loss: 1.5062 Current learning rate: 0.0001\n"
     ]
    },
    {
     "name": "stderr",
     "output_type": "stream",
     "text": [
      "Training Epoch 7: 100%|██████████| 17804/17804 [01:23<00:00, 214.27it/s]\n"
     ]
    },
    {
     "name": "stdout",
     "output_type": "stream",
     "text": [
      "Epoch 7/300 | Train Loss: 1.5384 | Val Loss: 1.4601 Current learning rate: 0.0001\n"
     ]
    },
    {
     "name": "stderr",
     "output_type": "stream",
     "text": [
      "Training Epoch 8: 100%|██████████| 17804/17804 [01:23<00:00, 214.30it/s]\n"
     ]
    },
    {
     "name": "stdout",
     "output_type": "stream",
     "text": [
      "Epoch 8/300 | Train Loss: 1.5061 | Val Loss: 1.4302 Current learning rate: 0.0001\n"
     ]
    },
    {
     "name": "stderr",
     "output_type": "stream",
     "text": [
      "Training Epoch 9: 100%|██████████| 17804/17804 [01:23<00:00, 214.45it/s]\n"
     ]
    },
    {
     "name": "stdout",
     "output_type": "stream",
     "text": [
      "Epoch 9/300 | Train Loss: 1.4809 | Val Loss: 1.4044 Current learning rate: 0.0001\n"
     ]
    },
    {
     "name": "stderr",
     "output_type": "stream",
     "text": [
      "Training Epoch 10: 100%|██████████| 17804/17804 [01:23<00:00, 214.27it/s]\n"
     ]
    },
    {
     "name": "stdout",
     "output_type": "stream",
     "text": [
      "Epoch 10/300 | Train Loss: 1.4550 | Val Loss: 1.3823 Current learning rate: 0.0001\n"
     ]
    },
    {
     "name": "stderr",
     "output_type": "stream",
     "text": [
      "Training Epoch 11: 100%|██████████| 17804/17804 [01:23<00:00, 214.46it/s]\n"
     ]
    },
    {
     "name": "stdout",
     "output_type": "stream",
     "text": [
      "Epoch 11/300 | Train Loss: 1.4310 | Val Loss: 1.3609 Current learning rate: 0.0001\n"
     ]
    },
    {
     "name": "stderr",
     "output_type": "stream",
     "text": [
      "Training Epoch 12: 100%|██████████| 17804/17804 [01:23<00:00, 214.16it/s]\n"
     ]
    },
    {
     "name": "stdout",
     "output_type": "stream",
     "text": [
      "Epoch 12/300 | Train Loss: 1.4107 | Val Loss: 1.3513 Current learning rate: 0.0001\n"
     ]
    },
    {
     "name": "stderr",
     "output_type": "stream",
     "text": [
      "Training Epoch 13: 100%|██████████| 17804/17804 [01:22<00:00, 214.54it/s]\n"
     ]
    },
    {
     "name": "stdout",
     "output_type": "stream",
     "text": [
      "Epoch 13/300 | Train Loss: 1.3950 | Val Loss: 1.3346 Current learning rate: 0.0001\n"
     ]
    },
    {
     "name": "stderr",
     "output_type": "stream",
     "text": [
      "Training Epoch 14: 100%|██████████| 17804/17804 [01:23<00:00, 214.21it/s]\n"
     ]
    },
    {
     "name": "stdout",
     "output_type": "stream",
     "text": [
      "Epoch 14/300 | Train Loss: 1.3797 | Val Loss: 1.3193 Current learning rate: 0.0001\n"
     ]
    },
    {
     "name": "stderr",
     "output_type": "stream",
     "text": [
      "Training Epoch 15: 100%|██████████| 17804/17804 [01:22<00:00, 214.83it/s]\n"
     ]
    },
    {
     "name": "stdout",
     "output_type": "stream",
     "text": [
      "Epoch 15/300 | Train Loss: 1.3653 | Val Loss: 1.3064 Current learning rate: 0.0001\n"
     ]
    },
    {
     "name": "stderr",
     "output_type": "stream",
     "text": [
      "Training Epoch 16: 100%|██████████| 17804/17804 [01:22<00:00, 214.78it/s]\n"
     ]
    },
    {
     "name": "stdout",
     "output_type": "stream",
     "text": [
      "Epoch 16/300 | Train Loss: 1.3523 | Val Loss: 1.2856 Current learning rate: 0.0001\n"
     ]
    },
    {
     "name": "stderr",
     "output_type": "stream",
     "text": [
      "Training Epoch 17: 100%|██████████| 17804/17804 [01:22<00:00, 214.59it/s]\n"
     ]
    },
    {
     "name": "stdout",
     "output_type": "stream",
     "text": [
      "Epoch 17/300 | Train Loss: 1.3419 | Val Loss: 1.2781 Current learning rate: 0.0001\n"
     ]
    },
    {
     "name": "stderr",
     "output_type": "stream",
     "text": [
      "Training Epoch 18: 100%|██████████| 17804/17804 [01:23<00:00, 214.29it/s]\n"
     ]
    },
    {
     "name": "stdout",
     "output_type": "stream",
     "text": [
      "Epoch 18/300 | Train Loss: 1.3299 | Val Loss: 1.2675 Current learning rate: 0.0001\n"
     ]
    },
    {
     "name": "stderr",
     "output_type": "stream",
     "text": [
      "Training Epoch 19: 100%|██████████| 17804/17804 [01:22<00:00, 215.21it/s]\n"
     ]
    },
    {
     "name": "stdout",
     "output_type": "stream",
     "text": [
      "Epoch 19/300 | Train Loss: 1.3212 | Val Loss: 1.2754 Current learning rate: 0.0001\n",
      "EarlyStopping counter: 1 out of 20\n"
     ]
    },
    {
     "name": "stderr",
     "output_type": "stream",
     "text": [
      "Training Epoch 20: 100%|██████████| 17804/17804 [01:22<00:00, 215.73it/s]\n"
     ]
    },
    {
     "name": "stdout",
     "output_type": "stream",
     "text": [
      "Epoch 20/300 | Train Loss: 1.3102 | Val Loss: 1.2551 Current learning rate: 0.0001\n"
     ]
    },
    {
     "name": "stderr",
     "output_type": "stream",
     "text": [
      "Training Epoch 21: 100%|██████████| 17804/17804 [01:22<00:00, 215.39it/s]\n"
     ]
    },
    {
     "name": "stdout",
     "output_type": "stream",
     "text": [
      "Epoch 21/300 | Train Loss: 1.3018 | Val Loss: 1.2462 Current learning rate: 0.0001\n"
     ]
    },
    {
     "name": "stderr",
     "output_type": "stream",
     "text": [
      "Training Epoch 22: 100%|██████████| 17804/17804 [01:22<00:00, 215.38it/s]\n"
     ]
    },
    {
     "name": "stdout",
     "output_type": "stream",
     "text": [
      "Epoch 22/300 | Train Loss: 1.2928 | Val Loss: 1.2446 Current learning rate: 0.0001\n"
     ]
    },
    {
     "name": "stderr",
     "output_type": "stream",
     "text": [
      "Training Epoch 23: 100%|██████████| 17804/17804 [01:22<00:00, 215.82it/s]\n"
     ]
    },
    {
     "name": "stdout",
     "output_type": "stream",
     "text": [
      "Epoch 23/300 | Train Loss: 1.2873 | Val Loss: 1.2330 Current learning rate: 0.0001\n"
     ]
    },
    {
     "name": "stderr",
     "output_type": "stream",
     "text": [
      "Training Epoch 24: 100%|██████████| 17804/17804 [01:22<00:00, 215.51it/s]\n"
     ]
    },
    {
     "name": "stdout",
     "output_type": "stream",
     "text": [
      "Epoch 24/300 | Train Loss: 1.2771 | Val Loss: 1.2181 Current learning rate: 0.0001\n"
     ]
    },
    {
     "name": "stderr",
     "output_type": "stream",
     "text": [
      "Training Epoch 25: 100%|██████████| 17804/17804 [01:22<00:00, 215.32it/s]\n"
     ]
    },
    {
     "name": "stdout",
     "output_type": "stream",
     "text": [
      "Epoch 25/300 | Train Loss: 1.2701 | Val Loss: 1.2031 Current learning rate: 0.0001\n"
     ]
    },
    {
     "name": "stderr",
     "output_type": "stream",
     "text": [
      "Training Epoch 26: 100%|██████████| 17804/17804 [01:22<00:00, 215.58it/s]\n"
     ]
    },
    {
     "name": "stdout",
     "output_type": "stream",
     "text": [
      "Epoch 26/300 | Train Loss: 1.2640 | Val Loss: 1.2000 Current learning rate: 0.0001\n"
     ]
    },
    {
     "name": "stderr",
     "output_type": "stream",
     "text": [
      "Training Epoch 27: 100%|██████████| 17804/17804 [01:22<00:00, 216.32it/s]\n"
     ]
    },
    {
     "name": "stdout",
     "output_type": "stream",
     "text": [
      "Epoch 27/300 | Train Loss: 1.2556 | Val Loss: 1.1929 Current learning rate: 0.0001\n"
     ]
    },
    {
     "name": "stderr",
     "output_type": "stream",
     "text": [
      "Training Epoch 28: 100%|██████████| 17804/17804 [01:22<00:00, 216.89it/s]\n"
     ]
    },
    {
     "name": "stdout",
     "output_type": "stream",
     "text": [
      "Epoch 28/300 | Train Loss: 1.2485 | Val Loss: 1.1880 Current learning rate: 0.0001\n"
     ]
    },
    {
     "name": "stderr",
     "output_type": "stream",
     "text": [
      "Training Epoch 29: 100%|██████████| 17804/17804 [01:22<00:00, 216.68it/s]\n"
     ]
    },
    {
     "name": "stdout",
     "output_type": "stream",
     "text": [
      "Epoch 29/300 | Train Loss: 1.2431 | Val Loss: 1.1842 Current learning rate: 0.0001\n"
     ]
    },
    {
     "name": "stderr",
     "output_type": "stream",
     "text": [
      "Training Epoch 30: 100%|██████████| 17804/17804 [01:22<00:00, 216.94it/s]\n"
     ]
    },
    {
     "name": "stdout",
     "output_type": "stream",
     "text": [
      "Epoch 30/300 | Train Loss: 1.2392 | Val Loss: 1.1775 Current learning rate: 0.0001\n"
     ]
    },
    {
     "name": "stderr",
     "output_type": "stream",
     "text": [
      "Training Epoch 31: 100%|██████████| 17804/17804 [01:22<00:00, 216.61it/s]\n"
     ]
    },
    {
     "name": "stdout",
     "output_type": "stream",
     "text": [
      "Epoch 31/300 | Train Loss: 1.2318 | Val Loss: 1.1735 Current learning rate: 0.0001\n"
     ]
    },
    {
     "name": "stderr",
     "output_type": "stream",
     "text": [
      "Training Epoch 32: 100%|██████████| 17804/17804 [01:22<00:00, 217.06it/s]\n"
     ]
    },
    {
     "name": "stdout",
     "output_type": "stream",
     "text": [
      "Epoch 32/300 | Train Loss: 1.2283 | Val Loss: 1.1665 Current learning rate: 0.0001\n"
     ]
    },
    {
     "name": "stderr",
     "output_type": "stream",
     "text": [
      "Training Epoch 33: 100%|██████████| 17804/17804 [01:22<00:00, 216.54it/s]\n"
     ]
    },
    {
     "name": "stdout",
     "output_type": "stream",
     "text": [
      "Epoch 33/300 | Train Loss: 1.2225 | Val Loss: 1.1700 Current learning rate: 0.0001\n",
      "EarlyStopping counter: 1 out of 20\n"
     ]
    },
    {
     "name": "stderr",
     "output_type": "stream",
     "text": [
      "Training Epoch 34: 100%|██████████| 17804/17804 [01:22<00:00, 216.76it/s]\n"
     ]
    },
    {
     "name": "stdout",
     "output_type": "stream",
     "text": [
      "Epoch 34/300 | Train Loss: 1.2172 | Val Loss: 1.1584 Current learning rate: 0.0001\n"
     ]
    },
    {
     "name": "stderr",
     "output_type": "stream",
     "text": [
      "Training Epoch 35: 100%|██████████| 17804/17804 [01:22<00:00, 217.01it/s]\n"
     ]
    },
    {
     "name": "stdout",
     "output_type": "stream",
     "text": [
      "Epoch 35/300 | Train Loss: 1.2150 | Val Loss: 1.1539 Current learning rate: 0.0001\n"
     ]
    },
    {
     "name": "stderr",
     "output_type": "stream",
     "text": [
      "Training Epoch 36: 100%|██████████| 17804/17804 [01:22<00:00, 216.98it/s]\n"
     ]
    },
    {
     "name": "stdout",
     "output_type": "stream",
     "text": [
      "Epoch 36/300 | Train Loss: 1.2089 | Val Loss: 1.1532 Current learning rate: 0.0001\n"
     ]
    },
    {
     "name": "stderr",
     "output_type": "stream",
     "text": [
      "Training Epoch 37: 100%|██████████| 17804/17804 [01:22<00:00, 216.26it/s]\n"
     ]
    },
    {
     "name": "stdout",
     "output_type": "stream",
     "text": [
      "Epoch 37/300 | Train Loss: 1.2050 | Val Loss: 1.1479 Current learning rate: 0.0001\n"
     ]
    },
    {
     "name": "stderr",
     "output_type": "stream",
     "text": [
      "Training Epoch 38: 100%|██████████| 17804/17804 [01:22<00:00, 215.91it/s]\n"
     ]
    },
    {
     "name": "stdout",
     "output_type": "stream",
     "text": [
      "Epoch 38/300 | Train Loss: 1.2017 | Val Loss: 1.1377 Current learning rate: 0.0001\n"
     ]
    },
    {
     "name": "stderr",
     "output_type": "stream",
     "text": [
      "Training Epoch 39: 100%|██████████| 17804/17804 [01:22<00:00, 216.66it/s]\n"
     ]
    },
    {
     "name": "stdout",
     "output_type": "stream",
     "text": [
      "Epoch 39/300 | Train Loss: 1.1968 | Val Loss: 1.1410 Current learning rate: 0.0001\n",
      "EarlyStopping counter: 1 out of 20\n"
     ]
    },
    {
     "name": "stderr",
     "output_type": "stream",
     "text": [
      "Training Epoch 40: 100%|██████████| 17804/17804 [01:22<00:00, 216.49it/s]\n"
     ]
    },
    {
     "name": "stdout",
     "output_type": "stream",
     "text": [
      "Epoch 40/300 | Train Loss: 1.1936 | Val Loss: 1.1317 Current learning rate: 0.0001\n"
     ]
    },
    {
     "name": "stderr",
     "output_type": "stream",
     "text": [
      "Training Epoch 41: 100%|██████████| 17804/17804 [01:22<00:00, 216.24it/s]\n"
     ]
    },
    {
     "name": "stdout",
     "output_type": "stream",
     "text": [
      "Epoch 41/300 | Train Loss: 1.1908 | Val Loss: 1.1347 Current learning rate: 0.0001\n",
      "EarlyStopping counter: 1 out of 20\n"
     ]
    },
    {
     "name": "stderr",
     "output_type": "stream",
     "text": [
      "Training Epoch 42: 100%|██████████| 17804/17804 [01:22<00:00, 216.46it/s]\n"
     ]
    },
    {
     "name": "stdout",
     "output_type": "stream",
     "text": [
      "Epoch 42/300 | Train Loss: 1.1882 | Val Loss: 1.1281 Current learning rate: 0.0001\n"
     ]
    },
    {
     "name": "stderr",
     "output_type": "stream",
     "text": [
      "Training Epoch 43: 100%|██████████| 17804/17804 [01:22<00:00, 216.97it/s]\n"
     ]
    },
    {
     "name": "stdout",
     "output_type": "stream",
     "text": [
      "Epoch 43/300 | Train Loss: 1.1843 | Val Loss: 1.1247 Current learning rate: 0.0001\n"
     ]
    },
    {
     "name": "stderr",
     "output_type": "stream",
     "text": [
      "Training Epoch 44: 100%|██████████| 17804/17804 [01:22<00:00, 216.80it/s]\n"
     ]
    },
    {
     "name": "stdout",
     "output_type": "stream",
     "text": [
      "Epoch 44/300 | Train Loss: 1.1825 | Val Loss: 1.1221 Current learning rate: 0.0001\n"
     ]
    },
    {
     "name": "stderr",
     "output_type": "stream",
     "text": [
      "Training Epoch 45: 100%|██████████| 17804/17804 [01:22<00:00, 216.67it/s]\n"
     ]
    },
    {
     "name": "stdout",
     "output_type": "stream",
     "text": [
      "Epoch 45/300 | Train Loss: 1.1785 | Val Loss: 1.1189 Current learning rate: 0.0001\n"
     ]
    },
    {
     "name": "stderr",
     "output_type": "stream",
     "text": [
      "Training Epoch 46: 100%|██████████| 17804/17804 [01:22<00:00, 216.88it/s]\n"
     ]
    },
    {
     "name": "stdout",
     "output_type": "stream",
     "text": [
      "Epoch 46/300 | Train Loss: 1.1775 | Val Loss: 1.1194 Current learning rate: 0.0001\n",
      "EarlyStopping counter: 1 out of 20\n"
     ]
    },
    {
     "name": "stderr",
     "output_type": "stream",
     "text": [
      "Training Epoch 47: 100%|██████████| 17804/17804 [01:22<00:00, 216.87it/s]\n"
     ]
    },
    {
     "name": "stdout",
     "output_type": "stream",
     "text": [
      "Epoch 47/300 | Train Loss: 1.1748 | Val Loss: 1.1161 Current learning rate: 0.0001\n"
     ]
    },
    {
     "name": "stderr",
     "output_type": "stream",
     "text": [
      "Training Epoch 48: 100%|██████████| 17804/17804 [01:22<00:00, 216.67it/s]\n"
     ]
    },
    {
     "name": "stdout",
     "output_type": "stream",
     "text": [
      "Epoch 48/300 | Train Loss: 1.1722 | Val Loss: 1.1171 Current learning rate: 0.0001\n",
      "EarlyStopping counter: 1 out of 20\n"
     ]
    },
    {
     "name": "stderr",
     "output_type": "stream",
     "text": [
      "Training Epoch 49: 100%|██████████| 17804/17804 [01:22<00:00, 215.72it/s]\n"
     ]
    },
    {
     "name": "stdout",
     "output_type": "stream",
     "text": [
      "Epoch 49/300 | Train Loss: 1.1695 | Val Loss: 1.1197 Current learning rate: 0.0001\n",
      "EarlyStopping counter: 2 out of 20\n"
     ]
    },
    {
     "name": "stderr",
     "output_type": "stream",
     "text": [
      "Training Epoch 50: 100%|██████████| 17804/17804 [01:22<00:00, 216.26it/s]\n"
     ]
    },
    {
     "name": "stdout",
     "output_type": "stream",
     "text": [
      "Epoch 50/300 | Train Loss: 1.1699 | Val Loss: 1.1230 Current learning rate: 0.0001\n",
      "EarlyStopping counter: 3 out of 20\n"
     ]
    },
    {
     "name": "stderr",
     "output_type": "stream",
     "text": [
      "Training Epoch 51: 100%|██████████| 17804/17804 [01:22<00:00, 216.24it/s]\n"
     ]
    },
    {
     "name": "stdout",
     "output_type": "stream",
     "text": [
      "Epoch 51/300 | Train Loss: 1.1660 | Val Loss: 1.1144 Current learning rate: 0.0001\n"
     ]
    },
    {
     "name": "stderr",
     "output_type": "stream",
     "text": [
      "Training Epoch 52: 100%|██████████| 17804/17804 [01:22<00:00, 216.71it/s]\n"
     ]
    },
    {
     "name": "stdout",
     "output_type": "stream",
     "text": [
      "Epoch 52/300 | Train Loss: 1.1643 | Val Loss: 1.1101 Current learning rate: 0.0001\n"
     ]
    },
    {
     "name": "stderr",
     "output_type": "stream",
     "text": [
      "Training Epoch 53: 100%|██████████| 17804/17804 [01:22<00:00, 216.33it/s]\n"
     ]
    },
    {
     "name": "stdout",
     "output_type": "stream",
     "text": [
      "Epoch 53/300 | Train Loss: 1.1623 | Val Loss: 1.1121 Current learning rate: 0.0001\n",
      "EarlyStopping counter: 1 out of 20\n"
     ]
    },
    {
     "name": "stderr",
     "output_type": "stream",
     "text": [
      "Training Epoch 54: 100%|██████████| 17804/17804 [01:22<00:00, 216.86it/s]\n"
     ]
    },
    {
     "name": "stdout",
     "output_type": "stream",
     "text": [
      "Epoch 54/300 | Train Loss: 1.1614 | Val Loss: 1.1069 Current learning rate: 0.0001\n"
     ]
    },
    {
     "name": "stderr",
     "output_type": "stream",
     "text": [
      "Training Epoch 55: 100%|██████████| 17804/17804 [01:22<00:00, 216.31it/s]\n"
     ]
    },
    {
     "name": "stdout",
     "output_type": "stream",
     "text": [
      "Epoch 55/300 | Train Loss: 1.1599 | Val Loss: 1.1094 Current learning rate: 0.0001\n",
      "EarlyStopping counter: 1 out of 20\n"
     ]
    },
    {
     "name": "stderr",
     "output_type": "stream",
     "text": [
      "Training Epoch 56: 100%|██████████| 17804/17804 [01:22<00:00, 216.49it/s]\n"
     ]
    },
    {
     "name": "stdout",
     "output_type": "stream",
     "text": [
      "Epoch 56/300 | Train Loss: 1.1584 | Val Loss: 1.1001 Current learning rate: 0.0001\n"
     ]
    },
    {
     "name": "stderr",
     "output_type": "stream",
     "text": [
      "Training Epoch 57: 100%|██████████| 17804/17804 [01:22<00:00, 216.56it/s]\n"
     ]
    },
    {
     "name": "stdout",
     "output_type": "stream",
     "text": [
      "Epoch 57/300 | Train Loss: 1.1574 | Val Loss: 1.1047 Current learning rate: 0.0001\n",
      "EarlyStopping counter: 1 out of 20\n"
     ]
    },
    {
     "name": "stderr",
     "output_type": "stream",
     "text": [
      "Training Epoch 58: 100%|██████████| 17804/17804 [01:22<00:00, 216.61it/s]\n"
     ]
    },
    {
     "name": "stdout",
     "output_type": "stream",
     "text": [
      "Epoch 58/300 | Train Loss: 1.1560 | Val Loss: 1.0993 Current learning rate: 0.0001\n"
     ]
    },
    {
     "name": "stderr",
     "output_type": "stream",
     "text": [
      "Training Epoch 59: 100%|██████████| 17804/17804 [01:22<00:00, 216.36it/s]\n"
     ]
    },
    {
     "name": "stdout",
     "output_type": "stream",
     "text": [
      "Epoch 59/300 | Train Loss: 1.1541 | Val Loss: 1.0998 Current learning rate: 0.0001\n",
      "EarlyStopping counter: 1 out of 20\n"
     ]
    },
    {
     "name": "stderr",
     "output_type": "stream",
     "text": [
      "Training Epoch 60: 100%|██████████| 17804/17804 [01:22<00:00, 216.73it/s]\n"
     ]
    },
    {
     "name": "stdout",
     "output_type": "stream",
     "text": [
      "Epoch 60/300 | Train Loss: 1.1529 | Val Loss: 1.1030 Current learning rate: 0.0001\n",
      "EarlyStopping counter: 2 out of 20\n"
     ]
    },
    {
     "name": "stderr",
     "output_type": "stream",
     "text": [
      "Training Epoch 61: 100%|██████████| 17804/17804 [01:21<00:00, 217.20it/s]\n"
     ]
    },
    {
     "name": "stdout",
     "output_type": "stream",
     "text": [
      "Epoch 61/300 | Train Loss: 1.1506 | Val Loss: 1.0989 Current learning rate: 0.0001\n"
     ]
    },
    {
     "name": "stderr",
     "output_type": "stream",
     "text": [
      "Training Epoch 62: 100%|██████████| 17804/17804 [01:22<00:00, 216.73it/s]\n"
     ]
    },
    {
     "name": "stdout",
     "output_type": "stream",
     "text": [
      "Epoch 62/300 | Train Loss: 1.1492 | Val Loss: 1.1038 Current learning rate: 0.0001\n",
      "EarlyStopping counter: 1 out of 20\n"
     ]
    },
    {
     "name": "stderr",
     "output_type": "stream",
     "text": [
      "Training Epoch 63: 100%|██████████| 17804/17804 [01:22<00:00, 216.81it/s]\n"
     ]
    },
    {
     "name": "stdout",
     "output_type": "stream",
     "text": [
      "Epoch 63/300 | Train Loss: 1.1480 | Val Loss: 1.0990 Current learning rate: 0.0001\n",
      "EarlyStopping counter: 2 out of 20\n"
     ]
    },
    {
     "name": "stderr",
     "output_type": "stream",
     "text": [
      "Training Epoch 64: 100%|██████████| 17804/17804 [01:22<00:00, 216.50it/s]\n"
     ]
    },
    {
     "name": "stdout",
     "output_type": "stream",
     "text": [
      "Epoch 64/300 | Train Loss: 1.1463 | Val Loss: 1.1006 Current learning rate: 0.0001\n",
      "EarlyStopping counter: 3 out of 20\n"
     ]
    },
    {
     "name": "stderr",
     "output_type": "stream",
     "text": [
      "Training Epoch 65: 100%|██████████| 17804/17804 [01:22<00:00, 216.78it/s]\n"
     ]
    },
    {
     "name": "stdout",
     "output_type": "stream",
     "text": [
      "Epoch 65/300 | Train Loss: 1.1444 | Val Loss: 1.1078 Current learning rate: 0.0001\n",
      "EarlyStopping counter: 4 out of 20\n"
     ]
    },
    {
     "name": "stderr",
     "output_type": "stream",
     "text": [
      "Training Epoch 66: 100%|██████████| 17804/17804 [01:22<00:00, 216.70it/s]\n"
     ]
    },
    {
     "name": "stdout",
     "output_type": "stream",
     "text": [
      "Epoch 66/300 | Train Loss: 1.1442 | Val Loss: 1.1014 Current learning rate: 0.0001\n",
      "EarlyStopping counter: 5 out of 20\n"
     ]
    },
    {
     "name": "stderr",
     "output_type": "stream",
     "text": [
      "Training Epoch 67: 100%|██████████| 17804/17804 [01:22<00:00, 216.64it/s]\n"
     ]
    },
    {
     "name": "stdout",
     "output_type": "stream",
     "text": [
      "Epoch 67/300 | Train Loss: 1.1427 | Val Loss: 1.0961 Current learning rate: 0.0001\n"
     ]
    },
    {
     "name": "stderr",
     "output_type": "stream",
     "text": [
      "Training Epoch 68: 100%|██████████| 17804/17804 [01:22<00:00, 216.84it/s]\n"
     ]
    },
    {
     "name": "stdout",
     "output_type": "stream",
     "text": [
      "Epoch 68/300 | Train Loss: 1.1429 | Val Loss: 1.0957 Current learning rate: 0.0001\n"
     ]
    },
    {
     "name": "stderr",
     "output_type": "stream",
     "text": [
      "Training Epoch 69: 100%|██████████| 17804/17804 [01:22<00:00, 216.99it/s]\n"
     ]
    },
    {
     "name": "stdout",
     "output_type": "stream",
     "text": [
      "Epoch 69/300 | Train Loss: 1.1394 | Val Loss: 1.0947 Current learning rate: 0.0001\n"
     ]
    },
    {
     "name": "stderr",
     "output_type": "stream",
     "text": [
      "Training Epoch 70: 100%|██████████| 17804/17804 [01:22<00:00, 215.40it/s]\n"
     ]
    },
    {
     "name": "stdout",
     "output_type": "stream",
     "text": [
      "Epoch 70/300 | Train Loss: 1.1403 | Val Loss: 1.0976 Current learning rate: 0.0001\n",
      "EarlyStopping counter: 1 out of 20\n"
     ]
    },
    {
     "name": "stderr",
     "output_type": "stream",
     "text": [
      "Training Epoch 71: 100%|██████████| 17804/17804 [01:22<00:00, 216.62it/s]\n"
     ]
    },
    {
     "name": "stdout",
     "output_type": "stream",
     "text": [
      "Epoch 71/300 | Train Loss: 1.1381 | Val Loss: 1.1021 Current learning rate: 0.0001\n",
      "EarlyStopping counter: 2 out of 20\n"
     ]
    },
    {
     "name": "stderr",
     "output_type": "stream",
     "text": [
      "Training Epoch 72: 100%|██████████| 17804/17804 [01:22<00:00, 216.35it/s]\n"
     ]
    },
    {
     "name": "stdout",
     "output_type": "stream",
     "text": [
      "Epoch 72/300 | Train Loss: 1.1370 | Val Loss: 1.0928 Current learning rate: 0.0001\n"
     ]
    },
    {
     "name": "stderr",
     "output_type": "stream",
     "text": [
      "Training Epoch 73: 100%|██████████| 17804/17804 [01:22<00:00, 216.89it/s]\n"
     ]
    },
    {
     "name": "stdout",
     "output_type": "stream",
     "text": [
      "Epoch 73/300 | Train Loss: 1.1363 | Val Loss: 1.0978 Current learning rate: 0.0001\n",
      "EarlyStopping counter: 1 out of 20\n"
     ]
    },
    {
     "name": "stderr",
     "output_type": "stream",
     "text": [
      "Training Epoch 74: 100%|██████████| 17804/17804 [01:22<00:00, 216.51it/s]\n"
     ]
    },
    {
     "name": "stdout",
     "output_type": "stream",
     "text": [
      "Epoch 74/300 | Train Loss: 1.1342 | Val Loss: 1.0834 Current learning rate: 0.0001\n"
     ]
    },
    {
     "name": "stderr",
     "output_type": "stream",
     "text": [
      "Training Epoch 75: 100%|██████████| 17804/17804 [01:22<00:00, 216.30it/s]\n"
     ]
    },
    {
     "name": "stdout",
     "output_type": "stream",
     "text": [
      "Epoch 75/300 | Train Loss: 1.1346 | Val Loss: 1.0904 Current learning rate: 0.0001\n",
      "EarlyStopping counter: 1 out of 20\n"
     ]
    },
    {
     "name": "stderr",
     "output_type": "stream",
     "text": [
      "Training Epoch 76: 100%|██████████| 17804/17804 [01:22<00:00, 216.86it/s]\n"
     ]
    },
    {
     "name": "stdout",
     "output_type": "stream",
     "text": [
      "Epoch 76/300 | Train Loss: 1.1321 | Val Loss: 1.0871 Current learning rate: 0.0001\n",
      "EarlyStopping counter: 2 out of 20\n"
     ]
    },
    {
     "name": "stderr",
     "output_type": "stream",
     "text": [
      "Training Epoch 77: 100%|██████████| 17804/17804 [01:22<00:00, 216.73it/s]\n"
     ]
    },
    {
     "name": "stdout",
     "output_type": "stream",
     "text": [
      "Epoch 77/300 | Train Loss: 1.1329 | Val Loss: 1.0885 Current learning rate: 0.0001\n",
      "EarlyStopping counter: 3 out of 20\n"
     ]
    },
    {
     "name": "stderr",
     "output_type": "stream",
     "text": [
      "Training Epoch 78: 100%|██████████| 17804/17804 [01:22<00:00, 216.73it/s]\n"
     ]
    },
    {
     "name": "stdout",
     "output_type": "stream",
     "text": [
      "Epoch 78/300 | Train Loss: 1.1302 | Val Loss: 1.0927 Current learning rate: 0.0001\n",
      "EarlyStopping counter: 4 out of 20\n"
     ]
    },
    {
     "name": "stderr",
     "output_type": "stream",
     "text": [
      "Training Epoch 79: 100%|██████████| 17804/17804 [01:22<00:00, 216.35it/s]\n"
     ]
    },
    {
     "name": "stdout",
     "output_type": "stream",
     "text": [
      "Epoch 79/300 | Train Loss: 1.1301 | Val Loss: 1.0973 Current learning rate: 0.0001\n",
      "EarlyStopping counter: 5 out of 20\n"
     ]
    },
    {
     "name": "stderr",
     "output_type": "stream",
     "text": [
      "Training Epoch 80: 100%|██████████| 17804/17804 [01:22<00:00, 216.82it/s]\n"
     ]
    },
    {
     "name": "stdout",
     "output_type": "stream",
     "text": [
      "Epoch 80/300 | Train Loss: 1.1281 | Val Loss: 1.0895 Current learning rate: 0.0001\n",
      "EarlyStopping counter: 6 out of 20\n"
     ]
    },
    {
     "name": "stderr",
     "output_type": "stream",
     "text": [
      "Training Epoch 81: 100%|██████████| 17804/17804 [01:21<00:00, 217.21it/s]\n"
     ]
    },
    {
     "name": "stdout",
     "output_type": "stream",
     "text": [
      "Epoch 81/300 | Train Loss: 1.1277 | Val Loss: 1.0939 Current learning rate: 0.0001\n",
      "EarlyStopping counter: 7 out of 20\n"
     ]
    },
    {
     "name": "stderr",
     "output_type": "stream",
     "text": [
      "Training Epoch 82: 100%|██████████| 17804/17804 [01:22<00:00, 216.91it/s]\n"
     ]
    },
    {
     "name": "stdout",
     "output_type": "stream",
     "text": [
      "Epoch 82/300 | Train Loss: 1.1259 | Val Loss: 1.0882 Current learning rate: 0.0001\n",
      "EarlyStopping counter: 8 out of 20\n"
     ]
    },
    {
     "name": "stderr",
     "output_type": "stream",
     "text": [
      "Training Epoch 83: 100%|██████████| 17804/17804 [01:22<00:00, 216.69it/s]\n"
     ]
    },
    {
     "name": "stdout",
     "output_type": "stream",
     "text": [
      "Epoch 83/300 | Train Loss: 1.1260 | Val Loss: 1.0807 Current learning rate: 0.0001\n"
     ]
    },
    {
     "name": "stderr",
     "output_type": "stream",
     "text": [
      "Training Epoch 84: 100%|██████████| 17804/17804 [01:22<00:00, 215.85it/s]\n"
     ]
    },
    {
     "name": "stdout",
     "output_type": "stream",
     "text": [
      "Epoch 84/300 | Train Loss: 1.1263 | Val Loss: 1.0819 Current learning rate: 0.0001\n",
      "EarlyStopping counter: 1 out of 20\n"
     ]
    },
    {
     "name": "stderr",
     "output_type": "stream",
     "text": [
      "Training Epoch 85: 100%|██████████| 17804/17804 [01:22<00:00, 216.18it/s]\n"
     ]
    },
    {
     "name": "stdout",
     "output_type": "stream",
     "text": [
      "Epoch 85/300 | Train Loss: 1.1243 | Val Loss: 1.0787 Current learning rate: 0.0001\n"
     ]
    },
    {
     "name": "stderr",
     "output_type": "stream",
     "text": [
      "Training Epoch 86: 100%|██████████| 17804/17804 [01:22<00:00, 217.02it/s]\n"
     ]
    },
    {
     "name": "stdout",
     "output_type": "stream",
     "text": [
      "Epoch 86/300 | Train Loss: 1.1240 | Val Loss: 1.0785 Current learning rate: 0.0001\n"
     ]
    },
    {
     "name": "stderr",
     "output_type": "stream",
     "text": [
      "Training Epoch 87: 100%|██████████| 17804/17804 [01:22<00:00, 216.84it/s]\n"
     ]
    },
    {
     "name": "stdout",
     "output_type": "stream",
     "text": [
      "Epoch 87/300 | Train Loss: 1.1230 | Val Loss: 1.0755 Current learning rate: 0.0001\n"
     ]
    },
    {
     "name": "stderr",
     "output_type": "stream",
     "text": [
      "Training Epoch 88: 100%|██████████| 17804/17804 [01:21<00:00, 217.27it/s]\n"
     ]
    },
    {
     "name": "stdout",
     "output_type": "stream",
     "text": [
      "Epoch 88/300 | Train Loss: 1.1232 | Val Loss: 1.0808 Current learning rate: 0.0001\n",
      "EarlyStopping counter: 1 out of 20\n"
     ]
    },
    {
     "name": "stderr",
     "output_type": "stream",
     "text": [
      "Training Epoch 89: 100%|██████████| 17804/17804 [01:22<00:00, 217.07it/s]\n"
     ]
    },
    {
     "name": "stdout",
     "output_type": "stream",
     "text": [
      "Epoch 89/300 | Train Loss: 1.1223 | Val Loss: 1.0919 Current learning rate: 0.0001\n",
      "EarlyStopping counter: 2 out of 20\n"
     ]
    },
    {
     "name": "stderr",
     "output_type": "stream",
     "text": [
      "Training Epoch 90: 100%|██████████| 17804/17804 [01:21<00:00, 217.36it/s]\n"
     ]
    },
    {
     "name": "stdout",
     "output_type": "stream",
     "text": [
      "Epoch 90/300 | Train Loss: 1.1208 | Val Loss: 1.0809 Current learning rate: 0.0001\n",
      "EarlyStopping counter: 3 out of 20\n"
     ]
    },
    {
     "name": "stderr",
     "output_type": "stream",
     "text": [
      "Training Epoch 91: 100%|██████████| 17804/17804 [01:22<00:00, 216.93it/s]\n"
     ]
    },
    {
     "name": "stdout",
     "output_type": "stream",
     "text": [
      "Epoch 91/300 | Train Loss: 1.1195 | Val Loss: 1.1030 Current learning rate: 0.0001\n",
      "EarlyStopping counter: 4 out of 20\n"
     ]
    },
    {
     "name": "stderr",
     "output_type": "stream",
     "text": [
      "Training Epoch 92: 100%|██████████| 17804/17804 [01:21<00:00, 217.60it/s]\n"
     ]
    },
    {
     "name": "stdout",
     "output_type": "stream",
     "text": [
      "Epoch 92/300 | Train Loss: 1.1187 | Val Loss: 1.0795 Current learning rate: 0.0001\n",
      "EarlyStopping counter: 5 out of 20\n"
     ]
    },
    {
     "name": "stderr",
     "output_type": "stream",
     "text": [
      "Training Epoch 93: 100%|██████████| 17804/17804 [01:21<00:00, 217.33it/s]\n"
     ]
    },
    {
     "name": "stdout",
     "output_type": "stream",
     "text": [
      "Epoch 93/300 | Train Loss: 1.1177 | Val Loss: 1.0798 Current learning rate: 0.0001\n",
      "EarlyStopping counter: 6 out of 20\n"
     ]
    },
    {
     "name": "stderr",
     "output_type": "stream",
     "text": [
      "Training Epoch 94: 100%|██████████| 17804/17804 [01:21<00:00, 217.33it/s]\n"
     ]
    },
    {
     "name": "stdout",
     "output_type": "stream",
     "text": [
      "Epoch 94/300 | Train Loss: 1.1181 | Val Loss: 1.0773 Current learning rate: 0.0001\n",
      "EarlyStopping counter: 7 out of 20\n"
     ]
    },
    {
     "name": "stderr",
     "output_type": "stream",
     "text": [
      "Training Epoch 95: 100%|██████████| 17804/17804 [01:22<00:00, 217.10it/s]\n"
     ]
    },
    {
     "name": "stdout",
     "output_type": "stream",
     "text": [
      "Epoch 95/300 | Train Loss: 1.1179 | Val Loss: 1.0808 Current learning rate: 0.0001\n",
      "EarlyStopping counter: 8 out of 20\n"
     ]
    },
    {
     "name": "stderr",
     "output_type": "stream",
     "text": [
      "Training Epoch 96: 100%|██████████| 17804/17804 [01:22<00:00, 216.90it/s]\n"
     ]
    },
    {
     "name": "stdout",
     "output_type": "stream",
     "text": [
      "Epoch 96/300 | Train Loss: 1.1160 | Val Loss: 1.0685 Current learning rate: 0.0001\n"
     ]
    },
    {
     "name": "stderr",
     "output_type": "stream",
     "text": [
      "Training Epoch 97: 100%|██████████| 17804/17804 [01:21<00:00, 217.19it/s]\n"
     ]
    },
    {
     "name": "stdout",
     "output_type": "stream",
     "text": [
      "Epoch 97/300 | Train Loss: 1.1141 | Val Loss: 1.0678 Current learning rate: 0.0001\n"
     ]
    },
    {
     "name": "stderr",
     "output_type": "stream",
     "text": [
      "Training Epoch 98: 100%|██████████| 17804/17804 [01:21<00:00, 217.19it/s]\n"
     ]
    },
    {
     "name": "stdout",
     "output_type": "stream",
     "text": [
      "Epoch 98/300 | Train Loss: 1.1141 | Val Loss: 1.0832 Current learning rate: 0.0001\n",
      "EarlyStopping counter: 1 out of 20\n"
     ]
    },
    {
     "name": "stderr",
     "output_type": "stream",
     "text": [
      "Training Epoch 99: 100%|██████████| 17804/17804 [01:22<00:00, 217.02it/s]\n"
     ]
    },
    {
     "name": "stdout",
     "output_type": "stream",
     "text": [
      "Epoch 99/300 | Train Loss: 1.1138 | Val Loss: 1.0741 Current learning rate: 0.0001\n",
      "EarlyStopping counter: 2 out of 20\n"
     ]
    },
    {
     "name": "stderr",
     "output_type": "stream",
     "text": [
      "Training Epoch 100: 100%|██████████| 17804/17804 [01:21<00:00, 217.60it/s]\n"
     ]
    },
    {
     "name": "stdout",
     "output_type": "stream",
     "text": [
      "Epoch 100/300 | Train Loss: 1.1125 | Val Loss: 1.0921 Current learning rate: 0.0001\n",
      "EarlyStopping counter: 3 out of 20\n"
     ]
    },
    {
     "name": "stderr",
     "output_type": "stream",
     "text": [
      "Training Epoch 101: 100%|██████████| 17804/17804 [01:21<00:00, 217.33it/s]\n"
     ]
    },
    {
     "name": "stdout",
     "output_type": "stream",
     "text": [
      "Epoch 101/300 | Train Loss: 1.1130 | Val Loss: 1.0796 Current learning rate: 0.0001\n",
      "EarlyStopping counter: 4 out of 20\n"
     ]
    },
    {
     "name": "stderr",
     "output_type": "stream",
     "text": [
      "Training Epoch 102: 100%|██████████| 17804/17804 [01:21<00:00, 217.59it/s]\n"
     ]
    },
    {
     "name": "stdout",
     "output_type": "stream",
     "text": [
      "Epoch 102/300 | Train Loss: 1.1133 | Val Loss: 1.0741 Current learning rate: 0.0001\n",
      "EarlyStopping counter: 5 out of 20\n"
     ]
    },
    {
     "name": "stderr",
     "output_type": "stream",
     "text": [
      "Training Epoch 103: 100%|██████████| 17804/17804 [01:22<00:00, 217.06it/s]\n"
     ]
    },
    {
     "name": "stdout",
     "output_type": "stream",
     "text": [
      "Epoch 103/300 | Train Loss: 1.1126 | Val Loss: 1.0756 Current learning rate: 0.0001\n",
      "EarlyStopping counter: 6 out of 20\n"
     ]
    },
    {
     "name": "stderr",
     "output_type": "stream",
     "text": [
      "Training Epoch 104: 100%|██████████| 17804/17804 [01:21<00:00, 217.49it/s]\n"
     ]
    },
    {
     "name": "stdout",
     "output_type": "stream",
     "text": [
      "Epoch 104/300 | Train Loss: 1.1113 | Val Loss: 1.0772 Current learning rate: 0.0001\n",
      "EarlyStopping counter: 7 out of 20\n"
     ]
    },
    {
     "name": "stderr",
     "output_type": "stream",
     "text": [
      "Training Epoch 105: 100%|██████████| 17804/17804 [01:21<00:00, 217.27it/s]\n"
     ]
    },
    {
     "name": "stdout",
     "output_type": "stream",
     "text": [
      "Epoch 105/300 | Train Loss: 1.1100 | Val Loss: 1.0900 Current learning rate: 0.0001\n",
      "EarlyStopping counter: 8 out of 20\n"
     ]
    },
    {
     "name": "stderr",
     "output_type": "stream",
     "text": [
      "Training Epoch 106: 100%|██████████| 17804/17804 [01:22<00:00, 216.91it/s]\n"
     ]
    },
    {
     "name": "stdout",
     "output_type": "stream",
     "text": [
      "Epoch 106/300 | Train Loss: 1.1106 | Val Loss: 1.0713 Current learning rate: 0.0001\n",
      "EarlyStopping counter: 9 out of 20\n"
     ]
    },
    {
     "name": "stderr",
     "output_type": "stream",
     "text": [
      "Training Epoch 107: 100%|██████████| 17804/17804 [01:21<00:00, 217.38it/s]\n"
     ]
    },
    {
     "name": "stdout",
     "output_type": "stream",
     "text": [
      "Epoch 107/300 | Train Loss: 1.1109 | Val Loss: 1.0884 Current learning rate: 0.0001\n",
      "EarlyStopping counter: 10 out of 20\n"
     ]
    },
    {
     "name": "stderr",
     "output_type": "stream",
     "text": [
      "Training Epoch 108: 100%|██████████| 17804/17804 [01:21<00:00, 217.31it/s]\n"
     ]
    },
    {
     "name": "stdout",
     "output_type": "stream",
     "text": [
      "Epoch 108/300 | Train Loss: 1.1085 | Val Loss: 1.0700 Current learning rate: 0.0001\n",
      "EarlyStopping counter: 11 out of 20\n"
     ]
    },
    {
     "name": "stderr",
     "output_type": "stream",
     "text": [
      "Training Epoch 109: 100%|██████████| 17804/17804 [01:21<00:00, 217.30it/s]\n"
     ]
    },
    {
     "name": "stdout",
     "output_type": "stream",
     "text": [
      "Epoch 109/300 | Train Loss: 1.1073 | Val Loss: 1.0639 Current learning rate: 0.0001\n"
     ]
    },
    {
     "name": "stderr",
     "output_type": "stream",
     "text": [
      "Training Epoch 110: 100%|██████████| 17804/17804 [01:22<00:00, 216.93it/s]\n"
     ]
    },
    {
     "name": "stdout",
     "output_type": "stream",
     "text": [
      "Epoch 110/300 | Train Loss: 1.1081 | Val Loss: 1.0686 Current learning rate: 0.0001\n",
      "EarlyStopping counter: 1 out of 20\n"
     ]
    },
    {
     "name": "stderr",
     "output_type": "stream",
     "text": [
      "Training Epoch 111: 100%|██████████| 17804/17804 [01:22<00:00, 217.09it/s]\n"
     ]
    },
    {
     "name": "stdout",
     "output_type": "stream",
     "text": [
      "Epoch 111/300 | Train Loss: 1.1076 | Val Loss: 1.0742 Current learning rate: 0.0001\n",
      "EarlyStopping counter: 2 out of 20\n"
     ]
    },
    {
     "name": "stderr",
     "output_type": "stream",
     "text": [
      "Training Epoch 112: 100%|██████████| 17804/17804 [01:21<00:00, 217.17it/s]\n"
     ]
    },
    {
     "name": "stdout",
     "output_type": "stream",
     "text": [
      "Epoch 112/300 | Train Loss: 1.1066 | Val Loss: 1.0738 Current learning rate: 0.0001\n",
      "EarlyStopping counter: 3 out of 20\n"
     ]
    },
    {
     "name": "stderr",
     "output_type": "stream",
     "text": [
      "Training Epoch 113: 100%|██████████| 17804/17804 [01:21<00:00, 217.25it/s]\n"
     ]
    },
    {
     "name": "stdout",
     "output_type": "stream",
     "text": [
      "Epoch 113/300 | Train Loss: 1.1068 | Val Loss: 1.0625 Current learning rate: 0.0001\n"
     ]
    },
    {
     "name": "stderr",
     "output_type": "stream",
     "text": [
      "Training Epoch 114: 100%|██████████| 17804/17804 [01:21<00:00, 217.16it/s]\n"
     ]
    },
    {
     "name": "stdout",
     "output_type": "stream",
     "text": [
      "Epoch 114/300 | Train Loss: 1.1069 | Val Loss: 1.0736 Current learning rate: 0.0001\n",
      "EarlyStopping counter: 1 out of 20\n"
     ]
    },
    {
     "name": "stderr",
     "output_type": "stream",
     "text": [
      "Training Epoch 115: 100%|██████████| 17804/17804 [01:21<00:00, 217.29it/s]\n"
     ]
    },
    {
     "name": "stdout",
     "output_type": "stream",
     "text": [
      "Epoch 115/300 | Train Loss: 1.1044 | Val Loss: 1.0735 Current learning rate: 0.0001\n",
      "EarlyStopping counter: 2 out of 20\n"
     ]
    },
    {
     "name": "stderr",
     "output_type": "stream",
     "text": [
      "Training Epoch 116: 100%|██████████| 17804/17804 [01:21<00:00, 217.81it/s]\n"
     ]
    },
    {
     "name": "stdout",
     "output_type": "stream",
     "text": [
      "Epoch 116/300 | Train Loss: 1.1039 | Val Loss: 1.0740 Current learning rate: 0.0001\n",
      "EarlyStopping counter: 3 out of 20\n"
     ]
    },
    {
     "name": "stderr",
     "output_type": "stream",
     "text": [
      "Training Epoch 117: 100%|██████████| 17804/17804 [01:22<00:00, 216.90it/s]\n"
     ]
    },
    {
     "name": "stdout",
     "output_type": "stream",
     "text": [
      "Epoch 117/300 | Train Loss: 1.1038 | Val Loss: 1.0679 Current learning rate: 0.0001\n",
      "EarlyStopping counter: 4 out of 20\n"
     ]
    },
    {
     "name": "stderr",
     "output_type": "stream",
     "text": [
      "Training Epoch 118: 100%|██████████| 17804/17804 [01:21<00:00, 217.17it/s]\n"
     ]
    },
    {
     "name": "stdout",
     "output_type": "stream",
     "text": [
      "Epoch 118/300 | Train Loss: 1.1040 | Val Loss: 1.0709 Current learning rate: 0.0001\n",
      "EarlyStopping counter: 5 out of 20\n"
     ]
    },
    {
     "name": "stderr",
     "output_type": "stream",
     "text": [
      "Training Epoch 119: 100%|██████████| 17804/17804 [01:21<00:00, 217.48it/s]\n"
     ]
    },
    {
     "name": "stdout",
     "output_type": "stream",
     "text": [
      "Epoch 119/300 | Train Loss: 1.1025 | Val Loss: 1.0622 Current learning rate: 0.0001\n"
     ]
    },
    {
     "name": "stderr",
     "output_type": "stream",
     "text": [
      "Training Epoch 120: 100%|██████████| 17804/17804 [01:21<00:00, 217.32it/s]\n"
     ]
    },
    {
     "name": "stdout",
     "output_type": "stream",
     "text": [
      "Epoch 120/300 | Train Loss: 1.1014 | Val Loss: 1.0585 Current learning rate: 0.0001\n"
     ]
    },
    {
     "name": "stderr",
     "output_type": "stream",
     "text": [
      "Training Epoch 121: 100%|██████████| 17804/17804 [01:21<00:00, 217.18it/s]\n"
     ]
    },
    {
     "name": "stdout",
     "output_type": "stream",
     "text": [
      "Epoch 121/300 | Train Loss: 1.1012 | Val Loss: 1.0580 Current learning rate: 0.0001\n"
     ]
    },
    {
     "name": "stderr",
     "output_type": "stream",
     "text": [
      "Training Epoch 122: 100%|██████████| 17804/17804 [01:22<00:00, 217.01it/s]\n"
     ]
    },
    {
     "name": "stdout",
     "output_type": "stream",
     "text": [
      "Epoch 122/300 | Train Loss: 1.1003 | Val Loss: 1.0661 Current learning rate: 0.0001\n",
      "EarlyStopping counter: 1 out of 20\n"
     ]
    },
    {
     "name": "stderr",
     "output_type": "stream",
     "text": [
      "Training Epoch 123: 100%|██████████| 17804/17804 [01:21<00:00, 217.14it/s]\n"
     ]
    },
    {
     "name": "stdout",
     "output_type": "stream",
     "text": [
      "Epoch 123/300 | Train Loss: 1.1008 | Val Loss: 1.0726 Current learning rate: 0.0001\n",
      "EarlyStopping counter: 2 out of 20\n"
     ]
    },
    {
     "name": "stderr",
     "output_type": "stream",
     "text": [
      "Training Epoch 124: 100%|██████████| 17804/17804 [01:21<00:00, 217.24it/s]\n"
     ]
    },
    {
     "name": "stdout",
     "output_type": "stream",
     "text": [
      "Epoch 124/300 | Train Loss: 1.0994 | Val Loss: 1.0841 Current learning rate: 0.0001\n",
      "EarlyStopping counter: 3 out of 20\n"
     ]
    },
    {
     "name": "stderr",
     "output_type": "stream",
     "text": [
      "Training Epoch 125: 100%|██████████| 17804/17804 [01:22<00:00, 217.02it/s]\n"
     ]
    },
    {
     "name": "stdout",
     "output_type": "stream",
     "text": [
      "Epoch 125/300 | Train Loss: 1.1003 | Val Loss: 1.0582 Current learning rate: 0.0001\n",
      "EarlyStopping counter: 4 out of 20\n"
     ]
    },
    {
     "name": "stderr",
     "output_type": "stream",
     "text": [
      "Training Epoch 126: 100%|██████████| 17804/17804 [01:22<00:00, 216.98it/s]\n"
     ]
    },
    {
     "name": "stdout",
     "output_type": "stream",
     "text": [
      "Epoch 126/300 | Train Loss: 1.0991 | Val Loss: 1.0943 Current learning rate: 0.0001\n",
      "EarlyStopping counter: 5 out of 20\n"
     ]
    },
    {
     "name": "stderr",
     "output_type": "stream",
     "text": [
      "Training Epoch 127: 100%|██████████| 17804/17804 [01:21<00:00, 217.14it/s]\n"
     ]
    },
    {
     "name": "stdout",
     "output_type": "stream",
     "text": [
      "Epoch 127/300 | Train Loss: 1.0987 | Val Loss: 1.0591 Current learning rate: 0.0001\n",
      "EarlyStopping counter: 6 out of 20\n"
     ]
    },
    {
     "name": "stderr",
     "output_type": "stream",
     "text": [
      "Training Epoch 128: 100%|██████████| 17804/17804 [01:22<00:00, 215.23it/s]\n"
     ]
    },
    {
     "name": "stdout",
     "output_type": "stream",
     "text": [
      "Epoch 128/300 | Train Loss: 1.0975 | Val Loss: 1.0682 Current learning rate: 0.0001\n",
      "EarlyStopping counter: 7 out of 20\n"
     ]
    },
    {
     "name": "stderr",
     "output_type": "stream",
     "text": [
      "Training Epoch 129: 100%|██████████| 17804/17804 [01:22<00:00, 216.06it/s]\n"
     ]
    },
    {
     "name": "stdout",
     "output_type": "stream",
     "text": [
      "Epoch 129/300 | Train Loss: 1.0990 | Val Loss: 1.0566 Current learning rate: 0.0001\n"
     ]
    },
    {
     "name": "stderr",
     "output_type": "stream",
     "text": [
      "Training Epoch 130: 100%|██████████| 17804/17804 [01:22<00:00, 216.54it/s]\n"
     ]
    },
    {
     "name": "stdout",
     "output_type": "stream",
     "text": [
      "Epoch 130/300 | Train Loss: 1.0974 | Val Loss: 1.0632 Current learning rate: 0.0001\n",
      "EarlyStopping counter: 1 out of 20\n"
     ]
    },
    {
     "name": "stderr",
     "output_type": "stream",
     "text": [
      "Training Epoch 131: 100%|██████████| 17804/17804 [01:22<00:00, 216.86it/s]\n"
     ]
    },
    {
     "name": "stdout",
     "output_type": "stream",
     "text": [
      "Epoch 131/300 | Train Loss: 1.0969 | Val Loss: 1.0545 Current learning rate: 0.0001\n"
     ]
    },
    {
     "name": "stderr",
     "output_type": "stream",
     "text": [
      "Training Epoch 132: 100%|██████████| 17804/17804 [01:22<00:00, 216.72it/s]\n"
     ]
    },
    {
     "name": "stdout",
     "output_type": "stream",
     "text": [
      "Epoch 132/300 | Train Loss: 1.0960 | Val Loss: 1.0603 Current learning rate: 0.0001\n",
      "EarlyStopping counter: 1 out of 20\n"
     ]
    },
    {
     "name": "stderr",
     "output_type": "stream",
     "text": [
      "Training Epoch 133: 100%|██████████| 17804/17804 [01:22<00:00, 217.10it/s]\n"
     ]
    },
    {
     "name": "stdout",
     "output_type": "stream",
     "text": [
      "Epoch 133/300 | Train Loss: 1.0977 | Val Loss: 1.0637 Current learning rate: 0.0001\n",
      "EarlyStopping counter: 2 out of 20\n"
     ]
    },
    {
     "name": "stderr",
     "output_type": "stream",
     "text": [
      "Training Epoch 134: 100%|██████████| 17804/17804 [01:22<00:00, 217.04it/s]\n"
     ]
    },
    {
     "name": "stdout",
     "output_type": "stream",
     "text": [
      "Epoch 134/300 | Train Loss: 1.0968 | Val Loss: 1.0724 Current learning rate: 0.0001\n",
      "EarlyStopping counter: 3 out of 20\n"
     ]
    },
    {
     "name": "stderr",
     "output_type": "stream",
     "text": [
      "Training Epoch 135: 100%|██████████| 17804/17804 [01:22<00:00, 216.74it/s]\n"
     ]
    },
    {
     "name": "stdout",
     "output_type": "stream",
     "text": [
      "Epoch 135/300 | Train Loss: 1.0949 | Val Loss: 1.0644 Current learning rate: 0.0001\n",
      "EarlyStopping counter: 4 out of 20\n"
     ]
    },
    {
     "name": "stderr",
     "output_type": "stream",
     "text": [
      "Training Epoch 136: 100%|██████████| 17804/17804 [01:22<00:00, 217.08it/s]\n"
     ]
    },
    {
     "name": "stdout",
     "output_type": "stream",
     "text": [
      "Epoch 136/300 | Train Loss: 1.0953 | Val Loss: 1.0559 Current learning rate: 0.0001\n",
      "EarlyStopping counter: 5 out of 20\n"
     ]
    },
    {
     "name": "stderr",
     "output_type": "stream",
     "text": [
      "Training Epoch 137: 100%|██████████| 17804/17804 [01:21<00:00, 217.27it/s]\n"
     ]
    },
    {
     "name": "stdout",
     "output_type": "stream",
     "text": [
      "Epoch 137/300 | Train Loss: 1.0942 | Val Loss: 1.0574 Current learning rate: 0.0001\n",
      "EarlyStopping counter: 6 out of 20\n"
     ]
    },
    {
     "name": "stderr",
     "output_type": "stream",
     "text": [
      "Training Epoch 138: 100%|██████████| 17804/17804 [01:21<00:00, 217.24it/s]\n"
     ]
    },
    {
     "name": "stdout",
     "output_type": "stream",
     "text": [
      "Epoch 138/300 | Train Loss: 1.0960 | Val Loss: 1.0577 Current learning rate: 0.0001\n",
      "EarlyStopping counter: 7 out of 20\n"
     ]
    },
    {
     "name": "stderr",
     "output_type": "stream",
     "text": [
      "Training Epoch 139: 100%|██████████| 17804/17804 [01:22<00:00, 217.10it/s]\n"
     ]
    },
    {
     "name": "stdout",
     "output_type": "stream",
     "text": [
      "Epoch 139/300 | Train Loss: 1.0935 | Val Loss: 1.0600 Current learning rate: 0.0001\n",
      "EarlyStopping counter: 8 out of 20\n"
     ]
    },
    {
     "name": "stderr",
     "output_type": "stream",
     "text": [
      "Training Epoch 140: 100%|██████████| 17804/17804 [01:22<00:00, 216.80it/s]\n"
     ]
    },
    {
     "name": "stdout",
     "output_type": "stream",
     "text": [
      "Epoch 140/300 | Train Loss: 1.0938 | Val Loss: 1.0519 Current learning rate: 0.0001\n"
     ]
    },
    {
     "name": "stderr",
     "output_type": "stream",
     "text": [
      "Training Epoch 141: 100%|██████████| 17804/17804 [01:22<00:00, 216.55it/s]\n"
     ]
    },
    {
     "name": "stdout",
     "output_type": "stream",
     "text": [
      "Epoch 141/300 | Train Loss: 1.0918 | Val Loss: 1.0536 Current learning rate: 0.0001\n",
      "EarlyStopping counter: 1 out of 20\n"
     ]
    },
    {
     "name": "stderr",
     "output_type": "stream",
     "text": [
      "Training Epoch 142: 100%|██████████| 17804/17804 [01:22<00:00, 216.67it/s]\n"
     ]
    },
    {
     "name": "stdout",
     "output_type": "stream",
     "text": [
      "Epoch 142/300 | Train Loss: 1.0923 | Val Loss: 1.0628 Current learning rate: 0.0001\n",
      "EarlyStopping counter: 2 out of 20\n"
     ]
    },
    {
     "name": "stderr",
     "output_type": "stream",
     "text": [
      "Training Epoch 143: 100%|██████████| 17804/17804 [01:22<00:00, 216.80it/s]\n"
     ]
    },
    {
     "name": "stdout",
     "output_type": "stream",
     "text": [
      "Epoch 143/300 | Train Loss: 1.0912 | Val Loss: 1.0607 Current learning rate: 0.0001\n",
      "EarlyStopping counter: 3 out of 20\n"
     ]
    },
    {
     "name": "stderr",
     "output_type": "stream",
     "text": [
      "Training Epoch 144: 100%|██████████| 17804/17804 [01:22<00:00, 216.93it/s]\n"
     ]
    },
    {
     "name": "stdout",
     "output_type": "stream",
     "text": [
      "Epoch 144/300 | Train Loss: 1.0935 | Val Loss: 1.0625 Current learning rate: 0.0001\n",
      "EarlyStopping counter: 4 out of 20\n"
     ]
    },
    {
     "name": "stderr",
     "output_type": "stream",
     "text": [
      "Training Epoch 145: 100%|██████████| 17804/17804 [01:22<00:00, 216.60it/s]\n"
     ]
    },
    {
     "name": "stdout",
     "output_type": "stream",
     "text": [
      "Epoch 145/300 | Train Loss: 1.0932 | Val Loss: 1.0551 Current learning rate: 0.0001\n",
      "EarlyStopping counter: 5 out of 20\n"
     ]
    },
    {
     "name": "stderr",
     "output_type": "stream",
     "text": [
      "Training Epoch 146: 100%|██████████| 17804/17804 [01:22<00:00, 216.64it/s]\n"
     ]
    },
    {
     "name": "stdout",
     "output_type": "stream",
     "text": [
      "Epoch 146/300 | Train Loss: 1.0902 | Val Loss: 1.0556 Current learning rate: 0.0001\n",
      "EarlyStopping counter: 6 out of 20\n"
     ]
    },
    {
     "name": "stderr",
     "output_type": "stream",
     "text": [
      "Training Epoch 147: 100%|██████████| 17804/17804 [01:22<00:00, 216.83it/s]\n"
     ]
    },
    {
     "name": "stdout",
     "output_type": "stream",
     "text": [
      "Epoch 147/300 | Train Loss: 1.0920 | Val Loss: 1.0508 Current learning rate: 0.0001\n"
     ]
    },
    {
     "name": "stderr",
     "output_type": "stream",
     "text": [
      "Training Epoch 148: 100%|██████████| 17804/17804 [01:22<00:00, 216.86it/s]\n"
     ]
    },
    {
     "name": "stdout",
     "output_type": "stream",
     "text": [
      "Epoch 148/300 | Train Loss: 1.0905 | Val Loss: 1.0474 Current learning rate: 0.0001\n"
     ]
    },
    {
     "name": "stderr",
     "output_type": "stream",
     "text": [
      "Training Epoch 149: 100%|██████████| 17804/17804 [01:22<00:00, 216.60it/s]\n"
     ]
    },
    {
     "name": "stdout",
     "output_type": "stream",
     "text": [
      "Epoch 149/300 | Train Loss: 1.0913 | Val Loss: 1.0463 Current learning rate: 0.0001\n"
     ]
    },
    {
     "name": "stderr",
     "output_type": "stream",
     "text": [
      "Training Epoch 150: 100%|██████████| 17804/17804 [01:22<00:00, 216.37it/s]\n"
     ]
    },
    {
     "name": "stdout",
     "output_type": "stream",
     "text": [
      "Epoch 150/300 | Train Loss: 1.0913 | Val Loss: 1.0558 Current learning rate: 0.0001\n",
      "EarlyStopping counter: 1 out of 20\n"
     ]
    },
    {
     "name": "stderr",
     "output_type": "stream",
     "text": [
      "Training Epoch 151: 100%|██████████| 17804/17804 [01:22<00:00, 217.08it/s]\n"
     ]
    },
    {
     "name": "stdout",
     "output_type": "stream",
     "text": [
      "Epoch 151/300 | Train Loss: 1.0887 | Val Loss: 1.0516 Current learning rate: 0.0001\n",
      "EarlyStopping counter: 2 out of 20\n"
     ]
    },
    {
     "name": "stderr",
     "output_type": "stream",
     "text": [
      "Training Epoch 152: 100%|██████████| 17804/17804 [01:22<00:00, 217.00it/s]\n"
     ]
    },
    {
     "name": "stdout",
     "output_type": "stream",
     "text": [
      "Epoch 152/300 | Train Loss: 1.0876 | Val Loss: 1.0482 Current learning rate: 0.0001\n",
      "EarlyStopping counter: 3 out of 20\n"
     ]
    },
    {
     "name": "stderr",
     "output_type": "stream",
     "text": [
      "Training Epoch 153: 100%|██████████| 17804/17804 [01:22<00:00, 216.71it/s]\n"
     ]
    },
    {
     "name": "stdout",
     "output_type": "stream",
     "text": [
      "Epoch 153/300 | Train Loss: 1.0893 | Val Loss: 1.0636 Current learning rate: 0.0001\n",
      "EarlyStopping counter: 4 out of 20\n"
     ]
    },
    {
     "name": "stderr",
     "output_type": "stream",
     "text": [
      "Training Epoch 154: 100%|██████████| 17804/17804 [01:22<00:00, 217.08it/s]\n"
     ]
    },
    {
     "name": "stdout",
     "output_type": "stream",
     "text": [
      "Epoch 154/300 | Train Loss: 1.0871 | Val Loss: 1.0693 Current learning rate: 0.0001\n",
      "EarlyStopping counter: 5 out of 20\n"
     ]
    },
    {
     "name": "stderr",
     "output_type": "stream",
     "text": [
      "Training Epoch 155: 100%|██████████| 17804/17804 [01:22<00:00, 217.05it/s]\n"
     ]
    },
    {
     "name": "stdout",
     "output_type": "stream",
     "text": [
      "Epoch 155/300 | Train Loss: 1.0873 | Val Loss: 1.0557 Current learning rate: 0.0001\n",
      "EarlyStopping counter: 6 out of 20\n"
     ]
    },
    {
     "name": "stderr",
     "output_type": "stream",
     "text": [
      "Training Epoch 156: 100%|██████████| 17804/17804 [01:22<00:00, 216.94it/s]\n"
     ]
    },
    {
     "name": "stdout",
     "output_type": "stream",
     "text": [
      "Epoch 156/300 | Train Loss: 1.0877 | Val Loss: 1.0618 Current learning rate: 0.0001\n",
      "EarlyStopping counter: 7 out of 20\n"
     ]
    },
    {
     "name": "stderr",
     "output_type": "stream",
     "text": [
      "Training Epoch 157: 100%|██████████| 17804/17804 [01:22<00:00, 216.55it/s]\n"
     ]
    },
    {
     "name": "stdout",
     "output_type": "stream",
     "text": [
      "Epoch 157/300 | Train Loss: 1.0877 | Val Loss: 1.0605 Current learning rate: 0.0001\n",
      "EarlyStopping counter: 8 out of 20\n"
     ]
    },
    {
     "name": "stderr",
     "output_type": "stream",
     "text": [
      "Training Epoch 158: 100%|██████████| 17804/17804 [01:22<00:00, 216.71it/s]\n"
     ]
    },
    {
     "name": "stdout",
     "output_type": "stream",
     "text": [
      "Epoch 158/300 | Train Loss: 1.0860 | Val Loss: 1.0494 Current learning rate: 0.0001\n",
      "EarlyStopping counter: 9 out of 20\n"
     ]
    },
    {
     "name": "stderr",
     "output_type": "stream",
     "text": [
      "Training Epoch 159: 100%|██████████| 17804/17804 [01:22<00:00, 217.04it/s]\n"
     ]
    },
    {
     "name": "stdout",
     "output_type": "stream",
     "text": [
      "Epoch 159/300 | Train Loss: 1.0861 | Val Loss: 1.0518 Current learning rate: 0.0001\n",
      "EarlyStopping counter: 10 out of 20\n"
     ]
    },
    {
     "name": "stderr",
     "output_type": "stream",
     "text": [
      "Training Epoch 160: 100%|██████████| 17804/17804 [01:22<00:00, 216.96it/s]\n"
     ]
    },
    {
     "name": "stdout",
     "output_type": "stream",
     "text": [
      "Epoch 160/300 | Train Loss: 1.0867 | Val Loss: 1.0525 Current learning rate: 0.0001\n",
      "EarlyStopping counter: 11 out of 20\n"
     ]
    },
    {
     "name": "stderr",
     "output_type": "stream",
     "text": [
      "Training Epoch 161: 100%|██████████| 17804/17804 [01:22<00:00, 216.47it/s]\n"
     ]
    },
    {
     "name": "stdout",
     "output_type": "stream",
     "text": [
      "Epoch 161/300 | Train Loss: 1.0851 | Val Loss: 1.0513 Current learning rate: 0.0001\n",
      "EarlyStopping counter: 12 out of 20\n"
     ]
    },
    {
     "name": "stderr",
     "output_type": "stream",
     "text": [
      "Training Epoch 162: 100%|██████████| 17804/17804 [01:22<00:00, 216.62it/s]\n"
     ]
    },
    {
     "name": "stdout",
     "output_type": "stream",
     "text": [
      "Epoch 162/300 | Train Loss: 1.0855 | Val Loss: 1.0498 Current learning rate: 0.0001\n",
      "EarlyStopping counter: 13 out of 20\n"
     ]
    },
    {
     "name": "stderr",
     "output_type": "stream",
     "text": [
      "Training Epoch 163: 100%|██████████| 17804/17804 [01:22<00:00, 216.99it/s]\n"
     ]
    },
    {
     "name": "stdout",
     "output_type": "stream",
     "text": [
      "Epoch 163/300 | Train Loss: 1.0848 | Val Loss: 1.0527 Current learning rate: 0.0001\n",
      "EarlyStopping counter: 14 out of 20\n"
     ]
    },
    {
     "name": "stderr",
     "output_type": "stream",
     "text": [
      "Training Epoch 164: 100%|██████████| 17804/17804 [01:22<00:00, 216.84it/s]\n"
     ]
    },
    {
     "name": "stdout",
     "output_type": "stream",
     "text": [
      "Epoch 164/300 | Train Loss: 1.0849 | Val Loss: 1.0486 Current learning rate: 0.0001\n",
      "EarlyStopping counter: 15 out of 20\n"
     ]
    },
    {
     "name": "stderr",
     "output_type": "stream",
     "text": [
      "Training Epoch 165: 100%|██████████| 17804/17804 [01:22<00:00, 216.73it/s]\n"
     ]
    },
    {
     "name": "stdout",
     "output_type": "stream",
     "text": [
      "Epoch 165/300 | Train Loss: 1.0857 | Val Loss: 1.0486 Current learning rate: 0.0001\n",
      "EarlyStopping counter: 16 out of 20\n"
     ]
    },
    {
     "name": "stderr",
     "output_type": "stream",
     "text": [
      "Training Epoch 166: 100%|██████████| 17804/17804 [01:22<00:00, 216.97it/s]\n"
     ]
    },
    {
     "name": "stdout",
     "output_type": "stream",
     "text": [
      "Epoch 166/300 | Train Loss: 1.0839 | Val Loss: 1.0556 Current learning rate: 0.0001\n",
      "EarlyStopping counter: 17 out of 20\n"
     ]
    },
    {
     "name": "stderr",
     "output_type": "stream",
     "text": [
      "Training Epoch 167: 100%|██████████| 17804/17804 [01:22<00:00, 217.07it/s]\n"
     ]
    },
    {
     "name": "stdout",
     "output_type": "stream",
     "text": [
      "Epoch 167/300 | Train Loss: 1.0841 | Val Loss: 1.0556 Current learning rate: 0.0001\n",
      "EarlyStopping counter: 18 out of 20\n"
     ]
    },
    {
     "name": "stderr",
     "output_type": "stream",
     "text": [
      "Training Epoch 168: 100%|██████████| 17804/17804 [01:22<00:00, 216.65it/s]\n"
     ]
    },
    {
     "name": "stdout",
     "output_type": "stream",
     "text": [
      "Epoch 168/300 | Train Loss: 1.0845 | Val Loss: 1.0446 Current learning rate: 0.0001\n"
     ]
    },
    {
     "name": "stderr",
     "output_type": "stream",
     "text": [
      "Training Epoch 169: 100%|██████████| 17804/17804 [01:22<00:00, 216.67it/s]\n"
     ]
    },
    {
     "name": "stdout",
     "output_type": "stream",
     "text": [
      "Epoch 169/300 | Train Loss: 1.0835 | Val Loss: 1.0531 Current learning rate: 0.0001\n",
      "EarlyStopping counter: 1 out of 20\n"
     ]
    },
    {
     "name": "stderr",
     "output_type": "stream",
     "text": [
      "Training Epoch 170: 100%|██████████| 17804/17804 [01:22<00:00, 216.95it/s]\n"
     ]
    },
    {
     "name": "stdout",
     "output_type": "stream",
     "text": [
      "Epoch 170/300 | Train Loss: 1.0833 | Val Loss: 1.0496 Current learning rate: 0.0001\n",
      "EarlyStopping counter: 2 out of 20\n"
     ]
    },
    {
     "name": "stderr",
     "output_type": "stream",
     "text": [
      "Training Epoch 171: 100%|██████████| 17804/17804 [01:22<00:00, 216.92it/s]\n"
     ]
    },
    {
     "name": "stdout",
     "output_type": "stream",
     "text": [
      "Epoch 171/300 | Train Loss: 1.0828 | Val Loss: 1.0456 Current learning rate: 0.0001\n",
      "EarlyStopping counter: 3 out of 20\n"
     ]
    },
    {
     "name": "stderr",
     "output_type": "stream",
     "text": [
      "Training Epoch 172: 100%|██████████| 17804/17804 [01:22<00:00, 216.64it/s]\n"
     ]
    },
    {
     "name": "stdout",
     "output_type": "stream",
     "text": [
      "Epoch 172/300 | Train Loss: 1.0820 | Val Loss: 1.0493 Current learning rate: 0.0001\n",
      "EarlyStopping counter: 4 out of 20\n"
     ]
    },
    {
     "name": "stderr",
     "output_type": "stream",
     "text": [
      "Training Epoch 173: 100%|██████████| 17804/17804 [01:22<00:00, 216.98it/s]\n"
     ]
    },
    {
     "name": "stdout",
     "output_type": "stream",
     "text": [
      "Epoch 173/300 | Train Loss: 1.0821 | Val Loss: 1.0497 Current learning rate: 0.0001\n",
      "EarlyStopping counter: 5 out of 20\n"
     ]
    },
    {
     "name": "stderr",
     "output_type": "stream",
     "text": [
      "Training Epoch 174: 100%|██████████| 17804/17804 [01:21<00:00, 217.13it/s]\n"
     ]
    },
    {
     "name": "stdout",
     "output_type": "stream",
     "text": [
      "Epoch 174/300 | Train Loss: 1.0824 | Val Loss: 1.0563 Current learning rate: 0.0001\n",
      "EarlyStopping counter: 6 out of 20\n"
     ]
    },
    {
     "name": "stderr",
     "output_type": "stream",
     "text": [
      "Training Epoch 175: 100%|██████████| 17804/17804 [01:22<00:00, 216.87it/s]\n"
     ]
    },
    {
     "name": "stdout",
     "output_type": "stream",
     "text": [
      "Epoch 175/300 | Train Loss: 1.0814 | Val Loss: 1.0477 Current learning rate: 0.0001\n",
      "EarlyStopping counter: 7 out of 20\n"
     ]
    },
    {
     "name": "stderr",
     "output_type": "stream",
     "text": [
      "Training Epoch 176: 100%|██████████| 17804/17804 [01:22<00:00, 217.04it/s]\n"
     ]
    },
    {
     "name": "stdout",
     "output_type": "stream",
     "text": [
      "Epoch 176/300 | Train Loss: 1.0819 | Val Loss: 1.0495 Current learning rate: 0.0001\n",
      "EarlyStopping counter: 8 out of 20\n"
     ]
    },
    {
     "name": "stderr",
     "output_type": "stream",
     "text": [
      "Training Epoch 177: 100%|██████████| 17804/17804 [01:21<00:00, 217.28it/s]\n"
     ]
    },
    {
     "name": "stdout",
     "output_type": "stream",
     "text": [
      "Epoch 177/300 | Train Loss: 1.0805 | Val Loss: 1.0495 Current learning rate: 0.0001\n",
      "EarlyStopping counter: 9 out of 20\n"
     ]
    },
    {
     "name": "stderr",
     "output_type": "stream",
     "text": [
      "Training Epoch 178: 100%|██████████| 17804/17804 [01:22<00:00, 217.02it/s]\n"
     ]
    },
    {
     "name": "stdout",
     "output_type": "stream",
     "text": [
      "Epoch 178/300 | Train Loss: 1.0802 | Val Loss: 1.0486 Current learning rate: 0.0001\n",
      "EarlyStopping counter: 10 out of 20\n"
     ]
    },
    {
     "name": "stderr",
     "output_type": "stream",
     "text": [
      "Training Epoch 179: 100%|██████████| 17804/17804 [01:22<00:00, 216.97it/s]\n"
     ]
    },
    {
     "name": "stdout",
     "output_type": "stream",
     "text": [
      "Epoch 179/300 | Train Loss: 1.0806 | Val Loss: 1.0533 Current learning rate: 0.0001\n",
      "EarlyStopping counter: 11 out of 20\n"
     ]
    },
    {
     "name": "stderr",
     "output_type": "stream",
     "text": [
      "Training Epoch 180: 100%|██████████| 17804/17804 [01:22<00:00, 216.65it/s]\n"
     ]
    },
    {
     "name": "stdout",
     "output_type": "stream",
     "text": [
      "Epoch 180/300 | Train Loss: 1.0786 | Val Loss: 1.0463 Current learning rate: 0.0001\n",
      "EarlyStopping counter: 12 out of 20\n"
     ]
    },
    {
     "name": "stderr",
     "output_type": "stream",
     "text": [
      "Training Epoch 181: 100%|██████████| 17804/17804 [01:22<00:00, 216.95it/s]\n"
     ]
    },
    {
     "name": "stdout",
     "output_type": "stream",
     "text": [
      "Epoch 181/300 | Train Loss: 1.0790 | Val Loss: 1.0487 Current learning rate: 0.0001\n",
      "EarlyStopping counter: 13 out of 20\n"
     ]
    },
    {
     "name": "stderr",
     "output_type": "stream",
     "text": [
      "Training Epoch 182: 100%|██████████| 17804/17804 [01:22<00:00, 217.03it/s]\n"
     ]
    },
    {
     "name": "stdout",
     "output_type": "stream",
     "text": [
      "Epoch 182/300 | Train Loss: 1.0785 | Val Loss: 1.0455 Current learning rate: 0.0001\n",
      "EarlyStopping counter: 14 out of 20\n"
     ]
    },
    {
     "name": "stderr",
     "output_type": "stream",
     "text": [
      "Training Epoch 183: 100%|██████████| 17804/17804 [01:22<00:00, 216.95it/s]\n"
     ]
    },
    {
     "name": "stdout",
     "output_type": "stream",
     "text": [
      "Epoch 183/300 | Train Loss: 1.0794 | Val Loss: 1.0577 Current learning rate: 0.0001\n",
      "EarlyStopping counter: 15 out of 20\n"
     ]
    },
    {
     "name": "stderr",
     "output_type": "stream",
     "text": [
      "Training Epoch 184: 100%|██████████| 17804/17804 [01:22<00:00, 216.75it/s]\n"
     ]
    },
    {
     "name": "stdout",
     "output_type": "stream",
     "text": [
      "Epoch 184/300 | Train Loss: 1.0787 | Val Loss: 1.0470 Current learning rate: 0.0001\n",
      "EarlyStopping counter: 16 out of 20\n"
     ]
    },
    {
     "name": "stderr",
     "output_type": "stream",
     "text": [
      "Training Epoch 185: 100%|██████████| 17804/17804 [01:22<00:00, 216.90it/s]\n"
     ]
    },
    {
     "name": "stdout",
     "output_type": "stream",
     "text": [
      "Epoch 185/300 | Train Loss: 1.0792 | Val Loss: 1.0446 Current learning rate: 0.0001\n",
      "EarlyStopping counter: 17 out of 20\n"
     ]
    },
    {
     "name": "stderr",
     "output_type": "stream",
     "text": [
      "Training Epoch 186: 100%|██████████| 17804/17804 [01:22<00:00, 216.69it/s]\n"
     ]
    },
    {
     "name": "stdout",
     "output_type": "stream",
     "text": [
      "Epoch 186/300 | Train Loss: 1.0786 | Val Loss: 1.0452 Current learning rate: 5e-05\n",
      "EarlyStopping counter: 18 out of 20\n"
     ]
    },
    {
     "name": "stderr",
     "output_type": "stream",
     "text": [
      "Training Epoch 187: 100%|██████████| 17804/17804 [01:22<00:00, 217.03it/s]\n"
     ]
    },
    {
     "name": "stdout",
     "output_type": "stream",
     "text": [
      "Epoch 187/300 | Train Loss: 1.0579 | Val Loss: 1.0334 Current learning rate: 5e-05\n"
     ]
    },
    {
     "name": "stderr",
     "output_type": "stream",
     "text": [
      "Training Epoch 188: 100%|██████████| 17804/17804 [01:22<00:00, 216.36it/s]\n"
     ]
    },
    {
     "name": "stdout",
     "output_type": "stream",
     "text": [
      "Epoch 188/300 | Train Loss: 1.0574 | Val Loss: 1.0317 Current learning rate: 5e-05\n"
     ]
    },
    {
     "name": "stderr",
     "output_type": "stream",
     "text": [
      "Training Epoch 189: 100%|██████████| 17804/17804 [01:21<00:00, 217.18it/s]\n"
     ]
    },
    {
     "name": "stdout",
     "output_type": "stream",
     "text": [
      "Epoch 189/300 | Train Loss: 1.0557 | Val Loss: 1.0340 Current learning rate: 5e-05\n",
      "EarlyStopping counter: 1 out of 20\n"
     ]
    },
    {
     "name": "stderr",
     "output_type": "stream",
     "text": [
      "Training Epoch 190: 100%|██████████| 17804/17804 [01:22<00:00, 216.91it/s]\n"
     ]
    },
    {
     "name": "stdout",
     "output_type": "stream",
     "text": [
      "Epoch 190/300 | Train Loss: 1.0572 | Val Loss: 1.0315 Current learning rate: 5e-05\n"
     ]
    },
    {
     "name": "stderr",
     "output_type": "stream",
     "text": [
      "Training Epoch 191: 100%|██████████| 17804/17804 [01:22<00:00, 216.96it/s]\n"
     ]
    },
    {
     "name": "stdout",
     "output_type": "stream",
     "text": [
      "Epoch 191/300 | Train Loss: 1.0565 | Val Loss: 1.0439 Current learning rate: 5e-05\n",
      "EarlyStopping counter: 1 out of 20\n"
     ]
    },
    {
     "name": "stderr",
     "output_type": "stream",
     "text": [
      "Training Epoch 192: 100%|██████████| 17804/17804 [01:22<00:00, 216.65it/s]\n"
     ]
    },
    {
     "name": "stdout",
     "output_type": "stream",
     "text": [
      "Epoch 192/300 | Train Loss: 1.0572 | Val Loss: 1.0305 Current learning rate: 5e-05\n"
     ]
    },
    {
     "name": "stderr",
     "output_type": "stream",
     "text": [
      "Training Epoch 193: 100%|██████████| 17804/17804 [01:22<00:00, 216.87it/s]\n"
     ]
    },
    {
     "name": "stdout",
     "output_type": "stream",
     "text": [
      "Epoch 193/300 | Train Loss: 1.0561 | Val Loss: 1.0311 Current learning rate: 5e-05\n",
      "EarlyStopping counter: 1 out of 20\n"
     ]
    },
    {
     "name": "stderr",
     "output_type": "stream",
     "text": [
      "Training Epoch 194: 100%|██████████| 17804/17804 [01:22<00:00, 217.12it/s]\n"
     ]
    },
    {
     "name": "stdout",
     "output_type": "stream",
     "text": [
      "Epoch 194/300 | Train Loss: 1.0558 | Val Loss: 1.0342 Current learning rate: 5e-05\n",
      "EarlyStopping counter: 2 out of 20\n"
     ]
    },
    {
     "name": "stderr",
     "output_type": "stream",
     "text": [
      "Training Epoch 195: 100%|██████████| 17804/17804 [01:22<00:00, 216.88it/s]\n"
     ]
    },
    {
     "name": "stdout",
     "output_type": "stream",
     "text": [
      "Epoch 195/300 | Train Loss: 1.0567 | Val Loss: 1.0316 Current learning rate: 2.5e-05\n",
      "EarlyStopping counter: 3 out of 20\n"
     ]
    },
    {
     "name": "stderr",
     "output_type": "stream",
     "text": [
      "Training Epoch 196: 100%|██████████| 17804/17804 [01:21<00:00, 217.14it/s]\n"
     ]
    },
    {
     "name": "stdout",
     "output_type": "stream",
     "text": [
      "Epoch 196/300 | Train Loss: 1.0459 | Val Loss: 1.0262 Current learning rate: 2.5e-05\n"
     ]
    },
    {
     "name": "stderr",
     "output_type": "stream",
     "text": [
      "Training Epoch 197: 100%|██████████| 17804/17804 [01:22<00:00, 216.84it/s]\n"
     ]
    },
    {
     "name": "stdout",
     "output_type": "stream",
     "text": [
      "Epoch 197/300 | Train Loss: 1.0450 | Val Loss: 1.0265 Current learning rate: 2.5e-05\n",
      "EarlyStopping counter: 1 out of 20\n"
     ]
    },
    {
     "name": "stderr",
     "output_type": "stream",
     "text": [
      "Training Epoch 198: 100%|██████████| 17804/17804 [01:22<00:00, 216.91it/s]\n"
     ]
    },
    {
     "name": "stdout",
     "output_type": "stream",
     "text": [
      "Epoch 198/300 | Train Loss: 1.0456 | Val Loss: 1.0277 Current learning rate: 2.5e-05\n",
      "EarlyStopping counter: 2 out of 20\n"
     ]
    },
    {
     "name": "stderr",
     "output_type": "stream",
     "text": [
      "Training Epoch 199: 100%|██████████| 17804/17804 [01:22<00:00, 216.80it/s]\n"
     ]
    },
    {
     "name": "stdout",
     "output_type": "stream",
     "text": [
      "Epoch 199/300 | Train Loss: 1.0456 | Val Loss: 1.0254 Current learning rate: 2.5e-05\n"
     ]
    },
    {
     "name": "stderr",
     "output_type": "stream",
     "text": [
      "Training Epoch 200: 100%|██████████| 17804/17804 [01:22<00:00, 216.66it/s]\n"
     ]
    },
    {
     "name": "stdout",
     "output_type": "stream",
     "text": [
      "Epoch 200/300 | Train Loss: 1.0448 | Val Loss: 1.0262 Current learning rate: 2.5e-05\n",
      "EarlyStopping counter: 1 out of 20\n"
     ]
    },
    {
     "name": "stderr",
     "output_type": "stream",
     "text": [
      "Training Epoch 201: 100%|██████████| 17804/17804 [01:21<00:00, 217.30it/s]\n"
     ]
    },
    {
     "name": "stdout",
     "output_type": "stream",
     "text": [
      "Epoch 201/300 | Train Loss: 1.0457 | Val Loss: 1.0249 Current learning rate: 2.5e-05\n"
     ]
    },
    {
     "name": "stderr",
     "output_type": "stream",
     "text": [
      "Training Epoch 202: 100%|██████████| 17804/17804 [01:22<00:00, 216.77it/s]\n"
     ]
    },
    {
     "name": "stdout",
     "output_type": "stream",
     "text": [
      "Epoch 202/300 | Train Loss: 1.0447 | Val Loss: 1.0243 Current learning rate: 2.5e-05\n"
     ]
    },
    {
     "name": "stderr",
     "output_type": "stream",
     "text": [
      "Training Epoch 203: 100%|██████████| 17804/17804 [01:22<00:00, 216.90it/s]\n"
     ]
    },
    {
     "name": "stdout",
     "output_type": "stream",
     "text": [
      "Epoch 203/300 | Train Loss: 1.0448 | Val Loss: 1.0258 Current learning rate: 2.5e-05\n",
      "EarlyStopping counter: 1 out of 20\n"
     ]
    },
    {
     "name": "stderr",
     "output_type": "stream",
     "text": [
      "Training Epoch 204: 100%|██████████| 17804/17804 [01:22<00:00, 216.83it/s]\n"
     ]
    },
    {
     "name": "stdout",
     "output_type": "stream",
     "text": [
      "Epoch 204/300 | Train Loss: 1.0446 | Val Loss: 1.0253 Current learning rate: 2.5e-05\n",
      "EarlyStopping counter: 2 out of 20\n"
     ]
    },
    {
     "name": "stderr",
     "output_type": "stream",
     "text": [
      "Training Epoch 205: 100%|██████████| 17804/17804 [01:21<00:00, 217.21it/s]\n"
     ]
    },
    {
     "name": "stdout",
     "output_type": "stream",
     "text": [
      "Epoch 205/300 | Train Loss: 1.0449 | Val Loss: 1.0248 Current learning rate: 2.5e-05\n",
      "EarlyStopping counter: 3 out of 20\n"
     ]
    },
    {
     "name": "stderr",
     "output_type": "stream",
     "text": [
      "Training Epoch 206: 100%|██████████| 17804/17804 [01:21<00:00, 217.40it/s]\n"
     ]
    },
    {
     "name": "stdout",
     "output_type": "stream",
     "text": [
      "Epoch 206/300 | Train Loss: 1.0448 | Val Loss: 1.0250 Current learning rate: 2.5e-05\n",
      "EarlyStopping counter: 4 out of 20\n"
     ]
    },
    {
     "name": "stderr",
     "output_type": "stream",
     "text": [
      "Training Epoch 207: 100%|██████████| 17804/17804 [01:22<00:00, 216.93it/s]\n"
     ]
    },
    {
     "name": "stdout",
     "output_type": "stream",
     "text": [
      "Epoch 207/300 | Train Loss: 1.0444 | Val Loss: 1.0245 Current learning rate: 2.5e-05\n",
      "EarlyStopping counter: 5 out of 20\n"
     ]
    },
    {
     "name": "stderr",
     "output_type": "stream",
     "text": [
      "Training Epoch 208: 100%|██████████| 17804/17804 [01:22<00:00, 217.08it/s]\n"
     ]
    },
    {
     "name": "stdout",
     "output_type": "stream",
     "text": [
      "Epoch 208/300 | Train Loss: 1.0443 | Val Loss: 1.0253 Current learning rate: 2.5e-05\n",
      "EarlyStopping counter: 6 out of 20\n"
     ]
    },
    {
     "name": "stderr",
     "output_type": "stream",
     "text": [
      "Training Epoch 209: 100%|██████████| 17804/17804 [01:21<00:00, 217.21it/s]\n"
     ]
    },
    {
     "name": "stdout",
     "output_type": "stream",
     "text": [
      "Epoch 209/300 | Train Loss: 1.0433 | Val Loss: 1.0243 Current learning rate: 2.5e-05\n",
      "EarlyStopping counter: 7 out of 20\n"
     ]
    },
    {
     "name": "stderr",
     "output_type": "stream",
     "text": [
      "Training Epoch 210: 100%|██████████| 17804/17804 [01:21<00:00, 217.41it/s]\n"
     ]
    },
    {
     "name": "stdout",
     "output_type": "stream",
     "text": [
      "Epoch 210/300 | Train Loss: 1.0440 | Val Loss: 1.0251 Current learning rate: 2.5e-05\n",
      "EarlyStopping counter: 8 out of 20\n"
     ]
    },
    {
     "name": "stderr",
     "output_type": "stream",
     "text": [
      "Training Epoch 211: 100%|██████████| 17804/17804 [01:22<00:00, 215.17it/s]\n"
     ]
    },
    {
     "name": "stdout",
     "output_type": "stream",
     "text": [
      "Epoch 211/300 | Train Loss: 1.0442 | Val Loss: 1.0260 Current learning rate: 2.5e-05\n",
      "EarlyStopping counter: 9 out of 20\n"
     ]
    },
    {
     "name": "stderr",
     "output_type": "stream",
     "text": [
      "Training Epoch 212: 100%|██████████| 17804/17804 [01:23<00:00, 213.51it/s]\n"
     ]
    },
    {
     "name": "stdout",
     "output_type": "stream",
     "text": [
      "Epoch 212/300 | Train Loss: 1.0451 | Val Loss: 1.0245 Current learning rate: 2.5e-05\n",
      "EarlyStopping counter: 10 out of 20\n"
     ]
    },
    {
     "name": "stderr",
     "output_type": "stream",
     "text": [
      "Training Epoch 213: 100%|██████████| 17804/17804 [01:22<00:00, 217.08it/s]\n"
     ]
    },
    {
     "name": "stdout",
     "output_type": "stream",
     "text": [
      "Epoch 213/300 | Train Loss: 1.0443 | Val Loss: 1.0243 Current learning rate: 2.5e-05\n"
     ]
    },
    {
     "name": "stderr",
     "output_type": "stream",
     "text": [
      "Training Epoch 214: 100%|██████████| 17804/17804 [01:22<00:00, 216.96it/s]\n"
     ]
    },
    {
     "name": "stdout",
     "output_type": "stream",
     "text": [
      "Epoch 214/300 | Train Loss: 1.0448 | Val Loss: 1.0254 Current learning rate: 2.5e-05\n",
      "EarlyStopping counter: 1 out of 20\n"
     ]
    },
    {
     "name": "stderr",
     "output_type": "stream",
     "text": [
      "Training Epoch 215: 100%|██████████| 17804/17804 [01:22<00:00, 216.54it/s]\n"
     ]
    },
    {
     "name": "stdout",
     "output_type": "stream",
     "text": [
      "Epoch 215/300 | Train Loss: 1.0443 | Val Loss: 1.0261 Current learning rate: 1.25e-05\n",
      "EarlyStopping counter: 2 out of 20\n"
     ]
    },
    {
     "name": "stderr",
     "output_type": "stream",
     "text": [
      "Training Epoch 216: 100%|██████████| 17804/17804 [01:22<00:00, 216.86it/s]\n"
     ]
    },
    {
     "name": "stdout",
     "output_type": "stream",
     "text": [
      "Epoch 216/300 | Train Loss: 1.0388 | Val Loss: 1.0230 Current learning rate: 1.25e-05\n"
     ]
    },
    {
     "name": "stderr",
     "output_type": "stream",
     "text": [
      "Training Epoch 217: 100%|██████████| 17804/17804 [01:21<00:00, 217.15it/s]\n"
     ]
    },
    {
     "name": "stdout",
     "output_type": "stream",
     "text": [
      "Epoch 217/300 | Train Loss: 1.0380 | Val Loss: 1.0224 Current learning rate: 1.25e-05\n"
     ]
    },
    {
     "name": "stderr",
     "output_type": "stream",
     "text": [
      "Training Epoch 218: 100%|██████████| 17804/17804 [01:21<00:00, 217.13it/s]\n"
     ]
    },
    {
     "name": "stdout",
     "output_type": "stream",
     "text": [
      "Epoch 218/300 | Train Loss: 1.0383 | Val Loss: 1.0223 Current learning rate: 1.25e-05\n"
     ]
    },
    {
     "name": "stderr",
     "output_type": "stream",
     "text": [
      "Training Epoch 219: 100%|██████████| 17804/17804 [01:22<00:00, 216.81it/s]\n"
     ]
    },
    {
     "name": "stdout",
     "output_type": "stream",
     "text": [
      "Epoch 219/300 | Train Loss: 1.0389 | Val Loss: 1.0230 Current learning rate: 1.25e-05\n",
      "EarlyStopping counter: 1 out of 20\n"
     ]
    },
    {
     "name": "stderr",
     "output_type": "stream",
     "text": [
      "Training Epoch 220: 100%|██████████| 17804/17804 [01:22<00:00, 216.69it/s]\n"
     ]
    },
    {
     "name": "stdout",
     "output_type": "stream",
     "text": [
      "Epoch 220/300 | Train Loss: 1.0386 | Val Loss: 1.0226 Current learning rate: 1.25e-05\n",
      "EarlyStopping counter: 2 out of 20\n"
     ]
    },
    {
     "name": "stderr",
     "output_type": "stream",
     "text": [
      "Training Epoch 221: 100%|██████████| 17804/17804 [01:22<00:00, 217.05it/s]\n"
     ]
    },
    {
     "name": "stdout",
     "output_type": "stream",
     "text": [
      "Epoch 221/300 | Train Loss: 1.0372 | Val Loss: 1.0235 Current learning rate: 1.25e-05\n",
      "EarlyStopping counter: 3 out of 20\n"
     ]
    },
    {
     "name": "stderr",
     "output_type": "stream",
     "text": [
      "Training Epoch 222: 100%|██████████| 17804/17804 [01:22<00:00, 216.74it/s]\n"
     ]
    },
    {
     "name": "stdout",
     "output_type": "stream",
     "text": [
      "Epoch 222/300 | Train Loss: 1.0378 | Val Loss: 1.0229 Current learning rate: 1.25e-05\n",
      "EarlyStopping counter: 4 out of 20\n"
     ]
    },
    {
     "name": "stderr",
     "output_type": "stream",
     "text": [
      "Training Epoch 223: 100%|██████████| 17804/17804 [01:22<00:00, 216.84it/s]\n"
     ]
    },
    {
     "name": "stdout",
     "output_type": "stream",
     "text": [
      "Epoch 223/300 | Train Loss: 1.0383 | Val Loss: 1.0227 Current learning rate: 1.25e-05\n",
      "EarlyStopping counter: 5 out of 20\n"
     ]
    },
    {
     "name": "stderr",
     "output_type": "stream",
     "text": [
      "Training Epoch 224: 100%|██████████| 17804/17804 [01:22<00:00, 216.64it/s]\n"
     ]
    },
    {
     "name": "stdout",
     "output_type": "stream",
     "text": [
      "Epoch 224/300 | Train Loss: 1.0386 | Val Loss: 1.0231 Current learning rate: 1.25e-05\n",
      "EarlyStopping counter: 6 out of 20\n"
     ]
    },
    {
     "name": "stderr",
     "output_type": "stream",
     "text": [
      "Training Epoch 225: 100%|██████████| 17804/17804 [01:22<00:00, 216.79it/s]\n"
     ]
    },
    {
     "name": "stdout",
     "output_type": "stream",
     "text": [
      "Epoch 225/300 | Train Loss: 1.0386 | Val Loss: 1.0224 Current learning rate: 1.25e-05\n",
      "EarlyStopping counter: 7 out of 20\n"
     ]
    },
    {
     "name": "stderr",
     "output_type": "stream",
     "text": [
      "Training Epoch 226: 100%|██████████| 17804/17804 [01:21<00:00, 217.15it/s]\n"
     ]
    },
    {
     "name": "stdout",
     "output_type": "stream",
     "text": [
      "Epoch 226/300 | Train Loss: 1.0371 | Val Loss: 1.0225 Current learning rate: 1.25e-05\n",
      "EarlyStopping counter: 8 out of 20\n"
     ]
    },
    {
     "name": "stderr",
     "output_type": "stream",
     "text": [
      "Training Epoch 227: 100%|██████████| 17804/17804 [01:22<00:00, 216.78it/s]\n"
     ]
    },
    {
     "name": "stdout",
     "output_type": "stream",
     "text": [
      "Epoch 227/300 | Train Loss: 1.0381 | Val Loss: 1.0226 Current learning rate: 6.25e-06\n",
      "EarlyStopping counter: 9 out of 20\n"
     ]
    },
    {
     "name": "stderr",
     "output_type": "stream",
     "text": [
      "Training Epoch 228: 100%|██████████| 17804/17804 [01:22<00:00, 216.75it/s]\n"
     ]
    },
    {
     "name": "stdout",
     "output_type": "stream",
     "text": [
      "Epoch 228/300 | Train Loss: 1.0352 | Val Loss: 1.0219 Current learning rate: 6.25e-06\n"
     ]
    },
    {
     "name": "stderr",
     "output_type": "stream",
     "text": [
      "Training Epoch 229: 100%|██████████| 17804/17804 [01:22<00:00, 217.03it/s]\n"
     ]
    },
    {
     "name": "stdout",
     "output_type": "stream",
     "text": [
      "Epoch 229/300 | Train Loss: 1.0348 | Val Loss: 1.0219 Current learning rate: 6.25e-06\n",
      "EarlyStopping counter: 1 out of 20\n"
     ]
    },
    {
     "name": "stderr",
     "output_type": "stream",
     "text": [
      "Training Epoch 230: 100%|██████████| 17804/17804 [01:22<00:00, 217.12it/s]\n"
     ]
    },
    {
     "name": "stdout",
     "output_type": "stream",
     "text": [
      "Epoch 230/300 | Train Loss: 1.0346 | Val Loss: 1.0220 Current learning rate: 6.25e-06\n",
      "EarlyStopping counter: 2 out of 20\n"
     ]
    },
    {
     "name": "stderr",
     "output_type": "stream",
     "text": [
      "Training Epoch 231: 100%|██████████| 17804/17804 [01:22<00:00, 216.87it/s]\n"
     ]
    },
    {
     "name": "stdout",
     "output_type": "stream",
     "text": [
      "Epoch 231/300 | Train Loss: 1.0354 | Val Loss: 1.0221 Current learning rate: 6.25e-06\n",
      "EarlyStopping counter: 3 out of 20\n"
     ]
    },
    {
     "name": "stderr",
     "output_type": "stream",
     "text": [
      "Training Epoch 232: 100%|██████████| 17804/17804 [01:22<00:00, 217.10it/s]\n"
     ]
    },
    {
     "name": "stdout",
     "output_type": "stream",
     "text": [
      "Epoch 232/300 | Train Loss: 1.0347 | Val Loss: 1.0219 Current learning rate: 6.25e-06\n",
      "EarlyStopping counter: 4 out of 20\n"
     ]
    },
    {
     "name": "stderr",
     "output_type": "stream",
     "text": [
      "Training Epoch 233: 100%|██████████| 17804/17804 [01:21<00:00, 217.27it/s]\n"
     ]
    },
    {
     "name": "stdout",
     "output_type": "stream",
     "text": [
      "Epoch 233/300 | Train Loss: 1.0345 | Val Loss: 1.0213 Current learning rate: 6.25e-06\n"
     ]
    },
    {
     "name": "stderr",
     "output_type": "stream",
     "text": [
      "Training Epoch 234: 100%|██████████| 17804/17804 [01:22<00:00, 216.62it/s]\n"
     ]
    },
    {
     "name": "stdout",
     "output_type": "stream",
     "text": [
      "Epoch 234/300 | Train Loss: 1.0348 | Val Loss: 1.0217 Current learning rate: 6.25e-06\n",
      "EarlyStopping counter: 1 out of 20\n"
     ]
    },
    {
     "name": "stderr",
     "output_type": "stream",
     "text": [
      "Training Epoch 235: 100%|██████████| 17804/17804 [01:22<00:00, 216.89it/s]\n"
     ]
    },
    {
     "name": "stdout",
     "output_type": "stream",
     "text": [
      "Epoch 235/300 | Train Loss: 1.0350 | Val Loss: 1.0214 Current learning rate: 6.25e-06\n",
      "EarlyStopping counter: 2 out of 20\n"
     ]
    },
    {
     "name": "stderr",
     "output_type": "stream",
     "text": [
      "Training Epoch 236: 100%|██████████| 17804/17804 [01:22<00:00, 217.07it/s]\n"
     ]
    },
    {
     "name": "stdout",
     "output_type": "stream",
     "text": [
      "Epoch 236/300 | Train Loss: 1.0353 | Val Loss: 1.0216 Current learning rate: 6.25e-06\n",
      "EarlyStopping counter: 3 out of 20\n"
     ]
    },
    {
     "name": "stderr",
     "output_type": "stream",
     "text": [
      "Training Epoch 237: 100%|██████████| 17804/17804 [01:22<00:00, 216.79it/s]\n"
     ]
    },
    {
     "name": "stdout",
     "output_type": "stream",
     "text": [
      "Epoch 237/300 | Train Loss: 1.0340 | Val Loss: 1.0219 Current learning rate: 6.25e-06\n",
      "EarlyStopping counter: 4 out of 20\n"
     ]
    },
    {
     "name": "stderr",
     "output_type": "stream",
     "text": [
      "Training Epoch 238: 100%|██████████| 17804/17804 [01:22<00:00, 216.79it/s]\n"
     ]
    },
    {
     "name": "stdout",
     "output_type": "stream",
     "text": [
      "Epoch 238/300 | Train Loss: 1.0347 | Val Loss: 1.0210 Current learning rate: 6.25e-06\n"
     ]
    },
    {
     "name": "stderr",
     "output_type": "stream",
     "text": [
      "Training Epoch 239: 100%|██████████| 17804/17804 [01:22<00:00, 216.80it/s]\n"
     ]
    },
    {
     "name": "stdout",
     "output_type": "stream",
     "text": [
      "Epoch 239/300 | Train Loss: 1.0359 | Val Loss: 1.0215 Current learning rate: 6.25e-06\n",
      "EarlyStopping counter: 1 out of 20\n"
     ]
    },
    {
     "name": "stderr",
     "output_type": "stream",
     "text": [
      "Training Epoch 240: 100%|██████████| 17804/17804 [01:22<00:00, 217.05it/s]\n"
     ]
    },
    {
     "name": "stdout",
     "output_type": "stream",
     "text": [
      "Epoch 240/300 | Train Loss: 1.0349 | Val Loss: 1.0215 Current learning rate: 6.25e-06\n",
      "EarlyStopping counter: 2 out of 20\n"
     ]
    },
    {
     "name": "stderr",
     "output_type": "stream",
     "text": [
      "Training Epoch 241: 100%|██████████| 17804/17804 [01:22<00:00, 217.02it/s]\n"
     ]
    },
    {
     "name": "stdout",
     "output_type": "stream",
     "text": [
      "Epoch 241/300 | Train Loss: 1.0353 | Val Loss: 1.0218 Current learning rate: 6.25e-06\n",
      "EarlyStopping counter: 3 out of 20\n"
     ]
    },
    {
     "name": "stderr",
     "output_type": "stream",
     "text": [
      "Training Epoch 242: 100%|██████████| 17804/17804 [01:22<00:00, 216.70it/s]\n"
     ]
    },
    {
     "name": "stdout",
     "output_type": "stream",
     "text": [
      "Epoch 242/300 | Train Loss: 1.0350 | Val Loss: 1.0208 Current learning rate: 6.25e-06\n"
     ]
    },
    {
     "name": "stderr",
     "output_type": "stream",
     "text": [
      "Training Epoch 243: 100%|██████████| 17804/17804 [01:22<00:00, 216.97it/s]\n"
     ]
    },
    {
     "name": "stdout",
     "output_type": "stream",
     "text": [
      "Epoch 243/300 | Train Loss: 1.0346 | Val Loss: 1.0211 Current learning rate: 3.125e-06\n",
      "EarlyStopping counter: 1 out of 20\n"
     ]
    },
    {
     "name": "stderr",
     "output_type": "stream",
     "text": [
      "Training Epoch 244: 100%|██████████| 17804/17804 [01:21<00:00, 217.16it/s]\n"
     ]
    },
    {
     "name": "stdout",
     "output_type": "stream",
     "text": [
      "Epoch 244/300 | Train Loss: 1.0337 | Val Loss: 1.0209 Current learning rate: 3.125e-06\n",
      "EarlyStopping counter: 2 out of 20\n"
     ]
    },
    {
     "name": "stderr",
     "output_type": "stream",
     "text": [
      "Training Epoch 245: 100%|██████████| 17804/17804 [01:22<00:00, 217.02it/s]\n"
     ]
    },
    {
     "name": "stdout",
     "output_type": "stream",
     "text": [
      "Epoch 245/300 | Train Loss: 1.0332 | Val Loss: 1.0206 Current learning rate: 3.125e-06\n"
     ]
    },
    {
     "name": "stderr",
     "output_type": "stream",
     "text": [
      "Training Epoch 246: 100%|██████████| 17804/17804 [01:22<00:00, 216.90it/s]\n"
     ]
    },
    {
     "name": "stdout",
     "output_type": "stream",
     "text": [
      "Epoch 246/300 | Train Loss: 1.0337 | Val Loss: 1.0208 Current learning rate: 3.125e-06\n",
      "EarlyStopping counter: 1 out of 20\n"
     ]
    },
    {
     "name": "stderr",
     "output_type": "stream",
     "text": [
      "Training Epoch 247: 100%|██████████| 17804/17804 [01:21<00:00, 217.34it/s]\n"
     ]
    },
    {
     "name": "stdout",
     "output_type": "stream",
     "text": [
      "Epoch 247/300 | Train Loss: 1.0334 | Val Loss: 1.0207 Current learning rate: 3.125e-06\n",
      "EarlyStopping counter: 2 out of 20\n"
     ]
    },
    {
     "name": "stderr",
     "output_type": "stream",
     "text": [
      "Training Epoch 248: 100%|██████████| 17804/17804 [01:21<00:00, 217.25it/s]\n"
     ]
    },
    {
     "name": "stdout",
     "output_type": "stream",
     "text": [
      "Epoch 248/300 | Train Loss: 1.0333 | Val Loss: 1.0207 Current learning rate: 3.125e-06\n",
      "EarlyStopping counter: 3 out of 20\n"
     ]
    },
    {
     "name": "stderr",
     "output_type": "stream",
     "text": [
      "Training Epoch 249: 100%|██████████| 17804/17804 [01:21<00:00, 217.26it/s]\n"
     ]
    },
    {
     "name": "stdout",
     "output_type": "stream",
     "text": [
      "Epoch 249/300 | Train Loss: 1.0337 | Val Loss: 1.0210 Current learning rate: 3.125e-06\n",
      "EarlyStopping counter: 4 out of 20\n"
     ]
    },
    {
     "name": "stderr",
     "output_type": "stream",
     "text": [
      "Training Epoch 250: 100%|██████████| 17804/17804 [01:22<00:00, 217.06it/s]\n"
     ]
    },
    {
     "name": "stdout",
     "output_type": "stream",
     "text": [
      "Epoch 250/300 | Train Loss: 1.0332 | Val Loss: 1.0209 Current learning rate: 3.125e-06\n",
      "EarlyStopping counter: 5 out of 20\n"
     ]
    },
    {
     "name": "stderr",
     "output_type": "stream",
     "text": [
      "Training Epoch 251: 100%|██████████| 17804/17804 [01:21<00:00, 217.63it/s]\n"
     ]
    },
    {
     "name": "stdout",
     "output_type": "stream",
     "text": [
      "Epoch 251/300 | Train Loss: 1.0333 | Val Loss: 1.0207 Current learning rate: 1.5625e-06\n",
      "EarlyStopping counter: 6 out of 20\n"
     ]
    },
    {
     "name": "stderr",
     "output_type": "stream",
     "text": [
      "Training Epoch 252: 100%|██████████| 17804/17804 [01:21<00:00, 217.46it/s]\n"
     ]
    },
    {
     "name": "stdout",
     "output_type": "stream",
     "text": [
      "Epoch 252/300 | Train Loss: 1.0327 | Val Loss: 1.0201 Current learning rate: 1.5625e-06\n"
     ]
    },
    {
     "name": "stderr",
     "output_type": "stream",
     "text": [
      "Training Epoch 253: 100%|██████████| 17804/17804 [01:21<00:00, 217.48it/s]\n"
     ]
    },
    {
     "name": "stdout",
     "output_type": "stream",
     "text": [
      "Epoch 253/300 | Train Loss: 1.0328 | Val Loss: 1.0203 Current learning rate: 1.5625e-06\n",
      "EarlyStopping counter: 1 out of 20\n"
     ]
    },
    {
     "name": "stderr",
     "output_type": "stream",
     "text": [
      "Training Epoch 254: 100%|██████████| 17804/17804 [01:22<00:00, 217.11it/s]\n"
     ]
    },
    {
     "name": "stdout",
     "output_type": "stream",
     "text": [
      "Epoch 254/300 | Train Loss: 1.0318 | Val Loss: 1.0203 Current learning rate: 1.5625e-06\n",
      "EarlyStopping counter: 2 out of 20\n"
     ]
    },
    {
     "name": "stderr",
     "output_type": "stream",
     "text": [
      "Training Epoch 255: 100%|██████████| 17804/17804 [01:21<00:00, 217.18it/s]\n"
     ]
    },
    {
     "name": "stdout",
     "output_type": "stream",
     "text": [
      "Epoch 255/300 | Train Loss: 1.0322 | Val Loss: 1.0205 Current learning rate: 1.5625e-06\n",
      "EarlyStopping counter: 3 out of 20\n"
     ]
    },
    {
     "name": "stderr",
     "output_type": "stream",
     "text": [
      "Training Epoch 256: 100%|██████████| 17804/17804 [01:21<00:00, 217.58it/s]\n"
     ]
    },
    {
     "name": "stdout",
     "output_type": "stream",
     "text": [
      "Epoch 256/300 | Train Loss: 1.0335 | Val Loss: 1.0204 Current learning rate: 1.5625e-06\n",
      "EarlyStopping counter: 4 out of 20\n"
     ]
    },
    {
     "name": "stderr",
     "output_type": "stream",
     "text": [
      "Training Epoch 257: 100%|██████████| 17804/17804 [01:21<00:00, 217.22it/s]\n"
     ]
    },
    {
     "name": "stdout",
     "output_type": "stream",
     "text": [
      "Epoch 257/300 | Train Loss: 1.0326 | Val Loss: 1.0204 Current learning rate: 1.5625e-06\n",
      "EarlyStopping counter: 5 out of 20\n"
     ]
    },
    {
     "name": "stderr",
     "output_type": "stream",
     "text": [
      "Training Epoch 258: 100%|██████████| 17804/17804 [01:22<00:00, 216.64it/s]\n"
     ]
    },
    {
     "name": "stdout",
     "output_type": "stream",
     "text": [
      "Epoch 258/300 | Train Loss: 1.0332 | Val Loss: 1.0204 Current learning rate: 1.5625e-06\n",
      "EarlyStopping counter: 6 out of 20\n"
     ]
    },
    {
     "name": "stderr",
     "output_type": "stream",
     "text": [
      "Training Epoch 259: 100%|██████████| 17804/17804 [01:21<00:00, 217.31it/s]\n"
     ]
    },
    {
     "name": "stdout",
     "output_type": "stream",
     "text": [
      "Epoch 259/300 | Train Loss: 1.0326 | Val Loss: 1.0206 Current learning rate: 1.5625e-06\n",
      "EarlyStopping counter: 7 out of 20\n"
     ]
    },
    {
     "name": "stderr",
     "output_type": "stream",
     "text": [
      "Training Epoch 260: 100%|██████████| 17804/17804 [01:21<00:00, 217.25it/s]\n"
     ]
    },
    {
     "name": "stdout",
     "output_type": "stream",
     "text": [
      "Epoch 260/300 | Train Loss: 1.0321 | Val Loss: 1.0205 Current learning rate: 7.8125e-07\n",
      "EarlyStopping counter: 8 out of 20\n"
     ]
    },
    {
     "name": "stderr",
     "output_type": "stream",
     "text": [
      "Training Epoch 261: 100%|██████████| 17804/17804 [01:21<00:00, 217.28it/s]\n"
     ]
    },
    {
     "name": "stdout",
     "output_type": "stream",
     "text": [
      "Epoch 261/300 | Train Loss: 1.0317 | Val Loss: 1.0203 Current learning rate: 7.8125e-07\n",
      "EarlyStopping counter: 9 out of 20\n"
     ]
    },
    {
     "name": "stderr",
     "output_type": "stream",
     "text": [
      "Training Epoch 262: 100%|██████████| 17804/17804 [01:22<00:00, 217.02it/s]\n"
     ]
    },
    {
     "name": "stdout",
     "output_type": "stream",
     "text": [
      "Epoch 262/300 | Train Loss: 1.0319 | Val Loss: 1.0201 Current learning rate: 7.8125e-07\n",
      "EarlyStopping counter: 10 out of 20\n"
     ]
    },
    {
     "name": "stderr",
     "output_type": "stream",
     "text": [
      "Training Epoch 263: 100%|██████████| 17804/17804 [01:21<00:00, 217.43it/s]\n"
     ]
    },
    {
     "name": "stdout",
     "output_type": "stream",
     "text": [
      "Epoch 263/300 | Train Loss: 1.0316 | Val Loss: 1.0202 Current learning rate: 7.8125e-07\n",
      "EarlyStopping counter: 11 out of 20\n"
     ]
    },
    {
     "name": "stderr",
     "output_type": "stream",
     "text": [
      "Training Epoch 264: 100%|██████████| 17804/17804 [01:21<00:00, 217.30it/s]\n"
     ]
    },
    {
     "name": "stdout",
     "output_type": "stream",
     "text": [
      "Epoch 264/300 | Train Loss: 1.0331 | Val Loss: 1.0202 Current learning rate: 7.8125e-07\n",
      "EarlyStopping counter: 12 out of 20\n"
     ]
    },
    {
     "name": "stderr",
     "output_type": "stream",
     "text": [
      "Training Epoch 265: 100%|██████████| 17804/17804 [01:21<00:00, 217.33it/s]\n"
     ]
    },
    {
     "name": "stdout",
     "output_type": "stream",
     "text": [
      "Epoch 265/300 | Train Loss: 1.0324 | Val Loss: 1.0203 Current learning rate: 7.8125e-07\n",
      "EarlyStopping counter: 13 out of 20\n"
     ]
    },
    {
     "name": "stderr",
     "output_type": "stream",
     "text": [
      "Training Epoch 266: 100%|██████████| 17804/17804 [01:22<00:00, 216.96it/s]\n"
     ]
    },
    {
     "name": "stdout",
     "output_type": "stream",
     "text": [
      "Epoch 266/300 | Train Loss: 1.0327 | Val Loss: 1.0203 Current learning rate: 7.8125e-07\n",
      "EarlyStopping counter: 14 out of 20\n"
     ]
    },
    {
     "name": "stderr",
     "output_type": "stream",
     "text": [
      "Training Epoch 267: 100%|██████████| 17804/17804 [01:21<00:00, 217.14it/s]\n"
     ]
    },
    {
     "name": "stdout",
     "output_type": "stream",
     "text": [
      "Epoch 267/300 | Train Loss: 1.0318 | Val Loss: 1.0203 Current learning rate: 3.90625e-07\n",
      "EarlyStopping counter: 15 out of 20\n"
     ]
    },
    {
     "name": "stderr",
     "output_type": "stream",
     "text": [
      "Training Epoch 268: 100%|██████████| 17804/17804 [01:21<00:00, 217.30it/s]\n"
     ]
    },
    {
     "name": "stdout",
     "output_type": "stream",
     "text": [
      "Epoch 268/300 | Train Loss: 1.0323 | Val Loss: 1.0203 Current learning rate: 3.90625e-07\n",
      "EarlyStopping counter: 16 out of 20\n"
     ]
    },
    {
     "name": "stderr",
     "output_type": "stream",
     "text": [
      "Training Epoch 269: 100%|██████████| 17804/17804 [01:21<00:00, 217.17it/s]\n"
     ]
    },
    {
     "name": "stdout",
     "output_type": "stream",
     "text": [
      "Epoch 269/300 | Train Loss: 1.0320 | Val Loss: 1.0203 Current learning rate: 3.90625e-07\n",
      "EarlyStopping counter: 17 out of 20\n"
     ]
    },
    {
     "name": "stderr",
     "output_type": "stream",
     "text": [
      "Training Epoch 270: 100%|██████████| 17804/17804 [01:22<00:00, 216.90it/s]\n"
     ]
    },
    {
     "name": "stdout",
     "output_type": "stream",
     "text": [
      "Epoch 270/300 | Train Loss: 1.0322 | Val Loss: 1.0202 Current learning rate: 3.90625e-07\n",
      "EarlyStopping counter: 18 out of 20\n"
     ]
    },
    {
     "name": "stderr",
     "output_type": "stream",
     "text": [
      "Training Epoch 271: 100%|██████████| 17804/17804 [01:21<00:00, 217.34it/s]\n"
     ]
    },
    {
     "name": "stdout",
     "output_type": "stream",
     "text": [
      "Epoch 271/300 | Train Loss: 1.0313 | Val Loss: 1.0202 Current learning rate: 3.90625e-07\n",
      "EarlyStopping counter: 19 out of 20\n"
     ]
    },
    {
     "name": "stderr",
     "output_type": "stream",
     "text": [
      "Training Epoch 272: 100%|██████████| 17804/17804 [01:21<00:00, 217.48it/s]\n"
     ]
    },
    {
     "name": "stdout",
     "output_type": "stream",
     "text": [
      "Epoch 272/300 | Train Loss: 1.0328 | Val Loss: 1.0202 Current learning rate: 3.90625e-07\n",
      "EarlyStopping counter: 20 out of 20\n",
      "Early stopping\n",
      "Best model saved: Bi_LSTMWithMulAttention_input-2_hidden-32_layers-2_heads-2_lr-0.000000_loss-1.020109_batch-16_epoch-272_seq-2.pth\n",
      "CPU times: total: 6h 54min 24s\n",
      "Wall time: 6h 55min 40s\n"
     ]
    }
   ],
   "source": [
    "%%time\n",
    "# ====== 训练循环 ======\n",
    "num_epochs = 300\n",
    "best_loss = np.inf\n",
    "early_stopping_patience = 20\n",
    "early_stopping_counter = 0\n",
    "loss_values = []\n",
    "\n",
    "for epoch in range(num_epochs):\n",
    "    model.train()\n",
    "    train_losses = []\n",
    "    for x_batch, y_state_batch, y_time_batch in tqdm(train_loader, desc=f\"Training Epoch {epoch+1}\"):\n",
    "        x_batch = x_batch.to(device).float()\n",
    "        y_state_batch = y_state_batch.to(device).long()\n",
    "        y_time_batch = y_time_batch.to(device).float()\n",
    "        \n",
    "        # 前向传播\n",
    "        state_pred, time_pred = model(x_batch)\n",
    "        \n",
    "        # 计算损失\n",
    "        loss_state = criterion_state(state_pred, y_state_batch)\n",
    "        loss_time = criterion_time(time_pred, y_time_batch)\n",
    "        total_loss = loss_state + 0 * loss_time  # 调整权重\n",
    "        \n",
    "        # 反向传播\n",
    "        optimizer.zero_grad()\n",
    "        total_loss.backward()\n",
    "        torch.nn.utils.clip_grad_norm_(model.parameters(), 1.0)\n",
    "        optimizer.step()\n",
    "        \n",
    "        train_losses.append(total_loss.item())\n",
    "    \n",
    "    # 验证\n",
    "    model.eval()\n",
    "    val_losses = []\n",
    "    with torch.no_grad():\n",
    "        for x_val, y_state_val, y_time_val in test_loader:\n",
    "            x_val = x_val.to(device).float()\n",
    "            y_state_val = y_state_val.to(device).long()\n",
    "            y_time_val = y_time_val.to(device).float()\n",
    "            \n",
    "            state_pred, time_pred = model(x_val)\n",
    "            loss_state = criterion_state(state_pred, y_state_val)\n",
    "            loss_time = criterion_time(time_pred, y_time_val)\n",
    "            val_loss = loss_state + 0 * loss_time\n",
    "            val_losses.append(val_loss.item())\n",
    "    \n",
    "    # 学习率调整\n",
    "    avg_train_loss = np.mean(train_losses)\n",
    "    avg_val_loss = np.mean(val_losses)\n",
    "    scheduler.step(avg_train_loss)\n",
    "    loss_values.append([avg_train_loss, avg_val_loss])\n",
    "    \n",
    "    # 训练结束后打印当前学习率\n",
    "    current_lr = optimizer.param_groups[0]['lr']\n",
    "    print(f\"Epoch {epoch+1}/{num_epochs} | Train Loss: {avg_train_loss:.4f} | Val Loss: {avg_val_loss:.4f}\",f\"Current learning rate: {current_lr}\")\n",
    "    \n",
    "    # 早停机制\n",
    "    if avg_val_loss - best_loss < -0.000001: #(1) 判断验证损失是否降低\n",
    "        if best_loss - val_loss > 0.03:\n",
    "            early_stopping_counter = 0\n",
    "        best_loss = avg_val_loss\n",
    "        best_model = deepcopy(model.state_dict()) #保存最佳模型：将最佳模型的参数保存到 best_model。\n",
    "    else:\n",
    "        early_stopping_counter += 1\n",
    "        print(f'EarlyStopping counter: {early_stopping_counter} out of {early_stopping_patience}')\n",
    "        if early_stopping_counter >= early_stopping_patience:\n",
    "            model.load_state_dict(best_model)\n",
    "            print('Early stopping')\n",
    "            break #避免模型在验证集上过拟合，通过提前停止训练来提高泛化能力。\n",
    "    \n",
    "    \n",
    "# 训练结束后保存最佳模型\n",
    "if best_model is not None:\n",
    "    # 构造模型文件名\n",
    "    model_name = \"Bi_LSTMWithMulAttention\"\n",
    "    learning_rate = scheduler.optimizer.param_groups[0]['lr']\n",
    "    filename = f\"{model_name}_input-{input_size}_hidden-{hidden_size}_layers-{num_layers}_heads-{num_heads}_lr-{learning_rate:.6f}_loss-{best_loss:.6f}_batch-{batch_size}_epoch-{epoch+1}_seq-{sequence_length}.pth\"\n",
    "    \n",
    "    # 保存模型\n",
    "    torch.save(best_model, os.path.join('./model', filename))\n",
    "    print(f\"Best model saved: {filename}\")\n",
    "else:\n",
    "    print(\"No model was saved because no valid model was found during training.\")"
   ]
  },
  {
   "cell_type": "markdown",
   "id": "6e213cee-3076-4710-80b5-2d70d209d66e",
   "metadata": {},
   "source": [
    "## 5.3 绘制损失曲线"
   ]
  },
  {
   "cell_type": "code",
   "execution_count": 12,
   "id": "f726f78d-d94c-408a-b2a4-9222db281a66",
   "metadata": {},
   "outputs": [
    {
     "data": {
      "image/png": "[encoded data removed]",
      "text/plain": [
       "<Figure size 640x480 with 1 Axes>"
      ]
     },
     "metadata": {},
     "output_type": "display_data"
    }
   ],
   "source": [
    "loss_values = np.array(loss_values)\n",
    "plt.plot(loss_values[:, 0], label='Train Loss')\n",
    "plt.plot(loss_values[:, 1], label='Validation Loss')\n",
    "plt.legend()\n",
    "plt.show()"
   ]
  },
  {
   "cell_type": "markdown",
   "id": "f8ba4f24-2dd8-482a-8036-b2be2d94b76b",
   "metadata": {},
   "source": [
    "## 5.4 模型评估"
   ]
  },
  {
   "cell_type": "markdown",
   "id": "306d5272-df97-4e8a-a7c4-da6e17127e2b",
   "metadata": {},
   "source": [
    "### 1.3 单输出模型评估-分类问题"
   ]
  },
  {
   "cell_type": "code",
   "execution_count": 13,
   "id": "5e4e6bfb-582b-4b7e-ab04-fa28a3eb53d6",
   "metadata": {},
   "outputs": [
    {
     "name": "stdout",
     "output_type": "stream",
     "text": [
      "Final Confusion Matrix:\n",
      " [[   1  180    9 ...    0    0    0]\n",
      " [   1  948  135 ...    0    0    0]\n",
      " [   0  255 1017 ...    0    0    0]\n",
      " ...\n",
      " [   0    0    0 ...    0    0    0]\n",
      " [   0    0    0 ...    0    0    0]\n",
      " [   0    0    0 ...    0    0    0]]\n",
      "Accuracy: 0.6636748518204911\n",
      "F1 Score: 0.6435504271725697\n"
     ]
    },
    {
     "data": {
      "image/png": "[encoded data removed]",
      "text/plain": [
       "<Figure size 1800x1500 with 2 Axes>"
      ]
     },
     "metadata": {},
     "output_type": "display_data"
    }
   ],
   "source": [
    "from sklearn.metrics import accuracy_score, f1_score, confusion_matrix\n",
    "\n",
    "all_acc_scores = []\n",
    "all_f1_scores = []\n",
    "all_confusion_matrices = []\n",
    "state_preds = []\n",
    "state_targets = []\n",
    "\n",
    "# 获取所有可能的类别数\n",
    "num_state_classes = len(state_encoder.classes_)\n",
    "\n",
    "with torch.no_grad():\n",
    "    for x_val, y_state_val in test_loader:\n",
    "        x_val = x_val.to(device).float()\n",
    "        y_state_val = y_state_val.to(device).long()\n",
    "        y_state_val = y_state_val.squeeze(-1)\n",
    "\n",
    "        state_pred = model(x_val)\n",
    "        state_preds.extend(torch.argmax(state_pred, dim=1).cpu().numpy())\n",
    "        preds = torch.argmax(state_pred, dim=1).cpu().numpy()\n",
    "        \n",
    "        targets = y_state_val.cpu().numpy()\n",
    "        state_targets.extend(y_state_val.cpu().numpy())\n",
    "\n",
    "        # 计算当前批次的评估指标\n",
    "        acc = accuracy_score(targets, preds)\n",
    "        f1 = f1_score(targets, preds, average='weighted')\n",
    "        \n",
    "        # 确保混淆矩阵形状一致，指定所有可能的类别\n",
    "        cm = confusion_matrix(targets, preds, labels=list(range(num_state_classes)))\n",
    "\n",
    "        all_acc_scores.append(acc)\n",
    "        all_f1_scores.append(f1)\n",
    "        all_confusion_matrices.append(cm)\n",
    "\n",
    "# 合并混淆矩阵\n",
    "final_cm = sum(all_confusion_matrices)\n",
    "print(\"Final Confusion Matrix:\\n\", final_cm)\n",
    "\n",
    "# # 计算平均准确率和 F1 分数\n",
    "# avg_acc = np.mean(all_acc_scores)\n",
    "# avg_f1 = np.mean(all_f1_scores)\n",
    "# print(\"Average Accuracy:\", avg_acc)\n",
    "# print(\"Average F1 Score:\", avg_f1)\n",
    "\n",
    "print(\"Accuracy:\", accuracy_score(state_targets, state_preds))\n",
    "print(\"F1 Score:\", f1_score(state_targets, state_preds, average='weighted'))\n",
    "#print(\"Confusion Matrix:\\n\", confusion_matrix(state_targets, state_preds))\n",
    "import seaborn as sns\n",
    "import matplotlib.pyplot as plt\n",
    "\n",
    "cm = confusion_matrix(state_targets, state_preds)\n",
    "plt.figure(figsize=(18, 15))\n",
    "sns.heatmap(cm, annot=True, fmt='d', cmap='Blues', xticklabels=range(num_state_classes), yticklabels=range(num_state_classes))\n",
    "plt.xlabel('Predicted')\n",
    "plt.ylabel('True')\n",
    "plt.title('Confusion Matrix')\n",
    "plt.show()"
   ]
  },
  {
   "cell_type": "markdown",
   "id": "89b6fe87-6687-475e-b3eb-e227a2d22c03",
   "metadata": {
    "jp-MarkdownHeadingCollapsed": true,
    "tags": []
   },
   "source": [
    "### 2. 多输出模型评估 - 评估分类和回归任务"
   ]
  },
  {
   "cell_type": "code",
   "execution_count": 18,
   "id": "599f8038-6193-486c-a53b-a01cfb193635",
   "metadata": {},
   "outputs": [
    {
     "name": "stdout",
     "output_type": "stream",
     "text": [
      "\n",
      "===== 状态分类评估 =====\n",
      "准确率: 0.7088731202395677\n",
      "\n",
      "===== 时间预测评估 =====\n",
      "RMSE: 512.36\n",
      "MAE: 189.42\n"
     ]
    },
    {
     "data": {
      "image/png": "[encoded data removed]",
      "text/plain": [
       "<Figure size 800x600 with 1 Axes>"
      ]
     },
     "metadata": {},
     "output_type": "display_data"
    },
    {
     "name": "stdout",
     "output_type": "stream",
     "text": [
      "state_accuracy: 0.7088731202395677\n",
      "time_rmse: 512.3604834513344\n",
      "time_mae: 189.41597675696607\n"
     ]
    }
   ],
   "source": [
    "from sklearn.metrics import accuracy_score, classification_report, mean_squared_error, mean_absolute_error\n",
    "import matplotlib.pyplot as plt\n",
    "\n",
    "# 初始化存储容器\n",
    "state_preds = []\n",
    "time_preds = []\n",
    "state_targets = []\n",
    "time_targets = []\n",
    "model.eval()\n",
    "\n",
    "with torch.no_grad():\n",
    "    for x_batch, y_state, y_time in test_loader:\n",
    "        x_batch = x_batch.to(device).float()\n",
    "\n",
    "        # 前向传播\n",
    "        state_pred, time_pred = model(x_batch)\n",
    "\n",
    "        # 收集预测结果\n",
    "        state_preds.extend(torch.argmax(state_pred, dim=1).cpu().numpy())  # 取类别索引\n",
    "        time_preds.extend(time_pred.cpu().numpy())\n",
    "\n",
    "        # 收集真实标签\n",
    "        state_targets.extend(y_state.cpu().numpy())\n",
    "        time_targets.extend(y_time.cpu().numpy())\n",
    "\n",
    "# ====== 分类任务评估 ======\n",
    "print(\"\\n===== 状态分类评估 =====\")\n",
    "print(\"准确率:\", accuracy_score(state_targets, state_preds))\n",
    "# print(classification_report(\n",
    "#     state_targets, \n",
    "#     state_preds,\n",
    "#     target_names=state_encoder.classes_  # 使用之前保存的编码器类别名\n",
    "# ))\n",
    "\n",
    "\n",
    "# ====== 时间回归评估 ======\n",
    "print(\"\\n===== 时间预测评估 =====\")\n",
    "rmse = np.sqrt(mean_squared_error(time_targets, time_preds))\n",
    "mae = mean_absolute_error(time_targets, time_preds)\n",
    "print(f\"RMSE: {rmse:.2f}\")\n",
    "print(f\"MAE: {mae:.2f}\")\n",
    "\n",
    "# 时间预测散点图\n",
    "plt.figure(figsize=(8, 6))\n",
    "plt.scatter(time_targets, time_preds, alpha=0.3)\n",
    "plt.plot([min(time_targets), max(time_targets)], \n",
    "         [min(time_targets), max(time_targets)], 'r--')\n",
    "plt.xlabel(\"Target time\")\n",
    "plt.ylabel(\"Predicted time\")\n",
    "plt.show()\n",
    "\n",
    "\n",
    "print(\"state_accuracy:\", accuracy_score(state_targets, state_preds))\n",
    "print(\"time_rmse:\", rmse)\n",
    "print(\"time_mae:\", mae)\n",
    "\n",
    "\n"
   ]
  }
 ],
 "metadata": {
  "kernelspec": {
   "display_name": "Python 3 (ipykernel)",
   "language": "python",
   "name": "python3"
  },
  "language_info": {
   "codemirror_mode": {
    "name": "ipython",
    "version": 3
   },
   "file_extension": ".py",
   "mimetype": "text/x-python",
   "name": "python",
   "nbconvert_exporter": "python",
   "pygments_lexer": "ipython3",
   "version": "3.10.9"
  }
 },
 "nbformat": 4,
 "nbformat_minor": 5
}
