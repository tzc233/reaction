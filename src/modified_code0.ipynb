{
 "cells": [
  {
   "cell_type": "code",
   "execution_count": 1,
   "id": "28ea72c0-a785-445d-9403-77c8ee23eed6",
   "metadata": {},
   "outputs": [],
   "source": [
    "import torch\n",
    "import pandas as pd\n",
    "import numpy as np\n",
    "# 新数据\n",
    "# 读取所有数据\n",
    "paths = [\n",
    "    '../data/clean/clean_processed_data_1500_1.csv', '../data/clean/clean_processed_data_1500_2.csv', '../data/clean/clean_processed_data_1500_3.csv',\n",
    "    '../data/clean/clean_processed_data_1500_4.csv', '../data/clean/clean_processed_data_1500_5.csv', '../data/clean/clean_processed_data_1500_6.csv'\n",
    "]\n",
    "\n",
    "# 读取并拼接数据\n",
    "# all_data = pd.concat([pd.read_csv(path) for path in paths], ignore_index=True)\n",
    "# all_data = np.array(all_data)\n",
    "# all_data.shape"
   ]
  },
  {
   "cell_type": "code",
   "execution_count": 4,
   "id": "8276e454-11c1-49cb-b3d2-2430649f7ad8",
   "metadata": {},
   "outputs": [],
   "source": [
    "all_data = []\n",
    "for path in paths:\n",
    "    data = pd.read_csv(path)\n",
    "    data = np.array(data)\n",
    "    all_data.append(data)\n",
    "all_data = np.concatenate(all_data, axis=0)"
   ]
  },
  {
   "cell_type": "code",
   "execution_count": null,
   "id": "9e415f19-7130-4a36-b78b-79cc037a625c",
   "metadata": {},
   "outputs": [],
   "source": [
    "all_data.shape"
   ]
  },
  {
   "cell_type": "code",
   "execution_count": 5,
   "id": "85f7805d-9945-46f9-9f2a-b45599cac129",
   "metadata": {},
   "outputs": [],
   "source": [
    "# \n",
    "import torch\n",
    "import torch.nn as nn\n",
    "import torch.optim as optim\n",
    "import numpy as np\n",
    "import matplotlib.pyplot as plt\n",
    "from torch.utils.data import TensorDataset, DataLoader\n",
    "from tqdm import tqdm\n",
    "from sklearn.model_selection import train_test_split\n",
    "from sklearn.metrics import mean_squared_error\n",
    "from torch.optim.lr_scheduler import ReduceLROnPlateau\n",
    "from sklearn.preprocessing import MinMaxScaler\n",
    "from copy import deepcopy\n",
    "import pandas as pd\n",
    "# 设定随机种子以保证结果可复现\n",
    "torch.manual_seed(0)\n",
    "np.random.seed(0)\n",
    "\n",
    "# 设定设备\n",
    "device = torch.device(\"cuda\" if torch.cuda.is_available() else \"cpu\")"
   ]
  },
  {
   "cell_type": "code",
   "execution_count": 6,
   "id": "f2c675c0-213e-4ebf-8b19-678416b9d2f4",
   "metadata": {},
   "outputs": [
    {
     "name": "stdout",
     "output_type": "stream",
     "text": [
      "(2652,)\n"
     ]
    }
   ],
   "source": [
    "# 处理数据的函数\n",
    "def process_data(data):\n",
    "    pro_data = []\n",
    "    for record in data:\n",
    "        # 每条记录是一个字符串，将其按分号分割\n",
    "        elements = record[0].split(';')\n",
    "        processed_data = []\n",
    "        for element in elements:\n",
    "            # print(element)\n",
    "            # 去除括号并按逗号分割成元素和数字\n",
    "            mol, count = element.strip('()').split(',')\n",
    "            processed_data.append((mol, int(count)))\n",
    "        pro_data.append(np.array(processed_data))\n",
    "    return pro_data\n",
    "\n",
    "# 调用函数处理数据\n",
    "processed = process_data(all_data) \n",
    "processed = np.array(processed, dtype=object)\n",
    "print(processed.shape)"
   ]
  },
  {
   "cell_type": "markdown",
   "id": "87cc4afb-39f3-44b1-b4e9-d330d2b1be05",
   "metadata": {},
   "source": [
    "# 对原始数据(processed)继续进行统计分析"
   ]
  },
  {
   "cell_type": "code",
   "execution_count": 7,
   "id": "03cfe699-0692-4fd4-b4d5-81d4f6ec18f7",
   "metadata": {},
   "outputs": [
    {
     "name": "stdout",
     "output_type": "stream",
     "text": [
      "39\n"
     ]
    }
   ],
   "source": [
    "# 统计所有物种类型\n",
    "unique_species = set()\n",
    "\n",
    "for record in processed:\n",
    "    for element in record:\n",
    "        # element 是一个包含 ['物种名称', '停留时间'] 的数组\n",
    "        mol = element[0]  # 获取物种名称\n",
    "        unique_species.add(mol)\n",
    "\n",
    "# 输出所有物种类型的名称\n",
    "print(len(unique_species))\n",
    "#print(unique_species)\n"
   ]
  },
  {
   "cell_type": "code",
   "execution_count": 8,
   "id": "80b2254c-d6a4-4679-adf3-33f02d3199f2",
   "metadata": {},
   "outputs": [
    {
     "name": "stdout",
     "output_type": "stream",
     "text": [
      "\n",
      "物种类型                 总出现次数           停留时间<= 5 次数         \n",
      "-------------------------------------------------------\n",
      "MoS5                 63108           47265               \n",
      "MoS6                 57214           6137                \n",
      "MoOS6                35233           2670                \n",
      "MoS4                 33309           22909               \n",
      "MoS7                 27471           2338                \n",
      "MoS8                 27364           5718                \n",
      "MoO2S5               22761           4153                \n",
      "MoOS5                22418           2624                \n",
      "MoS9                 16688           7319                \n",
      "MoOS7                15167           6013                \n",
      "MoS3                 10009           3507                \n",
      "MoOS4                8158            3937                \n",
      "MoS2                 7251            2696                \n",
      "MoOS2                6446            2368                \n",
      "MoS                  6235            2451                \n",
      "MoOS3                5800            1922                \n",
      "MoO2S4               5563            1194                \n",
      "MoO                  5353            2164                \n",
      "Mo2S10               4933            1057                \n",
      "MoO2                 4429            1010                \n",
      "Mo2S9                4340            773                 \n",
      "MoOS                 3906            1080                \n",
      "Mo2S8                3544            600                 \n",
      "Mo2S7                3019            459                 \n",
      "Mo3O9                2660            127                 \n",
      "Mo2S6                2385            407                 \n",
      "MoO3                 1696            1135                \n",
      "MoO2S                1566            771                 \n",
      "MoO2S2               1468            806                 \n",
      "MoO2S6               1281            374                 \n",
      "Mo                   1250            624                 \n",
      "Mo2S5                1177            219                 \n",
      "Mo3O9S2              993             138                 \n",
      "MoO2S3               281             111                 \n",
      "Mo2O4                165             122                 \n",
      "Mo2S4                164             38                  \n",
      "Mo2O3                103             64                  \n",
      "Mo2OS                51              31                  \n",
      "Mo2O2                48              19                  \n"
     ]
    }
   ],
   "source": [
    "from collections import Counter\n",
    "import numpy as np\n",
    "import pandas as pd\n",
    "\n",
    "def count_species_with_time(processed, n):\n",
    "    \"\"\"\n",
    "    统计每个物种的总出现次数以及停留时间小于等于n的次数。\n",
    "\n",
    "    参数:\n",
    "    - processed (np.array): 处理后的数据数组，元素为每条记录的物种及停留时间。\n",
    "    - n (int): 停留时间的阈值。\n",
    "\n",
    "    返回:\n",
    "    - species_counter (Counter): 每个物种的总出现次数。\n",
    "    - species_counter_le_n (Counter): 每个物种停留时间小于等于n的出现次数。\n",
    "    \"\"\"\n",
    "    species_counter = Counter()\n",
    "    species_counter_le_n = Counter()\n",
    "    \n",
    "    for record in processed:\n",
    "        for element in record:\n",
    "            mol = element[0]\n",
    "            try:\n",
    "                count = int(element[1])\n",
    "            except ValueError:\n",
    "                print(f\"无法将停留时间转换为整数: {element[1]}，跳过该元素。\")\n",
    "                continue  # 跳过无法转换的元素\n",
    "            \n",
    "            species_counter[mol] += 1\n",
    "            if count <= n:\n",
    "                species_counter_le_n[mol] += 1\n",
    "    \n",
    "    return species_counter, species_counter_le_n\n",
    "\n",
    "def print_species_statistics(species_counts, species_counts_le_n, n):\n",
    "    \"\"\"\n",
    "    打印每种物种的总出现次数和停留时间小于等于n的出现次数，按总出现次数降序排列。\n",
    "\n",
    "    参数:\n",
    "    - species_counts (Counter): 每个物种的总出现次数。\n",
    "    - species_counts_le_n (Counter): 每个物种停留时间小于等于n的出现次数。\n",
    "    - n (int): 停留时间的阈值。\n",
    "    \"\"\"\n",
    "    # 获取按总出现次数降序排列的物种列表\n",
    "    sorted_species = species_counts.most_common()\n",
    "    \n",
    "    # 打印表头\n",
    "    print(f\"\\n{'物种类型':<20} {'总出现次数':<15} {'停留时间<= ' + str(n) + ' 次数':<20}\")\n",
    "    print(\"-\" * 55)\n",
    "    \n",
    "    # 打印每种物种的统计数据\n",
    "    for mol, total in sorted_species:\n",
    "        le_n = species_counts_le_n.get(mol, 0)\n",
    "        print(f\"{mol:<20} {total:<15} {le_n:<20}\")\n",
    "\n",
    "\n",
    "\n",
    "# 示例调用\n",
    "if __name__ == \"__main__\":\n",
    "\n",
    "    \n",
    "    n = 5  # 设定阈值\n",
    "    \n",
    "    # 统计物种出现次数和停留时间小于等于n的出现次数\n",
    "    species_counts, species_counts_le_n = count_species_with_time(processed, n)\n",
    "    \n",
    "    # 打印统计结果，按总出现次数降序排列\n",
    "    print_species_statistics(species_counts, species_counts_le_n, n)\n"
   ]
  },
  {
   "cell_type": "code",
   "execution_count": 9,
   "id": "a3ed580a-7545-4f4b-8f24-71fc560595c0",
   "metadata": {},
   "outputs": [
    {
     "name": "stdout",
     "output_type": "stream",
     "text": [
      "\n",
      "每种物种类型的最大、最小和平均停留时间：\n",
      "Mo2O4: 最小停留时间 = 1, 最大停留时间 = 69, 平均停留时间 = 4.71\n",
      "Mo2O3: 最小停留时间 = 1, 最大停留时间 = 26, 平均停留时间 = 6.44\n",
      "MoO3: 最小停留时间 = 1, 最大停留时间 = 473, 平均停留时间 = 8.19\n",
      "Mo2OS: 最小停留时间 = 1, 最大停留时间 = 43, 平均停留时间 = 9.71\n",
      "Mo3O9S2: 最小停留时间 = 1, 最大停留时间 = 62, 平均停留时间 = 11.20\n",
      "Mo2O2: 最小停留时间 = 1, 最大停留时间 = 62, 平均停留时间 = 13.27\n",
      "MoO2S2: 最小停留时间 = 1, 最大停留时间 = 730, 平均停留时间 = 14.52\n",
      "MoO2S3: 最小停留时间 = 1, 最大停留时间 = 459, 平均停留时间 = 16.78\n",
      "MoO2S: 最小停留时间 = 1, 最大停留时间 = 604, 平均停留时间 = 16.86\n",
      "MoS9: 最小停留时间 = 1, 最大停留时间 = 1877, 平均停留时间 = 20.47\n",
      "MoO2S4: 最小停留时间 = 1, 最大停留时间 = 1976, 平均停留时间 = 26.09\n",
      "MoOS7: 最小停留时间 = 1, 最大停留时间 = 1588, 平均停留时间 = 29.18\n",
      "MoO2S6: 最小停留时间 = 1, 最大停留时间 = 405, 平均停留时间 = 30.17\n",
      "MoS5: 最小停留时间 = 1, 最大停留时间 = 2017, 平均停留时间 = 36.82\n",
      "MoOS4: 最小停留时间 = 1, 最大停留时间 = 1124, 平均停留时间 = 37.66\n",
      "Mo: 最小停留时间 = 1, 最大停留时间 = 544, 平均停留时间 = 38.32\n",
      "MoO2S5: 最小停留时间 = 1, 最大停留时间 = 1414, 平均停留时间 = 41.01\n",
      "MoS4: 最小停留时间 = 1, 最大停留时间 = 2915, 平均停留时间 = 41.36\n",
      "MoOS2: 最小停留时间 = 1, 最大停留时间 = 1242, 平均停留时间 = 42.36\n",
      "MoO2: 最小停留时间 = 1, 最大停留时间 = 665, 平均停留时间 = 44.41\n",
      "MoS: 最小停留时间 = 1, 最大停留时间 = 642, 平均停留时间 = 49.90\n",
      "MoOS3: 最小停留时间 = 1, 最大停留时间 = 1243, 平均停留时间 = 52.64\n",
      "Mo2S4: 最小停留时间 = 1, 最大停留时间 = 453, 平均停留时间 = 55.81\n",
      "MoO: 最小停留时间 = 1, 最大停留时间 = 719, 平均停留时间 = 55.88\n",
      "MoS2: 最小停留时间 = 1, 最大停留时间 = 1575, 平均停留时间 = 57.34\n",
      "MoOS: 最小停留时间 = 1, 最大停留时间 = 862, 平均停留时间 = 64.60\n",
      "MoS8: 最小停留时间 = 1, 最大停留时间 = 2051, 平均停留时间 = 65.50\n",
      "Mo2S5: 最小停留时间 = 1, 最大停留时间 = 724, 平均停留时间 = 66.94\n",
      "MoS3: 最小停留时间 = 1, 最大停留时间 = 1828, 平均停留时间 = 70.20\n",
      "Mo3O9: 最小停留时间 = 1, 最大停留时间 = 480, 平均停留时间 = 72.07\n",
      "Mo2S6: 最小停留时间 = 1, 最大停留时间 = 1704, 平均停留时间 = 88.54\n",
      "Mo2S7: 最小停留时间 = 1, 最大停留时间 = 1980, 平均停留时间 = 105.96\n",
      "Mo2S8: 最小停留时间 = 1, 最大停留时间 = 1424, 平均停留时间 = 109.65\n",
      "MoOS5: 最小停留时间 = 1, 最大停留时间 = 3162, 平均停留时间 = 111.82\n",
      "Mo2S9: 最小停留时间 = 1, 最大停留时间 = 3443, 平均停留时间 = 114.64\n",
      "Mo2S10: 最小停留时间 = 1, 最大停留时间 = 3151, 平均停留时间 = 133.16\n",
      "MoOS6: 最小停留时间 = 1, 最大停留时间 = 4603, 平均停留时间 = 163.85\n",
      "MoS6: 最小停留时间 = 1, 最大停留时间 = 11353, 平均停留时间 = 670.96\n",
      "MoS7: 最小停留时间 = 1, 最大停留时间 = 10330, 平均停留时间 = 726.28\n"
     ]
    }
   ],
   "source": [
    "from collections import Counter, defaultdict\n",
    "# -----------------------------------------------\n",
    "# 统计每个物种的最大、最小和平均停留时间\n",
    "# -----------------------------------------------\n",
    "\n",
    "# 使用 defaultdict 存储每个物种的最小、最大停留时间及总停留时间\n",
    "species_time_stats = defaultdict(lambda: {'min': None, 'max': None, 'total': 0, 'count': 0})\n",
    "\n",
    "for record in processed:\n",
    "    for element in record:\n",
    "        mol, count = element[0], int(element[1])\n",
    "        if species_time_stats[mol]['min'] is None or count < species_time_stats[mol]['min']:\n",
    "            species_time_stats[mol]['min'] = count\n",
    "        if species_time_stats[mol]['max'] is None or count > species_time_stats[mol]['max']:\n",
    "            species_time_stats[mol]['max'] = count\n",
    "        species_time_stats[mol]['total'] += count\n",
    "        species_time_stats[mol]['count'] += 1\n",
    "\n",
    "# 计算平均停留时间并准备输出列表\n",
    "species_time_list = sorted(\n",
    "    [\n",
    "        (\n",
    "            stats['total'] / stats['count'] if stats['count'] > 0 else 0,\n",
    "            stats['max'],\n",
    "            stats['min'],\n",
    "            mol\n",
    "        )\n",
    "        for mol, stats in species_time_stats.items()\n",
    "    ],\n",
    "    key=lambda x: x[0]\n",
    ")\n",
    "\n",
    "# 输出统计结果\n",
    "print(\"\\n每种物种类型的最大、最小和平均停留时间：\")\n",
    "for avg_time, max_time,min_time,mol in species_time_list:\n",
    "    print(f\"{mol}: 最小停留时间 = {min_time}, 最大停留时间 = {max_time}, 平均停留时间 = {avg_time:.2f}\")\n",
    "\n",
    "\n",
    "\n"
   ]
  },
  {
   "cell_type": "markdown",
   "id": "707b5339-3b5f-4a29-8b4a-5e00e3853be1",
   "metadata": {},
   "source": [
    "# 对原始数据(processed)继续进行深度处理"
   ]
  },
  {
   "cell_type": "code",
   "execution_count": 21,
   "id": "12f73417-1baf-40b8-8907-69c0d5fd34cd",
   "metadata": {},
   "outputs": [
    {
     "name": "stdout",
     "output_type": "stream",
     "text": [
      "\n",
      "过滤后 (删除停留时间 < 5 并合并相邻相同状态) ：\n",
      "[['Mo3O9' '55']\n",
      " ['MoO2' '128']\n",
      " ['MoOS2' '75']\n",
      " ['MoS4' '366']\n",
      " ['MoS6' '196']\n",
      " ['MoS4' '156']\n",
      " ['MoS6' '1211']\n",
      " ['Mo2S7' '52']\n",
      " ['MoS6' '1035']\n",
      " ['Mo2S6' '329']\n",
      " ['MoS4' '51']\n",
      " ['MoS5' '61']\n",
      " ['MoS4' '191']\n",
      " ['MoOS5' '115']\n",
      " ['Mo2S10' '420']\n",
      " ['MoS6' '127']\n",
      " ['MoS7' '2263']\n",
      " ['MoS6' '217']\n",
      " ['MoS8' '192']\n",
      " ['MoS6' '930']]\n"
     ]
    }
   ],
   "source": [
    "import numpy as np\n",
    "\n",
    "def filter_and_merge_one_record(record, min_time=5):\n",
    "    \"\"\"\n",
    "    对单条记录进行过滤和合并操作：\n",
    "    1. 删除停留时间小于 min_time 的状态。\n",
    "    2. 将删除后连续且相同物种的状态合并为一个状态（停留时间累加）。\n",
    "    \n",
    "    参数：\n",
    "    - record: 形如 array([['MoO','33'], ['MoS','251'], ['MoS','254'], ...]) 的数组\n",
    "    - min_time: 停留时间的阈值，删除停留时间小于该值的状态\n",
    "    \n",
    "    返回：\n",
    "    - 处理后的 NumPy 数组，满足以上两步操作\n",
    "    \"\"\"\n",
    "    # 1) 过滤：删除停留时间 < min_time 的状态\n",
    "    filtered = [row for row in record if int(row[1]) >= min_time]\n",
    "    \n",
    "    # 2) 合并连续相同物种的状态\n",
    "    merged = []\n",
    "    for mol, time_str in filtered:\n",
    "        time_val = int(time_str)\n",
    "        if merged and merged[-1][0] == mol:\n",
    "            # 若与上一个物种相同，则合并（累加停留时间）\n",
    "            merged[-1][1] = str(int(merged[-1][1]) + time_val)\n",
    "        else:\n",
    "            # 否则添加新的物种状态\n",
    "            merged.append([mol, str(time_val)])\n",
    "    \n",
    "    return np.array(merged)\n",
    "\n",
    "def filter_and_merge_processed(processed, min_time=5):\n",
    "    \"\"\"\n",
    "    对完整的 processed 数据进行过滤和合并操作：\n",
    "    对 processed 每个元素（单条记录）调用 filter_and_merge_one_record\n",
    "    \n",
    "    参数：\n",
    "    - processed: 形如 [record_1, record_2, ...] 的对象数组（dtype=object）\n",
    "    - min_time: 停留时间的阈值\n",
    "    \n",
    "    返回：\n",
    "    - 处理后的 NumPy 对象数组\n",
    "    \"\"\"\n",
    "    new_processed = []\n",
    "    for idx, record in enumerate(processed):\n",
    "        merged_record = filter_and_merge_one_record(record, min_time=min_time)\n",
    "        new_processed.append(merged_record)\n",
    "    \n",
    "    return np.array(new_processed, dtype=object)\n",
    "\n",
    "# -------------------- 测试示例 --------------------\n",
    "if __name__ == \"__main__\":    \n",
    "    # 设定阈值，比如 n=5\n",
    "    n = 50\n",
    "    \n",
    "    # 调用过滤和合并函数\n",
    "    new_processed = filter_and_merge_processed(processed, min_time=n)\n",
    "    \n",
    "    # 打印过滤前和过滤后的结果\n",
    "    # print(\"过滤前 (原始数据) ：\")\n",
    "    # print(processed[0])\n",
    "    \n",
    "    print(\"\\n过滤后 (删除停留时间 < 5 并合并相邻相同状态) ：\")\n",
    "    print(new_processed[0][:20])\n"
   ]
  },
  {
   "cell_type": "code",
   "execution_count": 16,
   "id": "84bef8db",
   "metadata": {},
   "outputs": [
    {
     "data": {
      "text/plain": [
       "'55'"
      ]
     },
     "execution_count": 16,
     "metadata": {},
     "output_type": "execute_result"
    }
   ],
   "source": [
    "new_processed[0][0][1]"
   ]
  },
  {
   "cell_type": "code",
   "execution_count": 18,
   "id": "83e8ac83",
   "metadata": {},
   "outputs": [],
   "source": [
    "for record in new_processed:\n",
    "    for element in record:\n",
    "        if int(element[1]) <= 5:\n",
    "            print(element)"
   ]
  },
  {
   "cell_type": "code",
   "execution_count": 22,
   "id": "a85b428d",
   "metadata": {},
   "outputs": [
    {
     "ename": "",
     "evalue": "",
     "output_type": "error",
     "traceback": [
      "\u001b[1;31mThe Kernel crashed while executing code in the current cell or a previous cell. \n",
      "\u001b[1;31mPlease review the code in the cell(s) to identify a possible cause of the failure. \n",
      "\u001b[1;31mClick <a href='https://aka.ms/vscodeJupyterKernelCrash'>here</a> for more info. \n",
      "\u001b[1;31mView Jupyter <a href='command:jupyter.viewOutput'>log</a> for further details."
     ]
    }
   ],
   "source": [
    "np.save('../data/new_processed50.npy', new_processed)"
   ]
  },
  {
   "cell_type": "code",
   "execution_count": 32,
   "id": "642a79f4",
   "metadata": {},
   "outputs": [
    {
     "ename": "ValueError",
     "evalue": "Object arrays cannot be loaded when allow_pickle=False",
     "output_type": "error",
     "traceback": [
      "\u001b[1;31m---------------------------------------------------------------------------\u001b[0m",
      "\u001b[1;31mValueError\u001b[0m                                Traceback (most recent call last)",
      "Cell \u001b[1;32mIn[32], line 2\u001b[0m\n\u001b[0;32m      1\u001b[0m \u001b[38;5;66;03m# 加载 .npy 文件\u001b[39;00m\n\u001b[1;32m----> 2\u001b[0m loaded_data \u001b[38;5;241m=\u001b[39m \u001b[43mnp\u001b[49m\u001b[38;5;241;43m.\u001b[39;49m\u001b[43mload\u001b[49m\u001b[43m(\u001b[49m\u001b[38;5;124;43m'\u001b[39;49m\u001b[38;5;124;43m../data/new_processed.npy\u001b[39;49m\u001b[38;5;124;43m'\u001b[39;49m\u001b[43m)\u001b[49m\n\u001b[0;32m      3\u001b[0m \u001b[38;5;66;03m# print(loaded_data)\u001b[39;00m\n",
      "File \u001b[1;32md:\\Software\\anaconda3\\envs\\pytorch\\lib\\site-packages\\numpy\\lib\\npyio.py:430\u001b[0m, in \u001b[0;36mload\u001b[1;34m(file, mmap_mode, allow_pickle, fix_imports, encoding)\u001b[0m\n\u001b[0;32m    428\u001b[0m         \u001b[38;5;28;01mreturn\u001b[39;00m \u001b[38;5;28mformat\u001b[39m\u001b[38;5;241m.\u001b[39mopen_memmap(file, mode\u001b[38;5;241m=\u001b[39mmmap_mode)\n\u001b[0;32m    429\u001b[0m     \u001b[38;5;28;01melse\u001b[39;00m:\n\u001b[1;32m--> 430\u001b[0m         \u001b[38;5;28;01mreturn\u001b[39;00m \u001b[38;5;28;43mformat\u001b[39;49m\u001b[38;5;241;43m.\u001b[39;49m\u001b[43mread_array\u001b[49m\u001b[43m(\u001b[49m\u001b[43mfid\u001b[49m\u001b[43m,\u001b[49m\u001b[43m \u001b[49m\u001b[43mallow_pickle\u001b[49m\u001b[38;5;241;43m=\u001b[39;49m\u001b[43mallow_pickle\u001b[49m\u001b[43m,\u001b[49m\n\u001b[0;32m    431\u001b[0m \u001b[43m                                 \u001b[49m\u001b[43mpickle_kwargs\u001b[49m\u001b[38;5;241;43m=\u001b[39;49m\u001b[43mpickle_kwargs\u001b[49m\u001b[43m)\u001b[49m\n\u001b[0;32m    432\u001b[0m \u001b[38;5;28;01melse\u001b[39;00m:\n\u001b[0;32m    433\u001b[0m     \u001b[38;5;66;03m# Try a pickle\u001b[39;00m\n\u001b[0;32m    434\u001b[0m     \u001b[38;5;28;01mif\u001b[39;00m \u001b[38;5;129;01mnot\u001b[39;00m allow_pickle:\n",
      "File \u001b[1;32md:\\Software\\anaconda3\\envs\\pytorch\\lib\\site-packages\\numpy\\lib\\format.py:742\u001b[0m, in \u001b[0;36mread_array\u001b[1;34m(fp, allow_pickle, pickle_kwargs)\u001b[0m\n\u001b[0;32m    739\u001b[0m \u001b[38;5;28;01mif\u001b[39;00m dtype\u001b[38;5;241m.\u001b[39mhasobject:\n\u001b[0;32m    740\u001b[0m     \u001b[38;5;66;03m# The array contained Python objects. We need to unpickle the data.\u001b[39;00m\n\u001b[0;32m    741\u001b[0m     \u001b[38;5;28;01mif\u001b[39;00m \u001b[38;5;129;01mnot\u001b[39;00m allow_pickle:\n\u001b[1;32m--> 742\u001b[0m         \u001b[38;5;28;01mraise\u001b[39;00m \u001b[38;5;167;01mValueError\u001b[39;00m(\u001b[38;5;124m\"\u001b[39m\u001b[38;5;124mObject arrays cannot be loaded when \u001b[39m\u001b[38;5;124m\"\u001b[39m\n\u001b[0;32m    743\u001b[0m                          \u001b[38;5;124m\"\u001b[39m\u001b[38;5;124mallow_pickle=False\u001b[39m\u001b[38;5;124m\"\u001b[39m)\n\u001b[0;32m    744\u001b[0m     \u001b[38;5;28;01mif\u001b[39;00m pickle_kwargs \u001b[38;5;129;01mis\u001b[39;00m \u001b[38;5;28;01mNone\u001b[39;00m:\n\u001b[0;32m    745\u001b[0m         pickle_kwargs \u001b[38;5;241m=\u001b[39m {}\n",
      "\u001b[1;31mValueError\u001b[0m: Object arrays cannot be loaded when allow_pickle=False"
     ]
    }
   ],
   "source": [
    "# 加载 .npy 文件\n",
    "loaded_data = np.load('../data/new_processed.npy')\n",
    "# print(loaded_data)"
   ]
  },
  {
   "cell_type": "markdown",
   "id": "118eb155-9a83-4e80-b3f8-b445e7d4dd61",
   "metadata": {},
   "source": [
    "# 数据编码操作"
   ]
  },
  {
   "cell_type": "code",
   "execution_count": null,
   "id": "eab29edf-6ee3-4df4-ab21-246ec1b71d42",
   "metadata": {},
   "outputs": [],
   "source": [
    "import numpy as np\n",
    "# 编码，转换成向量\n",
    "def incode(molecule):\n",
    "    vec = np.zeros(3)\n",
    "    length = len(molecule)\n",
    "    Mo = molecule.find('Mo')\n",
    "    O = molecule.find('O')\n",
    "    S = molecule.find('S')\n",
    "    # print(Mo, O, S)\n",
    "    moi = oi = si = 0\n",
    "    moi = 1\n",
    "    if O==-1 and S==-1 and length>2:\n",
    "        moi = molecule[Mo+2:]\n",
    "    elif O != -1:\n",
    "        if O > Mo + 2:\n",
    "            moi = int(molecule[Mo+2:O])\n",
    "        else:\n",
    "            moi = 1\n",
    "        if S == O + 1 or O+1==length:\n",
    "            oi = 1\n",
    "        elif S==-1:\n",
    "            oi = int(molecule[O+1:])\n",
    "        else:\n",
    "            oi = int(molecule[O+1:S])\n",
    "    elif S != -1:\n",
    "        if S > Mo + 2:\n",
    "            moi = int(molecule[Mo+2:S])\n",
    "        else:\n",
    "            moi = 1\n",
    "        if S+1==length:\n",
    "            si = 1\n",
    "        else:\n",
    "            si = int(molecule[S+1:])\n",
    "    if S!=-1:\n",
    "        if S+1==length:\n",
    "            si = 1\n",
    "        else:\n",
    "            si = int(molecule[S+1:])\n",
    "    vec = np.array([moi, oi, si])\n",
    "    return vec\n",
    "incode('MoOS13')"
   ]
  },
  {
   "cell_type": "code",
   "execution_count": null,
   "id": "a8ffa4f3-fd7e-41dc-992a-11bada14aed8",
   "metadata": {},
   "outputs": [],
   "source": []
  }
 ],
 "metadata": {
  "kernelspec": {
   "display_name": "pytorch",
   "language": "python",
   "name": "python3"
  },
  "language_info": {
   "codemirror_mode": {
    "name": "ipython",
    "version": 3
   },
   "file_extension": ".py",
   "mimetype": "text/x-python",
   "name": "python",
   "nbconvert_exporter": "python",
   "pygments_lexer": "ipython3",
   "version": "3.8.20"
  }
 },
 "nbformat": 4,
 "nbformat_minor": 5
}
