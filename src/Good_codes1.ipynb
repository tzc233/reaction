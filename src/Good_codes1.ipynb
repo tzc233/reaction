{
 "cells": [
  {
   "cell_type": "markdown",
   "id": "bf76a0da-ed58-4f7b-afcd-2a749981b233",
   "metadata": {
    "tags": []
   },
   "source": [
    "# 一.导入原始数据"
   ]
  },
  {
   "cell_type": "markdown",
   "id": "731bde27-2af2-4cfa-b902-9e3348560d6c",
   "metadata": {
    "tags": []
   },
   "source": [
    "## 1.1 数据导入和格式化"
   ]
  },
  {
   "cell_type": "code",
   "execution_count": 2,
   "id": "28ea72c0-a785-445d-9403-77c8ee23eed6",
   "metadata": {},
   "outputs": [
    {
     "name": "stdout",
     "output_type": "stream",
     "text": [
      "(10632,)\n",
      "[['Mo3O9' '26']\n",
      " ['Mo3O9S2' '11']\n",
      " ['MoO3' '2']\n",
      " ['MoO2' '96']\n",
      " ['MoO2S2' '2']]\n"
     ]
    }
   ],
   "source": [
    "import torch\n",
    "import pandas as pd\n",
    "import os\n",
    "import torch.nn as nn\n",
    "import torch.optim as optim\n",
    "import numpy as np\n",
    "import matplotlib.pyplot as plt\n",
    "from torch.utils.data import TensorDataset, DataLoader\n",
    "from tqdm import tqdm\n",
    "from sklearn.model_selection import train_test_split\n",
    "from sklearn.metrics import mean_squared_error\n",
    "from torch.optim.lr_scheduler import ReduceLROnPlateau\n",
    "from sklearn.preprocessing import MinMaxScaler\n",
    "from copy import deepcopy\n",
    "from torch.nn.parallel import DataParallel\n",
    "import torch.nn.functional as F\n",
    "# 设定随机种子以保证结果可复现\n",
    "torch.manual_seed(0)\n",
    "np.random.seed(0)\n",
    "\n",
    "# 设定设备\n",
    "device = torch.device(\"cuda\" if torch.cuda.is_available() else \"cpu\")\n",
    "\n",
    "# 新数据\n",
    "# 读取所有数据\n",
    "paths = [\n",
    "    '../data/clean/clean_processed_data_1500_1.csv', '../data/clean/clean_processed_data_1500_2.csv', '../data/clean/clean_processed_data_1500_3.csv',\n",
    "    '../data/clean/clean_processed_data_1500_4.csv', '../data/clean/clean_processed_data_1500_5.csv', '../data/clean/clean_processed_data_1500_6.csv',\n",
    "    '../data/new1/clean_processed_data_1500_1.csv', '../data/new1/clean_processed_data_1500_2.csv', '../data/new1/clean_processed_data_1500_3.csv',\n",
    "    '../data/new1/clean_processed_data_1500_4.csv', '../data/new1/clean_processed_data_1500_5.csv', '../data/new1/clean_processed_data_1500_6.csv',\n",
    "    '../data/new2/clean_processed_data_1500_1.csv', '../data/new2/clean_processed_data_1500_2.csv', '../data/new2/clean_processed_data_1500_3.csv',\n",
    "    '../data/new2/clean_processed_data_1500_4.csv', '../data/new2/clean_processed_data_1500_5.csv', '../data/new2/clean_processed_data_1500_6.csv',\n",
    "    '../data/new3/clean_processed_data_1500_1.csv', '../data/new3/clean_processed_data_1500_2.csv', '../data/new3/clean_processed_data_1500_3.csv',\n",
    "    '../data/new3/clean_processed_data_1500_4.csv', '../data/new3/clean_processed_data_1500_5.csv', '../data/new3/clean_processed_data_1500_6.csv'   \n",
    "]\n",
    "\n",
    "all_data = []\n",
    "for path in paths:\n",
    "    data = pd.read_csv(path,header=None)\n",
    "    data = np.array(data)\n",
    "    all_data.append(data)\n",
    "all_data = np.concatenate(all_data, axis=0)\n",
    "\n",
    "# 处理数据的函数\n",
    "def process_data(data):\n",
    "    pro_data = []\n",
    "    for record in data:\n",
    "        # 每条记录是一个字符串，将其按分号分割\n",
    "        elements = record[0].split(';')\n",
    "        processed_data = []\n",
    "        for element in elements:\n",
    "            # print(element)\n",
    "            # 去除括号并按逗号分割成元素和数字\n",
    "            mol, count = element.strip('()').split(',')\n",
    "            processed_data.append((mol, int(count)))\n",
    "        pro_data.append(np.array(processed_data))\n",
    "    return pro_data\n",
    "\n",
    "# 调用函数处理数据\n",
    "processed = process_data(all_data) \n",
    "processed = np.array(processed, dtype=object)\n",
    "print(processed.shape)\n",
    "print(processed[3][:5])"
   ]
  },
  {
   "cell_type": "markdown",
   "id": "3f06aa47-3f8f-4e22-899a-736a81194da7",
   "metadata": {
    "jp-MarkdownHeadingCollapsed": true,
    "tags": []
   },
   "source": [
    "## 1.2.原始数据(processed)统计分析"
   ]
  },
  {
   "cell_type": "code",
   "execution_count": 3,
   "id": "b8b8e9ba-cc98-48c0-a4af-674ddd25663e",
   "metadata": {},
   "outputs": [
    {
     "name": "stdout",
     "output_type": "stream",
     "text": [
      "44\n"
     ]
    }
   ],
   "source": [
    "# 统计所有物种类型\n",
    "unique_species = set()\n",
    "\n",
    "for record in processed:\n",
    "    for element in record:\n",
    "        # element 是一个包含 ['物种名称', '停留时间'] 的数组\n",
    "        mol = element[0]  # 获取物种名称\n",
    "        unique_species.add(mol)\n",
    "\n",
    "# 输出所有物种类型的名称\n",
    "print(len(unique_species))\n",
    "#print(unique_species)"
   ]
  },
  {
   "cell_type": "code",
   "execution_count": 4,
   "id": "dedcd295-b361-4dbf-804e-941495dfc15e",
   "metadata": {},
   "outputs": [
    {
     "name": "stdout",
     "output_type": "stream",
     "text": [
      "\n",
      "物种类型                 总出现次数           停留时间<= 3 次数          停留时间> 3 次数          \n",
      "---------------------------------------------------------------------------\n",
      "MoS5                 251471          161162               90309               \n",
      "MoS6                 227707          18994                208713              \n",
      "MoOS6                140352          6402                 133950              \n",
      "MoS4                 130303          78279                52024               \n",
      "MoS8                 109748          13943                95805               \n",
      "MoS7                 109421          6196                 103225              \n",
      "MoOS5                90210           6816                 83394               \n",
      "MoO2S5               89990           9272                 80718               \n",
      "MoS9                 66777           20180                46597               \n",
      "MoOS7                60973           17615                43358               \n",
      "MoS3                 40083           11658                28425               \n",
      "MoOS4                32183           12769                19414               \n",
      "MoS2                 28479           8763                 19716               \n",
      "MoOS2                25109           6883                 18226               \n",
      "MoS                  24526           7994                 16532               \n",
      "MoOS3                23354           5691                 17663               \n",
      "MoO                  21175           6765                 14410               \n",
      "Mo2S10               19445           2955                 16490               \n",
      "MoO2S4               19072           2380                 16692               \n",
      "MoO2                 17727           2926                 14801               \n",
      "Mo2S9                16237           1976                 14261               \n",
      "MoOS                 15300           3395                 11905               \n",
      "Mo2S8                14390           1716                 12674               \n",
      "Mo2S7                12071           1398                 10673               \n",
      "Mo3O9                10679           296                  10383               \n",
      "Mo2S6                9110            1178                 7932                \n",
      "MoO3                 6591            2946                 3645                \n",
      "MoO2S                6101            2137                 3964                \n",
      "Mo2S5                4880            699                  4181                \n",
      "Mo                   4838            2076                 2762                \n",
      "MoO2S2               4737            1976                 2761                \n",
      "Mo2S11               4158            816                  3342                \n",
      "Mo3O9S2              4034            204                  3830                \n",
      "MoO2S6               2566            450                  2116                \n",
      "Mo2O4                1678            865                  813                 \n",
      "MoO2S3               1324            324                  1000                \n",
      "Mo2S4                678             110                  568                 \n",
      "Mo2O3                319             126                  193                 \n",
      "Mo2OS8               270             50                   220                 \n",
      "Mo3S10               180             10                   170                 \n",
      "Mo2O2                173             56                   117                 \n",
      "Mo2OS                102             42                   60                  \n",
      "Mo2S3                77              20                   57                  \n",
      "MoO4                 48              24                   24                  \n"
     ]
    }
   ],
   "source": [
    "from collections import Counter\n",
    "import numpy as np\n",
    "import pandas as pd\n",
    "\n",
    "def count_species_with_time(processed, n):\n",
    "    \"\"\"\n",
    "    统计每个物种的总出现次数以及停留时间小于等于n的次数。\n",
    "\n",
    "    参数:\n",
    "    - processed (np.array): 处理后的数据数组，元素为每条记录的物种及停留时间。\n",
    "    - n (int): 停留时间的阈值。\n",
    "\n",
    "    返回:\n",
    "    - species_counter (Counter): 每个物种的总出现次数。\n",
    "    - species_counter_le_n (Counter): 每个物种停留时间小于等于n的出现次数。\n",
    "    \"\"\"\n",
    "    species_counter = Counter()\n",
    "    species_counter_le_n = Counter()\n",
    "    \n",
    "    for record in processed:\n",
    "        for element in record:\n",
    "            mol = element[0]\n",
    "            try:\n",
    "                count = int(element[1])\n",
    "            except ValueError:\n",
    "                print(f\"无法将停留时间转换为整数: {element[1]}，跳过该元素。\")\n",
    "                continue  # 跳过无法转换的元素\n",
    "            \n",
    "            species_counter[mol] += 1\n",
    "            if count <= n:\n",
    "                species_counter_le_n[mol] += 1\n",
    "    \n",
    "    return species_counter, species_counter_le_n\n",
    "\n",
    "def print_species_statistics(species_counts, species_counts_le_n, n):\n",
    "    \"\"\"\n",
    "    打印每种物种的总出现次数、停留时间小于等于n的出现次数以及停留时间大于n的出现次数，\n",
    "    按总出现次数降序排列。\n",
    "\n",
    "    参数:\n",
    "    - species_counts (Counter): 每个物种的总出现次数。\n",
    "    - species_counts_le_n (Counter): 每个物种停留时间小于等于n的出现次数。\n",
    "    - n (int): 停留时间的阈值。\n",
    "    \"\"\"\n",
    "    # 获取按总出现次数降序排列的物种列表\n",
    "    sorted_species = species_counts.most_common()\n",
    "    \n",
    "    # 打印表头\n",
    "    print(f\"\\n{'物种类型':<20} {'总出现次数':<15} {'停留时间<= ' + str(n) + ' 次数':<20} {'停留时间> ' + str(n) + ' 次数':<20}\")\n",
    "    print(\"-\" * 75)\n",
    "    \n",
    "    # 打印每种物种的统计数据\n",
    "    for mol, total in sorted_species:\n",
    "        le_n = species_counts_le_n.get(mol, 0)\n",
    "        gt_n = total - le_n  # 计算停留时间 > n 的次数\n",
    "        print(f\"{mol:<20} {total:<15} {le_n:<20} {gt_n:<20}\")\n",
    "\n",
    "\n",
    "# 示例调用\n",
    "if __name__ == \"__main__\":\n",
    "\n",
    "    n = 3  # 设定阈值\n",
    "    \n",
    "    # 统计物种出现次数和停留时间小于等于n的出现次数\n",
    "    species_counts, species_counts_le_n = count_species_with_time(processed, n)\n",
    "    \n",
    "    # 打印统计结果，按总出现次数降序排列\n",
    "    print_species_statistics(species_counts, species_counts_le_n, n)"
   ]
  },
  {
   "cell_type": "code",
   "execution_count": 5,
   "id": "470944cd-77b8-4a48-92eb-d407658fff93",
   "metadata": {},
   "outputs": [
    {
     "name": "stdout",
     "output_type": "stream",
     "text": [
      "\n",
      "每种物种类型的最大、最小和平均停留时间：\n",
      "Mo2O4: 最小停留时间 = 1, 最大停留时间 = 69, 平均停留时间 = 4.60\n",
      "Mo2O3: 最小停留时间 = 1, 最大停留时间 = 26, 平均停留时间 = 6.53\n",
      "MoO3: 最小停留时间 = 1, 最大停留时间 = 482, 平均停留时间 = 7.94\n",
      "Mo2OS: 最小停留时间 = 1, 最大停留时间 = 43, 平均停留时间 = 9.71\n",
      "MoO4: 最小停留时间 = 1, 最大停留时间 = 83, 平均停留时间 = 10.33\n",
      "Mo3O9S2: 最小停留时间 = 1, 最大停留时间 = 68, 平均停留时间 = 10.72\n",
      "MoO2S2: 最小停留时间 = 1, 最大停留时间 = 730, 平均停留时间 = 14.54\n",
      "MoO2S: 最小停留时间 = 1, 最大停留时间 = 604, 平均停留时间 = 15.25\n",
      "Mo2O2: 最小停留时间 = 1, 最大停留时间 = 146, 平均停留时间 = 16.34\n",
      "MoO2S3: 最小停留时间 = 1, 最大停留时间 = 459, 平均停留时间 = 17.31\n",
      "MoS9: 最小停留时间 = 1, 最大停留时间 = 1877, 平均停留时间 = 20.06\n",
      "MoO2S4: 最小停留时间 = 1, 最大停留时间 = 1976, 平均停留时间 = 27.40\n",
      "MoOS7: 最小停留时间 = 1, 最大停留时间 = 1588, 平均停留时间 = 28.48\n",
      "MoO2S6: 最小停留时间 = 1, 最大停留时间 = 405, 平均停留时间 = 30.13\n",
      "Mo2OS8: 最小停留时间 = 1, 最大停留时间 = 388, 平均停留时间 = 31.20\n",
      "MoS5: 最小停留时间 = 1, 最大停留时间 = 3027, 平均停留时间 = 36.62\n",
      "MoOS4: 最小停留时间 = 1, 最大停留时间 = 1341, 平均停留时间 = 37.83\n",
      "Mo: 最小停留时间 = 1, 最大停留时间 = 631, 平均停留时间 = 39.17\n",
      "MoO2S5: 最小停留时间 = 1, 最大停留时间 = 2327, 平均停留时间 = 40.95\n",
      "MoS4: 最小停留时间 = 1, 最大停留时间 = 4958, 平均停留时间 = 41.98\n",
      "MoOS2: 最小停留时间 = 1, 最大停留时间 = 1325, 平均停留时间 = 42.18\n",
      "Mo2S3: 最小停留时间 = 1, 最大停留时间 = 358, 平均停留时间 = 42.69\n",
      "MoO2: 最小停留时间 = 1, 最大停留时间 = 880, 平均停留时间 = 45.54\n",
      "MoS: 最小停留时间 = 1, 最大停留时间 = 901, 平均停留时间 = 50.51\n",
      "MoOS3: 最小停留时间 = 1, 最大停留时间 = 1832, 平均停留时间 = 53.57\n",
      "Mo2S4: 最小停留时间 = 1, 最大停留时间 = 662, 平均停留时间 = 54.59\n",
      "MoO: 最小停留时间 = 1, 最大停留时间 = 1118, 平均停留时间 = 55.85\n",
      "MoS2: 最小停留时间 = 1, 最大停留时间 = 1575, 平均停留时间 = 57.66\n",
      "MoS8: 最小停留时间 = 1, 最大停留时间 = 2692, 平均停留时间 = 65.54\n",
      "MoOS: 最小停留时间 = 1, 最大停留时间 = 952, 平均停留时间 = 67.33\n",
      "Mo2S5: 最小停留时间 = 1, 最大停留时间 = 877, 平均停留时间 = 69.80\n",
      "MoS3: 最小停留时间 = 1, 最大停留时间 = 2365, 平均停留时间 = 70.77\n",
      "Mo3O9: 最小停留时间 = 1, 最大停留时间 = 684, 平均停留时间 = 72.19\n",
      "Mo3S10: 最小停留时间 = 1, 最大停留时间 = 617, 平均停留时间 = 74.42\n",
      "Mo2S6: 最小停留时间 = 1, 最大停留时间 = 1704, 平均停留时间 = 86.16\n",
      "Mo2S7: 最小停留时间 = 1, 最大停留时间 = 1980, 平均停留时间 = 104.36\n",
      "Mo2S8: 最小停留时间 = 1, 最大停留时间 = 1501, 平均停留时间 = 108.74\n",
      "Mo2S11: 最小停留时间 = 1, 最大停留时间 = 3512, 平均停留时间 = 110.16\n",
      "MoOS5: 最小停留时间 = 1, 最大停留时间 = 3162, 平均停留时间 = 112.09\n",
      "Mo2S9: 最小停留时间 = 1, 最大停留时间 = 3443, 平均停留时间 = 113.89\n",
      "Mo2S10: 最小停留时间 = 1, 最大停留时间 = 4765, 平均停留时间 = 137.39\n",
      "MoOS6: 最小停留时间 = 1, 最大停留时间 = 4603, 平均停留时间 = 163.29\n",
      "MoS6: 最小停留时间 = 1, 最大停留时间 = 11353, 平均停留时间 = 678.11\n",
      "MoS7: 最小停留时间 = 1, 最大停留时间 = 10330, 平均停留时间 = 729.06\n"
     ]
    }
   ],
   "source": [
    "from collections import Counter, defaultdict\n",
    "# -----------------------------------------------\n",
    "# 统计每个物种的最大、最小和平均停留时间\n",
    "# -----------------------------------------------\n",
    "\n",
    "# 使用 defaultdict 存储每个物种的最小、最大停留时间及总停留时间\n",
    "species_time_stats = defaultdict(lambda: {'min': None, 'max': None, 'total': 0, 'count': 0})\n",
    "\n",
    "for record in processed:\n",
    "    for element in record:\n",
    "        mol, count = element[0], int(element[1])\n",
    "        if species_time_stats[mol]['min'] is None or count < species_time_stats[mol]['min']:\n",
    "            species_time_stats[mol]['min'] = count\n",
    "        if species_time_stats[mol]['max'] is None or count > species_time_stats[mol]['max']:\n",
    "            species_time_stats[mol]['max'] = count\n",
    "        species_time_stats[mol]['total'] += count\n",
    "        species_time_stats[mol]['count'] += 1\n",
    "\n",
    "# 计算平均停留时间并准备输出列表\n",
    "species_time_list = sorted(\n",
    "    [\n",
    "        (\n",
    "            stats['total'] / stats['count'] if stats['count'] > 0 else 0,\n",
    "            stats['max'],\n",
    "            stats['min'],\n",
    "            mol\n",
    "        )\n",
    "        for mol, stats in species_time_stats.items()\n",
    "    ],\n",
    "    key=lambda x: x[0]\n",
    ")\n",
    "\n",
    "# 输出统计结果\n",
    "print(\"\\n每种物种类型的最大、最小和平均停留时间：\")\n",
    "for avg_time, max_time,min_time,mol in species_time_list:\n",
    "    print(f\"{mol}: 最小停留时间 = {min_time}, 最大停留时间 = {max_time}, 平均停留时间 = {avg_time:.2f}\")"
   ]
  },
  {
   "cell_type": "markdown",
   "id": "c45776e7-8286-4ec9-b480-65f961db6013",
   "metadata": {
    "jp-MarkdownHeadingCollapsed": true,
    "tags": []
   },
   "source": [
    "## 2.深度过滤原始数据(processed)"
   ]
  },
  {
   "cell_type": "code",
   "execution_count": 6,
   "id": "9e4e7bdc-c0fe-4779-badd-5cbd74fea966",
   "metadata": {},
   "outputs": [
    {
     "name": "stdout",
     "output_type": "stream",
     "text": [
      "过滤前 (原始数据) ：\n",
      "[['Mo3O9' '26']\n",
      " ['Mo3O9S2' '11']\n",
      " ['MoO3' '2']\n",
      " ['MoO2' '96']\n",
      " ['MoO2S2' '2']\n",
      " ['MoOS' '102']\n",
      " ['MoOS3' '8']\n",
      " ['MoS2' '20']\n",
      " ['MoS4' '4']\n",
      " ['MoS2' '76']\n",
      " ['MoOS2' '5']\n",
      " ['MoS' '5']\n",
      " ['MoS3' '2']\n",
      " ['MoS' '8']\n",
      " ['MoS3' '3']\n",
      " ['MoS' '145']\n",
      " ['MoOS2' '3']\n",
      " ['MoS' '74']\n",
      " ['MoS2' '80']\n",
      " ['MoS6' '2']]\n",
      "\n",
      "过滤后 (删除停留时间 < 5 并合并相邻相同状态) ：\n",
      "[['Mo3O9' '26']\n",
      " ['Mo3O9S2' '11']\n",
      " ['MoO2' '96']\n",
      " ['MoOS' '102']\n",
      " ['MoOS3' '8']\n",
      " ['MoS2' '20']\n",
      " ['MoS4' '4']\n",
      " ['MoS2' '76']\n",
      " ['MoOS2' '5']\n",
      " ['MoS' '13']\n",
      " ['MoS3' '3']\n",
      " ['MoS' '145']\n",
      " ['MoOS2' '3']\n",
      " ['MoS' '74']\n",
      " ['MoS2' '80']\n",
      " ['MoS4' '14']\n",
      " ['MoS7' '4']\n",
      " ['MoS5' '18']\n",
      " ['MoS3' '266']\n",
      " ['MoS4' '322']]\n"
     ]
    }
   ],
   "source": [
    "import numpy as np\n",
    "\n",
    "def filter_and_merge_one_record(record, min_time=5):\n",
    "    \"\"\"\n",
    "    对单条记录进行过滤和合并操作：\n",
    "    1. 删除停留时间小于 min_time 的状态。\n",
    "    2. 将删除后连续且相同物种的状态合并为一个状态（停留时间累加）。\n",
    "    \n",
    "    参数：\n",
    "    - record: 形如 array([['MoO','33'], ['MoS','251'], ['MoS','254'], ...]) 的数组\n",
    "    - min_time: 停留时间的阈值，删除停留时间小于该值的状态\n",
    "    \n",
    "    返回：\n",
    "    - 处理后的 NumPy 数组，满足以上两步操作\n",
    "    \"\"\"\n",
    "    # 1) 过滤：删除停留时间 =< min_time 的状态\n",
    "    filtered = [row for row in record if int(row[1]) > min_time]\n",
    "    \n",
    "    # 2) 合并连续相同物种的状态\n",
    "    merged = []\n",
    "    for mol, time_str in filtered:\n",
    "        time_val = int(time_str)\n",
    "        if merged and merged[-1][0] == mol:\n",
    "            # 若与上一个物种相同，则合并（累加停留时间）\n",
    "            merged[-1][1] = str(int(merged[-1][1]) + time_val)\n",
    "        else:\n",
    "            # 否则添加新的物种状态\n",
    "            merged.append([mol, str(time_val)])\n",
    "    \n",
    "    return np.array(merged)\n",
    "\n",
    "def filter_and_merge_processed(processed, min_time=5):\n",
    "    \"\"\"\n",
    "    对完整的 processed 数据进行过滤和合并操作：\n",
    "    对 processed 每个元素（单条记录）调用 filter_and_merge_one_record\n",
    "    \n",
    "    参数：\n",
    "    - processed: 形如 [record_1, record_2, ...] 的对象数组（dtype=object）\n",
    "    - min_time: 停留时间的阈值\n",
    "    \n",
    "    返回：\n",
    "    - 处理后的 NumPy 对象数组\n",
    "    \"\"\"\n",
    "    new_processed = []\n",
    "    for idx, record in enumerate(processed):\n",
    "        merged_record = filter_and_merge_one_record(record, min_time=min_time)\n",
    "        new_processed.append(merged_record)\n",
    "    \n",
    "    return np.array(new_processed, dtype=object)\n",
    "\n",
    "# -------------------- 测试示例 --------------------\n",
    "if __name__ == \"__main__\":    \n",
    "    # 设定阈值，比如 n=5\n",
    "    n = 2\n",
    "    \n",
    "    # 调用过滤和合并函数\n",
    "    new_processed = filter_and_merge_processed(processed, min_time=n)\n",
    "    \n",
    "    # 打印过滤前和过滤后的结果\n",
    "    print(\"过滤前 (原始数据) ：\")\n",
    "    print(processed[3][:20])\n",
    "    \n",
    "    print(\"\\n过滤后 (删除停留时间 < 5 并合并相邻相同状态) ：\")\n",
    "    print(new_processed[3][:20])"
   ]
  },
  {
   "cell_type": "markdown",
   "id": "eb963c94-62e0-4438-856f-a503e9e1ae8c",
   "metadata": {},
   "source": [
    "## 3.截断长序列到终产物（processed或new_processed）"
   ]
  },
  {
   "cell_type": "code",
   "execution_count": 7,
   "id": "a36acfd3-465c-483d-810f-59e6278b6687",
   "metadata": {},
   "outputs": [
    {
     "name": "stdout",
     "output_type": "stream",
     "text": [
      "过滤前：\n",
      "[['Mo3O9' '55']\n",
      " ['MoO2' '128']\n",
      " ['MoOS' '3']\n",
      " ['MoOS2' '2']\n",
      " ['MoS' '2']\n",
      " ['MoOS2' '75']\n",
      " ['MoS4' '366']\n",
      " ['MoS6' '196']\n",
      " ['Mo2S8' '24']\n",
      " ['MoS4' '66']\n",
      " ['Mo2S7' '6']\n",
      " ['MoS4' '90']\n",
      " ['MoS6' '90']\n",
      " ['MoS8' '6']\n",
      " ['MoS6' '13']\n",
      " ['MoS8' '2']\n",
      " ['MoS6' '6']\n",
      " ['MoS8' '2']\n",
      " ['MoS6' '838']\n",
      " ['MoS8' '20']\n",
      " ['MoS6' '283']\n",
      " ['Mo2S7' '52']\n",
      " ['Mo2S6' '11']\n",
      " ['MoS6' '149']\n",
      " ['MoS4' '2']\n",
      " ['MoS6' '51']\n",
      " ['MoS8' '2']\n",
      " ['MoS6' '331']\n",
      " ['MoS8' '4']\n",
      " ['MoS6' '409']]\n",
      "过滤后 (删除 product_list 中的物种及其之后的内容)：\n",
      "[['Mo3O9' '55']\n",
      " ['MoO2' '128']\n",
      " ['MoOS' '3']\n",
      " ['MoOS2' '2']\n",
      " ['MoS' '2']\n",
      " ['MoOS2' '75']\n",
      " ['MoS4' '366']\n",
      " ['MoS6' '196']]\n"
     ]
    }
   ],
   "source": [
    "import numpy as np\n",
    "\n",
    "# 定义产物列表\n",
    "product_list = ['MoS6', 'MoS7']\n",
    "\n",
    "def filter_by_product_list_with_n(new_processed, product_list, n=0):\n",
    "    \"\"\"\n",
    "    对序列进行过滤：\n",
    "    当遇到 product_list 中的物种时，保留该物种及其之前的内容，并额外保留其后的 n 个状态。\n",
    "    \n",
    "    参数：\n",
    "    - new_processed: 输入数据，形如 [record_1, record_2, ...] 的对象数组（dtype=object）\n",
    "    - product_list: 需要检查的产物列表，例如 ['MoS6', 'MoS7']\n",
    "    - n: 额外保留的后续状态数目，默认为 0\n",
    "    \n",
    "    返回：\n",
    "    - 过滤后的 NumPy 对象数组\n",
    "    \"\"\"\n",
    "    filtered_records = []\n",
    "    \n",
    "    # 遍历每一行记录\n",
    "    for record in new_processed:\n",
    "        # 初始化截断后的记录\n",
    "        truncated_record = []\n",
    "        found_product = False\n",
    "        extra_count = 0\n",
    "        \n",
    "        # 遍历当前记录中的每一对 [物种, 时间]\n",
    "        for i, (mol, time) in enumerate(record):\n",
    "            if found_product:\n",
    "                # 如果已经遇到 product_list 中的物种，额外保留 n 个状态\n",
    "                if extra_count < n:\n",
    "                    truncated_record.append([mol, time])\n",
    "                    extra_count += 1\n",
    "                else:\n",
    "                    break\n",
    "            else:\n",
    "                # 添加当前 [mol, time]\n",
    "                truncated_record.append([mol, time])\n",
    "                # 如果当前物种在 product_list 中，标记 found_product\n",
    "                if mol in product_list:\n",
    "                    found_product = True\n",
    "                    # 如果 n=0，立即停止\n",
    "                    if n == 0:\n",
    "                        break\n",
    "        \n",
    "        # 如果整行没有遇到 product_list 中的物种，保留整行\n",
    "        if not found_product:\n",
    "            truncated_record = record\n",
    "        \n",
    "        # 将截断后的记录转换为 NumPy 数组并添加到结果列表\n",
    "        filtered_records.append(np.array(truncated_record))\n",
    "    \n",
    "    # 转换为 NumPy 对象数组\n",
    "    return np.array(filtered_records, dtype=object)\n",
    "\n",
    "\n",
    "# 调用函数进行过滤，n=1\n",
    "filtered_new_processed = filter_by_product_list_with_n(processed, product_list, n=0)\n",
    "\n",
    "\n",
    "\n",
    "\n",
    "# 假设 new_processed 已由之前的代码生成\n",
    "# 打印示例结果\n",
    "print(\"过滤前：\")\n",
    "print(processed[1][:30])\n",
    "print(\"过滤后 (删除 product_list 中的物种及其之后的内容)：\")\n",
    "print(filtered_new_processed[1][:30])"
   ]
  },
  {
   "cell_type": "markdown",
   "id": "7ecd358e-1f67-4fce-9201-12e5d68354f2",
   "metadata": {
    "tags": []
   },
   "source": [
    "# 二.数据编码"
   ]
  },
  {
   "cell_type": "markdown",
   "id": "2b19adf6-3000-4f19-a84e-ba637ccf0691",
   "metadata": {
    "tags": []
   },
   "source": [
    "## 编码方式1 - [ 3, 9, 0, 55],得到cy_data"
   ]
  },
  {
   "cell_type": "code",
   "execution_count": 3,
   "id": "9e80247d-9e18-4563-b80e-f27cdbbf5901",
   "metadata": {},
   "outputs": [
    {
     "data": {
      "text/plain": [
       "array([ 1,  1, 13])"
      ]
     },
     "execution_count": 3,
     "metadata": {},
     "output_type": "execute_result"
    }
   ],
   "source": [
    "# 编码，转换成向量\n",
    "def incode(molecule):\n",
    "    vec = np.zeros(3)\n",
    "    length = len(molecule)\n",
    "    Mo = molecule.find('Mo')\n",
    "    O = molecule.find('O')\n",
    "    S = molecule.find('S')\n",
    "    # print(Mo, O, S)\n",
    "    moi = oi = si = 0\n",
    "    moi = 1\n",
    "    if O==-1 and S==-1 and length>2:\n",
    "        moi = molecule[Mo+2:]\n",
    "    elif O != -1:\n",
    "        if O > Mo + 2:\n",
    "            moi = int(molecule[Mo+2:O])\n",
    "        else:\n",
    "            moi = 1\n",
    "        if S == O + 1 or O+1==length:\n",
    "            oi = 1\n",
    "        elif S==-1:\n",
    "            oi = int(molecule[O+1:])\n",
    "        else:\n",
    "            oi = int(molecule[O+1:S])\n",
    "    elif S != -1:\n",
    "        if S > Mo + 2:\n",
    "            moi = int(molecule[Mo+2:S])\n",
    "        else:\n",
    "            moi = 1\n",
    "        if S+1==length:\n",
    "            si = 1\n",
    "        else:\n",
    "            si = int(molecule[S+1:])\n",
    "    if S!=-1:\n",
    "        if S+1==length:\n",
    "            si = 1\n",
    "        else:\n",
    "            si = int(molecule[S+1:])\n",
    "    vec = np.array([moi, oi, si])\n",
    "    return vec\n",
    "incode('MoOS13')"
   ]
  },
  {
   "cell_type": "markdown",
   "id": "7543daea-4781-4ed6-b85c-a8fbccfa5063",
   "metadata": {},
   "source": [
    "对processed或new_processed或filtered_new_processed进行编码"
   ]
  },
  {
   "cell_type": "code",
   "execution_count": 4,
   "id": "b7d1b052-e451-43b8-971b-71f2ba9cf44e",
   "metadata": {},
   "outputs": [
    {
     "name": "stdout",
     "output_type": "stream",
     "text": [
      "(2658,)\n"
     ]
    },
    {
     "data": {
      "text/plain": [
       "[array([ 3,  9,  0, 55]),\n",
       " array([ 1,  2,  0, 18]),\n",
       " array([1, 1, 0, 3]),\n",
       " array([ 1,  0,  1, 10]),\n",
       " array([  1,   0,   3, 159]),\n",
       " array([ 1,  1,  4, 20]),\n",
       " array([1, 0, 3, 5]),\n",
       " array([  1,   0,   5, 498]),\n",
       " array([  1,   0,   7, 458])]"
      ]
     },
     "execution_count": 4,
     "metadata": {},
     "output_type": "execute_result"
    }
   ],
   "source": [
    "# 使用列表推导式遍历二维数组并调用函数进行编码，将返回值存储在新的二维数组中\n",
    "cy_data = filtered_new_processed #使用深度处理后的数据\n",
    "cy_data = [[np.append(incode(value[0]), int(value[1])) for value in row] for row in cy_data]\n",
    "cy_data = np.array(cy_data,dtype=object)\n",
    "print(cy_data.shape)\n",
    "cy_data[0][:20]"
   ]
  },
  {
   "cell_type": "markdown",
   "id": "8a37a1c6-300f-4c8a-aef6-74a17d3f1ae6",
   "metadata": {
    "tags": []
   },
   "source": [
    "## 编码方式2 - [37 55] [类别编号,时间],得到cy_data_encoded --备注:先执行编码方式1"
   ]
  },
  {
   "cell_type": "code",
   "execution_count": 5,
   "id": "35abd889-1ae5-4e04-968e-11f9a3846076",
   "metadata": {},
   "outputs": [
    {
     "name": "stdout",
     "output_type": "stream",
     "text": [
      "(2658,)\n",
      "编码后数据示例：\n",
      "[[ 37  55]\n",
      " [ 18  18]\n",
      " [ 10   3]\n",
      " [  1  10]\n",
      " [  3 159]\n",
      " [ 14  20]\n",
      " [  3   5]\n",
      " [  5 498]\n",
      " [  7 458]]\n"
     ]
    }
   ],
   "source": [
    "# 在现有代码基础上添加以下部分\n",
    "from sklearn.preprocessing import LabelEncoder\n",
    "import joblib  # 用于保存编码器\n",
    "\n",
    "# ====== 新增函数：将Mo/O/S组合编码为唯一类别 ======\n",
    "def encode_mo_os_combinations(cy_data):\n",
    "    \"\"\"将每个[Mo, O, S]组合编码为唯一整数类别\"\"\"\n",
    "    # 提取所有Mo/O/S组合\n",
    "    all_combinations = []\n",
    "    for row in cy_data:\n",
    "        for state in row:\n",
    "            mo_os = tuple(state[:3])  # 前三个元素为Mo/O/S原子数\n",
    "            all_combinations.append(mo_os)\n",
    "    \n",
    "    # 训练编码器\n",
    "    encoder = LabelEncoder()\n",
    "    # 将组合转换为字符串（例如 (3,9,0) -> \"3_9_0\"）\n",
    "    str_combinations = [\"_\".join(map(str, comb)) for comb in all_combinations]\n",
    "    encoder.fit(str_combinations)\n",
    "    \n",
    "    # 替换原始数据中的前3列为编码后的类别\n",
    "    encoded_cy_data = []\n",
    "    for row in cy_data:\n",
    "        encoded_row = []\n",
    "        for state in row:\n",
    "            mo_os_str = \"_\".join(map(str, state[:3]))\n",
    "            encoded_label = encoder.transform([mo_os_str])[0]\n",
    "            # 新数据格式：[encoded_label, time]\n",
    "            encoded_row.append([encoded_label, state[3]])\n",
    "        encoded_cy_data.append(np.array(encoded_row))\n",
    "    \n",
    "    return np.array(encoded_cy_data, dtype=object), encoder\n",
    "\n",
    "# 执行编码\n",
    "cy_data_encoded, state_encoder = encode_mo_os_combinations(cy_data)\n",
    "\n",
    "# 保存编码器（用于后续推理）\n",
    "joblib.dump(state_encoder, 'state_encoder.pkl')\n",
    "\n",
    "# 检查编码后数据格式\n",
    "print(cy_data_encoded.shape)\n",
    "print(\"编码后数据示例：\")\n",
    "print(cy_data_encoded[0][:50])  # 应输出类似 [5, 50]（类别索引, 时间）"
   ]
  },
  {
   "cell_type": "markdown",
   "id": "2fdd1e5b-4dae-4af5-a75f-3b30d335cd47",
   "metadata": {
    "tags": []
   },
   "source": [
    "# 三.构建数据集"
   ]
  },
  {
   "cell_type": "markdown",
   "id": "3b3d19a5-fe8b-480d-8712-6fd3132c867a",
   "metadata": {
    "tags": []
   },
   "source": [
    "## 3.1.设计X和y & 划分数据集(对cy_data和cy_data_encoded进行处理)"
   ]
  },
  {
   "cell_type": "markdown",
   "id": "b2d9bfa6-b9e3-4366-858e-66cfc7ade8d8",
   "metadata": {
    "jp-MarkdownHeadingCollapsed": true,
    "tags": []
   },
   "source": [
    "### 1.1. 针对单输出回归任务设计x和y ,且x,y的特征均为4(针对cy_data进行设计)"
   ]
  },
  {
   "cell_type": "code",
   "execution_count": null,
   "id": "dec6e1ce-3109-4433-a318-fb1bda2689dd",
   "metadata": {},
   "outputs": [],
   "source": [
    "import numpy as np\n",
    "from tqdm import tqdm\n",
    "\n",
    "# 构建数据集\n",
    "def create_dataset(data, sequence_length):\n",
    "    \"\"\"\n",
    "    将输入数据分割为长度为 sequence_length 的序列。\n",
    "    \"\"\"\n",
    "    sequences = []\n",
    "    for i in range(len(data) - sequence_length): #窗口是一个一个推后,所以如果一行原本有110组数据,那么就会产生110-sequence_length+1个 窗格\n",
    "        # 构建序列\n",
    "        sequences.append(data[i:i + sequence_length])\n",
    "    return sequences\n",
    "\n",
    "# 参数\n",
    "sequence_length = 3\n",
    "\n",
    "sequences = []\n",
    "X = []\n",
    "y = []\n",
    "for row in cy_data:\n",
    "    sequence = create_dataset(row, sequence_length)\n",
    "    sequence = np.array(sequence)\n",
    "    sequences.append(sequence)\n",
    "    X.append(sequence[:-1])  # 除去最后一个序列\n",
    "    y.append(sequence[1:, -1])  # 没有问题，因为连续的sequence之间中间段本来就相同\n",
    "\n",
    "sequences = np.array(sequences,dtype=object)\n",
    "X = np.array(X,dtype=object)\n",
    "y = np.array(y,dtype=object)\n",
    "# 检查生成的序列形状\n",
    "print('sequences.shape', sequences.shape)\n",
    "\n",
    "# 构建输入 X 和输出 y\n",
    "\n",
    "print('X.shape', X.shape)  # 输入的形状\n",
    "print('y.shape', y.shape)  # 输出的形状\n",
    "print(X[0][:3])\n",
    "print(y[0][:2])"
   ]
  },
  {
   "cell_type": "code",
   "execution_count": null,
   "id": "69c9afa7-cef6-4519-b93d-a606223019c6",
   "metadata": {},
   "outputs": [],
   "source": [
    "# 将数据划分为训练集和测试集，可以指定测试集的大小和随机种子\n",
    "X_train, X_test, y_train, y_test = train_test_split(X, y, test_size=0.3, random_state=42)\n",
    "print('X_train.shape', X_train.shape,'X_test.shape', X_test.shape)\n",
    "print('y_train.shape', y_train.shape,'y_test.shape', y_test.shape)\n",
    "X_train = np.concatenate(X_train)\n",
    "y_train = np.concatenate(y_train)\n",
    "X_test = np.concatenate(X_test)\n",
    "y_test = np.concatenate(y_test)\n",
    "print('X_train.shape', X_train.shape,'X_test.shape', X_test.shape)\n",
    "print('y_train.shape', y_train.shape,'y_test.shape', y_test.shape)"
   ]
  },
  {
   "cell_type": "markdown",
   "id": "ac6718da-a21e-43d7-85ad-6b709ad62ab7",
   "metadata": {
    "jp-MarkdownHeadingCollapsed": true,
    "tags": []
   },
   "source": [
    "### 1.2.针对单输出回归任务设计x和y ,且x,y的特征分别为4和1(时间)(针对cy_data进行设计)"
   ]
  },
  {
   "cell_type": "code",
   "execution_count": null,
   "id": "5f471b40-5038-441b-9137-e6049c7e2e4b",
   "metadata": {},
   "outputs": [],
   "source": [
    "import numpy as np\n",
    "from tqdm import tqdm\n",
    "\n",
    "# 构建数据集\n",
    "def create_dataset(data, sequence_length):\n",
    "    \"\"\"\n",
    "    将输入数据分割为长度为 sequence_length 的序列。\n",
    "    \"\"\"\n",
    "    sequences = []\n",
    "    for i in range(len(data) - sequence_length): #窗口是一个一个推后,所以如果一行原本有110组数据,那么就会产生110-sequence_length+1个 窗格\n",
    "        # 构建序列\n",
    "        sequences.append(data[i:i + sequence_length])\n",
    "    return sequences\n",
    "\n",
    "# 参数\n",
    "sequence_length = 3\n",
    "\n",
    "sequences = []\n",
    "X = []\n",
    "y = []\n",
    "for row in cy_data:\n",
    "    sequence = create_dataset(row, sequence_length)\n",
    "    sequence = np.array(sequence)\n",
    "    sequences.append(sequence)\n",
    "    X.append(sequence[:-1])  # 除去最后一个序列\n",
    "    y.append(sequence[1:, -1])  # 没有问题，因为连续的sequence之间中间段本来就相同\n",
    "\n",
    "sequences = np.array(sequences,dtype=object)\n",
    "X = np.array(X,dtype=object)\n",
    "y = np.array(y,dtype=object)\n",
    "\n",
    "\n",
    "\n",
    "# 将数据划分为训练集和测试集，可以指定测试集的大小和随机种子\n",
    "X_train, X_test, y_train, y_test = train_test_split(X, y, test_size=0.3, random_state=42)\n",
    "\n",
    "X_train = np.concatenate(X_train)\n",
    "y_train = np.concatenate(y_train)\n",
    "X_test = np.concatenate(X_test)\n",
    "y_test = np.concatenate(y_test)\n",
    "\n",
    "\n",
    "# 将x_train和y_train接起来####################把y原本的特征接到了X上,比sequence多一个维度.\n",
    "y_train_expanded = np.expand_dims(y_train, axis=1)  # 将 y_train 从 (n, 4) 转换为 (n, 1, 4)\n",
    "train_data = np.concatenate((X_train, y_train_expanded), axis=1)\n",
    "\n",
    "# 将x_test和y_test接起来\n",
    "y_test_expanded = np.expand_dims(y_test, axis=1)  # 将 y_test 从 (n, 4) 转换为 (n, 1, 4)\n",
    "test_data = np.concatenate((X_test, y_test_expanded), axis=1)\n",
    "\n",
    "\n",
    "train_data[:, -1, -1] = 0 #将训练数据中的y值中的时间部分转变为0\n",
    "test_data[:, -1, -1] = 0\n",
    "\n",
    "X_train = train_data  #输入变成了11维,并且强行将最后一维度的时间变为0\n",
    "X_test = test_data\n",
    "print(X_train.shape)\n",
    "print(X_test.shape)\n",
    "\n",
    "y_train = y_train[:, 3]#n行，1列，及一个X矩阵预测一个值\n",
    "y_test = y_test[:, 3]\n",
    "y_train = y_train.reshape(-1, 1)\n",
    "y_test = y_test.reshape(-1, 1)\n",
    "print(y_train.shape)\n",
    "print(y_test.shape)"
   ]
  },
  {
   "cell_type": "markdown",
   "id": "01824393-60b9-4f94-a351-ede013637008",
   "metadata": {
    "tags": []
   },
   "source": [
    "### 1.3 针对单输出分类任务设计x和y,并且x和y只包含物种类别一个特征 (针对cy_data_encoded进行设计)¶"
   ]
  },
  {
   "cell_type": "code",
   "execution_count": 6,
   "id": "017163d8-3357-4ae5-9832-8043fa30aca9",
   "metadata": {},
   "outputs": [
    {
     "name": "stdout",
     "output_type": "stream",
     "text": [
      "(1860,) (798,)\n",
      "(1860,) (798,)\n",
      "(51341, 2, 1) (21627, 2, 1)\n",
      "(51341, 1) (21627, 1)\n",
      "训练集中包含的类别数量: 39\n",
      "测试集中包含的类别数量: 39\n",
      "总类别数量: 39\n",
      "训练集中没有缺失任何类别。\n",
      "测试集中没有缺失任何类别。\n",
      "类别索引对应的物种名称：\n",
      "类别 6: 1_0_6\n",
      "类别 7: 1_0_7\n"
     ]
    },
    {
     "data": {
      "image/png": "[encoded data removed]",
      "text/plain": [
       "<Figure size 2000x1000 with 1 Axes>"
      ]
     },
     "metadata": {},
     "output_type": "display_data"
    }
   ],
   "source": [
    "import numpy as np\n",
    "from tqdm import tqdm\n",
    "from collections import Counter\n",
    "# 构建数据集\n",
    "def create_dataset(data, sequence_length):\n",
    "    \"\"\"\n",
    "    将输入数据分割为长度为 sequence_length 的序列。\n",
    "    \"\"\"\n",
    "    sequences = []\n",
    "    for i in range(len(data) - sequence_length +1): #窗口是一个一个推后,所以如果一行原本有110组数据,那么就会产生110-sequence_length+1个 窗格\n",
    "        # 构建序列\n",
    "        sequences.append(data[i:i + sequence_length])\n",
    "    return sequences\n",
    "\n",
    "# 参数\n",
    "sequence_length = 2\n",
    "\n",
    "sequences = []\n",
    "X = []\n",
    "y = []\n",
    "for row in cy_data_encoded:\n",
    "    sequence = create_dataset(row, sequence_length)\n",
    "    sequence = np.array(sequence)\n",
    "    sequences.append(sequence)\n",
    "    X.append(sequence[:-1,:, 0].reshape(-1,sequence_length,1))  # 除去最后一个序列,并且只取状态\n",
    "    y.append(sequence[1:, -1,0].reshape(-1,1))   # 除去第一个序列,并且只取状态\n",
    "\n",
    "sequences = np.array(sequences,dtype=object)\n",
    "X = np.array(X,dtype=object)\n",
    "y = np.array(y,dtype=object)\n",
    "\n",
    "# 将数据划分为训练集和测试集，可以指定测试集的大小和随机种子\n",
    "X_train, X_test, y_train, y_test = train_test_split(X, y, test_size=0.3, random_state=42)\n",
    "print(X_train.shape,X_test.shape)\n",
    "print(y_train.shape,y_test.shape)\n",
    "\n",
    "X_train = np.concatenate(X_train)\n",
    "y_train = np.concatenate(y_train)\n",
    "X_test = np.concatenate(X_test)\n",
    "y_test = np.concatenate(y_test)\n",
    "\n",
    "print(X_train.shape,X_test.shape)\n",
    "print(y_train.shape,y_test.shape)\n",
    "\n",
    "\n",
    "\n",
    "\n",
    "# 获取训练集和测试集中的唯一类别\n",
    "unique_train_classes = np.unique(y_train)\n",
    "unique_test_classes = np.unique(y_test)\n",
    "\n",
    "# 获取总的类别范围（通过 state_encoder 的类别总数）\n",
    "total_classes = np.arange(len(state_encoder.classes_))\n",
    "\n",
    "# 统计训练集和测试集中的类别数量\n",
    "num_train_classes = len(unique_train_classes)\n",
    "num_test_classes = len(unique_test_classes)\n",
    "\n",
    "\n",
    "# 检查训练集中是否缺少某些类别\n",
    "missing_classes_in_train = set(total_classes) - set(unique_train_classes)\n",
    "# 检查测试集中是否缺少某些类别\n",
    "missing_classes_in_test = set(total_classes) - set(unique_test_classes)\n",
    "\n",
    "\n",
    "\n",
    "# 输出结果\n",
    "print(f\"训练集中包含的类别数量: {num_train_classes}\")\n",
    "print(f\"测试集中包含的类别数量: {num_test_classes}\")\n",
    "print(f\"总类别数量: {len(total_classes)}\")\n",
    "\n",
    "if missing_classes_in_train:\n",
    "    print(f\"训练集中缺失的类别: {missing_classes_in_train}\")\n",
    "else:\n",
    "    print(\"训练集中没有缺失任何类别。\")\n",
    "\n",
    "\n",
    "if missing_classes_in_test:\n",
    "    print(f\"测试集中缺失的类别: {missing_classes_in_test}\")\n",
    "else:\n",
    "    print(\"测试集中没有缺失任何类别。\")\n",
    "    \n",
    "    \n",
    "# 获取 state_encoder.classes_ 的内容\n",
    "classes = state_encoder.classes_\n",
    "\n",
    "# 定义需要查询的类别索引\n",
    "target_indices = [6,7]\n",
    "\n",
    "# 输出对应的物种名称\n",
    "print(\"类别索引对应的物种名称：\")\n",
    "for idx in target_indices:\n",
    "    if idx < len(classes):  # 确保索引在范围内\n",
    "        print(f\"类别 {idx}: {classes[idx]}\")\n",
    "    else:\n",
    "        print(f\"类别 {idx} 超出了范围，无法找到对应物种。\")\n",
    "        \n",
    "        \n",
    "# 获取总的类别范围（通过 state_encoder 的类别总数）\n",
    "total_classes = np.arange(len(state_encoder.classes_))\n",
    "\n",
    "# 统计训练集和测试集中每个类别的样本出现次数\n",
    "train_class_counts = Counter(y_train.flatten())  # 统计训练集中每个类别的出现次数\n",
    "test_class_counts = Counter(y_test.flatten())    # 统计测试集中每个类别的出现次数\n",
    "\n",
    "# 转换为 NumPy 数组，按类别顺序排列\n",
    "train_class_distribution = np.zeros(len(total_classes), dtype=int)\n",
    "test_class_distribution = np.zeros(len(total_classes), dtype=int)\n",
    "\n",
    "for cls in total_classes:\n",
    "    train_class_distribution[cls] = train_class_counts.get(cls, 0)\n",
    "    test_class_distribution[cls] = test_class_counts.get(cls, 0)\n",
    "    \n",
    "# # 输出结果\n",
    "# print(\"训练集中每个类别的样本分布:\")\n",
    "# for cls in total_classes:\n",
    "#     print(f\"类别 {cls}: {train_class_distribution[cls]} 次\")\n",
    "\n",
    "# print(\"\\n测试集中每个类别的样本分布:\")\n",
    "# for cls in total_classes:\n",
    "#     print(f\"类别 {cls}: {test_class_distribution[cls]} 次\")    \n",
    "    \n",
    "# 绘制直方图\n",
    "x = np.arange(len(total_classes))  # 类别索引\n",
    "width = 0.35  # 直方图宽度\n",
    "\n",
    "fig, ax = plt.subplots(figsize=(20, 10))\n",
    "rects1 = ax.bar(x - width/2, train_class_distribution, width, label='train dataset')\n",
    "rects2 = ax.bar(x + width/2, test_class_distribution, width, label='test dataset')\n",
    "\n",
    "# 添加标签、标题和图例\n",
    "ax.set_xlabel('type')\n",
    "ax.set_ylabel('number of samples')\n",
    "ax.set_xticks(x)\n",
    "ax.set_xticklabels([f\"{cls}\" for cls in total_classes], rotation=45, ha='right')\n",
    "ax.legend()\n",
    "\n",
    "# 在柱状图上方显示具体数值\n",
    "def autolabel(rects):\n",
    "    for rect in rects:\n",
    "        height = rect.get_height()\n",
    "        ax.annotate('{}'.format(height),\n",
    "                    xy=(rect.get_x() + rect.get_width() / 2, height),\n",
    "                    xytext=(0, 3),  # 3 points vertical offset\n",
    "                    textcoords=\"offset points\",\n",
    "                    ha='center', va='bottom',fontsize=8)\n",
    "\n",
    "autolabel(rects1)\n",
    "autolabel(rects2)\n",
    "\n",
    "# 显示图形\n",
    "plt.tight_layout()\n",
    "plt.show()"
   ]
  },
  {
   "cell_type": "code",
   "execution_count": 7,
   "id": "58698a00-c0d3-4924-9efb-f5fbc4ee6949",
   "metadata": {},
   "outputs": [
    {
     "name": "stdout",
     "output_type": "stream",
     "text": [
      "所有物种类型的数量： 39\n",
      "物种编号及对应的物种名称：\n",
      "类别 0: 1_0_0\n",
      "类别 1: 1_0_1\n",
      "类别 2: 1_0_2\n",
      "类别 3: 1_0_3\n",
      "类别 4: 1_0_4\n",
      "类别 5: 1_0_5\n",
      "类别 6: 1_0_6\n",
      "类别 7: 1_0_7\n",
      "类别 8: 1_0_8\n",
      "类别 9: 1_0_9\n",
      "类别 10: 1_1_0\n",
      "类别 11: 1_1_1\n",
      "类别 12: 1_1_2\n",
      "类别 13: 1_1_3\n",
      "类别 14: 1_1_4\n",
      "类别 15: 1_1_5\n",
      "类别 16: 1_1_6\n",
      "类别 17: 1_1_7\n",
      "类别 18: 1_2_0\n",
      "类别 19: 1_2_1\n",
      "类别 20: 1_2_2\n",
      "类别 21: 1_2_3\n",
      "类别 22: 1_2_4\n",
      "类别 23: 1_2_5\n",
      "类别 24: 1_2_6\n",
      "类别 25: 1_3_0\n",
      "类别 26: 2_0_10\n",
      "类别 27: 2_0_4\n",
      "类别 28: 2_0_5\n",
      "类别 29: 2_0_6\n",
      "类别 30: 2_0_7\n",
      "类别 31: 2_0_8\n",
      "类别 32: 2_0_9\n",
      "类别 33: 2_1_1\n",
      "类别 34: 2_2_0\n",
      "类别 35: 2_3_0\n",
      "类别 36: 2_4_0\n",
      "类别 37: 3_9_0\n",
      "类别 38: 3_9_2\n"
     ]
    }
   ],
   "source": [
    "print(\"所有物种类型的数量：\",len(state_encoder.classes_))\n",
    "#state_encoder.classes_\n",
    "\n",
    "# 获取 state_encoder.classes_ 的内容\n",
    "classes = state_encoder.classes_\n",
    "\n",
    "# 输出每个物种的编号及其对应的名称\n",
    "print(\"物种编号及对应的物种名称：\")\n",
    "for idx, class_name in enumerate(classes):\n",
    "    print(f\"类别 {idx}: {class_name}\")"
   ]
  },
  {
   "cell_type": "markdown",
   "id": "0899cd32-21f4-437a-a31f-eb5031869158",
   "metadata": {
    "jp-MarkdownHeadingCollapsed": true,
    "tags": []
   },
   "source": [
    "### 2.针对多输出(分类+回归)任务,设计X和y1,y2 (针对cy_data_encoded进行设计)"
   ]
  },
  {
   "cell_type": "code",
   "execution_count": 29,
   "id": "00f300ee-c0a8-4cc6-bcb4-57c01b6d6f07",
   "metadata": {},
   "outputs": [
    {
     "name": "stdout",
     "output_type": "stream",
     "text": [
      "sequences.shape (2658,)\n",
      "X.shape (2658,)\n",
      "y_state (2658,)\n",
      "y_time (2658,)\n",
      "[[[ 37  55]\n",
      "  [ 18  18]]\n",
      "\n",
      " [[ 18  18]\n",
      "  [  1  10]]\n",
      "\n",
      " [[  1  10]\n",
      "  [  3 159]]]\n",
      "[1 3]\n",
      "[ 10 159]\n"
     ]
    }
   ],
   "source": [
    "# 构建数据集\n",
    "def create_dataset(data, sequence_length):\n",
    "    \"\"\"\n",
    "    将输入数据分割为长度为 sequence_length 的序列。\n",
    "    \"\"\"\n",
    "    sequences = []\n",
    "    for i in range(len(data) - sequence_length): #窗口是一个一个推后,所以如果一行原本有110组数据,那么就会产生110-sequence_length+1个 窗格\n",
    "        # 构建序列\n",
    "        sequences.append(data[i:i + sequence_length])\n",
    "    return sequences\n",
    "\n",
    "# 参数\n",
    "sequence_length = 2\n",
    "\n",
    "sequences = []\n",
    "# 构建输入 X 和输出 y\n",
    "X = []       # 输入序列：形状 (n_samples, sequence_length, 2)\n",
    "y_state = [] # 目标状态类别：形状 (n_samples,)\n",
    "y_time = []  # 目标时间：形状 (n_samples,)\n",
    "for row in cy_data_encoded:\n",
    "    sequence = create_dataset(row, sequence_length)\n",
    "    sequence = np.array(sequence)\n",
    "    \n",
    "    sequences.append(sequence)\n",
    "    X.append(sequence[:-1])  # 除去最后一个序列\n",
    "    y_state.append(sequence[1:, -1][:,0])  # 没有问题，因为连续的sequence之间中间段本来就相同\n",
    "    y_time.append(sequence[1:, -1][:,1])  \n",
    "    \n",
    "sequences = np.array(sequences,dtype=object)\n",
    "X = np.array(X,dtype=object)\n",
    "y_state = np.array(y_state,dtype=object)    \n",
    "y_time = np.array(y_time,dtype=object)    \n",
    "\n",
    "# 检查生成的序列形状\n",
    "print('sequences.shape', sequences.shape)\n",
    "print('X.shape', X.shape)  # 输入的形状\n",
    "print('y_state', y_state.shape)  # 输出的形状\n",
    "print('y_time', y_time.shape)  # 输出的形状\n",
    "print(X[0][:3])\n",
    "print(y_state[0][:2])   \n",
    "print(y_time[0][:2])"
   ]
  },
  {
   "cell_type": "code",
   "execution_count": 30,
   "id": "9a77b9ec-44ba-4bb7-893f-85ca3c9b0c65",
   "metadata": {},
   "outputs": [
    {
     "name": "stdout",
     "output_type": "stream",
     "text": [
      "(1860,) (1860,) (1860,)\n",
      "(798,) (798,) (798,)\n",
      "X_train.shape (138060, 2, 2) X_test.shape (59155, 2, 2)\n",
      "y_state_train.shape (138060,) y_state_test.shape (59155,)\n",
      "y_time_train.shape (138060,) y_time_test.shape (59155,)\n"
     ]
    }
   ],
   "source": [
    "# 将数据划分为训练集和测试集，可以指定测试集的大小和随机种子\n",
    "# 同时保持三个部分的对应关系\n",
    "X_train, X_test, y_state_train, y_state_test, y_time_train, y_time_test = train_test_split(\n",
    "    X, y_state, y_time, \n",
    "    test_size=0.3, \n",
    "    random_state=42\n",
    ")\n",
    "print(X_train.shape,y_state_train.shape, y_time_train.shape)\n",
    "print(X_test.shape,y_state_test.shape, y_time_test.shape)\n",
    "\n",
    "X_train = np.concatenate(X_train)\n",
    "y_state_train = np.concatenate(y_state_train)\n",
    "y_time_train = np.concatenate(y_time_train)\n",
    "\n",
    "X_test = np.concatenate(X_test)\n",
    "y_state_test = np.concatenate(y_state_test)\n",
    "y_time_test = np.concatenate(y_time_test)\n",
    "print('X_train.shape', X_train.shape,'X_test.shape', X_test.shape)\n",
    "print('y_state_train.shape', y_state_train.shape,'y_state_test.shape',y_state_test.shape)\n",
    "print('y_time_train.shape', y_time_train.shape,'y_time_test.shape',y_time_test.shape)"
   ]
  },
  {
   "cell_type": "markdown",
   "id": "35c82633-644a-44fc-972c-86c944018905",
   "metadata": {
    "tags": []
   },
   "source": [
    "## 3.2 对数据集进行特征处理"
   ]
  },
  {
   "cell_type": "markdown",
   "id": "099f1406-32c0-4b4c-b14c-7e6ea20bfc96",
   "metadata": {
    "jp-MarkdownHeadingCollapsed": true,
    "tags": []
   },
   "source": [
    "### 1.1. 针对单输出任务,x,y的特征均为4的数据集进行特征处理"
   ]
  },
  {
   "cell_type": "markdown",
   "id": "9a57d433-98cd-47aa-a8ed-bfed9a4dd2fa",
   "metadata": {
    "jp-MarkdownHeadingCollapsed": true,
    "tags": []
   },
   "source": [
    "#### a.对前三维特征进行标准化处理,对第4维特征进行取对数处理"
   ]
  },
  {
   "cell_type": "code",
   "execution_count": null,
   "id": "4e2c7ca6-d994-4cca-8c5d-f2732d4f8f6c",
   "metadata": {},
   "outputs": [],
   "source": [
    "import numpy as np\n",
    "from sklearn.preprocessing import StandardScaler\n",
    "\n",
    "# 假设你的训练集和测试集是 X_train 和 X_test\n",
    "# X_train 和 X_test 形状为 (n_samples, 10, 4)\n",
    "\n",
    "# 提取前三个特征（前3列）\n",
    "X_train_features_3 = X_train[:, :, :3]\n",
    "X_test_features_3 = X_test[:, :, :3]\n",
    "\n",
    "# 提取第四个特征（第4列）\n",
    "X_train_feature_4 = X_train[:, :, 3]\n",
    "X_test_feature_4 = X_test[:, :, 3]\n",
    "\n",
    "# 标准化前三个特征，标准化特征可以使得数据不会受到某个特征由于数值范围与其它特征的数值范围差别较大而导致对于模型对于特征敏感度的影响\n",
    "X_scaler = StandardScaler()\n",
    "X_train_features_3 = X_scaler.fit_transform(X_train_features_3.reshape(-1, 3)).reshape(X_train_features_3.shape)\n",
    "X_test_features_3 = X_scaler.transform(X_test_features_3.reshape(-1, 3)).reshape(X_test_features_3.shape)\n",
    "# 对第四个特征取对数（确保数值大于0）\n",
    "X_train_feature_4 = np.log(X_train_feature_4) \n",
    "X_test_feature_4 = np.log(X_test_feature_4)\n",
    "\n",
    "# 合并处理后的特征\n",
    "X_train_processed = np.concatenate([X_train_features_3, X_train_feature_4[..., np.newaxis]], axis=-1)\n",
    "X_test_processed = np.concatenate([X_test_features_3, X_test_feature_4[..., np.newaxis]], axis=-1)\n",
    "\n",
    "\n",
    "\n",
    "\n",
    "\n",
    "# 提取前三个特征（前3列）\n",
    "y_train_features_3 = y_train[:, :3]\n",
    "y_test_features_3 = y_test[:, :3]\n",
    "\n",
    "# 提取第四个特征（第4列）\n",
    "y_train_feature_4 = y_train[:, 3]\n",
    "y_test_feature_4 = y_test[:, 3]\n",
    "\n",
    "# 标准化前三个特征，标准化特征可以使得数据不会受到某个特征由于数值范围与其它特征的数值范围差别较大而导致对于模型对于特征敏感度的影响\n",
    "y_scaler = StandardScaler()\n",
    "y_train_features_3 = y_scaler.fit_transform(y_train_features_3.reshape(-1, 3)).reshape(y_train_features_3.shape)\n",
    "y_test_features_3 = y_scaler.transform(y_test_features_3.reshape(-1, 3)).reshape(y_test_features_3.shape)\n",
    "\n",
    "# 对第四个特征取对数（确保数值大于0）\n",
    "y_train_feature_4 = np.log(y_train_feature_4) \n",
    "y_test_feature_4 = np.log(y_test_feature_4)\n",
    "\n",
    "# 合并处理后的特征\n",
    "y_train_processed = np.concatenate([y_train_features_3, y_train_feature_4[..., np.newaxis]], axis=-1)\n",
    "y_test_processed = np.concatenate([y_test_features_3, y_test_feature_4[..., np.newaxis]], axis=-1)\n",
    "\n",
    "# 检查结果\n",
    "print(X_train_processed.shape)  # 应该是 (89204, 10, 4) #如果是分子状态和停留时间同时预测\n",
    "print(X_test_processed.shape)   # 应该是 (38902, 10, 4)\n",
    "\n",
    "\n",
    "\n",
    "# 检查结果\n",
    "print(y_train_processed.shape)  # 应该是 (89204, 4)\n",
    "print(y_test_processed.shape)   # 应该是 (38902, 4)"
   ]
  },
  {
   "cell_type": "code",
   "execution_count": null,
   "id": "5ab18d16-ab07-4307-9d06-509d476c77c0",
   "metadata": {},
   "outputs": [],
   "source": [
    "#将数据进一步转换成深度学习框架需要的张量tensor形式\n",
    "train_data = TensorDataset(torch.tensor(X_train_processed), torch.tensor(y_train_processed))\n",
    "\n",
    "test_data = TensorDataset(torch.tensor(X_test_processed), torch.tensor(y_test_processed))"
   ]
  },
  {
   "cell_type": "markdown",
   "id": "cdab29ab-5db5-48ff-97ea-afb7f7f405a9",
   "metadata": {
    "jp-MarkdownHeadingCollapsed": true,
    "tags": []
   },
   "source": [
    "#### b.对前三维特征进行标准化处理,对第4维特征不处理"
   ]
  },
  {
   "cell_type": "code",
   "execution_count": null,
   "id": "69977295-d76f-48e2-a488-2583932169de",
   "metadata": {},
   "outputs": [],
   "source": [
    "import numpy as np\n",
    "from sklearn.preprocessing import StandardScaler\n",
    "\n",
    "# 假设你的训练集和测试集是 X_train 和 X_test\n",
    "# X_train 和 X_test 形状为 (n_samples, 10, 4)\n",
    "\n",
    "# 提取前三个特征（前3列）\n",
    "X_train_features_3 = X_train[:, :, :3]\n",
    "X_test_features_3 = X_test[:, :, :3]\n",
    "\n",
    "# 提取第四个特征（第4列）\n",
    "X_train_feature_4 = X_train[:, :, 3]\n",
    "X_test_feature_4 = X_test[:, :, 3]\n",
    "\n",
    "# 标准化前三个特征，标准化特征可以使得数据不会受到某个特征由于数值范围与其它特征的数值范围差别较大而导致对于模型对于特征敏感度的影响\n",
    "X_scaler = StandardScaler()\n",
    "X_train_features_3 = X_scaler.fit_transform(X_train_features_3.reshape(-1, 3)).reshape(X_train_features_3.shape)\n",
    "X_test_features_3 = X_scaler.transform(X_test_features_3.reshape(-1, 3)).reshape(X_test_features_3.shape)\n",
    "\n",
    "# 对第四个特征不做处理\n",
    "X_train_feature_4 = X_train_feature_4 \n",
    "X_test_feature_4 = X_test_feature_4\n",
    "\n",
    "# 合并处理后的特征\n",
    "X_train_processed = np.concatenate([X_train_features_3, X_train_feature_4[..., np.newaxis]], axis=-1)\n",
    "X_test_processed = np.concatenate([X_test_features_3, X_test_feature_4[..., np.newaxis]], axis=-1)\n",
    "\n",
    "\n",
    "\n",
    "\n",
    "\n",
    "# 提取前三个特征（前3列）\n",
    "y_train_features_3 = y_train[:, :3]\n",
    "y_test_features_3 = y_test[:, :3]\n",
    "\n",
    "# 提取第四个特征（第4列）\n",
    "y_train_feature_4 = y_train[:, 3]\n",
    "y_test_feature_4 = y_test[:, 3]\n",
    "\n",
    "# 标准化前三个特征，标准化特征可以使得数据不会受到某个特征由于数值范围与其它特征的数值范围差别较大而导致对于模型对于特征敏感度的影响\n",
    "y_scaler = StandardScaler()\n",
    "y_train_features_3 = y_scaler.fit_transform(y_train_features_3.reshape(-1, 3)).reshape(y_train_features_3.shape)\n",
    "y_test_features_3 = y_scaler.transform(y_test_features_3.reshape(-1, 3)).reshape(y_test_features_3.shape)\n",
    "\n",
    "# 对第四个特征不做处理\n",
    "y_train_feature_4 = y_train_feature_4\n",
    "y_test_feature_4 = y_test_feature_4\n",
    "\n",
    "# 合并处理后的特征\n",
    "y_train_processed = np.concatenate([y_train_features_3, y_train_feature_4[..., np.newaxis]], axis=-1)\n",
    "y_test_processed = np.concatenate([y_test_features_3, y_test_feature_4[..., np.newaxis]], axis=-1)\n",
    "\n",
    "# 检查结果\n",
    "print(X_train_processed.shape)  # 应该是 (89204, 10, 4) #如果是分子状态和停留时间同时预测\n",
    "print(X_test_processed.shape)   # 应该是 (38902, 10, 4)\n",
    "\n",
    "\n",
    "\n",
    "# 检查结果\n",
    "print(y_train_processed.shape)  # 应该是 (89204, 4)\n",
    "print(y_test_processed.shape)   # 应该是 (38902, 4)"
   ]
  },
  {
   "cell_type": "code",
   "execution_count": null,
   "id": "cbb6952e-ba0e-4b2a-8a13-623bf9d21556",
   "metadata": {},
   "outputs": [],
   "source": [
    "#将数据进一步转换成深度学习框架需要的张量tensor形式\n",
    "train_data = TensorDataset(torch.tensor(X_train_processed), torch.tensor(y_train_processed))\n",
    "\n",
    "test_data = TensorDataset(torch.tensor(X_test_processed), torch.tensor(y_test_processed))"
   ]
  },
  {
   "cell_type": "markdown",
   "id": "dfcaa0f0-acbb-4d1f-bb0d-d391b67c1130",
   "metadata": {
    "jp-MarkdownHeadingCollapsed": true,
    "tags": []
   },
   "source": [
    "#### c.对前四个维特征进行标准化处理"
   ]
  },
  {
   "cell_type": "code",
   "execution_count": null,
   "id": "93186545-2924-41fc-9ece-b39b154310d4",
   "metadata": {},
   "outputs": [],
   "source": [
    "import numpy as np\n",
    "from sklearn.preprocessing import StandardScaler\n",
    "\n",
    "# 假设你的训练集和测试集是 X_train 和 X_test\n",
    "# X_train 和 X_test 形状为 (n_samples, 10, 4)\n",
    "\n",
    "# 提取前三个特征（前3列）\n",
    "X_train_features_3 = X_train[:, :, :3]\n",
    "X_test_features_3 = X_test[:, :, :3]\n",
    "\n",
    "# 提取第四个特征（第4列）\n",
    "X_train_feature_4 = X_train[:, :, 3]\n",
    "X_test_feature_4 = X_test[:, :, 3]\n",
    "\n",
    "# 标准化前三个特征，标准化特征可以使得数据不会受到某个特征由于数值范围与其它特征的数值范围差别较大而导致对于模型对于特征敏感度的影响\n",
    "X1_scaler = StandardScaler()\n",
    "X_train_features_3 = X1_scaler.fit_transform(X_train_features_3.reshape(-1, 3)).reshape(X_train_features_3.shape)\n",
    "X_test_features_3 = X1_scaler.transform(X_test_features_3.reshape(-1, 3)).reshape(X_test_features_3.shape)\n",
    "\n",
    "# 对第四个特征也进行scaler处理\n",
    "X2_scaler = StandardScaler()\n",
    "X_train_features_4 = X2_scaler.fit_transform(X_train_feature_4.reshape(-1, 1)).reshape(X_train_feature_4.shape)\n",
    "X_test_features_4 = X2_scaler.transform(X_test_feature_4.reshape(-1, 1)).reshape(X_test_feature_4.shape)\n",
    "\n",
    "# 合并处理后的特征\n",
    "X_train_processed = np.concatenate([X_train_features_3, X_train_features_4[..., np.newaxis]], axis=-1)\n",
    "X_test_processed = np.concatenate([X_test_features_3, X_test_features_4[..., np.newaxis]], axis=-1)\n",
    "\n",
    "\n",
    "\n",
    "# 提取前三个特征（前3列）\n",
    "y_train_features_3 = y_train[:, :3]\n",
    "y_test_features_3 = y_test[:, :3]\n",
    "\n",
    "# 提取第四个特征（第4列）\n",
    "y_train_feature_4 = y_train[:, 3]\n",
    "y_test_feature_4 = y_test[:, 3]\n",
    "\n",
    "# 标准化前三个特征，标准化特征可以使得数据不会受到某个特征由于数值范围与其它特征的数值范围差别较大而导致对于模型对于特征敏感度的影响\n",
    "y1_scaler = StandardScaler()\n",
    "y_train_features_3 = y1_scaler.fit_transform(y_train_features_3.reshape(-1, 3)).reshape(y_train_features_3.shape)\n",
    "y_test_features_3 = y1_scaler.transform(y_test_features_3.reshape(-1, 3)).reshape(y_test_features_3.shape)\n",
    "\n",
    "# 对第四个特征也进行scaler处理\n",
    "y2_scaler = StandardScaler()\n",
    "y_train_features_4 = y2_scaler.fit_transform(y_train_feature_4.reshape(-1, 1)).reshape(y_train_feature_4.shape)\n",
    "y_test_features_4 = y2_scaler.transform(y_test_feature_4.reshape(-1, 1)).reshape(y_test_feature_4.shape)\n",
    "\n",
    "# 合并处理后的特征\n",
    "y_train_processed = np.concatenate([y_train_features_3, y_train_features_4[..., np.newaxis]], axis=-1)\n",
    "y_test_processed = np.concatenate([y_test_features_3, y_test_features_4[..., np.newaxis]], axis=-1)\n",
    "\n",
    "# 检查结果\n",
    "print(X_train_processed.shape)  # 应该是 (89204, 10, 4) #如果是分子状态和停留时间同时预测\n",
    "print(X_test_processed.shape)   # 应该是 (38902, 10, 4)\n",
    "\n",
    "\n",
    "\n",
    "# 检查结果\n",
    "print(y_train_processed.shape)  # 应该是 (89204, 4)\n",
    "print(y_test_processed.shape)   # 应该是 (38902, 4)"
   ]
  },
  {
   "cell_type": "code",
   "execution_count": null,
   "id": "3275d83e-594a-45d6-aa6a-3520f1b4fd78",
   "metadata": {},
   "outputs": [],
   "source": [
    "#将数据进一步转换成深度学习框架需要的张量tensor形式\n",
    "train_data = TensorDataset(torch.tensor(X_train_processed), torch.tensor(y_train_processed))\n",
    "\n",
    "test_data = TensorDataset(torch.tensor(X_test_processed), torch.tensor(y_test_processed))"
   ]
  },
  {
   "cell_type": "markdown",
   "id": "8957fdc2-4df2-45eb-b69d-0e58c716482c",
   "metadata": {
    "tags": []
   },
   "source": [
    "### 1.2.  针对单输出任务,x,y的特征分别为4和1的数据集进行特征处理"
   ]
  },
  {
   "cell_type": "markdown",
   "id": "91a12a9e-44ab-45d4-8e95-d4b6014e6274",
   "metadata": {
    "jp-MarkdownHeadingCollapsed": true,
    "tags": []
   },
   "source": [
    "#### a.对X特征进行标准化和取对数处理,对y取对数"
   ]
  },
  {
   "cell_type": "code",
   "execution_count": null,
   "id": "72a1c7ce-b5e1-4eb0-9f0f-e141cb566300",
   "metadata": {},
   "outputs": [],
   "source": [
    "import numpy as np\n",
    "from sklearn.preprocessing import StandardScaler\n",
    "\n",
    "# 假设你的训练集和测试集是 X_train 和 X_test\n",
    "# X_train 和 X_test 形状为 (n_samples, 10, 4)\n",
    "\n",
    "# 提取前三个特征（前3列）\n",
    "X_train_features_3 = X_train[:, :, :3]\n",
    "X_test_features_3 = X_test[:, :, :3]\n",
    "\n",
    "# 提取第四个特征（第4列）\n",
    "X_train_feature_4 = X_train[:, :, 3]\n",
    "X_test_feature_4 = X_test[:, :, 3]\n",
    "\n",
    "# 标准化前三个特征，标准化特征可以使得数据不会受到某个特征由于数值范围与其它特征的数值范围差别较大而导致对于模型对于特征敏感度的影响\n",
    "scaler = StandardScaler()\n",
    "X_train_features_3 = scaler.fit_transform(X_train_features_3.reshape(-1, 3)).reshape(X_train_features_3.shape)\n",
    "X_test_features_3 = scaler.transform(X_test_features_3.reshape(-1, 3)).reshape(X_test_features_3.shape)################################################################################################################这里为啥是transform而不是fit_transform\n",
    "\n",
    "# 对第四个特征取对数（确保数值大于0）\n",
    "X_train_feature_4 = np.log(X_train_feature_4 + 1e-6)  # 加上一个小常数避免取log(0)的错误#############################################################################################这么处理会导致时间原本设定为0的位置变为了一个相同的但是比较大的负数，会不会对结果造成干扰？??,改成+1会不会好一些？\n",
    "X_test_feature_4 = np.log(X_test_feature_4 + 1e-6)\n",
    "\n",
    "# 合并处理后的特征\n",
    "X_train_processed = np.concatenate([X_train_features_3, X_train_feature_4[..., np.newaxis]], axis=-1)\n",
    "X_test_processed = np.concatenate([X_test_features_3, X_test_feature_4[..., np.newaxis]], axis=-1)\n",
    "\n",
    "# 检查结果\n",
    "print(X_train_processed.shape)  # 应该是 (89204, 10, 4) #如果是分子状态和停留时间同时预测\n",
    "print(X_test_processed.shape)   # 应该是 (38902, 10, 4)\n",
    "\n",
    "# 对第四个特征取对数（确保数值大于0）\n",
    "y_train_processed = np.log(y_train + 1e-6)  # 加上一个小常数避免log(0)\n",
    "y_test_processed = np.log(y_test + 1e-6)\n",
    "\n",
    "\n",
    "# 检查结果\n",
    "print(y_train_processed.shape)  \n",
    "print(y_test_processed.shape)   "
   ]
  },
  {
   "cell_type": "code",
   "execution_count": null,
   "id": "56355cdb-edfc-471b-a157-e253ec3f43f3",
   "metadata": {},
   "outputs": [],
   "source": [
    "#将数据进一步转换成深度学习框架需要的张量tensor形式\n",
    "train_data = TensorDataset(torch.tensor(X_train_processed), torch.tensor(y_train_processed))\n",
    "\n",
    "test_data = TensorDataset(torch.tensor(X_test_processed), torch.tensor(y_test_processed))"
   ]
  },
  {
   "cell_type": "markdown",
   "id": "9b47c90f-e530-4618-8387-86ecd70d4a3c",
   "metadata": {
    "jp-MarkdownHeadingCollapsed": true,
    "tags": []
   },
   "source": [
    "#### b.对X特征进行归一化和取对数处理,对y取对数"
   ]
  },
  {
   "cell_type": "code",
   "execution_count": null,
   "id": "87cfa620-4aab-4907-aa51-692de1cc2746",
   "metadata": {},
   "outputs": [],
   "source": [
    "import numpy as np\n",
    "from sklearn.preprocessing import MinMaxScaler\n",
    "\n",
    "# 假设你的训练集和测试集是 X_train 和 X_test\n",
    "# X_train 和 X_test 形状为 (n_samples, 10, 4)\n",
    "\n",
    "# 提取前三个特征（前3列）\n",
    "X_train_features_3 = X_train[:, :, :3]\n",
    "X_test_features_3 = X_test[:, :, :3]\n",
    "\n",
    "# 提取第四个特征（第4列）\n",
    "X_train_feature_4 = X_train[:, :, 3]\n",
    "X_test_feature_4 = X_test[:, :, 3]\n",
    "\n",
    "# 归一化前三个特征\n",
    "scaler = MinMaxScaler()\n",
    "X_train_features_3 = scaler.fit_transform(X_train_features_3.reshape(-1, 3)).reshape(X_train_features_3.shape)\n",
    "X_test_features_3 = scaler.transform(X_test_features_3.reshape(-1, 3)).reshape(X_test_features_3.shape)\n",
    "\n",
    "# 对第四个特征取对数（确保数值大于0）\n",
    "X_train_feature_4 = np.log(X_train_feature_4 + 1e-6)  # 加上一个小常数避免取log(0)的错误\n",
    "X_test_feature_4 = np.log(X_test_feature_4 + 1e-6)\n",
    "\n",
    "# 合并处理后的特征\n",
    "X_train_processed = np.concatenate([X_train_features_3, X_train_feature_4[..., np.newaxis]], axis=-1)\n",
    "X_test_processed = np.concatenate([X_test_features_3, X_test_feature_4[..., np.newaxis]], axis=-1)\n",
    "\n",
    "# 检查结果\n",
    "print(X_train_processed.shape)\n",
    "print(X_test_processed.shape)\n",
    "\n",
    "# 对第四个特征取对数（确保数值大于0）\n",
    "y_train_processed = np.log(y_train + 1e-6)  # 加上一个小常数避免log(0)\n",
    "y_test_processed = np.log(y_test + 1e-6)\n",
    "\n",
    "# 检查结果\n",
    "print(y_train_processed.shape) \n",
    "print(y_test_processed.shape) \n"
   ]
  },
  {
   "cell_type": "code",
   "execution_count": null,
   "id": "5e842e95-6281-44d8-9378-c9f383995d41",
   "metadata": {},
   "outputs": [],
   "source": [
    "#将数据进一步转换成深度学习框架需要的张量tensor形式\n",
    "train_data = TensorDataset(torch.tensor(X_train_processed), torch.tensor(y_train_processed))\n",
    "\n",
    "test_data = TensorDataset(torch.tensor(X_test_processed), torch.tensor(y_test_processed))"
   ]
  },
  {
   "cell_type": "markdown",
   "id": "26e9f093-66b8-4b22-a50b-95eb544912fb",
   "metadata": {
    "jp-MarkdownHeadingCollapsed": true,
    "tags": []
   },
   "source": [
    "#### c.对X特征进行归一化和标准化处理,对y进行标准化处理"
   ]
  },
  {
   "cell_type": "code",
   "execution_count": null,
   "id": "e3a18256-a39a-4c31-94cf-32c2455037b2",
   "metadata": {},
   "outputs": [],
   "source": [
    "import numpy as np\n",
    "from sklearn.preprocessing import MinMaxScaler, StandardScaler\n",
    "\n",
    "# 假设你的训练集和测试集是 X_train 和 X_test\n",
    "# X_train 和 X_test 形状为 (n_samples, 10, 4)\n",
    "\n",
    "# 提取前三个特征（前3列）\n",
    "X_train_features_3 = X_train[:, :, :3]\n",
    "X_test_features_3 = X_test[:, :, :3]\n",
    "\n",
    "# 提取第四个特征（第4列）\n",
    "X_train_feature_4 = X_train[:, :, 3]\n",
    "X_test_feature_4 = X_test[:, :, 3]\n",
    "\n",
    "# 归一化前三个特征\n",
    "scaler_3 = MinMaxScaler()\n",
    "X_train_features_3 = scaler_3.fit_transform(X_train_features_3.reshape(-1, 3)).reshape(X_train_features_3.shape)\n",
    "X_test_features_3 = scaler_3.transform(X_test_features_3.reshape(-1, 3)).reshape(X_test_features_3.shape)\n",
    "\n",
    "# 对第四个特征取对数（确保数值大于0）\n",
    "X_train_feature_4 = np.log(X_train_feature_4 + 1e-6)  # 加上一个小常数避免log(0)\n",
    "X_test_feature_4 = np.log(X_test_feature_4 + 1e-6)\n",
    "\n",
    "# 标准化第四个特征\n",
    "scaler_4 = StandardScaler()\n",
    "X_train_feature_4 = scaler_4.fit_transform(X_train_feature_4.reshape(-1, 1)).reshape(X_train_feature_4.shape)\n",
    "X_test_feature_4 = scaler_4.transform(X_test_feature_4.reshape(-1, 1)).reshape(X_test_feature_4.shape)\n",
    "\n",
    "\n",
    "\n",
    "# 合并处理后的特征\n",
    "X_train_processed = np.concatenate([X_train_features_3, X_train_feature_4[..., np.newaxis]], axis=-1)\n",
    "X_test_processed = np.concatenate([X_test_features_3, X_test_feature_4[..., np.newaxis]], axis=-1)\n",
    "\n",
    "# 检查结果\n",
    "print(X_train_processed.shape)  # 应该是 (n_samples, 10, 4)\n",
    "print(X_test_processed.shape)   # 应该是 (n_samples, 10, 4)\n",
    "\n",
    "# 对第四个特征取对数（确保数值大于0）\n",
    "y_train_processed = np.log(y_train + 1e-6)  # 加上一个小常数避免log(0)\n",
    "y_test_processed = np.log(y_test + 1e-6)\n",
    "\n",
    "# 对目标变量进行标准化\n",
    "scaler_y = StandardScaler()\n",
    "y_train_processed = scaler_y.fit_transform(y_train)  # 直接对y进行标准化\n",
    "y_test_processed = scaler_y.transform(y_test)  # 使用训练集的标准化参数处理测试集\n",
    "\n",
    "\n",
    "# 检查结果\n",
    "print(y_train_processed.shape)  # 应该是 (n_samples, 4)\n",
    "print(y_test_processed.shape)   # 应该是 (n_samples, 4)"
   ]
  },
  {
   "cell_type": "code",
   "execution_count": null,
   "id": "358b8b8a-9c21-404f-b179-6a49b34e96bc",
   "metadata": {},
   "outputs": [],
   "source": [
    "#将数据进一步转换成深度学习框架需要的张量tensor形式\n",
    "train_data = TensorDataset(torch.tensor(X_train_processed), torch.tensor(y_train_processed))\n",
    "\n",
    "test_data = TensorDataset(torch.tensor(X_test_processed), torch.tensor(y_test_processed))"
   ]
  },
  {
   "cell_type": "markdown",
   "id": "d666d869-eebf-4b50-91c7-b5f06c03d576",
   "metadata": {
    "tags": []
   },
   "source": [
    "### 1.3 针对单目标输出任务,x,y的特征均为1(状态)"
   ]
  },
  {
   "cell_type": "code",
   "execution_count": 99,
   "id": "071fe1e7-acca-4136-be17-0bad269ed203",
   "metadata": {},
   "outputs": [],
   "source": [
    "# 目前还没有特征处理代码"
   ]
  },
  {
   "cell_type": "code",
   "execution_count": 7,
   "id": "18c82468-bb72-4852-8959-29ee229f3866",
   "metadata": {},
   "outputs": [],
   "source": [
    "#将数据进一步转换成深度学习框架需要的张量tensor形式\n",
    "train_data = TensorDataset(torch.tensor(X_train), torch.tensor(y_train))\n",
    "\n",
    "test_data = TensorDataset(torch.tensor(X_test), torch.tensor(y_test))"
   ]
  },
  {
   "cell_type": "markdown",
   "id": "7a5bc0cf-cbd8-4596-ac91-e1d7eee695c8",
   "metadata": {
    "jp-MarkdownHeadingCollapsed": true,
    "tags": []
   },
   "source": [
    "### 2. 针对多输出任务,X和y_state,y_time的特征均为1的数据集进行特征处理"
   ]
  },
  {
   "cell_type": "code",
   "execution_count": 8,
   "id": "fb0b024f-28f4-4f32-9862-758e2a32c7a7",
   "metadata": {},
   "outputs": [],
   "source": [
    "# 目前还没有特征处理代码"
   ]
  },
  {
   "cell_type": "code",
   "execution_count": null,
   "id": "f60df299-37e9-4255-8f8c-6f6304b89b7c",
   "metadata": {},
   "outputs": [],
   "source": [
    "#将数据进一步转换成深度学习框架需要的张量tensor形式\n",
    "X_train_tensor = torch.tensor(X_train)\n",
    "X_test_tensor = torch.tensor(X_test)\n",
    "y_state_train_tensor = torch.tensor(y_state_train)\n",
    "y_state_test_tensor = torch.tensor(y_state_test)\n",
    "y_time_train_tensor = torch.tensor(y_time_train)\n",
    "y_time_test_tensor = torch.tensor(y_time_test)\n",
    "\n",
    "# 创建带多目标的数据集\n",
    "from torch.utils.data import TensorDataset, DataLoader\n",
    "\n",
    "train_data = TensorDataset(\n",
    "    X_train_tensor, \n",
    "    y_state_train_tensor,\n",
    "    y_time_train_tensor\n",
    ")\n",
    "\n",
    "test_data = TensorDataset(\n",
    "    X_test_tensor,\n",
    "    y_state_test_tensor,\n",
    "    y_time_test_tensor\n",
    ")"
   ]
  },
  {
   "cell_type": "markdown",
   "id": "0e122054-f397-4963-baa3-99b643f7a9c8",
   "metadata": {
    "tags": []
   },
   "source": [
    "# 四.机器学习模型框架"
   ]
  },
  {
   "cell_type": "markdown",
   "id": "71a76aa8-e8be-4266-a7a3-dbcbba76a3db",
   "metadata": {},
   "source": [
    "## 1. 单输出任务"
   ]
  },
  {
   "cell_type": "markdown",
   "id": "033857ec-4842-4b3c-b1bb-a5f4eb9549b6",
   "metadata": {
    "jp-MarkdownHeadingCollapsed": true,
    "tags": []
   },
   "source": [
    "### 1.1 LSTM模型 - 回归任务"
   ]
  },
  {
   "cell_type": "code",
   "execution_count": null,
   "id": "cb98671d-c1a8-47d5-bb40-31dc1963d747",
   "metadata": {},
   "outputs": [],
   "source": [
    "hidden_size = 128\n",
    "num_layers = 2\n",
    "\n",
    "# LSTM model (Stacked Long Short-Term Memory Networks,因为num_layers=2)\n",
    "class LSTM(nn.Module):\n",
    "    def __init__(self, input_size, hidden_size, num_layers, num_classes, dropout_prob=0.5):\n",
    "        super(LSTM, self).__init__()\n",
    "        self.hidden_size = hidden_size\n",
    "        self.num_layers = num_layers\n",
    "        self.lstm = nn.LSTM(input_size, hidden_size, num_layers, batch_first=True, dropout=dropout_prob if num_layers > 1 else 0)\n",
    "        self.fc = nn.Linear(hidden_size, num_classes)\n",
    "        self.dropout = nn.Dropout(dropout_prob)\n",
    "\n",
    "    def forward(self, x):\n",
    "        # Initialize hidden state with zeros\n",
    "        h0 = torch.zeros(self.num_layers, x.size(0), self.hidden_size).to(x.device)\n",
    "        # Initialize cell state\n",
    "        c0 = torch.zeros(self.num_layers, x.size(0), self.hidden_size).to(x.device)\n",
    "        # Forward propagate LSTM\n",
    "        out, _ = self.lstm(x, (h0, c0))\n",
    "        # Decode the hidden state of the last time step\n",
    "        out = self.dropout(out[:, -1, :])  # Apply dropout before the fully connected layer\n",
    "        out = self.fc(out)\n",
    "        return out"
   ]
  },
  {
   "cell_type": "markdown",
   "id": "e9ca5698-2233-4337-8b2a-b67b26781136",
   "metadata": {
    "jp-MarkdownHeadingCollapsed": true,
    "tags": []
   },
   "source": [
    "### 1.2 LSTM+单头自注意力机制 - 回归任务"
   ]
  },
  {
   "cell_type": "code",
   "execution_count": null,
   "id": "9d6e902d-187a-41d2-b2ed-f7d340be67cd",
   "metadata": {},
   "outputs": [],
   "source": [
    "# LSTM_SelfAttention model\n",
    "#简化版的单头子注意力机制代码\n",
    "class SelfAttention(nn.Module): #这里相当于一个简化版的自注意力机制机制,输出的是一个综合性的结果\n",
    "    def __init__(self, hidden_size):\n",
    "        super(SelfAttention, self).__init__()\n",
    "        self.hidden_size = hidden_size\n",
    "        self.attention_weights = nn.Parameter(torch.rand(hidden_size, 1))\n",
    "\n",
    "    def forward(self, lstm_output):\n",
    "        # lstm_output的形状是(batch_size, seq_len, hidden_size)\n",
    "        attention_scores = torch.matmul(lstm_output, self.attention_weights) #请注意,这里lstm_output的维度为(batch_size, seq_len, hidden_size)\n",
    "        # attention_scores的形状是(batch_size, seq_len, 1)\n",
    "        attention_scores = F.softmax(attention_scores, dim=1) \n",
    "        # 使用attention_scores对lstm_output进行加权求和\n",
    "        weighted_output = lstm_output * attention_scores\n",
    "        output = torch.sum(weighted_output, dim=1) #自注意力机制一定是要进行这一步对加权后的结果进行求和的步骤,对时间维度进行归一化,输出一个综合了序列全部信息的新结果,维度维(batch_size, hidden_size),\n",
    "        # output的形状是(batch_size, hidden_size)\n",
    "        return output\n",
    "\n",
    "\n",
    "\n",
    "# #标准版的含有q,k,v的自注意力机制代码\n",
    "# class SelfAttention(nn.Module):\n",
    "#     def __init__(self, hidden_size, num_heads=1):\n",
    "#         super(SelfAttention, self).__init__()\n",
    "#         self.hidden_size = hidden_size\n",
    "#         self.num_heads = num_heads  # 注意力头的数量\n",
    "#         self.d_k = hidden_size // num_heads  # 每个头的维度\n",
    "        \n",
    "#         # 定义线性变换层，用于生成 Q、K、V\n",
    "#         self.q_linear = nn.Linear(hidden_size, hidden_size)\n",
    "#         self.k_linear = nn.Linear(hidden_size, hidden_size)\n",
    "#         self.v_linear = nn.Linear(hidden_size, hidden_size)\n",
    "        \n",
    "#         # 输出线性变换层\n",
    "#         self.out_linear = nn.Linear(hidden_size, hidden_size)\n",
    "\n",
    "#     def forward(self, lstm_output):\n",
    "#         \"\"\"\n",
    "#         输入:\n",
    "#             lstm_output: LSTM 的输出，形状为 (batch_size, seq_len, hidden_size)\n",
    "#         输出:\n",
    "#             output: 自注意力机制处理后的结果，形状为 (batch_size, hidden_size)\n",
    "#         \"\"\"\n",
    "#         batch_size, seq_len, _ = lstm_output.size()\n",
    "        \n",
    "#         # 生成 Query、Key 和 Value\n",
    "#         q = self.q_linear(lstm_output).view(batch_size, seq_len, self.num_heads, self.d_k).transpose(1, 2)  # (batch_size, num_heads, seq_len, d_k) #输出形状：(batch_size, num_heads, seq_len, head_dim)。\n",
    "#         k = self.k_linear(lstm_output).view(batch_size, seq_len, self.num_heads, self.d_k).transpose(1, 2)  # (batch_size, num_heads, seq_len, d_k)\n",
    "#         v = self.v_linear(lstm_output).view(batch_size, seq_len, self.num_heads, self.d_k).transpose(1, 2)  # (batch_size, num_heads, seq_len, d_k)\n",
    "        \n",
    "#         # 计算注意力分数\n",
    "#         attention_scores = torch.matmul(q, k.transpose(-2, -1)) / torch.sqrt(torch.tensor(self.d_k, dtype=torch.float))  # (batch_size, num_heads, seq_len, seq_len)\n",
    "#         attention_weights = F.softmax(attention_scores, dim=-1)  # 对最后一个维度（seq_len）进行 softmax 归一化\n",
    "        \n",
    "#         # 加权求和\n",
    "#         weighted_output = torch.matmul(attention_weights, v)  # (batch_size, num_heads, seq_len, d_k)\n",
    "#         weighted_output = weighted_output.transpose(1, 2).contiguous().view(batch_size, seq_len, -1)  # (batch_size, seq_len, hidden_size)\n",
    "        \n",
    "#         # 输出线性变换\n",
    "#         output = self.out_linear(weighted_output)  # (batch_size, seq_len, hidden_size)\n",
    "        \n",
    "#         # 对时间维度进行加权求和，生成最终的表示\n",
    "#         output = torch.sum(output, dim=1)  # (batch_size, hidden_size)\n",
    "        \n",
    "#         return output\n",
    "\n",
    "# LSTM_SelfAttention model\n",
    "class LSTMWithAttention(nn.Module):\n",
    "    def __init__(self, input_size, hidden_size, num_layers, num_classes, dropout_rate):\n",
    "        super(LSTMWithAttention, self).__init__()\n",
    "        self.hidden_size = hidden_size\n",
    "        self.num_layers = num_layers\n",
    "        self.lstm = nn.LSTM(input_size, hidden_size, num_layers, batch_first=True)\n",
    "        self.attention = SelfAttention(hidden_size)\n",
    "        self.dropout = nn.Dropout(dropout_rate)\n",
    "        self.fc = nn.Linear(hidden_size, num_classes)\n",
    "\n",
    "    def forward(self, x):\n",
    "        h0 = torch.zeros(self.num_layers, x.size(0), self.hidden_size).to(x.device)\n",
    "        c0 = torch.zeros(self.num_layers, x.size(0), self.hidden_size).to(x.device)\n",
    "        lstm_out, _ = self.lstm(x, (h0, c0))\n",
    "        # 使用自注意力机制处理LSTM的输出\n",
    "        attn_out = self.attention(lstm_out)\n",
    "        # 应用 Dropout\n",
    "        drop_out = self.dropout(attn_out)\n",
    "        out = self.fc(drop_out)\n",
    "        return out"
   ]
  },
  {
   "cell_type": "markdown",
   "id": "e0e2e48a-a4db-4545-92b1-aa453eb496e7",
   "metadata": {
    "jp-MarkdownHeadingCollapsed": true,
    "tags": []
   },
   "source": [
    "### 1.3 MultiHeadSelfAttention-回归任务"
   ]
  },
  {
   "cell_type": "code",
   "execution_count": 101,
   "id": "e9a5f992-d2e5-41e5-ab83-122d9c26496e",
   "metadata": {},
   "outputs": [],
   "source": [
    "# BiLSTM-MAIN model\n",
    "\n",
    "# # 简化版的多头自注意力机制代码,没有使用q,k,v\n",
    "# class MultiHeadSelfAttention(nn.Module):\n",
    "#     def __init__(self, hidden_size, num_heads):\n",
    "#         super(MultiHeadSelfAttention, self).__init__()\n",
    "#         self.num_heads = num_heads\n",
    "#         self.head_dim = hidden_size // num_heads\n",
    "#         assert hidden_size % num_heads == 0, \"hidden_size must be divisible by num_heads\"\n",
    "        \n",
    "#         self.attention_heads = nn.Parameter(torch.Tensor(num_heads, self.head_dim, 1))\n",
    "#         nn.init.xavier_uniform_(self.attention_heads)\n",
    "        \n",
    "#         self.fc = nn.Linear(hidden_size, hidden_size)\n",
    "\n",
    "#     def forward(self, lstm_output):\n",
    "#         batch_size, seq_len, hidden_size = lstm_output.size(0), lstm_output.size(1), lstm_output.size(2)\n",
    "#         # Reshape lstm_output to (batch_size, seq_len, num_heads, head_dim)\n",
    "#         lstm_output = lstm_output.view(batch_size, seq_len, self.num_heads, self.head_dim)\n",
    "#         # Transpose for matrix multiplication: (batch_size, num_heads, seq_len, head_dim)\n",
    "#         lstm_output = lstm_output.transpose(1, 2)\n",
    "#         # Compute attention scores\n",
    "#         attention_scores = torch.matmul(lstm_output, self.attention_heads)\n",
    "#         # Apply softmax to get the weights on the values\n",
    "#         attention_scores = F.softmax(attention_scores, dim=-2)\n",
    "#         # Apply attention weights to lstm_output\n",
    "#         weighted_output = attention_scores * lstm_output\n",
    "#         # Sum weighted output over seq_len dimension\n",
    "#         weighted_output = weighted_output.sum(dim=-2)\n",
    "#         # Reshape weighted_output to (batch_size, hidden_size)\n",
    "#         weighted_output = weighted_output.reshape(batch_size, -1)\n",
    "#         # Pass through the fully connected layer\n",
    "#         output = self.fc(weighted_output)\n",
    "#         return output\n",
    "\n",
    "#标准版本的多头自注意力机制代码\n",
    "class MultiHeadSelfAttention(nn.Module):\n",
    "    def __init__(self, hidden_size, num_heads):\n",
    "        super(MultiHeadSelfAttention, self).__init__()\n",
    "        self.num_heads = num_heads\n",
    "        self.head_dim = hidden_size // num_heads\n",
    "        assert hidden_size % num_heads == 0, \"hidden_size must be divisible by num_heads\"\n",
    "        \n",
    "        # 定义线性变换层，用于生成 Q、K、V\n",
    "        self.q_linear = nn.Linear(hidden_size, hidden_size)\n",
    "        self.k_linear = nn.Linear(hidden_size, hidden_size)\n",
    "        self.v_linear = nn.Linear(hidden_size, hidden_size)\n",
    "        \n",
    "        # 输出线性变换层\n",
    "        self.fc = nn.Linear(hidden_size, hidden_size)\n",
    "\n",
    "    def forward(self, lstm_output):\n",
    "        \"\"\"\n",
    "        输入:\n",
    "            lstm_output: LSTM 的输出，形状为 (batch_size, seq_len, hidden_size)\n",
    "        输出:\n",
    "            output: 多头自注意力机制处理后的结果，形状为 (batch_size, hidden_size)\n",
    "        \"\"\"\n",
    "        batch_size, seq_len, hidden_size = lstm_output.size()\n",
    "        \n",
    "        # 生成 Query、Key 和 Value\n",
    "        q = self.q_linear(lstm_output).view(batch_size, seq_len, self.num_heads, self.head_dim).transpose(1, 2)  # (batch_size, num_heads, seq_len, head_dim)\n",
    "        k = self.k_linear(lstm_output).view(batch_size, seq_len, self.num_heads, self.head_dim).transpose(1, 2)  # (batch_size, num_heads, seq_len, head_dim)\n",
    "        v = self.v_linear(lstm_output).view(batch_size, seq_len, self.num_heads, self.head_dim).transpose(1, 2)  # (batch_size, num_heads, seq_len, head_dim)\n",
    "        \n",
    "        # 计算注意力分数\n",
    "        attention_scores = torch.matmul(q, k.transpose(-2, -1)) / torch.sqrt(torch.tensor(self.head_dim, dtype=torch.float))  # (batch_size, num_heads, seq_len, seq_len)\n",
    "        attention_weights = F.softmax(attention_scores, dim=-1)  # 对最后一个维度（seq_len）进行 softmax 归一化\n",
    "        \n",
    "        # 加权求和\n",
    "        weighted_output = torch.matmul(attention_weights, v)  # (batch_size, num_heads, seq_len, head_dim)\n",
    "        weighted_output = weighted_output.transpose(1, 2).contiguous().view(batch_size, seq_len, -1)  # (batch_size, seq_len, hidden_size)\n",
    "        \n",
    "        # 输出线性变换\n",
    "        output = self.fc(weighted_output)  # (batch_size, seq_len, hidden_size)\n",
    "        \n",
    "        # 对时间维度进行加权求和，生成最终的表示\n",
    "        #output = torch.sum(output, dim=1)  # (batch_size, hidden_size) #考虑这一步可以替换为:out = out[:, -1, :]  # 取最后一个时间步的输出作为最终结果;或者out = torch.mean(out, dim=1)  # 平均池化;或者out = torch.max(out, dim=1)[0]  # 最大池化;或者attention_weights = F.softmax(torch.randn(out.size(0), out.size(1)).to(out.device), dim=1).unsqueeze(-1),out = torch.sum(out * attention_weights, dim=1)\n",
    "        output = output[:,-1,:]\n",
    "        \n",
    "        return output\n",
    "    \n",
    "    \n",
    "    \n",
    "# # BiLSTM-MAIN model\n",
    "# class LSTMWithMulAttention(nn.Module):\n",
    "#     def __init__(self, input_size, hidden_size, num_layers, num_classes, dropout_rate, num_heads):\n",
    "#         super(LSTMWithMulAttention, self).__init__()\n",
    "#         self.hidden_size = hidden_size\n",
    "#         self.num_layers = num_layers\n",
    "#         self.lstm = nn.LSTM(input_size, hidden_size, num_layers, batch_first=True, bidirectional=True)\n",
    "#         self.attention = MultiHeadSelfAttention(hidden_size*2, num_heads)  # 注意hidden_size*2因为BiLSTM\n",
    "#         self.layer_norm = nn.LayerNorm(hidden_size*2)\n",
    "#         self.dropout = nn.Dropout(dropout_rate)\n",
    "#         self.fc = nn.Linear(hidden_size*2, num_classes)\n",
    "#         # 添加残差连接的线性层\n",
    "#         self.residual_fc = nn.Linear(hidden_size*2, hidden_size*2)\n",
    "\n",
    "#     def forward(self, x):\n",
    "#         h0 = torch.zeros(self.num_layers*2, x.size(0), self.hidden_size).to(x.device)  # 乘以2因为BiLSTM\n",
    "#         c0 = torch.zeros(self.num_layers*2, x.size(0), self.hidden_size).to(x.device)\n",
    "#         lstm_out, _ = self.lstm(x, (h0, c0))\n",
    "#         # 添加残差连接\n",
    "#         residual_output = lstm_out + self.residual_fc(lstm_out)\n",
    "#         lstm_out = self.layer_norm(residual_output)\n",
    "#         attn_out = self.attention(lstm_out)\n",
    "#         drop_out = self.dropout(attn_out)\n",
    "#         out = self.fc(drop_out)\n",
    "#         return out\n",
    "    \n",
    "# #修改了残差连接的BiLSTM-MAIN model\n",
    "class LSTMWithMulAttention(nn.Module):\n",
    "    def __init__(self, input_size, hidden_size, num_layers, num_classes, dropout_rate, num_heads):\n",
    "        super(LSTMWithMulAttention, self).__init__()\n",
    "        self.hidden_size = hidden_size\n",
    "        self.num_layers = num_layers\n",
    "        self.lstm = nn.LSTM(input_size, hidden_size, num_layers, batch_first=True, bidirectional=True)\n",
    "        self.attention = MultiHeadSelfAttention(hidden_size*2, num_heads)  # 注意hidden_size*2因为BiLSTM\n",
    "        self.layer_norm = nn.LayerNorm(hidden_size*2)\n",
    "        self.dropout = nn.Dropout(dropout_rate)\n",
    "        self.fc = nn.Linear(hidden_size*2, num_classes)\n",
    "        # 添加用于调整 lstm_input 维度的线性层\n",
    "        self.input_fc = nn.Linear(input_size, hidden_size * 2)\n",
    "\n",
    "    def forward(self, x):\n",
    "        h0 = torch.zeros(self.num_layers*2, x.size(0), self.hidden_size).to(x.device)  # 乘以2因为BiLSTM\n",
    "        c0 = torch.zeros(self.num_layers*2, x.size(0), self.hidden_size).to(x.device)  # 如果初始化性能不好,则尝试h0 = torch.randn(self.num_layers*2, x.size(0), self.hidden_size).to(x.device),c0 = torch.randn(self.num_layers*2, x.size(0), self.hidden_size).to(x.device)\n",
    "        # 保存 LSTM 输入并调整其维度\n",
    "        lstm_input = self.input_fc(x)  # 调整维度到 (batch_size, sequence_length, hidden_size * 2)        \n",
    "        lstm_out, _ = self.lstm(x, (h0, c0))\n",
    "        # 添加残差连接\n",
    "        residual_output = lstm_out + lstm_input\n",
    "        # 层归一化\n",
    "        lstm_out = self.layer_norm(residual_output)\n",
    "        # 多头自注意力机制\n",
    "        attn_out = self.attention(lstm_out)\n",
    "        # Dropout\n",
    "        drop_out = self.dropout(attn_out)\n",
    "        out = self.fc(drop_out)\n",
    "        return out"
   ]
  },
  {
   "cell_type": "markdown",
   "id": "83c6a728-188c-4b9e-9e36-7b8b0d67fd2d",
   "metadata": {
    "jp-MarkdownHeadingCollapsed": true,
    "tags": []
   },
   "source": [
    "### 1.4 MultiHeadSelfAttention-分类任务"
   ]
  },
  {
   "cell_type": "code",
   "execution_count": 43,
   "id": "14c026e2-cb94-4caf-98e5-46509334fef0",
   "metadata": {},
   "outputs": [],
   "source": [
    "#标准版本的多头自注意力机制代码\n",
    "class MultiHeadSelfAttention(nn.Module):\n",
    "    def __init__(self, hidden_size, num_heads):\n",
    "        super(MultiHeadSelfAttention, self).__init__()\n",
    "        self.num_heads = num_heads\n",
    "        self.head_dim = hidden_size // num_heads\n",
    "        assert hidden_size % num_heads == 0, \"hidden_size must be divisible by num_heads\"\n",
    "        \n",
    "        # 定义线性变换层，用于生成 Q、K、V\n",
    "        self.q_linear = nn.Linear(hidden_size, hidden_size)\n",
    "        self.k_linear = nn.Linear(hidden_size, hidden_size)\n",
    "        self.v_linear = nn.Linear(hidden_size, hidden_size)\n",
    "        \n",
    "        # 输出线性变换层\n",
    "        self.fc = nn.Linear(hidden_size, hidden_size)\n",
    "\n",
    "    def forward(self, lstm_output):\n",
    "        \"\"\"\n",
    "        输入:\n",
    "            lstm_output: LSTM 的输出，形状为 (batch_size, seq_len, hidden_size)\n",
    "        输出:\n",
    "            output: 多头自注意力机制处理后的结果，形状为 (batch_size, hidden_size)\n",
    "        \"\"\"\n",
    "        batch_size, seq_len, hidden_size = lstm_output.size()\n",
    "        \n",
    "        # 生成 Query、Key 和 Value\n",
    "        q = self.q_linear(lstm_output).view(batch_size, seq_len, self.num_heads, self.head_dim).transpose(1, 2)  # (batch_size, num_heads, seq_len, head_dim)\n",
    "        k = self.k_linear(lstm_output).view(batch_size, seq_len, self.num_heads, self.head_dim).transpose(1, 2)  # (batch_size, num_heads, seq_len, head_dim)\n",
    "        v = self.v_linear(lstm_output).view(batch_size, seq_len, self.num_heads, self.head_dim).transpose(1, 2)  # (batch_size, num_heads, seq_len, head_dim)\n",
    "        \n",
    "        # 计算注意力分数\n",
    "        attention_scores = torch.matmul(q, k.transpose(-2, -1)) / torch.sqrt(torch.tensor(self.head_dim, dtype=torch.float))  # (batch_size, num_heads, seq_len, seq_len)\n",
    "        attention_weights = F.softmax(attention_scores, dim=-1)  # 对最后一个维度（seq_len）进行 softmax 归一化\n",
    "        \n",
    "        # 加权求和\n",
    "        weighted_output = torch.matmul(attention_weights, v)  # (batch_size, num_heads, seq_len, head_dim)\n",
    "        weighted_output = weighted_output.transpose(1, 2).contiguous().view(batch_size, seq_len, -1)  # (batch_size, seq_len, hidden_size)\n",
    "        \n",
    "        # 输出线性变换\n",
    "        output = self.fc(weighted_output)  # (batch_size, seq_len, hidden_size)\n",
    "        \n",
    "        # 对时间维度进行加权求和，生成最终的表示\n",
    "        #output = torch.sum(output, dim=1)  # (batch_size, hidden_size) #考虑这一步可以替换为:out = out[:, -1, :]  # 取最后一个时间步的输出作为最终结果;或者out = torch.mean(out, dim=1)  # 平均池化;或者out = torch.max(out, dim=1)[0]  # 最大池化;或者attention_weights = F.softmax(torch.randn(out.size(0), out.size(1)).to(out.device), dim=1).unsqueeze(-1),out = torch.sum(out * attention_weights, dim=1)\n",
    "        output = output[:,-1,:]\n",
    "        \n",
    "        return output\n",
    "\n",
    "    \n",
    "# ========== 双头LSTM加自注意力机制：模型定义 ==========\n",
    "class LSTMWithMulAttention(nn.Module):\n",
    "    def __init__(self, input_size, hidden_size, num_layers, \n",
    "                 num_state_classes,  # 编码后的类别总数\n",
    "                 dropout_rate=0.3, num_heads=8):\n",
    "        super().__init__()\n",
    "        self.hidden_size = hidden_size\n",
    "        self.num_layers = num_layers\n",
    "        \n",
    "        # 双向LSTM\n",
    "        self.lstm = nn.LSTM(input_size, hidden_size, num_layers, \n",
    "                          batch_first=True, bidirectional=True)\n",
    "        \n",
    "        # 注意力机制\n",
    "        self.attention = MultiHeadSelfAttention(hidden_size*2, num_heads)\n",
    "        \n",
    "        # 共享层\n",
    "        self.layer_norm = nn.LayerNorm(hidden_size*2)\n",
    "        self.dropout = nn.Dropout(dropout_rate)\n",
    "        self.input_fc = nn.Linear(input_size, hidden_size * 2)\n",
    "        \n",
    "        # 输出层 ---------------------------\n",
    "        self.fc = nn.Linear(hidden_size*2, num_state_classes)  # 单分类任务\n",
    "        # ---------------------------------\n",
    "\n",
    "    def forward(self, x):\n",
    "        h0 = torch.zeros(self.num_layers*2, x.size(0), self.hidden_size).to(x.device)\n",
    "        c0 = torch.zeros(self.num_layers*2, x.size(0), self.hidden_size).to(x.device)\n",
    "        \n",
    "        lstm_input = self.input_fc(x)\n",
    "        lstm_out, _ = self.lstm(x, (h0, c0))\n",
    "        residual_output = lstm_out + lstm_input\n",
    "        lstm_out = self.layer_norm(residual_output)\n",
    "        attn_out = self.attention(lstm_out)\n",
    "        drop_out = self.dropout(attn_out)\n",
    "        \n",
    "        # 输出 ---------------------------\n",
    "        state_pred = self.fc(drop_out)      # (batch, num_state_classes)\n",
    "        return state_pred\n",
    "    "
   ]
  },
  {
   "cell_type": "markdown",
   "id": "af834c89-2f39-4ca1-b631-3ce155ab11ad",
   "metadata": {},
   "source": [
    "### 1.5 纯LSTM - 分类任务"
   ]
  },
  {
   "cell_type": "code",
   "execution_count": 8,
   "id": "e0ec487c-1088-40a9-b697-694a4becfc94",
   "metadata": {},
   "outputs": [],
   "source": [
    "# ========== 纯LSTM：模型定义 ==========\n",
    "class LSTM(nn.Module):\n",
    "    def __init__(self, input_size, hidden_size, num_layers, \n",
    "                 num_state_classes,  # 编码后的类别总数\n",
    "                 dropout_rate=0.3):\n",
    "        super(LSTM, self).__init__()\n",
    "        self.hidden_size = hidden_size\n",
    "        self.num_layers = num_layers\n",
    "        \n",
    "        # 单向LSTM\n",
    "        self.lstm = nn.LSTM(input_size, hidden_size, num_layers, \n",
    "                            batch_first=True)\n",
    "        \n",
    "        # 共享层\n",
    "        self.layer_norm = nn.LayerNorm(hidden_size)\n",
    "        self.dropout = nn.Dropout(dropout_rate)\n",
    "        \n",
    "        # 输出层\n",
    "        self.fc = nn.Linear(hidden_size, num_state_classes)  # 单分类任务\n",
    "\n",
    "    def forward(self, x):\n",
    "        # 初始化隐藏状态和细胞状态\n",
    "        h0 = torch.zeros(self.num_layers, x.size(0), self.hidden_size).to(x.device)\n",
    "        c0 = torch.zeros(self.num_layers, x.size(0), self.hidden_size).to(x.device)\n",
    "        \n",
    "        # 前向传播LSTM\n",
    "        lstm_out, _ = self.lstm(x, (h0, c0))\n",
    "        \n",
    "        # 取最后一个时间步的输出\n",
    "        lstm_out_last = lstm_out[:, -1, :]\n",
    "        \n",
    "        # 应用LayerNorm和Dropout\n",
    "        norm_out = self.layer_norm(lstm_out_last)\n",
    "        drop_out = self.dropout(norm_out)\n",
    "        \n",
    "        # 输出层\n",
    "        state_pred = self.fc(drop_out)      # (batch, num_state_classes)\n",
    "        return state_pred"
   ]
  },
  {
   "cell_type": "markdown",
   "id": "a7b162a1-03f7-4f22-bfc7-0c6c9b6820bb",
   "metadata": {
    "tags": []
   },
   "source": [
    "## 2.多输出任务"
   ]
  },
  {
   "cell_type": "markdown",
   "id": "c1336cb8-fa85-4d08-9abb-e75c06492de3",
   "metadata": {
    "jp-MarkdownHeadingCollapsed": true,
    "tags": []
   },
   "source": [
    "### 2.1 MultiHeadSelfAttention - 分类+回归任务"
   ]
  },
  {
   "cell_type": "code",
   "execution_count": 32,
   "id": "ccceb33f-8b3b-4da5-b3a1-128db2e7e8a7",
   "metadata": {},
   "outputs": [],
   "source": [
    "#标准版本的多头自注意力机制代码\n",
    "class MultiHeadSelfAttention(nn.Module):\n",
    "    def __init__(self, hidden_size, num_heads):\n",
    "        super(MultiHeadSelfAttention, self).__init__()\n",
    "        self.num_heads = num_heads\n",
    "        self.head_dim = hidden_size // num_heads\n",
    "        assert hidden_size % num_heads == 0, \"hidden_size must be divisible by num_heads\"\n",
    "        \n",
    "        # 定义线性变换层，用于生成 Q、K、V\n",
    "        self.q_linear = nn.Linear(hidden_size, hidden_size)\n",
    "        self.k_linear = nn.Linear(hidden_size, hidden_size)\n",
    "        self.v_linear = nn.Linear(hidden_size, hidden_size)\n",
    "        \n",
    "        # 输出线性变换层\n",
    "        self.fc = nn.Linear(hidden_size, hidden_size)\n",
    "\n",
    "    def forward(self, lstm_output):\n",
    "        \"\"\"\n",
    "        输入:\n",
    "            lstm_output: LSTM 的输出，形状为 (batch_size, seq_len, hidden_size)\n",
    "        输出:\n",
    "            output: 多头自注意力机制处理后的结果，形状为 (batch_size, hidden_size)\n",
    "        \"\"\"\n",
    "        batch_size, seq_len, hidden_size = lstm_output.size()\n",
    "        \n",
    "        # 生成 Query、Key 和 Value\n",
    "        q = self.q_linear(lstm_output).view(batch_size, seq_len, self.num_heads, self.head_dim).transpose(1, 2)  # (batch_size, num_heads, seq_len, head_dim)\n",
    "        k = self.k_linear(lstm_output).view(batch_size, seq_len, self.num_heads, self.head_dim).transpose(1, 2)  # (batch_size, num_heads, seq_len, head_dim)\n",
    "        v = self.v_linear(lstm_output).view(batch_size, seq_len, self.num_heads, self.head_dim).transpose(1, 2)  # (batch_size, num_heads, seq_len, head_dim)\n",
    "        \n",
    "        # 计算注意力分数\n",
    "        attention_scores = torch.matmul(q, k.transpose(-2, -1)) / torch.sqrt(torch.tensor(self.head_dim, dtype=torch.float))  # (batch_size, num_heads, seq_len, seq_len)\n",
    "        attention_weights = F.softmax(attention_scores, dim=-1)  # 对最后一个维度（seq_len）进行 softmax 归一化\n",
    "        \n",
    "        # 加权求和\n",
    "        weighted_output = torch.matmul(attention_weights, v)  # (batch_size, num_heads, seq_len, head_dim)\n",
    "        weighted_output = weighted_output.transpose(1, 2).contiguous().view(batch_size, seq_len, -1)  # (batch_size, seq_len, hidden_size)\n",
    "        \n",
    "        # 输出线性变换\n",
    "        output = self.fc(weighted_output)  # (batch_size, seq_len, hidden_size)\n",
    "        \n",
    "        # 对时间维度进行加权求和，生成最终的表示\n",
    "        #output = torch.sum(output, dim=1)  # (batch_size, hidden_size) #考虑这一步可以替换为:out = out[:, -1, :]  # 取最后一个时间步的输出作为最终结果;或者out = torch.mean(out, dim=1)  # 平均池化;或者out = torch.max(out, dim=1)[0]  # 最大池化;或者attention_weights = F.softmax(torch.randn(out.size(0), out.size(1)).to(out.device), dim=1).unsqueeze(-1),out = torch.sum(out * attention_weights, dim=1)\n",
    "        output = output[:,-1,:]\n",
    "        \n",
    "        return output\n",
    "\n",
    "    \n",
    "# ========== 修改1：模型定义 ==========\n",
    "class LSTMWithMulAttention(nn.Module):\n",
    "    def __init__(self, input_size, hidden_size, num_layers, \n",
    "                 num_state_classes,  # 编码后的类别总数\n",
    "                 dropout_rate=0.3, num_heads=8):\n",
    "        super().__init__()\n",
    "        self.hidden_size = hidden_size\n",
    "        self.num_layers = num_layers\n",
    "        \n",
    "        # 双向LSTM\n",
    "        self.lstm = nn.LSTM(input_size, hidden_size, num_layers, \n",
    "                          batch_first=True, bidirectional=True)\n",
    "        \n",
    "        # 注意力机制\n",
    "        self.attention = MultiHeadSelfAttention(hidden_size*2, num_heads)\n",
    "        \n",
    "        # 共享层\n",
    "        self.layer_norm = nn.LayerNorm(hidden_size*2)\n",
    "        self.dropout = nn.Dropout(dropout_rate)\n",
    "        self.input_fc = nn.Linear(input_size, hidden_size * 2)\n",
    "        \n",
    "        # 输出层 ---------------------------\n",
    "        self.fc_state = nn.Linear(hidden_size*2, num_state_classes)  # 单分类任务\n",
    "        self.fc_time = nn.Linear(hidden_size*2, 1)                   # 回归任务\n",
    "        # ---------------------------------\n",
    "\n",
    "    def forward(self, x):\n",
    "        h0 = torch.zeros(self.num_layers*2, x.size(0), self.hidden_size).to(x.device)\n",
    "        c0 = torch.zeros(self.num_layers*2, x.size(0), self.hidden_size).to(x.device)\n",
    "        \n",
    "        lstm_input = self.input_fc(x)\n",
    "        lstm_out, _ = self.lstm(x, (h0, c0))\n",
    "        residual_output = lstm_out + lstm_input\n",
    "        lstm_out = self.layer_norm(residual_output)\n",
    "        attn_out = self.attention(lstm_out)\n",
    "        drop_out = self.dropout(attn_out)\n",
    "        \n",
    "        # 输出 ---------------------------\n",
    "        state_pred = self.fc_state(drop_out)      # (batch, num_state_classes)\n",
    "        time_pred = self.fc_time(drop_out).squeeze(-1)  # (batch,)\n",
    "        return state_pred, time_pred"
   ]
  },
  {
   "cell_type": "markdown",
   "id": "3483d028-39e8-46bc-8469-ed5b8b71bfce",
   "metadata": {
    "tags": []
   },
   "source": [
    "# 五. 模型训练"
   ]
  },
  {
   "cell_type": "markdown",
   "id": "a1bade94-69a0-48c4-ae94-e158e32f9760",
   "metadata": {
    "tags": []
   },
   "source": [
    "## 5.1导入数据加载器"
   ]
  },
  {
   "cell_type": "code",
   "execution_count": 9,
   "id": "c96b4c73-bc72-4cf9-8ad1-aa3603df6a53",
   "metadata": {},
   "outputs": [],
   "source": [
    "from torch.nn.parallel import DataParallel\n",
    "import torch.nn.functional as F\n",
    "batch_size = 128\n",
    "train_loader = DataLoader(train_data, shuffle=False, batch_size=batch_size) #表示每次从数据集中取出 256 条数据进行训练或测试。表示不打乱数据顺序（通常在时间序列任务中保持顺序很重要）\n",
    "test_loader = DataLoader(test_data, shuffle=False, batch_size=batch_size)"
   ]
  },
  {
   "cell_type": "markdown",
   "id": "5d4cdd57-0cf8-4f72-a813-0c17577b954a",
   "metadata": {
    "tags": []
   },
   "source": [
    "## 5.2 训练模型"
   ]
  },
  {
   "cell_type": "markdown",
   "id": "f87fc31f-9807-4196-bb30-d6ec94a68291",
   "metadata": {
    "tags": []
   },
   "source": [
    "### 单输出任务"
   ]
  },
  {
   "cell_type": "markdown",
   "id": "f6270808-1db7-493f-b933-3c2adf265350",
   "metadata": {
    "jp-MarkdownHeadingCollapsed": true,
    "tags": []
   },
   "source": [
    "#### 1.1 回归任务"
   ]
  },
  {
   "cell_type": "markdown",
   "id": "0b1e9fc7-77ff-46db-ae77-d7b44d466d64",
   "metadata": {},
   "source": [
    "模型定义与初始化"
   ]
  },
  {
   "cell_type": "code",
   "execution_count": 10,
   "id": "a0ad9d5f-ba26-492d-8274-b9b676962540",
   "metadata": {},
   "outputs": [],
   "source": [
    "hidden_size = 32\n",
    "num_layers = 2\n",
    "input_size = 4 #输入的X的特征维度\n",
    "num_classes = 4 #输出的y的特征维度\n",
    "num_heads = 8\n",
    "\n",
    "model = LSTMWithMulAttention(input_size, hidden_size, num_layers, num_classes, dropout_rate=0.3, num_heads=num_heads)\n",
    "model = model.to(device) #将模型移动到指定设备（如 GPU 或 CPU）\n",
    "model = nn.DataParallel(model) #如果有多块 GPU，可以使用数据并行加速训练。"
   ]
  },
  {
   "cell_type": "markdown",
   "id": "df2251cc-fe05-42df-92b9-4a8297146a0b",
   "metadata": {},
   "source": [
    "损失函数与优化器"
   ]
  },
  {
   "cell_type": "code",
   "execution_count": 11,
   "id": "c1e80141-75d8-446c-b6a6-2d9cb4e6d25e",
   "metadata": {},
   "outputs": [
    {
     "name": "stderr",
     "output_type": "stream",
     "text": [
      "C:\\ProgramData\\anaconda3\\lib\\site-packages\\torch\\optim\\lr_scheduler.py:62: UserWarning: The verbose parameter is deprecated. Please use get_last_lr() to access the learning rate.\n",
      "  warnings.warn(\n"
     ]
    }
   ],
   "source": [
    "criterion = nn.MSELoss() #定义损失函数\n",
    "optimizer = optim.Adam(model.parameters(), lr=0.0001) #使用 Adam 优化器,学习率为0.0001\n",
    "scheduler = ReduceLROnPlateau(optimizer, 'min', factor=0.4, patience=3, min_lr=1e-6, verbose=True) #学习率调度器，当验证损失不再下降时降低学习率;每次降低学习率为原来的 0.4 倍。;连续 3 轮验证损失不下降时触发学习率调整。;学习率的最小值;打印学习率调整信息。"
   ]
  },
  {
   "cell_type": "markdown",
   "id": "507572f6-e4f7-4b24-abd6-6d9c503d617e",
   "metadata": {},
   "source": [
    "训练过程/验证过程/早停机制与模型保存"
   ]
  },
  {
   "cell_type": "code",
   "execution_count": 12,
   "id": "8540897f-aa39-429c-abfd-04d0471b253e",
   "metadata": {},
   "outputs": [
    {
     "name": "stderr",
     "output_type": "stream",
     "text": [
      "train epoch 0:   0%|          | 0/1091 [00:00<?, ?batch/s]\n"
     ]
    },
    {
     "ename": "ValueError",
     "evalue": "too many values to unpack (expected 2)",
     "output_type": "error",
     "traceback": [
      "\u001b[1;31m---------------------------------------------------------------------------\u001b[0m",
      "\u001b[1;31mValueError\u001b[0m                                Traceback (most recent call last)",
      "File \u001b[1;32m<timed exec>:12\u001b[0m\n",
      "\u001b[1;31mValueError\u001b[0m: too many values to unpack (expected 2)"
     ]
    }
   ],
   "source": [
    "%%time\n",
    "# 训练模型\n",
    "num_epochs = 300\n",
    "best_loss = np.inf\n",
    "early_stopping_patience = 30\n",
    "early_stopping_counter = 0\n",
    "loss_values = []\n",
    "\n",
    "#训练过程\n",
    "for epoch in range(num_epochs):\n",
    "    model.train()\n",
    "    train_losses = []\n",
    "    for i, (x_batch, y_batch) in enumerate(tqdm(train_loader, desc=f\"train epoch {epoch}\", unit=\"batch\")):\n",
    "        x_batch = x_batch.to(device).float()#数据预处理：将 x_batch 和 y_batch 移动到指定设备，并转换为浮点类型。\n",
    "        y_batch = y_batch.to(device).float()\n",
    "\n",
    "        x_batch = x_batch.view(-1, sequence_length, input_size) \n",
    "        y_batch = y_batch.view(-1, num_classes)\n",
    "\n",
    "        \n",
    "        outputs = model(x_batch) #使用模型计算输出 outputs。\n",
    "        #print(\"Outputs shape:\", outputs.shape)\n",
    "        #print(\"y_batch shape:\", y_batch.shape)\n",
    "        loss = criterion(outputs, y_batch) #计算损失值 loss。\n",
    "        optimizer.zero_grad() #清空梯度\n",
    "        loss.backward() #反向传播,计算梯度\n",
    "        optimizer.step() #更新模型参数\n",
    "\n",
    "        train_losses.append(loss.item()) #将每个批次的损失值存储到 train_losses 中。\n",
    "\n",
    "#验证过程\n",
    "    val_losses = []\n",
    "    model.eval() #模型切换到评估模式：model.eval()。\n",
    "    with torch.no_grad():#禁用梯度计算：torch.no_grad()，减少内存消耗。在默认情况下，PyTorch 会为每个操作保留中间张量和梯度信息，以便在反向传播时计算梯度。即使在评估或推理阶段，这些中间张量仍然会被保存，占用额外的内存。\n",
    "        for i, (x_batch, y_batch) in enumerate(test_loader):\n",
    "            x_batch = x_batch.to(device).float()\n",
    "            y_batch = y_batch.to(device).float()\n",
    "\n",
    "            x_batch = x_batch.view(-1, sequence_length, input_size)\n",
    "            y_batch = y_batch.view(-1, num_classes)\n",
    "\n",
    "            outputs = model(x_batch)\n",
    "            loss = criterion(outputs, y_batch) #调用前面定义的损失函数对象\n",
    "            val_losses.append(loss.item())\n",
    "\n",
    "#早停机制与模型保存\n",
    "    train_loss = np.mean(train_losses) #train_losses 和 val_losses这两个列表分别存储了当前 epoch 中每个批次的训练损失和验证损失。train_loss：当前 epoch 的平均训练损失。\n",
    "    val_loss = np.mean(val_losses)\n",
    "    scheduler.step(train_loss) #scheduler：这是一个学习率调度器（如 ReduceLROnPlateau），用于动态调整优化器的学习率。\n",
    "    loss_values.append([train_loss, val_loss])\n",
    "    # 训练结束后打印当前学习率\n",
    "    current_lr = optimizer.param_groups[0]['lr']\n",
    "    print(f'Epoch {epoch+1}/{num_epochs}, Train Loss: {train_loss}, Validation Loss: {val_loss}', f\"Current learning rate: {current_lr}\")\n",
    "\n",
    "    if val_loss - best_loss < -0.000001: #(1) 判断验证损失是否降低\n",
    "        if best_loss - val_loss > 0.01:\n",
    "            early_stopping_counter = 0\n",
    "        best_loss = val_loss\n",
    "        best_model = deepcopy(model.state_dict()) #保存最佳模型：将最佳模型的参数保存到 best_model。\n",
    "    else:\n",
    "        early_stopping_counter += 1\n",
    "        print(f'EarlyStopping counter: {early_stopping_counter} out of {early_stopping_patience}')\n",
    "        if early_stopping_counter >= early_stopping_patience:\n",
    "            model.load_state_dict(best_model)\n",
    "            print('Early stopping')\n",
    "            break #避免模型在验证集上过拟合，通过提前停止训练来提高泛化能力。\n",
    "\n",
    "# 训练结束后保存最佳模型\n",
    "if best_model is not None:\n",
    "    # 构造模型文件名\n",
    "    model_name = \"Bi_LSTMWithMulAttention\"\n",
    "    learning_rate = scheduler.optimizer.param_groups[0]['lr']\n",
    "    filename = f\"{model_name}_input-{input_size}_hidden-{hidden_size}_layers-{num_layers}_heads-{num_heads}_lr-{learning_rate:.6f}_loss-{best_loss:.6f}_batch-{batch_size}_epoch-{epoch+1}.pth\"\n",
    "    \n",
    "    # 保存模型\n",
    "    torch.save(best_model, os.path.join('./model', filename))\n",
    "    print(f\"Best model saved: {filename}\")\n",
    "else:\n",
    "    print(\"No model was saved because no valid model was found during training.\")"
   ]
  },
  {
   "cell_type": "markdown",
   "id": "1badca21-6aaf-47b1-90cf-e180b0f5635d",
   "metadata": {
    "tags": []
   },
   "source": [
    "#### 1.2 分类任务"
   ]
  },
  {
   "cell_type": "markdown",
   "id": "a208214a-7c3f-4b71-84ef-fc6480145dd6",
   "metadata": {},
   "source": [
    "模型定义与初始化"
   ]
  },
  {
   "cell_type": "code",
   "execution_count": null,
   "id": "a8b2c030-5123-4d5e-9de0-86c0590e4189",
   "metadata": {},
   "outputs": [],
   "source": [
    "# ====== 参数设置 ====== （针对多头自注意力机制模型）\n",
    "input_size = 1       # 输入特征维度：[encoded_label, time]\n",
    "hidden_size = 32\n",
    "num_layers = 2\n",
    "num_state_classes = len(state_encoder.classes_)  # 自动获取类别数\n",
    "num_heads = 2\n",
    "# ====== 初始化模型 ======\n",
    "model = LSTMWithMulAttention(\n",
    "    input_size=input_size,\n",
    "    hidden_size=hidden_size,\n",
    "    num_layers=num_layers,\n",
    "    num_state_classes=num_state_classes,\n",
    "    dropout_rate=0.3,\n",
    "    num_heads=num_heads\n",
    ").to(device)"
   ]
  },
  {
   "cell_type": "code",
   "execution_count": 33,
   "id": "dc226d6d-be67-4358-a850-8260bc9ca77b",
   "metadata": {},
   "outputs": [],
   "source": [
    "# ====== 参数设置 ====== （针对纯LSTM模型）\n",
    "input_size = 1       # 输入特征维度：[encoded_label, time]\n",
    "hidden_size = 128\n",
    "num_layers = 2\n",
    "num_state_classes = len(state_encoder.classes_)  # 自动获取类别数\n",
    "# ====== 初始化模型 ======\n",
    "model = LSTM(\n",
    "    input_size=input_size,\n",
    "    hidden_size=hidden_size,\n",
    "    num_layers=num_layers,\n",
    "    num_state_classes=num_state_classes,\n",
    "    dropout_rate=0.3,\n",
    ").to(device)"
   ]
  },
  {
   "cell_type": "markdown",
   "id": "5b7a0e5a-aceb-4654-8d93-ab31b2f38529",
   "metadata": {},
   "source": [
    "损失函数与优化器"
   ]
  },
  {
   "cell_type": "code",
   "execution_count": 34,
   "id": "d122a410-def6-475e-b5b6-dbb9e2525aee",
   "metadata": {},
   "outputs": [],
   "source": [
    "# ====== 定义损失函数和优化器 ======\n",
    "# from sklearn.utils.class_weight import compute_class_weight\n",
    "# class_weights = compute_class_weight('balanced', classes=np.unique(y_train), y=y_train.flatten())\n",
    "# criterion_state = nn.CrossEntropyLoss(weight=torch.tensor(class_weights).to(device))\n",
    "criterion_state = nn.CrossEntropyLoss()\n",
    "optimizer = optim.Adam(model.parameters(), lr=0.0001)\n",
    "scheduler = ReduceLROnPlateau(optimizer, 'min', factor=0.5, patience=5)"
   ]
  },
  {
   "cell_type": "markdown",
   "id": "3e62c859-8d8e-4d98-aedc-af134897f9bb",
   "metadata": {},
   "source": [
    "训练过程/验证过程/早停机制与模型保存"
   ]
  },
  {
   "cell_type": "code",
   "execution_count": 142,
   "id": "cc6e525e-27ce-4d9e-a5d1-a37c3250c6b6",
   "metadata": {},
   "outputs": [
    {
     "name": "stderr",
     "output_type": "stream",
     "text": [
      "Training Epoch 1: 100%|██████████| 402/402 [00:02<00:00, 135.68it/s]\n"
     ]
    },
    {
     "name": "stdout",
     "output_type": "stream",
     "text": [
      "Epoch 1/300 | Train Loss: 1.6039 | Val Loss: 1.6647, Current learning rate: 1e-05\n"
     ]
    },
    {
     "name": "stderr",
     "output_type": "stream",
     "text": [
      "Training Epoch 2: 100%|██████████| 402/402 [00:02<00:00, 135.72it/s]\n"
     ]
    },
    {
     "name": "stdout",
     "output_type": "stream",
     "text": [
      "Epoch 2/300 | Train Loss: 1.6035 | Val Loss: 1.6646, Current learning rate: 1e-05\n"
     ]
    },
    {
     "name": "stderr",
     "output_type": "stream",
     "text": [
      "Training Epoch 3: 100%|██████████| 402/402 [00:02<00:00, 136.88it/s]\n"
     ]
    },
    {
     "name": "stdout",
     "output_type": "stream",
     "text": [
      "Epoch 3/300 | Train Loss: 1.6016 | Val Loss: 1.6645, Current learning rate: 1e-05\n"
     ]
    },
    {
     "name": "stderr",
     "output_type": "stream",
     "text": [
      "Training Epoch 4: 100%|██████████| 402/402 [00:02<00:00, 137.05it/s]\n"
     ]
    },
    {
     "name": "stdout",
     "output_type": "stream",
     "text": [
      "Epoch 4/300 | Train Loss: 1.6022 | Val Loss: 1.6645, Current learning rate: 1e-05\n",
      "EarlyStopping counter: 1 out of 20\n"
     ]
    },
    {
     "name": "stderr",
     "output_type": "stream",
     "text": [
      "Training Epoch 5: 100%|██████████| 402/402 [00:02<00:00, 137.14it/s]\n"
     ]
    },
    {
     "name": "stdout",
     "output_type": "stream",
     "text": [
      "Epoch 5/300 | Train Loss: 1.6035 | Val Loss: 1.6644, Current learning rate: 1e-05\n"
     ]
    },
    {
     "name": "stderr",
     "output_type": "stream",
     "text": [
      "Training Epoch 6: 100%|██████████| 402/402 [00:02<00:00, 137.08it/s]\n"
     ]
    },
    {
     "name": "stdout",
     "output_type": "stream",
     "text": [
      "Epoch 6/300 | Train Loss: 1.6025 | Val Loss: 1.6642, Current learning rate: 1e-05\n"
     ]
    },
    {
     "name": "stderr",
     "output_type": "stream",
     "text": [
      "Training Epoch 7: 100%|██████████| 402/402 [00:02<00:00, 135.11it/s]\n"
     ]
    },
    {
     "name": "stdout",
     "output_type": "stream",
     "text": [
      "Epoch 7/300 | Train Loss: 1.6035 | Val Loss: 1.6642, Current learning rate: 1e-05\n"
     ]
    },
    {
     "name": "stderr",
     "output_type": "stream",
     "text": [
      "Training Epoch 8: 100%|██████████| 402/402 [00:02<00:00, 136.48it/s]\n"
     ]
    },
    {
     "name": "stdout",
     "output_type": "stream",
     "text": [
      "Epoch 8/300 | Train Loss: 1.6015 | Val Loss: 1.6643, Current learning rate: 1e-05\n",
      "EarlyStopping counter: 2 out of 20\n"
     ]
    },
    {
     "name": "stderr",
     "output_type": "stream",
     "text": [
      "Training Epoch 9: 100%|██████████| 402/402 [00:02<00:00, 136.91it/s]\n"
     ]
    },
    {
     "name": "stdout",
     "output_type": "stream",
     "text": [
      "Epoch 9/300 | Train Loss: 1.6027 | Val Loss: 1.6646, Current learning rate: 1e-05\n",
      "EarlyStopping counter: 3 out of 20\n"
     ]
    },
    {
     "name": "stderr",
     "output_type": "stream",
     "text": [
      "Training Epoch 10: 100%|██████████| 402/402 [00:02<00:00, 137.39it/s]\n"
     ]
    },
    {
     "name": "stdout",
     "output_type": "stream",
     "text": [
      "Epoch 10/300 | Train Loss: 1.6027 | Val Loss: 1.6641, Current learning rate: 1e-05\n"
     ]
    },
    {
     "name": "stderr",
     "output_type": "stream",
     "text": [
      "Training Epoch 11: 100%|██████████| 402/402 [00:02<00:00, 137.35it/s]\n"
     ]
    },
    {
     "name": "stdout",
     "output_type": "stream",
     "text": [
      "Epoch 11/300 | Train Loss: 1.6010 | Val Loss: 1.6643, Current learning rate: 1e-05\n",
      "EarlyStopping counter: 4 out of 20\n"
     ]
    },
    {
     "name": "stderr",
     "output_type": "stream",
     "text": [
      "Training Epoch 12: 100%|██████████| 402/402 [00:02<00:00, 135.81it/s]\n"
     ]
    },
    {
     "name": "stdout",
     "output_type": "stream",
     "text": [
      "Epoch 12/300 | Train Loss: 1.6027 | Val Loss: 1.6644, Current learning rate: 1e-05\n",
      "EarlyStopping counter: 5 out of 20\n"
     ]
    },
    {
     "name": "stderr",
     "output_type": "stream",
     "text": [
      "Training Epoch 13: 100%|██████████| 402/402 [00:02<00:00, 139.80it/s]\n"
     ]
    },
    {
     "name": "stdout",
     "output_type": "stream",
     "text": [
      "Epoch 13/300 | Train Loss: 1.6027 | Val Loss: 1.6642, Current learning rate: 1e-05\n",
      "EarlyStopping counter: 6 out of 20\n"
     ]
    },
    {
     "name": "stderr",
     "output_type": "stream",
     "text": [
      "Training Epoch 14: 100%|██████████| 402/402 [00:02<00:00, 139.95it/s]\n"
     ]
    },
    {
     "name": "stdout",
     "output_type": "stream",
     "text": [
      "Epoch 14/300 | Train Loss: 1.6017 | Val Loss: 1.6642, Current learning rate: 1e-05\n",
      "EarlyStopping counter: 7 out of 20\n"
     ]
    },
    {
     "name": "stderr",
     "output_type": "stream",
     "text": [
      "Training Epoch 15: 100%|██████████| 402/402 [00:03<00:00, 133.28it/s]\n"
     ]
    },
    {
     "name": "stdout",
     "output_type": "stream",
     "text": [
      "Epoch 15/300 | Train Loss: 1.6023 | Val Loss: 1.6644, Current learning rate: 1e-05\n",
      "EarlyStopping counter: 8 out of 20\n"
     ]
    },
    {
     "name": "stderr",
     "output_type": "stream",
     "text": [
      "Training Epoch 16: 100%|██████████| 402/402 [00:02<00:00, 134.99it/s]\n"
     ]
    },
    {
     "name": "stdout",
     "output_type": "stream",
     "text": [
      "Epoch 16/300 | Train Loss: 1.6035 | Val Loss: 1.6642, Current learning rate: 1e-05\n",
      "EarlyStopping counter: 9 out of 20\n"
     ]
    },
    {
     "name": "stderr",
     "output_type": "stream",
     "text": [
      "Training Epoch 17: 100%|██████████| 402/402 [00:02<00:00, 135.60it/s]\n"
     ]
    },
    {
     "name": "stdout",
     "output_type": "stream",
     "text": [
      "Epoch 17/300 | Train Loss: 1.6005 | Val Loss: 1.6641, Current learning rate: 1e-05\n",
      "EarlyStopping counter: 10 out of 20\n"
     ]
    },
    {
     "name": "stderr",
     "output_type": "stream",
     "text": [
      "Training Epoch 18: 100%|██████████| 402/402 [00:02<00:00, 135.69it/s]\n"
     ]
    },
    {
     "name": "stdout",
     "output_type": "stream",
     "text": [
      "Epoch 18/300 | Train Loss: 1.6016 | Val Loss: 1.6645, Current learning rate: 1e-05\n",
      "EarlyStopping counter: 11 out of 20\n"
     ]
    },
    {
     "name": "stderr",
     "output_type": "stream",
     "text": [
      "Training Epoch 19: 100%|██████████| 402/402 [00:02<00:00, 134.72it/s]\n"
     ]
    },
    {
     "name": "stdout",
     "output_type": "stream",
     "text": [
      "Epoch 19/300 | Train Loss: 1.6016 | Val Loss: 1.6644, Current learning rate: 1e-05\n",
      "EarlyStopping counter: 12 out of 20\n"
     ]
    },
    {
     "name": "stderr",
     "output_type": "stream",
     "text": [
      "Training Epoch 20: 100%|██████████| 402/402 [00:02<00:00, 136.27it/s]\n"
     ]
    },
    {
     "name": "stdout",
     "output_type": "stream",
     "text": [
      "Epoch 20/300 | Train Loss: 1.6013 | Val Loss: 1.6644, Current learning rate: 1e-05\n",
      "EarlyStopping counter: 13 out of 20\n"
     ]
    },
    {
     "name": "stderr",
     "output_type": "stream",
     "text": [
      "Training Epoch 21: 100%|██████████| 402/402 [00:02<00:00, 136.87it/s]\n"
     ]
    },
    {
     "name": "stdout",
     "output_type": "stream",
     "text": [
      "Epoch 21/300 | Train Loss: 1.6015 | Val Loss: 1.6643, Current learning rate: 1e-05\n",
      "EarlyStopping counter: 14 out of 20\n"
     ]
    },
    {
     "name": "stderr",
     "output_type": "stream",
     "text": [
      "Training Epoch 22: 100%|██████████| 402/402 [00:02<00:00, 137.31it/s]\n"
     ]
    },
    {
     "name": "stdout",
     "output_type": "stream",
     "text": [
      "Epoch 22/300 | Train Loss: 1.6009 | Val Loss: 1.6642, Current learning rate: 1e-05\n",
      "EarlyStopping counter: 15 out of 20\n"
     ]
    },
    {
     "name": "stderr",
     "output_type": "stream",
     "text": [
      "Training Epoch 23: 100%|██████████| 402/402 [00:03<00:00, 133.65it/s]\n"
     ]
    },
    {
     "name": "stdout",
     "output_type": "stream",
     "text": [
      "Epoch 23/300 | Train Loss: 1.6001 | Val Loss: 1.6643, Current learning rate: 1e-05\n",
      "EarlyStopping counter: 16 out of 20\n"
     ]
    },
    {
     "name": "stderr",
     "output_type": "stream",
     "text": [
      "Training Epoch 24: 100%|██████████| 402/402 [00:03<00:00, 132.22it/s]\n"
     ]
    },
    {
     "name": "stdout",
     "output_type": "stream",
     "text": [
      "Epoch 24/300 | Train Loss: 1.6021 | Val Loss: 1.6644, Current learning rate: 1e-05\n",
      "EarlyStopping counter: 17 out of 20\n"
     ]
    },
    {
     "name": "stderr",
     "output_type": "stream",
     "text": [
      "Training Epoch 25: 100%|██████████| 402/402 [00:02<00:00, 135.60it/s]\n"
     ]
    },
    {
     "name": "stdout",
     "output_type": "stream",
     "text": [
      "Epoch 25/300 | Train Loss: 1.6026 | Val Loss: 1.6642, Current learning rate: 1e-05\n",
      "EarlyStopping counter: 18 out of 20\n"
     ]
    },
    {
     "name": "stderr",
     "output_type": "stream",
     "text": [
      "Training Epoch 26: 100%|██████████| 402/402 [00:02<00:00, 135.21it/s]\n"
     ]
    },
    {
     "name": "stdout",
     "output_type": "stream",
     "text": [
      "Epoch 26/300 | Train Loss: 1.6014 | Val Loss: 1.6641, Current learning rate: 1e-05\n",
      "EarlyStopping counter: 19 out of 20\n"
     ]
    },
    {
     "name": "stderr",
     "output_type": "stream",
     "text": [
      "Training Epoch 27: 100%|██████████| 402/402 [00:03<00:00, 133.14it/s]\n"
     ]
    },
    {
     "name": "stdout",
     "output_type": "stream",
     "text": [
      "Epoch 27/300 | Train Loss: 1.6008 | Val Loss: 1.6640, Current learning rate: 1e-05\n"
     ]
    },
    {
     "name": "stderr",
     "output_type": "stream",
     "text": [
      "Training Epoch 28: 100%|██████████| 402/402 [00:02<00:00, 136.14it/s]\n"
     ]
    },
    {
     "name": "stdout",
     "output_type": "stream",
     "text": [
      "Epoch 28/300 | Train Loss: 1.6015 | Val Loss: 1.6644, Current learning rate: 1e-05\n",
      "EarlyStopping counter: 20 out of 20\n",
      "Early stopping\n"
     ]
    },
    {
     "ename": "NameError",
     "evalue": "name 'num_heads' is not defined",
     "output_type": "error",
     "traceback": [
      "\u001b[1;31m---------------------------------------------------------------------------\u001b[0m",
      "\u001b[1;31mNameError\u001b[0m                                 Traceback (most recent call last)",
      "File \u001b[1;32m<timed exec>:81\u001b[0m\n",
      "\u001b[1;31mNameError\u001b[0m: name 'num_heads' is not defined"
     ]
    }
   ],
   "source": [
    "%%time\n",
    "# ====== 训练循环 ======\n",
    "num_epochs = 300\n",
    "best_loss = np.inf\n",
    "early_stopping_patience = 20\n",
    "early_stopping_counter = 0\n",
    "loss_values = []\n",
    "\n",
    "# 训练循环\n",
    "for epoch in range(num_epochs):\n",
    "    model.train()\n",
    "    train_losses = []\n",
    "    for x_batch, y_state_batch in tqdm(train_loader, desc=f\"Training Epoch {epoch+1}\"):\n",
    "        x_batch = x_batch.to(device).float()\n",
    "        y_state_batch = y_state_batch.to(device).long()\n",
    "\n",
    "        # 确保目标值形状为 (batch_size,)\n",
    "        y_state_batch = y_state_batch.squeeze(-1)\n",
    "\n",
    "        # 前向传播\n",
    "        state_pred = model(x_batch)\n",
    "\n",
    "        # 计算损失\n",
    "        loss_state = criterion_state(state_pred, y_state_batch)\n",
    "\n",
    "        total_loss = loss_state\n",
    "\n",
    "        # 反向传播\n",
    "        optimizer.zero_grad()\n",
    "        total_loss.backward()\n",
    "        torch.nn.utils.clip_grad_norm_(model.parameters(), 1.0)\n",
    "        optimizer.step()\n",
    "\n",
    "        train_losses.append(total_loss.item())\n",
    "\n",
    "    # 验证\n",
    "    model.eval()\n",
    "    val_losses = []\n",
    "    with torch.no_grad():\n",
    "        for x_val, y_state_val in test_loader:\n",
    "            x_val = x_val.to(device).float()\n",
    "            y_state_val = y_state_val.to(device).long()\n",
    "\n",
    "            # 确保目标值形状为 (batch_size,)\n",
    "            y_state_val = y_state_val.squeeze(-1)\n",
    "\n",
    "            state_pred = model(x_val)\n",
    "            loss_state = criterion_state(state_pred, y_state_val)\n",
    "            val_loss = loss_state\n",
    "            val_losses.append(val_loss.item())\n",
    "\n",
    "    # 学习率调整\n",
    "    avg_train_loss = np.mean(train_losses)\n",
    "    avg_val_loss = np.mean(val_losses)\n",
    "    # scheduler.step(avg_train_loss)\n",
    "    loss_values.append([avg_train_loss, avg_val_loss])\n",
    "\n",
    "    # 打印当前学习率\n",
    "    current_lr = optimizer.param_groups[0]['lr']\n",
    "    print(f\"Epoch {epoch+1}/{num_epochs} | Train Loss: {avg_train_loss:.4f} | Val Loss: {avg_val_loss:.4f}, Current learning rate: {current_lr}\")\n",
    "\n",
    "    # 早停机制\n",
    "    if avg_val_loss < best_loss:  # 判断验证损失是否降低\n",
    "        if best_loss - avg_val_loss > 0.03:\n",
    "            early_stopping_counter = 0\n",
    "        best_loss = avg_val_loss\n",
    "        best_model = deepcopy(model.state_dict())  # 保存最佳模型\n",
    "    else:\n",
    "        early_stopping_counter += 1\n",
    "        print(f'EarlyStopping counter: {early_stopping_counter} out of {early_stopping_patience}')\n",
    "        if early_stopping_counter >= early_stopping_patience:\n",
    "            model.load_state_dict(best_model)\n",
    "            print('Early stopping')\n",
    "            break\n",
    "    \n",
    "    \n",
    "# 训练结束后保存最佳模型\n",
    "if best_model is not None:\n",
    "    # 构造模型文件名\n",
    "    model_name = \"Bi_LSTMWithMulAttention\"\n",
    "    learning_rate = scheduler.optimizer.param_groups[0]['lr']\n",
    "    filename = f\"{model_name}_input-{input_size}_hidden-{hidden_size}_layers-{num_layers}_heads-{num_heads}_lr-{learning_rate:.6f}_loss-{best_loss:.6f}_batch-{batch_size}_epoch-{epoch+1}_seq-{sequence_length}.pth\"\n",
    "    \n",
    "    # 保存模型\n",
    "    torch.save(best_model, os.path.join('./model', filename))\n",
    "    print(f\"Best model saved: {filename}\")\n",
    "else:\n",
    "    print(\"No model was saved because no valid model was found during training.\")"
   ]
  },
  {
   "cell_type": "markdown",
   "id": "822fc549-163c-4943-96d8-4900a03cbc69",
   "metadata": {
    "jp-MarkdownHeadingCollapsed": true,
    "tags": []
   },
   "source": [
    "### 2.多输出任务"
   ]
  },
  {
   "cell_type": "markdown",
   "id": "dcc85f27-67e5-4515-8244-d0f7ddc65f02",
   "metadata": {},
   "source": [
    "模型定义与初始化"
   ]
  },
  {
   "cell_type": "code",
   "execution_count": 34,
   "id": "6de22c59-cccb-4b74-9002-1e394bb89f8a",
   "metadata": {},
   "outputs": [],
   "source": [
    "# ====== 参数设置 ======\n",
    "input_size = 2       # 输入特征维度：[encoded_label, time]\n",
    "hidden_size = 32\n",
    "num_layers = 2\n",
    "num_state_classes = len(state_encoder.classes_)  # 自动获取类别数\n",
    "num_heads = 2\n",
    "# ====== 初始化模型 ======\n",
    "model = LSTMWithMulAttention(\n",
    "    input_size=input_size,\n",
    "    hidden_size=hidden_size,\n",
    "    num_layers=num_layers,\n",
    "    num_state_classes=num_state_classes,\n",
    "    dropout_rate=0.3,\n",
    "    num_heads=num_heads\n",
    ").to(device)"
   ]
  },
  {
   "cell_type": "markdown",
   "id": "19398291-859b-4a24-ae96-ffad7bb5b6b4",
   "metadata": {},
   "source": [
    "损失函数与优化器"
   ]
  },
  {
   "cell_type": "code",
   "execution_count": 35,
   "id": "7aaa52a0-9967-44e1-90ed-fe608432d38b",
   "metadata": {},
   "outputs": [],
   "source": [
    "# ====== 定义损失函数和优化器 ======\n",
    "criterion_state = nn.CrossEntropyLoss()\n",
    "criterion_time = nn.HuberLoss()\n",
    "optimizer = optim.Adam(model.parameters(), lr=0.0001)\n",
    "scheduler = ReduceLROnPlateau(optimizer, 'min', factor=0.5, patience=5)"
   ]
  },
  {
   "cell_type": "markdown",
   "id": "117f1d35-a8aa-43a8-aeab-558b528a2e2b",
   "metadata": {},
   "source": [
    "训练过程/验证过程/早停机制与模型保存"
   ]
  },
  {
   "cell_type": "code",
   "execution_count": 36,
   "id": "d0ec8111-7a45-4747-8fc6-522a0dbf5810",
   "metadata": {},
   "outputs": [
    {
     "name": "stderr",
     "output_type": "stream",
     "text": [
      "Training Epoch 1: 100%|██████████| 8629/8629 [00:38<00:00, 226.67it/s]\n"
     ]
    },
    {
     "name": "stdout",
     "output_type": "stream",
     "text": [
      "Epoch 1/300 | Train Loss: 2.7114 | Val Loss: 2.5668 Current learning rate: 0.0001\n"
     ]
    },
    {
     "name": "stderr",
     "output_type": "stream",
     "text": [
      "Training Epoch 2: 100%|██████████| 8629/8629 [00:38<00:00, 226.37it/s]\n"
     ]
    },
    {
     "name": "stdout",
     "output_type": "stream",
     "text": [
      "Epoch 2/300 | Train Loss: 2.5214 | Val Loss: 2.4350 Current learning rate: 0.0001\n"
     ]
    },
    {
     "name": "stderr",
     "output_type": "stream",
     "text": [
      "Training Epoch 3: 100%|██████████| 8629/8629 [00:38<00:00, 226.96it/s]\n"
     ]
    },
    {
     "name": "stdout",
     "output_type": "stream",
     "text": [
      "Epoch 3/300 | Train Loss: 2.4016 | Val Loss: 2.3245 Current learning rate: 0.0001\n"
     ]
    },
    {
     "name": "stderr",
     "output_type": "stream",
     "text": [
      "Training Epoch 4: 100%|██████████| 8629/8629 [00:38<00:00, 225.78it/s]\n"
     ]
    },
    {
     "name": "stdout",
     "output_type": "stream",
     "text": [
      "Epoch 4/300 | Train Loss: 2.3214 | Val Loss: 2.2771 Current learning rate: 0.0001\n"
     ]
    },
    {
     "name": "stderr",
     "output_type": "stream",
     "text": [
      "Training Epoch 5: 100%|██████████| 8629/8629 [00:38<00:00, 226.71it/s]\n"
     ]
    },
    {
     "name": "stdout",
     "output_type": "stream",
     "text": [
      "Epoch 5/300 | Train Loss: 2.2689 | Val Loss: 2.2227 Current learning rate: 0.0001\n"
     ]
    },
    {
     "name": "stderr",
     "output_type": "stream",
     "text": [
      "Training Epoch 6: 100%|██████████| 8629/8629 [00:38<00:00, 226.75it/s]\n"
     ]
    },
    {
     "name": "stdout",
     "output_type": "stream",
     "text": [
      "Epoch 6/300 | Train Loss: 2.2293 | Val Loss: 2.1861 Current learning rate: 0.0001\n"
     ]
    },
    {
     "name": "stderr",
     "output_type": "stream",
     "text": [
      "Training Epoch 7: 100%|██████████| 8629/8629 [00:37<00:00, 227.23it/s]\n"
     ]
    },
    {
     "name": "stdout",
     "output_type": "stream",
     "text": [
      "Epoch 7/300 | Train Loss: 2.2002 | Val Loss: 2.1643 Current learning rate: 0.0001\n"
     ]
    },
    {
     "name": "stderr",
     "output_type": "stream",
     "text": [
      "Training Epoch 8: 100%|██████████| 8629/8629 [00:38<00:00, 226.95it/s]\n"
     ]
    },
    {
     "name": "stdout",
     "output_type": "stream",
     "text": [
      "Epoch 8/300 | Train Loss: 2.1713 | Val Loss: 2.1313 Current learning rate: 0.0001\n"
     ]
    },
    {
     "name": "stderr",
     "output_type": "stream",
     "text": [
      "Training Epoch 9: 100%|██████████| 8629/8629 [00:38<00:00, 226.88it/s]\n"
     ]
    },
    {
     "name": "stdout",
     "output_type": "stream",
     "text": [
      "Epoch 9/300 | Train Loss: 2.1467 | Val Loss: 2.1615 Current learning rate: 0.0001\n",
      "EarlyStopping counter: 1 out of 20\n"
     ]
    },
    {
     "name": "stderr",
     "output_type": "stream",
     "text": [
      "Training Epoch 10: 100%|██████████| 8629/8629 [00:38<00:00, 226.82it/s]\n"
     ]
    },
    {
     "name": "stdout",
     "output_type": "stream",
     "text": [
      "Epoch 10/300 | Train Loss: 2.1245 | Val Loss: 2.1618 Current learning rate: 0.0001\n",
      "EarlyStopping counter: 2 out of 20\n"
     ]
    },
    {
     "name": "stderr",
     "output_type": "stream",
     "text": [
      "Training Epoch 11: 100%|██████████| 8629/8629 [00:38<00:00, 226.51it/s]\n"
     ]
    },
    {
     "name": "stdout",
     "output_type": "stream",
     "text": [
      "Epoch 11/300 | Train Loss: 2.1081 | Val Loss: 2.1112 Current learning rate: 0.0001\n"
     ]
    },
    {
     "name": "stderr",
     "output_type": "stream",
     "text": [
      "Training Epoch 12: 100%|██████████| 8629/8629 [00:38<00:00, 226.78it/s]\n"
     ]
    },
    {
     "name": "stdout",
     "output_type": "stream",
     "text": [
      "Epoch 12/300 | Train Loss: 2.0903 | Val Loss: 2.0725 Current learning rate: 0.0001\n"
     ]
    },
    {
     "name": "stderr",
     "output_type": "stream",
     "text": [
      "Training Epoch 13: 100%|██████████| 8629/8629 [00:37<00:00, 227.62it/s]\n"
     ]
    },
    {
     "name": "stdout",
     "output_type": "stream",
     "text": [
      "Epoch 13/300 | Train Loss: 2.0783 | Val Loss: 2.0634 Current learning rate: 0.0001\n"
     ]
    },
    {
     "name": "stderr",
     "output_type": "stream",
     "text": [
      "Training Epoch 14: 100%|██████████| 8629/8629 [00:37<00:00, 228.53it/s]\n"
     ]
    },
    {
     "name": "stdout",
     "output_type": "stream",
     "text": [
      "Epoch 14/300 | Train Loss: 2.0665 | Val Loss: 2.0572 Current learning rate: 0.0001\n"
     ]
    },
    {
     "name": "stderr",
     "output_type": "stream",
     "text": [
      "Training Epoch 15: 100%|██████████| 8629/8629 [00:37<00:00, 228.70it/s]\n"
     ]
    },
    {
     "name": "stdout",
     "output_type": "stream",
     "text": [
      "Epoch 15/300 | Train Loss: 2.0512 | Val Loss: 2.0551 Current learning rate: 0.0001\n"
     ]
    },
    {
     "name": "stderr",
     "output_type": "stream",
     "text": [
      "Training Epoch 16: 100%|██████████| 8629/8629 [00:37<00:00, 229.25it/s]\n"
     ]
    },
    {
     "name": "stdout",
     "output_type": "stream",
     "text": [
      "Epoch 16/300 | Train Loss: 2.0378 | Val Loss: 2.0222 Current learning rate: 0.0001\n"
     ]
    },
    {
     "name": "stderr",
     "output_type": "stream",
     "text": [
      "Training Epoch 17: 100%|██████████| 8629/8629 [00:37<00:00, 229.80it/s]\n"
     ]
    },
    {
     "name": "stdout",
     "output_type": "stream",
     "text": [
      "Epoch 17/300 | Train Loss: 2.0296 | Val Loss: 2.0310 Current learning rate: 0.0001\n",
      "EarlyStopping counter: 1 out of 20\n"
     ]
    },
    {
     "name": "stderr",
     "output_type": "stream",
     "text": [
      "Training Epoch 18: 100%|██████████| 8629/8629 [00:37<00:00, 230.05it/s]\n"
     ]
    },
    {
     "name": "stdout",
     "output_type": "stream",
     "text": [
      "Epoch 18/300 | Train Loss: 2.0178 | Val Loss: 2.0159 Current learning rate: 0.0001\n"
     ]
    },
    {
     "name": "stderr",
     "output_type": "stream",
     "text": [
      "Training Epoch 19: 100%|██████████| 8629/8629 [00:37<00:00, 229.32it/s]\n"
     ]
    },
    {
     "name": "stdout",
     "output_type": "stream",
     "text": [
      "Epoch 19/300 | Train Loss: 2.0080 | Val Loss: 2.0279 Current learning rate: 0.0001\n",
      "EarlyStopping counter: 1 out of 20\n"
     ]
    },
    {
     "name": "stderr",
     "output_type": "stream",
     "text": [
      "Training Epoch 20: 100%|██████████| 8629/8629 [00:37<00:00, 229.47it/s]\n"
     ]
    },
    {
     "name": "stdout",
     "output_type": "stream",
     "text": [
      "Epoch 20/300 | Train Loss: 1.9951 | Val Loss: 2.0055 Current learning rate: 0.0001\n"
     ]
    },
    {
     "name": "stderr",
     "output_type": "stream",
     "text": [
      "Training Epoch 21: 100%|██████████| 8629/8629 [00:37<00:00, 229.36it/s]\n"
     ]
    },
    {
     "name": "stdout",
     "output_type": "stream",
     "text": [
      "Epoch 21/300 | Train Loss: 1.9848 | Val Loss: 2.0095 Current learning rate: 0.0001\n",
      "EarlyStopping counter: 1 out of 20\n"
     ]
    },
    {
     "name": "stderr",
     "output_type": "stream",
     "text": [
      "Training Epoch 22: 100%|██████████| 8629/8629 [00:37<00:00, 229.64it/s]\n"
     ]
    },
    {
     "name": "stdout",
     "output_type": "stream",
     "text": [
      "Epoch 22/300 | Train Loss: 1.9758 | Val Loss: 1.9811 Current learning rate: 0.0001\n"
     ]
    },
    {
     "name": "stderr",
     "output_type": "stream",
     "text": [
      "Training Epoch 23: 100%|██████████| 8629/8629 [00:37<00:00, 229.83it/s]\n"
     ]
    },
    {
     "name": "stdout",
     "output_type": "stream",
     "text": [
      "Epoch 23/300 | Train Loss: 1.9630 | Val Loss: 2.0072 Current learning rate: 0.0001\n",
      "EarlyStopping counter: 1 out of 20\n"
     ]
    },
    {
     "name": "stderr",
     "output_type": "stream",
     "text": [
      "Training Epoch 24: 100%|██████████| 8629/8629 [00:37<00:00, 229.30it/s]\n"
     ]
    },
    {
     "name": "stdout",
     "output_type": "stream",
     "text": [
      "Epoch 24/300 | Train Loss: 1.9540 | Val Loss: 1.9610 Current learning rate: 0.0001\n"
     ]
    },
    {
     "name": "stderr",
     "output_type": "stream",
     "text": [
      "Training Epoch 25: 100%|██████████| 8629/8629 [00:37<00:00, 229.59it/s]\n"
     ]
    },
    {
     "name": "stdout",
     "output_type": "stream",
     "text": [
      "Epoch 25/300 | Train Loss: 1.9431 | Val Loss: 1.9460 Current learning rate: 0.0001\n"
     ]
    },
    {
     "name": "stderr",
     "output_type": "stream",
     "text": [
      "Training Epoch 26: 100%|██████████| 8629/8629 [00:37<00:00, 229.42it/s]\n"
     ]
    },
    {
     "name": "stdout",
     "output_type": "stream",
     "text": [
      "Epoch 26/300 | Train Loss: 1.9332 | Val Loss: 1.9478 Current learning rate: 0.0001\n",
      "EarlyStopping counter: 1 out of 20\n"
     ]
    },
    {
     "name": "stderr",
     "output_type": "stream",
     "text": [
      "Training Epoch 27: 100%|██████████| 8629/8629 [00:37<00:00, 229.73it/s]\n"
     ]
    },
    {
     "name": "stdout",
     "output_type": "stream",
     "text": [
      "Epoch 27/300 | Train Loss: 1.9179 | Val Loss: 1.9034 Current learning rate: 0.0001\n"
     ]
    },
    {
     "name": "stderr",
     "output_type": "stream",
     "text": [
      "Training Epoch 28: 100%|██████████| 8629/8629 [00:37<00:00, 229.66it/s]\n"
     ]
    },
    {
     "name": "stdout",
     "output_type": "stream",
     "text": [
      "Epoch 28/300 | Train Loss: 1.9105 | Val Loss: 1.9623 Current learning rate: 0.0001\n",
      "EarlyStopping counter: 1 out of 20\n"
     ]
    },
    {
     "name": "stderr",
     "output_type": "stream",
     "text": [
      "Training Epoch 29: 100%|██████████| 8629/8629 [00:37<00:00, 229.55it/s]\n"
     ]
    },
    {
     "name": "stdout",
     "output_type": "stream",
     "text": [
      "Epoch 29/300 | Train Loss: 1.9032 | Val Loss: 1.8906 Current learning rate: 0.0001\n"
     ]
    },
    {
     "name": "stderr",
     "output_type": "stream",
     "text": [
      "Training Epoch 30: 100%|██████████| 8629/8629 [00:37<00:00, 229.56it/s]\n"
     ]
    },
    {
     "name": "stdout",
     "output_type": "stream",
     "text": [
      "Epoch 30/300 | Train Loss: 1.8910 | Val Loss: 1.9312 Current learning rate: 0.0001\n",
      "EarlyStopping counter: 1 out of 20\n"
     ]
    },
    {
     "name": "stderr",
     "output_type": "stream",
     "text": [
      "Training Epoch 31: 100%|██████████| 8629/8629 [00:37<00:00, 229.28it/s]\n"
     ]
    },
    {
     "name": "stdout",
     "output_type": "stream",
     "text": [
      "Epoch 31/300 | Train Loss: 1.8818 | Val Loss: 1.8936 Current learning rate: 0.0001\n",
      "EarlyStopping counter: 2 out of 20\n"
     ]
    },
    {
     "name": "stderr",
     "output_type": "stream",
     "text": [
      "Training Epoch 32: 100%|██████████| 8629/8629 [00:37<00:00, 229.37it/s]\n"
     ]
    },
    {
     "name": "stdout",
     "output_type": "stream",
     "text": [
      "Epoch 32/300 | Train Loss: 1.8719 | Val Loss: 1.8750 Current learning rate: 0.0001\n"
     ]
    },
    {
     "name": "stderr",
     "output_type": "stream",
     "text": [
      "Training Epoch 33: 100%|██████████| 8629/8629 [00:37<00:00, 230.03it/s]\n"
     ]
    },
    {
     "name": "stdout",
     "output_type": "stream",
     "text": [
      "Epoch 33/300 | Train Loss: 1.8644 | Val Loss: 1.8694 Current learning rate: 0.0001\n"
     ]
    },
    {
     "name": "stderr",
     "output_type": "stream",
     "text": [
      "Training Epoch 34: 100%|██████████| 8629/8629 [00:37<00:00, 229.86it/s]\n"
     ]
    },
    {
     "name": "stdout",
     "output_type": "stream",
     "text": [
      "Epoch 34/300 | Train Loss: 1.8572 | Val Loss: 1.8661 Current learning rate: 0.0001\n"
     ]
    },
    {
     "name": "stderr",
     "output_type": "stream",
     "text": [
      "Training Epoch 35: 100%|██████████| 8629/8629 [00:38<00:00, 226.50it/s]\n"
     ]
    },
    {
     "name": "stdout",
     "output_type": "stream",
     "text": [
      "Epoch 35/300 | Train Loss: 1.8491 | Val Loss: 1.8611 Current learning rate: 0.0001\n"
     ]
    },
    {
     "name": "stderr",
     "output_type": "stream",
     "text": [
      "Training Epoch 36: 100%|██████████| 8629/8629 [00:38<00:00, 226.87it/s]\n"
     ]
    },
    {
     "name": "stdout",
     "output_type": "stream",
     "text": [
      "Epoch 36/300 | Train Loss: 1.8432 | Val Loss: 1.8464 Current learning rate: 0.0001\n"
     ]
    },
    {
     "name": "stderr",
     "output_type": "stream",
     "text": [
      "Training Epoch 37: 100%|██████████| 8629/8629 [00:38<00:00, 226.78it/s]\n"
     ]
    },
    {
     "name": "stdout",
     "output_type": "stream",
     "text": [
      "Epoch 37/300 | Train Loss: 1.8349 | Val Loss: 1.8525 Current learning rate: 0.0001\n",
      "EarlyStopping counter: 1 out of 20\n"
     ]
    },
    {
     "name": "stderr",
     "output_type": "stream",
     "text": [
      "Training Epoch 38: 100%|██████████| 8629/8629 [00:37<00:00, 229.20it/s]\n"
     ]
    },
    {
     "name": "stdout",
     "output_type": "stream",
     "text": [
      "Epoch 38/300 | Train Loss: 1.8257 | Val Loss: 1.8412 Current learning rate: 0.0001\n"
     ]
    },
    {
     "name": "stderr",
     "output_type": "stream",
     "text": [
      "Training Epoch 39: 100%|██████████| 8629/8629 [00:37<00:00, 229.55it/s]\n"
     ]
    },
    {
     "name": "stdout",
     "output_type": "stream",
     "text": [
      "Epoch 39/300 | Train Loss: 1.8207 | Val Loss: 1.8349 Current learning rate: 0.0001\n"
     ]
    },
    {
     "name": "stderr",
     "output_type": "stream",
     "text": [
      "Training Epoch 40: 100%|██████████| 8629/8629 [00:37<00:00, 229.26it/s]\n"
     ]
    },
    {
     "name": "stdout",
     "output_type": "stream",
     "text": [
      "Epoch 40/300 | Train Loss: 1.8140 | Val Loss: 1.8470 Current learning rate: 0.0001\n",
      "EarlyStopping counter: 1 out of 20\n"
     ]
    },
    {
     "name": "stderr",
     "output_type": "stream",
     "text": [
      "Training Epoch 41: 100%|██████████| 8629/8629 [00:37<00:00, 229.51it/s]\n"
     ]
    },
    {
     "name": "stdout",
     "output_type": "stream",
     "text": [
      "Epoch 41/300 | Train Loss: 1.8067 | Val Loss: 1.8409 Current learning rate: 0.0001\n",
      "EarlyStopping counter: 2 out of 20\n"
     ]
    },
    {
     "name": "stderr",
     "output_type": "stream",
     "text": [
      "Training Epoch 42: 100%|██████████| 8629/8629 [00:37<00:00, 229.76it/s]\n"
     ]
    },
    {
     "name": "stdout",
     "output_type": "stream",
     "text": [
      "Epoch 42/300 | Train Loss: 1.8003 | Val Loss: 1.7962 Current learning rate: 0.0001\n"
     ]
    },
    {
     "name": "stderr",
     "output_type": "stream",
     "text": [
      "Training Epoch 43: 100%|██████████| 8629/8629 [00:37<00:00, 229.46it/s]\n"
     ]
    },
    {
     "name": "stdout",
     "output_type": "stream",
     "text": [
      "Epoch 43/300 | Train Loss: 1.7943 | Val Loss: 1.8015 Current learning rate: 0.0001\n",
      "EarlyStopping counter: 1 out of 20\n"
     ]
    },
    {
     "name": "stderr",
     "output_type": "stream",
     "text": [
      "Training Epoch 44: 100%|██████████| 8629/8629 [00:37<00:00, 229.61it/s]\n"
     ]
    },
    {
     "name": "stdout",
     "output_type": "stream",
     "text": [
      "Epoch 44/300 | Train Loss: 1.7894 | Val Loss: 1.7715 Current learning rate: 0.0001\n"
     ]
    },
    {
     "name": "stderr",
     "output_type": "stream",
     "text": [
      "Training Epoch 45: 100%|██████████| 8629/8629 [00:37<00:00, 229.54it/s]\n"
     ]
    },
    {
     "name": "stdout",
     "output_type": "stream",
     "text": [
      "Epoch 45/300 | Train Loss: 1.7858 | Val Loss: 1.8023 Current learning rate: 0.0001\n",
      "EarlyStopping counter: 1 out of 20\n"
     ]
    },
    {
     "name": "stderr",
     "output_type": "stream",
     "text": [
      "Training Epoch 46: 100%|██████████| 8629/8629 [00:37<00:00, 229.37it/s]\n"
     ]
    },
    {
     "name": "stdout",
     "output_type": "stream",
     "text": [
      "Epoch 46/300 | Train Loss: 1.7798 | Val Loss: 1.7913 Current learning rate: 0.0001\n",
      "EarlyStopping counter: 2 out of 20\n"
     ]
    },
    {
     "name": "stderr",
     "output_type": "stream",
     "text": [
      "Training Epoch 47: 100%|██████████| 8629/8629 [00:37<00:00, 229.83it/s]\n"
     ]
    },
    {
     "name": "stdout",
     "output_type": "stream",
     "text": [
      "Epoch 47/300 | Train Loss: 1.7742 | Val Loss: 1.7873 Current learning rate: 0.0001\n",
      "EarlyStopping counter: 3 out of 20\n"
     ]
    },
    {
     "name": "stderr",
     "output_type": "stream",
     "text": [
      "Training Epoch 48: 100%|██████████| 8629/8629 [00:37<00:00, 229.98it/s]\n"
     ]
    },
    {
     "name": "stdout",
     "output_type": "stream",
     "text": [
      "Epoch 48/300 | Train Loss: 1.7727 | Val Loss: 1.7802 Current learning rate: 0.0001\n",
      "EarlyStopping counter: 4 out of 20\n"
     ]
    },
    {
     "name": "stderr",
     "output_type": "stream",
     "text": [
      "Training Epoch 49: 100%|██████████| 8629/8629 [00:37<00:00, 229.70it/s]\n"
     ]
    },
    {
     "name": "stdout",
     "output_type": "stream",
     "text": [
      "Epoch 49/300 | Train Loss: 1.7679 | Val Loss: 1.7547 Current learning rate: 0.0001\n"
     ]
    },
    {
     "name": "stderr",
     "output_type": "stream",
     "text": [
      "Training Epoch 50: 100%|██████████| 8629/8629 [00:37<00:00, 229.68it/s]\n"
     ]
    },
    {
     "name": "stdout",
     "output_type": "stream",
     "text": [
      "Epoch 50/300 | Train Loss: 1.7622 | Val Loss: 1.7422 Current learning rate: 0.0001\n"
     ]
    },
    {
     "name": "stderr",
     "output_type": "stream",
     "text": [
      "Training Epoch 51: 100%|██████████| 8629/8629 [00:37<00:00, 229.66it/s]\n"
     ]
    },
    {
     "name": "stdout",
     "output_type": "stream",
     "text": [
      "Epoch 51/300 | Train Loss: 1.7570 | Val Loss: 1.7634 Current learning rate: 0.0001\n",
      "EarlyStopping counter: 1 out of 20\n"
     ]
    },
    {
     "name": "stderr",
     "output_type": "stream",
     "text": [
      "Training Epoch 52: 100%|██████████| 8629/8629 [00:37<00:00, 229.63it/s]\n"
     ]
    },
    {
     "name": "stdout",
     "output_type": "stream",
     "text": [
      "Epoch 52/300 | Train Loss: 1.7548 | Val Loss: 1.7626 Current learning rate: 0.0001\n",
      "EarlyStopping counter: 2 out of 20\n"
     ]
    },
    {
     "name": "stderr",
     "output_type": "stream",
     "text": [
      "Training Epoch 53: 100%|██████████| 8629/8629 [00:37<00:00, 229.90it/s]\n"
     ]
    },
    {
     "name": "stdout",
     "output_type": "stream",
     "text": [
      "Epoch 53/300 | Train Loss: 1.7508 | Val Loss: 1.7213 Current learning rate: 0.0001\n"
     ]
    },
    {
     "name": "stderr",
     "output_type": "stream",
     "text": [
      "Training Epoch 54: 100%|██████████| 8629/8629 [00:37<00:00, 229.41it/s]\n"
     ]
    },
    {
     "name": "stdout",
     "output_type": "stream",
     "text": [
      "Epoch 54/300 | Train Loss: 1.7462 | Val Loss: 1.7400 Current learning rate: 0.0001\n",
      "EarlyStopping counter: 1 out of 20\n"
     ]
    },
    {
     "name": "stderr",
     "output_type": "stream",
     "text": [
      "Training Epoch 55: 100%|██████████| 8629/8629 [00:37<00:00, 229.64it/s]\n"
     ]
    },
    {
     "name": "stdout",
     "output_type": "stream",
     "text": [
      "Epoch 55/300 | Train Loss: 1.7438 | Val Loss: 1.7677 Current learning rate: 0.0001\n",
      "EarlyStopping counter: 2 out of 20\n"
     ]
    },
    {
     "name": "stderr",
     "output_type": "stream",
     "text": [
      "Training Epoch 56: 100%|██████████| 8629/8629 [00:37<00:00, 229.69it/s]\n"
     ]
    },
    {
     "name": "stdout",
     "output_type": "stream",
     "text": [
      "Epoch 56/300 | Train Loss: 1.7390 | Val Loss: 1.7155 Current learning rate: 0.0001\n"
     ]
    },
    {
     "name": "stderr",
     "output_type": "stream",
     "text": [
      "Training Epoch 57: 100%|██████████| 8629/8629 [00:37<00:00, 229.71it/s]\n"
     ]
    },
    {
     "name": "stdout",
     "output_type": "stream",
     "text": [
      "Epoch 57/300 | Train Loss: 1.7371 | Val Loss: 1.7355 Current learning rate: 0.0001\n",
      "EarlyStopping counter: 1 out of 20\n"
     ]
    },
    {
     "name": "stderr",
     "output_type": "stream",
     "text": [
      "Training Epoch 58: 100%|██████████| 8629/8629 [00:37<00:00, 230.04it/s]\n"
     ]
    },
    {
     "name": "stdout",
     "output_type": "stream",
     "text": [
      "Epoch 58/300 | Train Loss: 1.7314 | Val Loss: 1.7225 Current learning rate: 0.0001\n",
      "EarlyStopping counter: 2 out of 20\n"
     ]
    },
    {
     "name": "stderr",
     "output_type": "stream",
     "text": [
      "Training Epoch 59: 100%|██████████| 8629/8629 [00:37<00:00, 229.62it/s]\n"
     ]
    },
    {
     "name": "stdout",
     "output_type": "stream",
     "text": [
      "Epoch 59/300 | Train Loss: 1.7298 | Val Loss: 1.7514 Current learning rate: 0.0001\n",
      "EarlyStopping counter: 3 out of 20\n"
     ]
    },
    {
     "name": "stderr",
     "output_type": "stream",
     "text": [
      "Training Epoch 60: 100%|██████████| 8629/8629 [00:37<00:00, 227.83it/s]\n"
     ]
    },
    {
     "name": "stdout",
     "output_type": "stream",
     "text": [
      "Epoch 60/300 | Train Loss: 1.7258 | Val Loss: 1.7396 Current learning rate: 0.0001\n",
      "EarlyStopping counter: 4 out of 20\n"
     ]
    },
    {
     "name": "stderr",
     "output_type": "stream",
     "text": [
      "Training Epoch 61: 100%|██████████| 8629/8629 [00:37<00:00, 229.56it/s]\n"
     ]
    },
    {
     "name": "stdout",
     "output_type": "stream",
     "text": [
      "Epoch 61/300 | Train Loss: 1.7223 | Val Loss: 1.7449 Current learning rate: 0.0001\n",
      "EarlyStopping counter: 5 out of 20\n"
     ]
    },
    {
     "name": "stderr",
     "output_type": "stream",
     "text": [
      "Training Epoch 62: 100%|██████████| 8629/8629 [00:37<00:00, 229.65it/s]\n"
     ]
    },
    {
     "name": "stdout",
     "output_type": "stream",
     "text": [
      "Epoch 62/300 | Train Loss: 1.7207 | Val Loss: 1.7708 Current learning rate: 0.0001\n",
      "EarlyStopping counter: 6 out of 20\n"
     ]
    },
    {
     "name": "stderr",
     "output_type": "stream",
     "text": [
      "Training Epoch 63: 100%|██████████| 8629/8629 [00:37<00:00, 230.02it/s]\n"
     ]
    },
    {
     "name": "stdout",
     "output_type": "stream",
     "text": [
      "Epoch 63/300 | Train Loss: 1.7156 | Val Loss: 1.7044 Current learning rate: 0.0001\n"
     ]
    },
    {
     "name": "stderr",
     "output_type": "stream",
     "text": [
      "Training Epoch 64: 100%|██████████| 8629/8629 [00:37<00:00, 229.52it/s]\n"
     ]
    },
    {
     "name": "stdout",
     "output_type": "stream",
     "text": [
      "Epoch 64/300 | Train Loss: 1.7128 | Val Loss: 1.7404 Current learning rate: 0.0001\n",
      "EarlyStopping counter: 1 out of 20\n"
     ]
    },
    {
     "name": "stderr",
     "output_type": "stream",
     "text": [
      "Training Epoch 65: 100%|██████████| 8629/8629 [00:37<00:00, 229.55it/s]\n"
     ]
    },
    {
     "name": "stdout",
     "output_type": "stream",
     "text": [
      "Epoch 65/300 | Train Loss: 1.7104 | Val Loss: 1.6828 Current learning rate: 0.0001\n"
     ]
    },
    {
     "name": "stderr",
     "output_type": "stream",
     "text": [
      "Training Epoch 66: 100%|██████████| 8629/8629 [00:37<00:00, 229.56it/s]\n"
     ]
    },
    {
     "name": "stdout",
     "output_type": "stream",
     "text": [
      "Epoch 66/300 | Train Loss: 1.7057 | Val Loss: 1.6862 Current learning rate: 0.0001\n",
      "EarlyStopping counter: 1 out of 20\n"
     ]
    },
    {
     "name": "stderr",
     "output_type": "stream",
     "text": [
      "Training Epoch 67: 100%|██████████| 8629/8629 [00:37<00:00, 229.44it/s]\n"
     ]
    },
    {
     "name": "stdout",
     "output_type": "stream",
     "text": [
      "Epoch 67/300 | Train Loss: 1.7047 | Val Loss: 1.7139 Current learning rate: 0.0001\n",
      "EarlyStopping counter: 2 out of 20\n"
     ]
    },
    {
     "name": "stderr",
     "output_type": "stream",
     "text": [
      "Training Epoch 68: 100%|██████████| 8629/8629 [00:37<00:00, 229.91it/s]\n"
     ]
    },
    {
     "name": "stdout",
     "output_type": "stream",
     "text": [
      "Epoch 68/300 | Train Loss: 1.7013 | Val Loss: 1.6820 Current learning rate: 0.0001\n"
     ]
    },
    {
     "name": "stderr",
     "output_type": "stream",
     "text": [
      "Training Epoch 69: 100%|██████████| 8629/8629 [00:37<00:00, 229.63it/s]\n"
     ]
    },
    {
     "name": "stdout",
     "output_type": "stream",
     "text": [
      "Epoch 69/300 | Train Loss: 1.6999 | Val Loss: 1.6954 Current learning rate: 0.0001\n",
      "EarlyStopping counter: 1 out of 20\n"
     ]
    },
    {
     "name": "stderr",
     "output_type": "stream",
     "text": [
      "Training Epoch 70: 100%|██████████| 8629/8629 [00:37<00:00, 229.69it/s]\n"
     ]
    },
    {
     "name": "stdout",
     "output_type": "stream",
     "text": [
      "Epoch 70/300 | Train Loss: 1.6951 | Val Loss: 1.6903 Current learning rate: 0.0001\n",
      "EarlyStopping counter: 2 out of 20\n"
     ]
    },
    {
     "name": "stderr",
     "output_type": "stream",
     "text": [
      "Training Epoch 71: 100%|██████████| 8629/8629 [00:37<00:00, 229.90it/s]\n"
     ]
    },
    {
     "name": "stdout",
     "output_type": "stream",
     "text": [
      "Epoch 71/300 | Train Loss: 1.6931 | Val Loss: 1.6822 Current learning rate: 0.0001\n",
      "EarlyStopping counter: 3 out of 20\n"
     ]
    },
    {
     "name": "stderr",
     "output_type": "stream",
     "text": [
      "Training Epoch 72: 100%|██████████| 8629/8629 [00:37<00:00, 230.48it/s]\n"
     ]
    },
    {
     "name": "stdout",
     "output_type": "stream",
     "text": [
      "Epoch 72/300 | Train Loss: 1.6907 | Val Loss: 1.6805 Current learning rate: 0.0001\n"
     ]
    },
    {
     "name": "stderr",
     "output_type": "stream",
     "text": [
      "Training Epoch 73: 100%|██████████| 8629/8629 [00:37<00:00, 230.43it/s]\n"
     ]
    },
    {
     "name": "stdout",
     "output_type": "stream",
     "text": [
      "Epoch 73/300 | Train Loss: 1.6890 | Val Loss: 1.6889 Current learning rate: 0.0001\n",
      "EarlyStopping counter: 1 out of 20\n"
     ]
    },
    {
     "name": "stderr",
     "output_type": "stream",
     "text": [
      "Training Epoch 74: 100%|██████████| 8629/8629 [00:37<00:00, 229.74it/s]\n"
     ]
    },
    {
     "name": "stdout",
     "output_type": "stream",
     "text": [
      "Epoch 74/300 | Train Loss: 1.6884 | Val Loss: 1.6765 Current learning rate: 0.0001\n"
     ]
    },
    {
     "name": "stderr",
     "output_type": "stream",
     "text": [
      "Training Epoch 75: 100%|██████████| 8629/8629 [00:37<00:00, 229.82it/s]\n"
     ]
    },
    {
     "name": "stdout",
     "output_type": "stream",
     "text": [
      "Epoch 75/300 | Train Loss: 1.6836 | Val Loss: 1.6676 Current learning rate: 0.0001\n"
     ]
    },
    {
     "name": "stderr",
     "output_type": "stream",
     "text": [
      "Training Epoch 76: 100%|██████████| 8629/8629 [00:37<00:00, 229.73it/s]\n"
     ]
    },
    {
     "name": "stdout",
     "output_type": "stream",
     "text": [
      "Epoch 76/300 | Train Loss: 1.6830 | Val Loss: 1.6772 Current learning rate: 0.0001\n",
      "EarlyStopping counter: 1 out of 20\n"
     ]
    },
    {
     "name": "stderr",
     "output_type": "stream",
     "text": [
      "Training Epoch 77: 100%|██████████| 8629/8629 [00:37<00:00, 229.98it/s]\n"
     ]
    },
    {
     "name": "stdout",
     "output_type": "stream",
     "text": [
      "Epoch 77/300 | Train Loss: 1.6787 | Val Loss: 1.6664 Current learning rate: 0.0001\n"
     ]
    },
    {
     "name": "stderr",
     "output_type": "stream",
     "text": [
      "Training Epoch 78: 100%|██████████| 8629/8629 [00:37<00:00, 229.63it/s]\n"
     ]
    },
    {
     "name": "stdout",
     "output_type": "stream",
     "text": [
      "Epoch 78/300 | Train Loss: 1.6767 | Val Loss: 1.6834 Current learning rate: 0.0001\n",
      "EarlyStopping counter: 1 out of 20\n"
     ]
    },
    {
     "name": "stderr",
     "output_type": "stream",
     "text": [
      "Training Epoch 79: 100%|██████████| 8629/8629 [00:37<00:00, 230.44it/s]\n"
     ]
    },
    {
     "name": "stdout",
     "output_type": "stream",
     "text": [
      "Epoch 79/300 | Train Loss: 1.6724 | Val Loss: 1.6557 Current learning rate: 0.0001\n"
     ]
    },
    {
     "name": "stderr",
     "output_type": "stream",
     "text": [
      "Training Epoch 80: 100%|██████████| 8629/8629 [00:37<00:00, 230.36it/s]\n"
     ]
    },
    {
     "name": "stdout",
     "output_type": "stream",
     "text": [
      "Epoch 80/300 | Train Loss: 1.6718 | Val Loss: 1.6713 Current learning rate: 0.0001\n",
      "EarlyStopping counter: 1 out of 20\n"
     ]
    },
    {
     "name": "stderr",
     "output_type": "stream",
     "text": [
      "Training Epoch 81: 100%|██████████| 8629/8629 [00:37<00:00, 230.14it/s]\n"
     ]
    },
    {
     "name": "stdout",
     "output_type": "stream",
     "text": [
      "Epoch 81/300 | Train Loss: 1.6708 | Val Loss: 1.6792 Current learning rate: 0.0001\n",
      "EarlyStopping counter: 2 out of 20\n"
     ]
    },
    {
     "name": "stderr",
     "output_type": "stream",
     "text": [
      "Training Epoch 82: 100%|██████████| 8629/8629 [00:37<00:00, 230.45it/s]\n"
     ]
    },
    {
     "name": "stdout",
     "output_type": "stream",
     "text": [
      "Epoch 82/300 | Train Loss: 1.6684 | Val Loss: 1.6557 Current learning rate: 0.0001\n"
     ]
    },
    {
     "name": "stderr",
     "output_type": "stream",
     "text": [
      "Training Epoch 83: 100%|██████████| 8629/8629 [00:37<00:00, 228.23it/s]\n"
     ]
    },
    {
     "name": "stdout",
     "output_type": "stream",
     "text": [
      "Epoch 83/300 | Train Loss: 1.6663 | Val Loss: 1.6467 Current learning rate: 0.0001\n"
     ]
    },
    {
     "name": "stderr",
     "output_type": "stream",
     "text": [
      "Training Epoch 84: 100%|██████████| 8629/8629 [00:37<00:00, 229.58it/s]\n"
     ]
    },
    {
     "name": "stdout",
     "output_type": "stream",
     "text": [
      "Epoch 84/300 | Train Loss: 1.6648 | Val Loss: 1.6491 Current learning rate: 0.0001\n",
      "EarlyStopping counter: 1 out of 20\n"
     ]
    },
    {
     "name": "stderr",
     "output_type": "stream",
     "text": [
      "Training Epoch 85: 100%|██████████| 8629/8629 [00:37<00:00, 230.12it/s]\n"
     ]
    },
    {
     "name": "stdout",
     "output_type": "stream",
     "text": [
      "Epoch 85/300 | Train Loss: 1.6623 | Val Loss: 1.6575 Current learning rate: 0.0001\n",
      "EarlyStopping counter: 2 out of 20\n"
     ]
    },
    {
     "name": "stderr",
     "output_type": "stream",
     "text": [
      "Training Epoch 86: 100%|██████████| 8629/8629 [00:37<00:00, 230.28it/s]\n"
     ]
    },
    {
     "name": "stdout",
     "output_type": "stream",
     "text": [
      "Epoch 86/300 | Train Loss: 1.6596 | Val Loss: 1.6594 Current learning rate: 0.0001\n",
      "EarlyStopping counter: 3 out of 20\n"
     ]
    },
    {
     "name": "stderr",
     "output_type": "stream",
     "text": [
      "Training Epoch 87: 100%|██████████| 8629/8629 [00:37<00:00, 230.01it/s]\n"
     ]
    },
    {
     "name": "stdout",
     "output_type": "stream",
     "text": [
      "Epoch 87/300 | Train Loss: 1.6597 | Val Loss: 1.6565 Current learning rate: 0.0001\n",
      "EarlyStopping counter: 4 out of 20\n"
     ]
    },
    {
     "name": "stderr",
     "output_type": "stream",
     "text": [
      "Training Epoch 88: 100%|██████████| 8629/8629 [00:37<00:00, 230.10it/s]\n"
     ]
    },
    {
     "name": "stdout",
     "output_type": "stream",
     "text": [
      "Epoch 88/300 | Train Loss: 1.6581 | Val Loss: 1.6621 Current learning rate: 0.0001\n",
      "EarlyStopping counter: 5 out of 20\n"
     ]
    },
    {
     "name": "stderr",
     "output_type": "stream",
     "text": [
      "Training Epoch 89: 100%|██████████| 8629/8629 [00:37<00:00, 230.16it/s]\n"
     ]
    },
    {
     "name": "stdout",
     "output_type": "stream",
     "text": [
      "Epoch 89/300 | Train Loss: 1.6540 | Val Loss: 1.6620 Current learning rate: 0.0001\n",
      "EarlyStopping counter: 6 out of 20\n"
     ]
    },
    {
     "name": "stderr",
     "output_type": "stream",
     "text": [
      "Training Epoch 90: 100%|██████████| 8629/8629 [00:37<00:00, 230.00it/s]\n"
     ]
    },
    {
     "name": "stdout",
     "output_type": "stream",
     "text": [
      "Epoch 90/300 | Train Loss: 1.6527 | Val Loss: 1.6618 Current learning rate: 0.0001\n",
      "EarlyStopping counter: 7 out of 20\n"
     ]
    },
    {
     "name": "stderr",
     "output_type": "stream",
     "text": [
      "Training Epoch 91: 100%|██████████| 8629/8629 [00:37<00:00, 230.27it/s]\n"
     ]
    },
    {
     "name": "stdout",
     "output_type": "stream",
     "text": [
      "Epoch 91/300 | Train Loss: 1.6513 | Val Loss: 1.6565 Current learning rate: 0.0001\n",
      "EarlyStopping counter: 8 out of 20\n"
     ]
    },
    {
     "name": "stderr",
     "output_type": "stream",
     "text": [
      "Training Epoch 92: 100%|██████████| 8629/8629 [00:37<00:00, 229.95it/s]\n"
     ]
    },
    {
     "name": "stdout",
     "output_type": "stream",
     "text": [
      "Epoch 92/300 | Train Loss: 1.6494 | Val Loss: 1.6810 Current learning rate: 0.0001\n",
      "EarlyStopping counter: 9 out of 20\n"
     ]
    },
    {
     "name": "stderr",
     "output_type": "stream",
     "text": [
      "Training Epoch 93: 100%|██████████| 8629/8629 [00:37<00:00, 230.26it/s]\n"
     ]
    },
    {
     "name": "stdout",
     "output_type": "stream",
     "text": [
      "Epoch 93/300 | Train Loss: 1.6474 | Val Loss: 1.6476 Current learning rate: 0.0001\n",
      "EarlyStopping counter: 10 out of 20\n"
     ]
    },
    {
     "name": "stderr",
     "output_type": "stream",
     "text": [
      "Training Epoch 94: 100%|██████████| 8629/8629 [00:37<00:00, 229.84it/s]\n"
     ]
    },
    {
     "name": "stdout",
     "output_type": "stream",
     "text": [
      "Epoch 94/300 | Train Loss: 1.6462 | Val Loss: 1.6346 Current learning rate: 0.0001\n"
     ]
    },
    {
     "name": "stderr",
     "output_type": "stream",
     "text": [
      "Training Epoch 95: 100%|██████████| 8629/8629 [00:37<00:00, 230.05it/s]\n"
     ]
    },
    {
     "name": "stdout",
     "output_type": "stream",
     "text": [
      "Epoch 95/300 | Train Loss: 1.6439 | Val Loss: 1.6514 Current learning rate: 0.0001\n",
      "EarlyStopping counter: 1 out of 20\n"
     ]
    },
    {
     "name": "stderr",
     "output_type": "stream",
     "text": [
      "Training Epoch 96: 100%|██████████| 8629/8629 [00:37<00:00, 230.04it/s]\n"
     ]
    },
    {
     "name": "stdout",
     "output_type": "stream",
     "text": [
      "Epoch 96/300 | Train Loss: 1.6431 | Val Loss: 1.6368 Current learning rate: 0.0001\n",
      "EarlyStopping counter: 2 out of 20\n"
     ]
    },
    {
     "name": "stderr",
     "output_type": "stream",
     "text": [
      "Training Epoch 97: 100%|██████████| 8629/8629 [00:37<00:00, 229.68it/s]\n"
     ]
    },
    {
     "name": "stdout",
     "output_type": "stream",
     "text": [
      "Epoch 97/300 | Train Loss: 1.6399 | Val Loss: 1.6404 Current learning rate: 0.0001\n",
      "EarlyStopping counter: 3 out of 20\n"
     ]
    },
    {
     "name": "stderr",
     "output_type": "stream",
     "text": [
      "Training Epoch 98: 100%|██████████| 8629/8629 [00:37<00:00, 230.11it/s]\n"
     ]
    },
    {
     "name": "stdout",
     "output_type": "stream",
     "text": [
      "Epoch 98/300 | Train Loss: 1.6377 | Val Loss: 1.6358 Current learning rate: 0.0001\n",
      "EarlyStopping counter: 4 out of 20\n"
     ]
    },
    {
     "name": "stderr",
     "output_type": "stream",
     "text": [
      "Training Epoch 99: 100%|██████████| 8629/8629 [00:37<00:00, 230.02it/s]\n"
     ]
    },
    {
     "name": "stdout",
     "output_type": "stream",
     "text": [
      "Epoch 99/300 | Train Loss: 1.6376 | Val Loss: 1.6265 Current learning rate: 0.0001\n"
     ]
    },
    {
     "name": "stderr",
     "output_type": "stream",
     "text": [
      "Training Epoch 100: 100%|██████████| 8629/8629 [00:37<00:00, 230.37it/s]\n"
     ]
    },
    {
     "name": "stdout",
     "output_type": "stream",
     "text": [
      "Epoch 100/300 | Train Loss: 1.6352 | Val Loss: 1.6219 Current learning rate: 0.0001\n"
     ]
    },
    {
     "name": "stderr",
     "output_type": "stream",
     "text": [
      "Training Epoch 101: 100%|██████████| 8629/8629 [00:37<00:00, 230.46it/s]\n"
     ]
    },
    {
     "name": "stdout",
     "output_type": "stream",
     "text": [
      "Epoch 101/300 | Train Loss: 1.6364 | Val Loss: 1.6272 Current learning rate: 0.0001\n",
      "EarlyStopping counter: 1 out of 20\n"
     ]
    },
    {
     "name": "stderr",
     "output_type": "stream",
     "text": [
      "Training Epoch 102: 100%|██████████| 8629/8629 [00:37<00:00, 230.16it/s]\n"
     ]
    },
    {
     "name": "stdout",
     "output_type": "stream",
     "text": [
      "Epoch 102/300 | Train Loss: 1.6330 | Val Loss: 1.6189 Current learning rate: 0.0001\n"
     ]
    },
    {
     "name": "stderr",
     "output_type": "stream",
     "text": [
      "Training Epoch 103: 100%|██████████| 8629/8629 [00:37<00:00, 230.56it/s]\n"
     ]
    },
    {
     "name": "stdout",
     "output_type": "stream",
     "text": [
      "Epoch 103/300 | Train Loss: 1.6321 | Val Loss: 1.6345 Current learning rate: 0.0001\n",
      "EarlyStopping counter: 1 out of 20\n"
     ]
    },
    {
     "name": "stderr",
     "output_type": "stream",
     "text": [
      "Training Epoch 104: 100%|██████████| 8629/8629 [00:37<00:00, 230.62it/s]\n"
     ]
    },
    {
     "name": "stdout",
     "output_type": "stream",
     "text": [
      "Epoch 104/300 | Train Loss: 1.6308 | Val Loss: 1.6343 Current learning rate: 0.0001\n",
      "EarlyStopping counter: 2 out of 20\n"
     ]
    },
    {
     "name": "stderr",
     "output_type": "stream",
     "text": [
      "Training Epoch 105: 100%|██████████| 8629/8629 [00:37<00:00, 230.43it/s]\n"
     ]
    },
    {
     "name": "stdout",
     "output_type": "stream",
     "text": [
      "Epoch 105/300 | Train Loss: 1.6259 | Val Loss: 1.6292 Current learning rate: 0.0001\n",
      "EarlyStopping counter: 3 out of 20\n"
     ]
    },
    {
     "name": "stderr",
     "output_type": "stream",
     "text": [
      "Training Epoch 106: 100%|██████████| 8629/8629 [00:37<00:00, 229.87it/s]\n"
     ]
    },
    {
     "name": "stdout",
     "output_type": "stream",
     "text": [
      "Epoch 106/300 | Train Loss: 1.6258 | Val Loss: 1.6262 Current learning rate: 0.0001\n",
      "EarlyStopping counter: 4 out of 20\n"
     ]
    },
    {
     "name": "stderr",
     "output_type": "stream",
     "text": [
      "Training Epoch 107: 100%|██████████| 8629/8629 [00:37<00:00, 229.66it/s]\n"
     ]
    },
    {
     "name": "stdout",
     "output_type": "stream",
     "text": [
      "Epoch 107/300 | Train Loss: 1.6258 | Val Loss: 1.6171 Current learning rate: 0.0001\n"
     ]
    },
    {
     "name": "stderr",
     "output_type": "stream",
     "text": [
      "Training Epoch 108: 100%|██████████| 8629/8629 [00:37<00:00, 230.43it/s]\n"
     ]
    },
    {
     "name": "stdout",
     "output_type": "stream",
     "text": [
      "Epoch 108/300 | Train Loss: 1.6243 | Val Loss: 1.6255 Current learning rate: 0.0001\n",
      "EarlyStopping counter: 1 out of 20\n"
     ]
    },
    {
     "name": "stderr",
     "output_type": "stream",
     "text": [
      "Training Epoch 109: 100%|██████████| 8629/8629 [00:37<00:00, 230.35it/s]\n"
     ]
    },
    {
     "name": "stdout",
     "output_type": "stream",
     "text": [
      "Epoch 109/300 | Train Loss: 1.6209 | Val Loss: 1.6162 Current learning rate: 0.0001\n"
     ]
    },
    {
     "name": "stderr",
     "output_type": "stream",
     "text": [
      "Training Epoch 110: 100%|██████████| 8629/8629 [00:37<00:00, 230.54it/s]\n"
     ]
    },
    {
     "name": "stdout",
     "output_type": "stream",
     "text": [
      "Epoch 110/300 | Train Loss: 1.6217 | Val Loss: 1.6182 Current learning rate: 0.0001\n",
      "EarlyStopping counter: 1 out of 20\n"
     ]
    },
    {
     "name": "stderr",
     "output_type": "stream",
     "text": [
      "Training Epoch 111: 100%|██████████| 8629/8629 [00:37<00:00, 230.70it/s]\n"
     ]
    },
    {
     "name": "stdout",
     "output_type": "stream",
     "text": [
      "Epoch 111/300 | Train Loss: 1.6190 | Val Loss: 1.6394 Current learning rate: 0.0001\n",
      "EarlyStopping counter: 2 out of 20\n"
     ]
    },
    {
     "name": "stderr",
     "output_type": "stream",
     "text": [
      "Training Epoch 112: 100%|██████████| 8629/8629 [00:37<00:00, 230.01it/s]\n"
     ]
    },
    {
     "name": "stdout",
     "output_type": "stream",
     "text": [
      "Epoch 112/300 | Train Loss: 1.6188 | Val Loss: 1.6184 Current learning rate: 0.0001\n",
      "EarlyStopping counter: 3 out of 20\n"
     ]
    },
    {
     "name": "stderr",
     "output_type": "stream",
     "text": [
      "Training Epoch 113: 100%|██████████| 8629/8629 [00:37<00:00, 230.16it/s]\n"
     ]
    },
    {
     "name": "stdout",
     "output_type": "stream",
     "text": [
      "Epoch 113/300 | Train Loss: 1.6174 | Val Loss: 1.6173 Current learning rate: 0.0001\n",
      "EarlyStopping counter: 4 out of 20\n"
     ]
    },
    {
     "name": "stderr",
     "output_type": "stream",
     "text": [
      "Training Epoch 114: 100%|██████████| 8629/8629 [00:37<00:00, 230.08it/s]\n"
     ]
    },
    {
     "name": "stdout",
     "output_type": "stream",
     "text": [
      "Epoch 114/300 | Train Loss: 1.6160 | Val Loss: 1.6145 Current learning rate: 0.0001\n"
     ]
    },
    {
     "name": "stderr",
     "output_type": "stream",
     "text": [
      "Training Epoch 115: 100%|██████████| 8629/8629 [00:37<00:00, 230.26it/s]\n"
     ]
    },
    {
     "name": "stdout",
     "output_type": "stream",
     "text": [
      "Epoch 115/300 | Train Loss: 1.6148 | Val Loss: 1.6180 Current learning rate: 0.0001\n",
      "EarlyStopping counter: 1 out of 20\n"
     ]
    },
    {
     "name": "stderr",
     "output_type": "stream",
     "text": [
      "Training Epoch 116: 100%|██████████| 8629/8629 [00:37<00:00, 230.33it/s]\n"
     ]
    },
    {
     "name": "stdout",
     "output_type": "stream",
     "text": [
      "Epoch 116/300 | Train Loss: 1.6115 | Val Loss: 1.6104 Current learning rate: 0.0001\n"
     ]
    },
    {
     "name": "stderr",
     "output_type": "stream",
     "text": [
      "Training Epoch 117: 100%|██████████| 8629/8629 [00:37<00:00, 230.42it/s]\n"
     ]
    },
    {
     "name": "stdout",
     "output_type": "stream",
     "text": [
      "Epoch 117/300 | Train Loss: 1.6133 | Val Loss: 1.6039 Current learning rate: 0.0001\n"
     ]
    },
    {
     "name": "stderr",
     "output_type": "stream",
     "text": [
      "Training Epoch 118: 100%|██████████| 8629/8629 [00:37<00:00, 230.59it/s]\n"
     ]
    },
    {
     "name": "stdout",
     "output_type": "stream",
     "text": [
      "Epoch 118/300 | Train Loss: 1.6114 | Val Loss: 1.6032 Current learning rate: 0.0001\n"
     ]
    },
    {
     "name": "stderr",
     "output_type": "stream",
     "text": [
      "Training Epoch 119: 100%|██████████| 8629/8629 [00:37<00:00, 230.38it/s]\n"
     ]
    },
    {
     "name": "stdout",
     "output_type": "stream",
     "text": [
      "Epoch 119/300 | Train Loss: 1.6099 | Val Loss: 1.6099 Current learning rate: 0.0001\n",
      "EarlyStopping counter: 1 out of 20\n"
     ]
    },
    {
     "name": "stderr",
     "output_type": "stream",
     "text": [
      "Training Epoch 120: 100%|██████████| 8629/8629 [00:37<00:00, 230.15it/s]\n"
     ]
    },
    {
     "name": "stdout",
     "output_type": "stream",
     "text": [
      "Epoch 120/300 | Train Loss: 1.6111 | Val Loss: 1.6055 Current learning rate: 0.0001\n",
      "EarlyStopping counter: 2 out of 20\n"
     ]
    },
    {
     "name": "stderr",
     "output_type": "stream",
     "text": [
      "Training Epoch 121: 100%|██████████| 8629/8629 [00:37<00:00, 230.13it/s]\n"
     ]
    },
    {
     "name": "stdout",
     "output_type": "stream",
     "text": [
      "Epoch 121/300 | Train Loss: 1.6081 | Val Loss: 1.6125 Current learning rate: 0.0001\n",
      "EarlyStopping counter: 3 out of 20\n"
     ]
    },
    {
     "name": "stderr",
     "output_type": "stream",
     "text": [
      "Training Epoch 122: 100%|██████████| 8629/8629 [00:37<00:00, 230.36it/s]\n"
     ]
    },
    {
     "name": "stdout",
     "output_type": "stream",
     "text": [
      "Epoch 122/300 | Train Loss: 1.6080 | Val Loss: 1.6089 Current learning rate: 0.0001\n",
      "EarlyStopping counter: 4 out of 20\n"
     ]
    },
    {
     "name": "stderr",
     "output_type": "stream",
     "text": [
      "Training Epoch 123: 100%|██████████| 8629/8629 [00:37<00:00, 230.06it/s]\n"
     ]
    },
    {
     "name": "stdout",
     "output_type": "stream",
     "text": [
      "Epoch 123/300 | Train Loss: 1.6080 | Val Loss: 1.6178 Current learning rate: 0.0001\n",
      "EarlyStopping counter: 5 out of 20\n"
     ]
    },
    {
     "name": "stderr",
     "output_type": "stream",
     "text": [
      "Training Epoch 124: 100%|██████████| 8629/8629 [00:37<00:00, 230.30it/s]\n"
     ]
    },
    {
     "name": "stdout",
     "output_type": "stream",
     "text": [
      "Epoch 124/300 | Train Loss: 1.6063 | Val Loss: 1.6132 Current learning rate: 0.0001\n",
      "EarlyStopping counter: 6 out of 20\n"
     ]
    },
    {
     "name": "stderr",
     "output_type": "stream",
     "text": [
      "Training Epoch 125: 100%|██████████| 8629/8629 [00:37<00:00, 230.42it/s]\n"
     ]
    },
    {
     "name": "stdout",
     "output_type": "stream",
     "text": [
      "Epoch 125/300 | Train Loss: 1.6036 | Val Loss: 1.5984 Current learning rate: 0.0001\n"
     ]
    },
    {
     "name": "stderr",
     "output_type": "stream",
     "text": [
      "Training Epoch 126: 100%|██████████| 8629/8629 [00:37<00:00, 230.14it/s]\n"
     ]
    },
    {
     "name": "stdout",
     "output_type": "stream",
     "text": [
      "Epoch 126/300 | Train Loss: 1.6038 | Val Loss: 1.5889 Current learning rate: 0.0001\n"
     ]
    },
    {
     "name": "stderr",
     "output_type": "stream",
     "text": [
      "Training Epoch 127: 100%|██████████| 8629/8629 [00:37<00:00, 230.33it/s]\n"
     ]
    },
    {
     "name": "stdout",
     "output_type": "stream",
     "text": [
      "Epoch 127/300 | Train Loss: 1.6031 | Val Loss: 1.6098 Current learning rate: 0.0001\n",
      "EarlyStopping counter: 1 out of 20\n"
     ]
    },
    {
     "name": "stderr",
     "output_type": "stream",
     "text": [
      "Training Epoch 128: 100%|██████████| 8629/8629 [00:37<00:00, 230.28it/s]\n"
     ]
    },
    {
     "name": "stdout",
     "output_type": "stream",
     "text": [
      "Epoch 128/300 | Train Loss: 1.6003 | Val Loss: 1.6023 Current learning rate: 0.0001\n",
      "EarlyStopping counter: 2 out of 20\n"
     ]
    },
    {
     "name": "stderr",
     "output_type": "stream",
     "text": [
      "Training Epoch 129: 100%|██████████| 8629/8629 [00:37<00:00, 230.28it/s]\n"
     ]
    },
    {
     "name": "stdout",
     "output_type": "stream",
     "text": [
      "Epoch 129/300 | Train Loss: 1.6016 | Val Loss: 1.5947 Current learning rate: 0.0001\n",
      "EarlyStopping counter: 3 out of 20\n"
     ]
    },
    {
     "name": "stderr",
     "output_type": "stream",
     "text": [
      "Training Epoch 130: 100%|██████████| 8629/8629 [00:37<00:00, 227.40it/s]\n"
     ]
    },
    {
     "name": "stdout",
     "output_type": "stream",
     "text": [
      "Epoch 130/300 | Train Loss: 1.5993 | Val Loss: 1.5926 Current learning rate: 0.0001\n",
      "EarlyStopping counter: 4 out of 20\n"
     ]
    },
    {
     "name": "stderr",
     "output_type": "stream",
     "text": [
      "Training Epoch 131: 100%|██████████| 8629/8629 [00:38<00:00, 226.81it/s]\n"
     ]
    },
    {
     "name": "stdout",
     "output_type": "stream",
     "text": [
      "Epoch 131/300 | Train Loss: 1.5999 | Val Loss: 1.6016 Current learning rate: 0.0001\n",
      "EarlyStopping counter: 5 out of 20\n"
     ]
    },
    {
     "name": "stderr",
     "output_type": "stream",
     "text": [
      "Training Epoch 132: 100%|██████████| 8629/8629 [00:37<00:00, 227.65it/s]\n"
     ]
    },
    {
     "name": "stdout",
     "output_type": "stream",
     "text": [
      "Epoch 132/300 | Train Loss: 1.6001 | Val Loss: 1.5993 Current learning rate: 0.0001\n",
      "EarlyStopping counter: 6 out of 20\n"
     ]
    },
    {
     "name": "stderr",
     "output_type": "stream",
     "text": [
      "Training Epoch 133: 100%|██████████| 8629/8629 [00:37<00:00, 229.03it/s]\n"
     ]
    },
    {
     "name": "stdout",
     "output_type": "stream",
     "text": [
      "Epoch 133/300 | Train Loss: 1.5960 | Val Loss: 1.6458 Current learning rate: 0.0001\n",
      "EarlyStopping counter: 7 out of 20\n"
     ]
    },
    {
     "name": "stderr",
     "output_type": "stream",
     "text": [
      "Training Epoch 134: 100%|██████████| 8629/8629 [00:37<00:00, 230.51it/s]\n"
     ]
    },
    {
     "name": "stdout",
     "output_type": "stream",
     "text": [
      "Epoch 134/300 | Train Loss: 1.5961 | Val Loss: 1.5916 Current learning rate: 0.0001\n",
      "EarlyStopping counter: 8 out of 20\n"
     ]
    },
    {
     "name": "stderr",
     "output_type": "stream",
     "text": [
      "Training Epoch 135: 100%|██████████| 8629/8629 [00:37<00:00, 230.25it/s]\n"
     ]
    },
    {
     "name": "stdout",
     "output_type": "stream",
     "text": [
      "Epoch 135/300 | Train Loss: 1.5946 | Val Loss: 1.5987 Current learning rate: 0.0001\n",
      "EarlyStopping counter: 9 out of 20\n"
     ]
    },
    {
     "name": "stderr",
     "output_type": "stream",
     "text": [
      "Training Epoch 136: 100%|██████████| 8629/8629 [00:37<00:00, 230.62it/s]\n"
     ]
    },
    {
     "name": "stdout",
     "output_type": "stream",
     "text": [
      "Epoch 136/300 | Train Loss: 1.5949 | Val Loss: 1.5952 Current learning rate: 0.0001\n",
      "EarlyStopping counter: 10 out of 20\n"
     ]
    },
    {
     "name": "stderr",
     "output_type": "stream",
     "text": [
      "Training Epoch 137: 100%|██████████| 8629/8629 [00:37<00:00, 230.52it/s]\n"
     ]
    },
    {
     "name": "stdout",
     "output_type": "stream",
     "text": [
      "Epoch 137/300 | Train Loss: 1.5935 | Val Loss: 1.5955 Current learning rate: 0.0001\n",
      "EarlyStopping counter: 11 out of 20\n"
     ]
    },
    {
     "name": "stderr",
     "output_type": "stream",
     "text": [
      "Training Epoch 138: 100%|██████████| 8629/8629 [00:37<00:00, 230.32it/s]\n"
     ]
    },
    {
     "name": "stdout",
     "output_type": "stream",
     "text": [
      "Epoch 138/300 | Train Loss: 1.5922 | Val Loss: 1.6044 Current learning rate: 0.0001\n",
      "EarlyStopping counter: 12 out of 20\n"
     ]
    },
    {
     "name": "stderr",
     "output_type": "stream",
     "text": [
      "Training Epoch 139: 100%|██████████| 8629/8629 [00:37<00:00, 230.26it/s]\n"
     ]
    },
    {
     "name": "stdout",
     "output_type": "stream",
     "text": [
      "Epoch 139/300 | Train Loss: 1.5932 | Val Loss: 1.5987 Current learning rate: 0.0001\n",
      "EarlyStopping counter: 13 out of 20\n"
     ]
    },
    {
     "name": "stderr",
     "output_type": "stream",
     "text": [
      "Training Epoch 140: 100%|██████████| 8629/8629 [00:37<00:00, 230.44it/s]\n"
     ]
    },
    {
     "name": "stdout",
     "output_type": "stream",
     "text": [
      "Epoch 140/300 | Train Loss: 1.5916 | Val Loss: 1.6006 Current learning rate: 0.0001\n",
      "EarlyStopping counter: 14 out of 20\n"
     ]
    },
    {
     "name": "stderr",
     "output_type": "stream",
     "text": [
      "Training Epoch 141: 100%|██████████| 8629/8629 [00:37<00:00, 230.77it/s]\n"
     ]
    },
    {
     "name": "stdout",
     "output_type": "stream",
     "text": [
      "Epoch 141/300 | Train Loss: 1.5903 | Val Loss: 1.6006 Current learning rate: 0.0001\n",
      "EarlyStopping counter: 15 out of 20\n"
     ]
    },
    {
     "name": "stderr",
     "output_type": "stream",
     "text": [
      "Training Epoch 142: 100%|██████████| 8629/8629 [00:37<00:00, 230.45it/s]\n"
     ]
    },
    {
     "name": "stdout",
     "output_type": "stream",
     "text": [
      "Epoch 142/300 | Train Loss: 1.5892 | Val Loss: 1.6020 Current learning rate: 0.0001\n",
      "EarlyStopping counter: 16 out of 20\n"
     ]
    },
    {
     "name": "stderr",
     "output_type": "stream",
     "text": [
      "Training Epoch 143: 100%|██████████| 8629/8629 [00:37<00:00, 230.36it/s]\n"
     ]
    },
    {
     "name": "stdout",
     "output_type": "stream",
     "text": [
      "Epoch 143/300 | Train Loss: 1.5899 | Val Loss: 1.5978 Current learning rate: 0.0001\n",
      "EarlyStopping counter: 17 out of 20\n"
     ]
    },
    {
     "name": "stderr",
     "output_type": "stream",
     "text": [
      "Training Epoch 144: 100%|██████████| 8629/8629 [00:37<00:00, 230.34it/s]\n"
     ]
    },
    {
     "name": "stdout",
     "output_type": "stream",
     "text": [
      "Epoch 144/300 | Train Loss: 1.5884 | Val Loss: 1.6039 Current learning rate: 0.0001\n",
      "EarlyStopping counter: 18 out of 20\n"
     ]
    },
    {
     "name": "stderr",
     "output_type": "stream",
     "text": [
      "Training Epoch 145: 100%|██████████| 8629/8629 [00:37<00:00, 230.12it/s]\n"
     ]
    },
    {
     "name": "stdout",
     "output_type": "stream",
     "text": [
      "Epoch 145/300 | Train Loss: 1.5865 | Val Loss: 1.5957 Current learning rate: 0.0001\n",
      "EarlyStopping counter: 19 out of 20\n"
     ]
    },
    {
     "name": "stderr",
     "output_type": "stream",
     "text": [
      "Training Epoch 146: 100%|██████████| 8629/8629 [00:37<00:00, 230.40it/s]\n"
     ]
    },
    {
     "name": "stdout",
     "output_type": "stream",
     "text": [
      "Epoch 146/300 | Train Loss: 1.5864 | Val Loss: 1.5865 Current learning rate: 0.0001\n"
     ]
    },
    {
     "name": "stderr",
     "output_type": "stream",
     "text": [
      "Training Epoch 147: 100%|██████████| 8629/8629 [00:37<00:00, 229.87it/s]\n"
     ]
    },
    {
     "name": "stdout",
     "output_type": "stream",
     "text": [
      "Epoch 147/300 | Train Loss: 1.5863 | Val Loss: 1.5817 Current learning rate: 0.0001\n"
     ]
    },
    {
     "name": "stderr",
     "output_type": "stream",
     "text": [
      "Training Epoch 148: 100%|██████████| 8629/8629 [00:37<00:00, 230.10it/s]\n"
     ]
    },
    {
     "name": "stdout",
     "output_type": "stream",
     "text": [
      "Epoch 148/300 | Train Loss: 1.5854 | Val Loss: 1.6057 Current learning rate: 0.0001\n",
      "EarlyStopping counter: 1 out of 20\n"
     ]
    },
    {
     "name": "stderr",
     "output_type": "stream",
     "text": [
      "Training Epoch 149: 100%|██████████| 8629/8629 [00:37<00:00, 230.34it/s]\n"
     ]
    },
    {
     "name": "stdout",
     "output_type": "stream",
     "text": [
      "Epoch 149/300 | Train Loss: 1.5846 | Val Loss: 1.5793 Current learning rate: 0.0001\n"
     ]
    },
    {
     "name": "stderr",
     "output_type": "stream",
     "text": [
      "Training Epoch 150: 100%|██████████| 8629/8629 [00:37<00:00, 229.90it/s]\n"
     ]
    },
    {
     "name": "stdout",
     "output_type": "stream",
     "text": [
      "Epoch 150/300 | Train Loss: 1.5838 | Val Loss: 1.5993 Current learning rate: 0.0001\n",
      "EarlyStopping counter: 1 out of 20\n"
     ]
    },
    {
     "name": "stderr",
     "output_type": "stream",
     "text": [
      "Training Epoch 151: 100%|██████████| 8629/8629 [00:37<00:00, 230.37it/s]\n"
     ]
    },
    {
     "name": "stdout",
     "output_type": "stream",
     "text": [
      "Epoch 151/300 | Train Loss: 1.5833 | Val Loss: 1.5842 Current learning rate: 0.0001\n",
      "EarlyStopping counter: 2 out of 20\n"
     ]
    },
    {
     "name": "stderr",
     "output_type": "stream",
     "text": [
      "Training Epoch 152: 100%|██████████| 8629/8629 [00:37<00:00, 229.75it/s]\n"
     ]
    },
    {
     "name": "stdout",
     "output_type": "stream",
     "text": [
      "Epoch 152/300 | Train Loss: 1.5835 | Val Loss: 1.5732 Current learning rate: 0.0001\n"
     ]
    },
    {
     "name": "stderr",
     "output_type": "stream",
     "text": [
      "Training Epoch 153: 100%|██████████| 8629/8629 [00:37<00:00, 229.89it/s]\n"
     ]
    },
    {
     "name": "stdout",
     "output_type": "stream",
     "text": [
      "Epoch 153/300 | Train Loss: 1.5822 | Val Loss: 1.5967 Current learning rate: 0.0001\n",
      "EarlyStopping counter: 1 out of 20\n"
     ]
    },
    {
     "name": "stderr",
     "output_type": "stream",
     "text": [
      "Training Epoch 154: 100%|██████████| 8629/8629 [00:37<00:00, 230.12it/s]\n"
     ]
    },
    {
     "name": "stdout",
     "output_type": "stream",
     "text": [
      "Epoch 154/300 | Train Loss: 1.5800 | Val Loss: 1.5895 Current learning rate: 0.0001\n",
      "EarlyStopping counter: 2 out of 20\n"
     ]
    },
    {
     "name": "stderr",
     "output_type": "stream",
     "text": [
      "Training Epoch 155: 100%|██████████| 8629/8629 [00:37<00:00, 230.54it/s]\n"
     ]
    },
    {
     "name": "stdout",
     "output_type": "stream",
     "text": [
      "Epoch 155/300 | Train Loss: 1.5803 | Val Loss: 1.5834 Current learning rate: 0.0001\n",
      "EarlyStopping counter: 3 out of 20\n"
     ]
    },
    {
     "name": "stderr",
     "output_type": "stream",
     "text": [
      "Training Epoch 156: 100%|██████████| 8629/8629 [00:37<00:00, 229.44it/s]\n"
     ]
    },
    {
     "name": "stdout",
     "output_type": "stream",
     "text": [
      "Epoch 156/300 | Train Loss: 1.5798 | Val Loss: 1.5786 Current learning rate: 0.0001\n",
      "EarlyStopping counter: 4 out of 20\n"
     ]
    },
    {
     "name": "stderr",
     "output_type": "stream",
     "text": [
      "Training Epoch 157: 100%|██████████| 8629/8629 [00:37<00:00, 228.97it/s]\n"
     ]
    },
    {
     "name": "stdout",
     "output_type": "stream",
     "text": [
      "Epoch 157/300 | Train Loss: 1.5782 | Val Loss: 1.6003 Current learning rate: 0.0001\n",
      "EarlyStopping counter: 5 out of 20\n"
     ]
    },
    {
     "name": "stderr",
     "output_type": "stream",
     "text": [
      "Training Epoch 158: 100%|██████████| 8629/8629 [00:37<00:00, 230.01it/s]\n"
     ]
    },
    {
     "name": "stdout",
     "output_type": "stream",
     "text": [
      "Epoch 158/300 | Train Loss: 1.5775 | Val Loss: 1.5763 Current learning rate: 0.0001\n",
      "EarlyStopping counter: 6 out of 20\n"
     ]
    },
    {
     "name": "stderr",
     "output_type": "stream",
     "text": [
      "Training Epoch 159: 100%|██████████| 8629/8629 [00:37<00:00, 230.67it/s]\n"
     ]
    },
    {
     "name": "stdout",
     "output_type": "stream",
     "text": [
      "Epoch 159/300 | Train Loss: 1.5762 | Val Loss: 1.5829 Current learning rate: 0.0001\n",
      "EarlyStopping counter: 7 out of 20\n"
     ]
    },
    {
     "name": "stderr",
     "output_type": "stream",
     "text": [
      "Training Epoch 160: 100%|██████████| 8629/8629 [00:37<00:00, 230.34it/s]\n"
     ]
    },
    {
     "name": "stdout",
     "output_type": "stream",
     "text": [
      "Epoch 160/300 | Train Loss: 1.5757 | Val Loss: 1.5991 Current learning rate: 0.0001\n",
      "EarlyStopping counter: 8 out of 20\n"
     ]
    },
    {
     "name": "stderr",
     "output_type": "stream",
     "text": [
      "Training Epoch 161: 100%|██████████| 8629/8629 [00:37<00:00, 230.75it/s]\n"
     ]
    },
    {
     "name": "stdout",
     "output_type": "stream",
     "text": [
      "Epoch 161/300 | Train Loss: 1.5753 | Val Loss: 1.5835 Current learning rate: 0.0001\n",
      "EarlyStopping counter: 9 out of 20\n"
     ]
    },
    {
     "name": "stderr",
     "output_type": "stream",
     "text": [
      "Training Epoch 162: 100%|██████████| 8629/8629 [00:37<00:00, 230.70it/s]\n"
     ]
    },
    {
     "name": "stdout",
     "output_type": "stream",
     "text": [
      "Epoch 162/300 | Train Loss: 1.5754 | Val Loss: 1.6101 Current learning rate: 0.0001\n",
      "EarlyStopping counter: 10 out of 20\n"
     ]
    },
    {
     "name": "stderr",
     "output_type": "stream",
     "text": [
      "Training Epoch 163: 100%|██████████| 8629/8629 [00:37<00:00, 230.65it/s]\n"
     ]
    },
    {
     "name": "stdout",
     "output_type": "stream",
     "text": [
      "Epoch 163/300 | Train Loss: 1.5753 | Val Loss: 1.5990 Current learning rate: 0.0001\n",
      "EarlyStopping counter: 11 out of 20\n"
     ]
    },
    {
     "name": "stderr",
     "output_type": "stream",
     "text": [
      "Training Epoch 164: 100%|██████████| 8629/8629 [00:37<00:00, 230.71it/s]\n"
     ]
    },
    {
     "name": "stdout",
     "output_type": "stream",
     "text": [
      "Epoch 164/300 | Train Loss: 1.5751 | Val Loss: 1.6280 Current learning rate: 0.0001\n",
      "EarlyStopping counter: 12 out of 20\n"
     ]
    },
    {
     "name": "stderr",
     "output_type": "stream",
     "text": [
      "Training Epoch 165: 100%|██████████| 8629/8629 [00:37<00:00, 230.78it/s]\n"
     ]
    },
    {
     "name": "stdout",
     "output_type": "stream",
     "text": [
      "Epoch 165/300 | Train Loss: 1.5730 | Val Loss: 1.5744 Current learning rate: 0.0001\n",
      "EarlyStopping counter: 13 out of 20\n"
     ]
    },
    {
     "name": "stderr",
     "output_type": "stream",
     "text": [
      "Training Epoch 166: 100%|██████████| 8629/8629 [00:37<00:00, 230.63it/s]\n"
     ]
    },
    {
     "name": "stdout",
     "output_type": "stream",
     "text": [
      "Epoch 166/300 | Train Loss: 1.5731 | Val Loss: 1.5680 Current learning rate: 0.0001\n"
     ]
    },
    {
     "name": "stderr",
     "output_type": "stream",
     "text": [
      "Training Epoch 167: 100%|██████████| 8629/8629 [00:37<00:00, 230.82it/s]\n"
     ]
    },
    {
     "name": "stdout",
     "output_type": "stream",
     "text": [
      "Epoch 167/300 | Train Loss: 1.5746 | Val Loss: 1.5770 Current learning rate: 0.0001\n",
      "EarlyStopping counter: 1 out of 20\n"
     ]
    },
    {
     "name": "stderr",
     "output_type": "stream",
     "text": [
      "Training Epoch 168: 100%|██████████| 8629/8629 [00:37<00:00, 231.05it/s]\n"
     ]
    },
    {
     "name": "stdout",
     "output_type": "stream",
     "text": [
      "Epoch 168/300 | Train Loss: 1.5715 | Val Loss: 1.5832 Current learning rate: 0.0001\n",
      "EarlyStopping counter: 2 out of 20\n"
     ]
    },
    {
     "name": "stderr",
     "output_type": "stream",
     "text": [
      "Training Epoch 169: 100%|██████████| 8629/8629 [00:37<00:00, 230.74it/s]\n"
     ]
    },
    {
     "name": "stdout",
     "output_type": "stream",
     "text": [
      "Epoch 169/300 | Train Loss: 1.5710 | Val Loss: 1.5729 Current learning rate: 0.0001\n",
      "EarlyStopping counter: 3 out of 20\n"
     ]
    },
    {
     "name": "stderr",
     "output_type": "stream",
     "text": [
      "Training Epoch 170: 100%|██████████| 8629/8629 [00:37<00:00, 230.66it/s]\n"
     ]
    },
    {
     "name": "stdout",
     "output_type": "stream",
     "text": [
      "Epoch 170/300 | Train Loss: 1.5700 | Val Loss: 1.5717 Current learning rate: 0.0001\n",
      "EarlyStopping counter: 4 out of 20\n"
     ]
    },
    {
     "name": "stderr",
     "output_type": "stream",
     "text": [
      "Training Epoch 171: 100%|██████████| 8629/8629 [00:37<00:00, 230.61it/s]\n"
     ]
    },
    {
     "name": "stdout",
     "output_type": "stream",
     "text": [
      "Epoch 171/300 | Train Loss: 1.5699 | Val Loss: 1.5925 Current learning rate: 0.0001\n",
      "EarlyStopping counter: 5 out of 20\n"
     ]
    },
    {
     "name": "stderr",
     "output_type": "stream",
     "text": [
      "Training Epoch 172: 100%|██████████| 8629/8629 [00:37<00:00, 230.83it/s]\n"
     ]
    },
    {
     "name": "stdout",
     "output_type": "stream",
     "text": [
      "Epoch 172/300 | Train Loss: 1.5688 | Val Loss: 1.5797 Current learning rate: 0.0001\n",
      "EarlyStopping counter: 6 out of 20\n"
     ]
    },
    {
     "name": "stderr",
     "output_type": "stream",
     "text": [
      "Training Epoch 173: 100%|██████████| 8629/8629 [00:37<00:00, 230.62it/s]\n"
     ]
    },
    {
     "name": "stdout",
     "output_type": "stream",
     "text": [
      "Epoch 173/300 | Train Loss: 1.5684 | Val Loss: 1.5825 Current learning rate: 0.0001\n",
      "EarlyStopping counter: 7 out of 20\n"
     ]
    },
    {
     "name": "stderr",
     "output_type": "stream",
     "text": [
      "Training Epoch 174: 100%|██████████| 8629/8629 [00:37<00:00, 230.30it/s]\n"
     ]
    },
    {
     "name": "stdout",
     "output_type": "stream",
     "text": [
      "Epoch 174/300 | Train Loss: 1.5688 | Val Loss: 1.5894 Current learning rate: 0.0001\n",
      "EarlyStopping counter: 8 out of 20\n"
     ]
    },
    {
     "name": "stderr",
     "output_type": "stream",
     "text": [
      "Training Epoch 175: 100%|██████████| 8629/8629 [00:37<00:00, 230.77it/s]\n"
     ]
    },
    {
     "name": "stdout",
     "output_type": "stream",
     "text": [
      "Epoch 175/300 | Train Loss: 1.5683 | Val Loss: 1.5664 Current learning rate: 0.0001\n"
     ]
    },
    {
     "name": "stderr",
     "output_type": "stream",
     "text": [
      "Training Epoch 176: 100%|██████████| 8629/8629 [00:37<00:00, 230.40it/s]\n"
     ]
    },
    {
     "name": "stdout",
     "output_type": "stream",
     "text": [
      "Epoch 176/300 | Train Loss: 1.5651 | Val Loss: 1.5790 Current learning rate: 0.0001\n",
      "EarlyStopping counter: 1 out of 20\n"
     ]
    },
    {
     "name": "stderr",
     "output_type": "stream",
     "text": [
      "Training Epoch 177: 100%|██████████| 8629/8629 [00:37<00:00, 230.27it/s]\n"
     ]
    },
    {
     "name": "stdout",
     "output_type": "stream",
     "text": [
      "Epoch 177/300 | Train Loss: 1.5666 | Val Loss: 1.5662 Current learning rate: 0.0001\n"
     ]
    },
    {
     "name": "stderr",
     "output_type": "stream",
     "text": [
      "Training Epoch 178: 100%|██████████| 8629/8629 [00:37<00:00, 231.13it/s]\n"
     ]
    },
    {
     "name": "stdout",
     "output_type": "stream",
     "text": [
      "Epoch 178/300 | Train Loss: 1.5651 | Val Loss: 1.5670 Current learning rate: 0.0001\n",
      "EarlyStopping counter: 1 out of 20\n"
     ]
    },
    {
     "name": "stderr",
     "output_type": "stream",
     "text": [
      "Training Epoch 179: 100%|██████████| 8629/8629 [00:37<00:00, 229.97it/s]\n"
     ]
    },
    {
     "name": "stdout",
     "output_type": "stream",
     "text": [
      "Epoch 179/300 | Train Loss: 1.5666 | Val Loss: 1.5636 Current learning rate: 0.0001\n"
     ]
    },
    {
     "name": "stderr",
     "output_type": "stream",
     "text": [
      "Training Epoch 180: 100%|██████████| 8629/8629 [00:37<00:00, 229.72it/s]\n"
     ]
    },
    {
     "name": "stdout",
     "output_type": "stream",
     "text": [
      "Epoch 180/300 | Train Loss: 1.5626 | Val Loss: 1.5594 Current learning rate: 0.0001\n"
     ]
    },
    {
     "name": "stderr",
     "output_type": "stream",
     "text": [
      "Training Epoch 181: 100%|██████████| 8629/8629 [00:37<00:00, 229.69it/s]\n"
     ]
    },
    {
     "name": "stdout",
     "output_type": "stream",
     "text": [
      "Epoch 181/300 | Train Loss: 1.5645 | Val Loss: 1.5588 Current learning rate: 0.0001\n"
     ]
    },
    {
     "name": "stderr",
     "output_type": "stream",
     "text": [
      "Training Epoch 182: 100%|██████████| 8629/8629 [00:37<00:00, 229.79it/s]\n"
     ]
    },
    {
     "name": "stdout",
     "output_type": "stream",
     "text": [
      "Epoch 182/300 | Train Loss: 1.5642 | Val Loss: 1.5572 Current learning rate: 0.0001\n"
     ]
    },
    {
     "name": "stderr",
     "output_type": "stream",
     "text": [
      "Training Epoch 183: 100%|██████████| 8629/8629 [00:37<00:00, 230.50it/s]\n"
     ]
    },
    {
     "name": "stdout",
     "output_type": "stream",
     "text": [
      "Epoch 183/300 | Train Loss: 1.5644 | Val Loss: 1.5727 Current learning rate: 0.0001\n",
      "EarlyStopping counter: 1 out of 20\n"
     ]
    },
    {
     "name": "stderr",
     "output_type": "stream",
     "text": [
      "Training Epoch 184: 100%|██████████| 8629/8629 [00:37<00:00, 230.20it/s]\n"
     ]
    },
    {
     "name": "stdout",
     "output_type": "stream",
     "text": [
      "Epoch 184/300 | Train Loss: 1.5639 | Val Loss: 1.5699 Current learning rate: 0.0001\n",
      "EarlyStopping counter: 2 out of 20\n"
     ]
    },
    {
     "name": "stderr",
     "output_type": "stream",
     "text": [
      "Training Epoch 185: 100%|██████████| 8629/8629 [00:37<00:00, 229.43it/s]\n"
     ]
    },
    {
     "name": "stdout",
     "output_type": "stream",
     "text": [
      "Epoch 185/300 | Train Loss: 1.5634 | Val Loss: 1.5607 Current learning rate: 0.0001\n",
      "EarlyStopping counter: 3 out of 20\n"
     ]
    },
    {
     "name": "stderr",
     "output_type": "stream",
     "text": [
      "Training Epoch 186: 100%|██████████| 8629/8629 [00:37<00:00, 228.90it/s]\n"
     ]
    },
    {
     "name": "stdout",
     "output_type": "stream",
     "text": [
      "Epoch 186/300 | Train Loss: 1.5630 | Val Loss: 1.5552 Current learning rate: 5e-05\n"
     ]
    },
    {
     "name": "stderr",
     "output_type": "stream",
     "text": [
      "Training Epoch 187: 100%|██████████| 8629/8629 [00:37<00:00, 228.53it/s]\n"
     ]
    },
    {
     "name": "stdout",
     "output_type": "stream",
     "text": [
      "Epoch 187/300 | Train Loss: 1.5386 | Val Loss: 1.5315 Current learning rate: 5e-05\n"
     ]
    },
    {
     "name": "stderr",
     "output_type": "stream",
     "text": [
      "Training Epoch 188: 100%|██████████| 8629/8629 [00:37<00:00, 229.79it/s]\n"
     ]
    },
    {
     "name": "stdout",
     "output_type": "stream",
     "text": [
      "Epoch 188/300 | Train Loss: 1.5360 | Val Loss: 1.5276 Current learning rate: 5e-05\n"
     ]
    },
    {
     "name": "stderr",
     "output_type": "stream",
     "text": [
      "Training Epoch 189: 100%|██████████| 8629/8629 [00:37<00:00, 230.29it/s]\n"
     ]
    },
    {
     "name": "stdout",
     "output_type": "stream",
     "text": [
      "Epoch 189/300 | Train Loss: 1.5370 | Val Loss: 1.5334 Current learning rate: 5e-05\n",
      "EarlyStopping counter: 1 out of 20\n"
     ]
    },
    {
     "name": "stderr",
     "output_type": "stream",
     "text": [
      "Training Epoch 190: 100%|██████████| 8629/8629 [00:37<00:00, 230.16it/s]\n"
     ]
    },
    {
     "name": "stdout",
     "output_type": "stream",
     "text": [
      "Epoch 190/300 | Train Loss: 1.5358 | Val Loss: 1.5510 Current learning rate: 5e-05\n",
      "EarlyStopping counter: 2 out of 20\n"
     ]
    },
    {
     "name": "stderr",
     "output_type": "stream",
     "text": [
      "Training Epoch 191: 100%|██████████| 8629/8629 [00:37<00:00, 230.77it/s]\n"
     ]
    },
    {
     "name": "stdout",
     "output_type": "stream",
     "text": [
      "Epoch 191/300 | Train Loss: 1.5340 | Val Loss: 1.5300 Current learning rate: 5e-05\n",
      "EarlyStopping counter: 3 out of 20\n"
     ]
    },
    {
     "name": "stderr",
     "output_type": "stream",
     "text": [
      "Training Epoch 192: 100%|██████████| 8629/8629 [00:37<00:00, 230.32it/s]\n"
     ]
    },
    {
     "name": "stdout",
     "output_type": "stream",
     "text": [
      "Epoch 192/300 | Train Loss: 1.5354 | Val Loss: 1.5317 Current learning rate: 5e-05\n",
      "EarlyStopping counter: 4 out of 20\n"
     ]
    },
    {
     "name": "stderr",
     "output_type": "stream",
     "text": [
      "Training Epoch 193: 100%|██████████| 8629/8629 [00:37<00:00, 230.56it/s]\n"
     ]
    },
    {
     "name": "stdout",
     "output_type": "stream",
     "text": [
      "Epoch 193/300 | Train Loss: 1.5356 | Val Loss: 1.5307 Current learning rate: 5e-05\n",
      "EarlyStopping counter: 5 out of 20\n"
     ]
    },
    {
     "name": "stderr",
     "output_type": "stream",
     "text": [
      "Training Epoch 194: 100%|██████████| 8629/8629 [00:37<00:00, 230.76it/s]\n"
     ]
    },
    {
     "name": "stdout",
     "output_type": "stream",
     "text": [
      "Epoch 194/300 | Train Loss: 1.5336 | Val Loss: 1.5257 Current learning rate: 5e-05\n"
     ]
    },
    {
     "name": "stderr",
     "output_type": "stream",
     "text": [
      "Training Epoch 195: 100%|██████████| 8629/8629 [00:37<00:00, 230.42it/s]\n"
     ]
    },
    {
     "name": "stdout",
     "output_type": "stream",
     "text": [
      "Epoch 195/300 | Train Loss: 1.5318 | Val Loss: 1.5605 Current learning rate: 5e-05\n",
      "EarlyStopping counter: 1 out of 20\n"
     ]
    },
    {
     "name": "stderr",
     "output_type": "stream",
     "text": [
      "Training Epoch 196: 100%|██████████| 8629/8629 [00:37<00:00, 230.67it/s]\n"
     ]
    },
    {
     "name": "stdout",
     "output_type": "stream",
     "text": [
      "Epoch 196/300 | Train Loss: 1.5331 | Val Loss: 1.5360 Current learning rate: 5e-05\n",
      "EarlyStopping counter: 2 out of 20\n"
     ]
    },
    {
     "name": "stderr",
     "output_type": "stream",
     "text": [
      "Training Epoch 197: 100%|██████████| 8629/8629 [00:37<00:00, 230.62it/s]\n"
     ]
    },
    {
     "name": "stdout",
     "output_type": "stream",
     "text": [
      "Epoch 197/300 | Train Loss: 1.5323 | Val Loss: 1.5256 Current learning rate: 5e-05\n"
     ]
    },
    {
     "name": "stderr",
     "output_type": "stream",
     "text": [
      "Training Epoch 198: 100%|██████████| 8629/8629 [00:37<00:00, 230.52it/s]\n"
     ]
    },
    {
     "name": "stdout",
     "output_type": "stream",
     "text": [
      "Epoch 198/300 | Train Loss: 1.5330 | Val Loss: 1.5196 Current learning rate: 5e-05\n"
     ]
    },
    {
     "name": "stderr",
     "output_type": "stream",
     "text": [
      "Training Epoch 199: 100%|██████████| 8629/8629 [00:37<00:00, 230.50it/s]\n"
     ]
    },
    {
     "name": "stdout",
     "output_type": "stream",
     "text": [
      "Epoch 199/300 | Train Loss: 1.5323 | Val Loss: 1.5218 Current learning rate: 5e-05\n",
      "EarlyStopping counter: 1 out of 20\n"
     ]
    },
    {
     "name": "stderr",
     "output_type": "stream",
     "text": [
      "Training Epoch 200: 100%|██████████| 8629/8629 [00:37<00:00, 230.29it/s]\n"
     ]
    },
    {
     "name": "stdout",
     "output_type": "stream",
     "text": [
      "Epoch 200/300 | Train Loss: 1.5327 | Val Loss: 1.5285 Current learning rate: 5e-05\n",
      "EarlyStopping counter: 2 out of 20\n"
     ]
    },
    {
     "name": "stderr",
     "output_type": "stream",
     "text": [
      "Training Epoch 201: 100%|██████████| 8629/8629 [00:37<00:00, 230.68it/s]\n"
     ]
    },
    {
     "name": "stdout",
     "output_type": "stream",
     "text": [
      "Epoch 201/300 | Train Loss: 1.5318 | Val Loss: 1.5365 Current learning rate: 2.5e-05\n",
      "EarlyStopping counter: 3 out of 20\n"
     ]
    },
    {
     "name": "stderr",
     "output_type": "stream",
     "text": [
      "Training Epoch 202: 100%|██████████| 8629/8629 [00:37<00:00, 230.42it/s]\n"
     ]
    },
    {
     "name": "stdout",
     "output_type": "stream",
     "text": [
      "Epoch 202/300 | Train Loss: 1.5200 | Val Loss: 1.5161 Current learning rate: 2.5e-05\n"
     ]
    },
    {
     "name": "stderr",
     "output_type": "stream",
     "text": [
      "Training Epoch 203: 100%|██████████| 8629/8629 [00:37<00:00, 230.23it/s]\n"
     ]
    },
    {
     "name": "stdout",
     "output_type": "stream",
     "text": [
      "Epoch 203/300 | Train Loss: 1.5192 | Val Loss: 1.5132 Current learning rate: 2.5e-05\n"
     ]
    },
    {
     "name": "stderr",
     "output_type": "stream",
     "text": [
      "Training Epoch 204: 100%|██████████| 8629/8629 [00:37<00:00, 230.64it/s]\n"
     ]
    },
    {
     "name": "stdout",
     "output_type": "stream",
     "text": [
      "Epoch 204/300 | Train Loss: 1.5176 | Val Loss: 1.5116 Current learning rate: 2.5e-05\n"
     ]
    },
    {
     "name": "stderr",
     "output_type": "stream",
     "text": [
      "Training Epoch 205: 100%|██████████| 8629/8629 [00:37<00:00, 230.21it/s]\n"
     ]
    },
    {
     "name": "stdout",
     "output_type": "stream",
     "text": [
      "Epoch 205/300 | Train Loss: 1.5169 | Val Loss: 1.5115 Current learning rate: 2.5e-05\n"
     ]
    },
    {
     "name": "stderr",
     "output_type": "stream",
     "text": [
      "Training Epoch 206: 100%|██████████| 8629/8629 [00:37<00:00, 230.54it/s]\n"
     ]
    },
    {
     "name": "stdout",
     "output_type": "stream",
     "text": [
      "Epoch 206/300 | Train Loss: 1.5180 | Val Loss: 1.5096 Current learning rate: 2.5e-05\n"
     ]
    },
    {
     "name": "stderr",
     "output_type": "stream",
     "text": [
      "Training Epoch 207: 100%|██████████| 8629/8629 [00:37<00:00, 230.39it/s]\n"
     ]
    },
    {
     "name": "stdout",
     "output_type": "stream",
     "text": [
      "Epoch 207/300 | Train Loss: 1.5170 | Val Loss: 1.5078 Current learning rate: 2.5e-05\n"
     ]
    },
    {
     "name": "stderr",
     "output_type": "stream",
     "text": [
      "Training Epoch 208: 100%|██████████| 8629/8629 [00:37<00:00, 230.37it/s]\n"
     ]
    },
    {
     "name": "stdout",
     "output_type": "stream",
     "text": [
      "Epoch 208/300 | Train Loss: 1.5172 | Val Loss: 1.5087 Current learning rate: 2.5e-05\n",
      "EarlyStopping counter: 1 out of 20\n"
     ]
    },
    {
     "name": "stderr",
     "output_type": "stream",
     "text": [
      "Training Epoch 209: 100%|██████████| 8629/8629 [00:37<00:00, 230.39it/s]\n"
     ]
    },
    {
     "name": "stdout",
     "output_type": "stream",
     "text": [
      "Epoch 209/300 | Train Loss: 1.5164 | Val Loss: 1.5121 Current learning rate: 2.5e-05\n",
      "EarlyStopping counter: 2 out of 20\n"
     ]
    },
    {
     "name": "stderr",
     "output_type": "stream",
     "text": [
      "Training Epoch 210: 100%|██████████| 8629/8629 [00:37<00:00, 229.46it/s]\n"
     ]
    },
    {
     "name": "stdout",
     "output_type": "stream",
     "text": [
      "Epoch 210/300 | Train Loss: 1.5172 | Val Loss: 1.5087 Current learning rate: 2.5e-05\n",
      "EarlyStopping counter: 3 out of 20\n"
     ]
    },
    {
     "name": "stderr",
     "output_type": "stream",
     "text": [
      "Training Epoch 211: 100%|██████████| 8629/8629 [00:37<00:00, 229.19it/s]\n"
     ]
    },
    {
     "name": "stdout",
     "output_type": "stream",
     "text": [
      "Epoch 211/300 | Train Loss: 1.5165 | Val Loss: 1.5083 Current learning rate: 2.5e-05\n",
      "EarlyStopping counter: 4 out of 20\n"
     ]
    },
    {
     "name": "stderr",
     "output_type": "stream",
     "text": [
      "Training Epoch 212: 100%|██████████| 8629/8629 [00:37<00:00, 230.36it/s]\n"
     ]
    },
    {
     "name": "stdout",
     "output_type": "stream",
     "text": [
      "Epoch 212/300 | Train Loss: 1.5168 | Val Loss: 1.5085 Current learning rate: 2.5e-05\n",
      "EarlyStopping counter: 5 out of 20\n"
     ]
    },
    {
     "name": "stderr",
     "output_type": "stream",
     "text": [
      "Training Epoch 213: 100%|██████████| 8629/8629 [00:37<00:00, 230.44it/s]\n"
     ]
    },
    {
     "name": "stdout",
     "output_type": "stream",
     "text": [
      "Epoch 213/300 | Train Loss: 1.5168 | Val Loss: 1.5136 Current learning rate: 2.5e-05\n",
      "EarlyStopping counter: 6 out of 20\n"
     ]
    },
    {
     "name": "stderr",
     "output_type": "stream",
     "text": [
      "Training Epoch 214: 100%|██████████| 8629/8629 [00:37<00:00, 230.16it/s]\n"
     ]
    },
    {
     "name": "stdout",
     "output_type": "stream",
     "text": [
      "Epoch 214/300 | Train Loss: 1.5160 | Val Loss: 1.5090 Current learning rate: 2.5e-05\n",
      "EarlyStopping counter: 7 out of 20\n"
     ]
    },
    {
     "name": "stderr",
     "output_type": "stream",
     "text": [
      "Training Epoch 215: 100%|██████████| 8629/8629 [00:37<00:00, 230.53it/s]\n"
     ]
    },
    {
     "name": "stdout",
     "output_type": "stream",
     "text": [
      "Epoch 215/300 | Train Loss: 1.5167 | Val Loss: 1.5099 Current learning rate: 2.5e-05\n",
      "EarlyStopping counter: 8 out of 20\n"
     ]
    },
    {
     "name": "stderr",
     "output_type": "stream",
     "text": [
      "Training Epoch 216: 100%|██████████| 8629/8629 [00:37<00:00, 230.19it/s]\n"
     ]
    },
    {
     "name": "stdout",
     "output_type": "stream",
     "text": [
      "Epoch 216/300 | Train Loss: 1.5146 | Val Loss: 1.5086 Current learning rate: 2.5e-05\n",
      "EarlyStopping counter: 9 out of 20\n"
     ]
    },
    {
     "name": "stderr",
     "output_type": "stream",
     "text": [
      "Training Epoch 217: 100%|██████████| 8629/8629 [00:37<00:00, 231.07it/s]\n"
     ]
    },
    {
     "name": "stdout",
     "output_type": "stream",
     "text": [
      "Epoch 217/300 | Train Loss: 1.5154 | Val Loss: 1.5113 Current learning rate: 2.5e-05\n",
      "EarlyStopping counter: 10 out of 20\n"
     ]
    },
    {
     "name": "stderr",
     "output_type": "stream",
     "text": [
      "Training Epoch 218: 100%|██████████| 8629/8629 [00:37<00:00, 231.09it/s]\n"
     ]
    },
    {
     "name": "stdout",
     "output_type": "stream",
     "text": [
      "Epoch 218/300 | Train Loss: 1.5157 | Val Loss: 1.5122 Current learning rate: 2.5e-05\n",
      "EarlyStopping counter: 11 out of 20\n"
     ]
    },
    {
     "name": "stderr",
     "output_type": "stream",
     "text": [
      "Training Epoch 219: 100%|██████████| 8629/8629 [00:37<00:00, 230.73it/s]\n"
     ]
    },
    {
     "name": "stdout",
     "output_type": "stream",
     "text": [
      "Epoch 219/300 | Train Loss: 1.5149 | Val Loss: 1.5114 Current learning rate: 2.5e-05\n",
      "EarlyStopping counter: 12 out of 20\n"
     ]
    },
    {
     "name": "stderr",
     "output_type": "stream",
     "text": [
      "Training Epoch 220: 100%|██████████| 8629/8629 [00:37<00:00, 230.90it/s]\n"
     ]
    },
    {
     "name": "stdout",
     "output_type": "stream",
     "text": [
      "Epoch 220/300 | Train Loss: 1.5158 | Val Loss: 1.5080 Current learning rate: 2.5e-05\n",
      "EarlyStopping counter: 13 out of 20\n"
     ]
    },
    {
     "name": "stderr",
     "output_type": "stream",
     "text": [
      "Training Epoch 221: 100%|██████████| 8629/8629 [00:37<00:00, 230.91it/s]\n"
     ]
    },
    {
     "name": "stdout",
     "output_type": "stream",
     "text": [
      "Epoch 221/300 | Train Loss: 1.5144 | Val Loss: 1.5079 Current learning rate: 2.5e-05\n",
      "EarlyStopping counter: 14 out of 20\n"
     ]
    },
    {
     "name": "stderr",
     "output_type": "stream",
     "text": [
      "Training Epoch 222: 100%|██████████| 8629/8629 [00:37<00:00, 230.90it/s]\n"
     ]
    },
    {
     "name": "stdout",
     "output_type": "stream",
     "text": [
      "Epoch 222/300 | Train Loss: 1.5146 | Val Loss: 1.5101 Current learning rate: 2.5e-05\n",
      "EarlyStopping counter: 15 out of 20\n"
     ]
    },
    {
     "name": "stderr",
     "output_type": "stream",
     "text": [
      "Training Epoch 223: 100%|██████████| 8629/8629 [00:37<00:00, 230.69it/s]\n"
     ]
    },
    {
     "name": "stdout",
     "output_type": "stream",
     "text": [
      "Epoch 223/300 | Train Loss: 1.5145 | Val Loss: 1.5090 Current learning rate: 2.5e-05\n",
      "EarlyStopping counter: 16 out of 20\n"
     ]
    },
    {
     "name": "stderr",
     "output_type": "stream",
     "text": [
      "Training Epoch 224: 100%|██████████| 8629/8629 [00:37<00:00, 230.30it/s]\n"
     ]
    },
    {
     "name": "stdout",
     "output_type": "stream",
     "text": [
      "Epoch 224/300 | Train Loss: 1.5146 | Val Loss: 1.5085 Current learning rate: 2.5e-05\n",
      "EarlyStopping counter: 17 out of 20\n"
     ]
    },
    {
     "name": "stderr",
     "output_type": "stream",
     "text": [
      "Training Epoch 225: 100%|██████████| 8629/8629 [00:37<00:00, 230.66it/s]\n"
     ]
    },
    {
     "name": "stdout",
     "output_type": "stream",
     "text": [
      "Epoch 225/300 | Train Loss: 1.5137 | Val Loss: 1.5080 Current learning rate: 2.5e-05\n",
      "EarlyStopping counter: 18 out of 20\n"
     ]
    },
    {
     "name": "stderr",
     "output_type": "stream",
     "text": [
      "Training Epoch 226: 100%|██████████| 8629/8629 [00:37<00:00, 230.51it/s]\n"
     ]
    },
    {
     "name": "stdout",
     "output_type": "stream",
     "text": [
      "Epoch 226/300 | Train Loss: 1.5139 | Val Loss: 1.5068 Current learning rate: 2.5e-05\n"
     ]
    },
    {
     "name": "stderr",
     "output_type": "stream",
     "text": [
      "Training Epoch 227: 100%|██████████| 8629/8629 [00:37<00:00, 231.13it/s]\n"
     ]
    },
    {
     "name": "stdout",
     "output_type": "stream",
     "text": [
      "Epoch 227/300 | Train Loss: 1.5131 | Val Loss: 1.5091 Current learning rate: 2.5e-05\n",
      "EarlyStopping counter: 1 out of 20\n"
     ]
    },
    {
     "name": "stderr",
     "output_type": "stream",
     "text": [
      "Training Epoch 228: 100%|██████████| 8629/8629 [00:37<00:00, 231.18it/s]\n"
     ]
    },
    {
     "name": "stdout",
     "output_type": "stream",
     "text": [
      "Epoch 228/300 | Train Loss: 1.5142 | Val Loss: 1.5080 Current learning rate: 2.5e-05\n",
      "EarlyStopping counter: 2 out of 20\n"
     ]
    },
    {
     "name": "stderr",
     "output_type": "stream",
     "text": [
      "Training Epoch 229: 100%|██████████| 8629/8629 [00:37<00:00, 231.22it/s]\n"
     ]
    },
    {
     "name": "stdout",
     "output_type": "stream",
     "text": [
      "Epoch 229/300 | Train Loss: 1.5140 | Val Loss: 1.5077 Current learning rate: 2.5e-05\n",
      "EarlyStopping counter: 3 out of 20\n"
     ]
    },
    {
     "name": "stderr",
     "output_type": "stream",
     "text": [
      "Training Epoch 230: 100%|██████████| 8629/8629 [00:37<00:00, 231.31it/s]\n"
     ]
    },
    {
     "name": "stdout",
     "output_type": "stream",
     "text": [
      "Epoch 230/300 | Train Loss: 1.5140 | Val Loss: 1.5065 Current learning rate: 2.5e-05\n"
     ]
    },
    {
     "name": "stderr",
     "output_type": "stream",
     "text": [
      "Training Epoch 231: 100%|██████████| 8629/8629 [00:37<00:00, 231.25it/s]\n"
     ]
    },
    {
     "name": "stdout",
     "output_type": "stream",
     "text": [
      "Epoch 231/300 | Train Loss: 1.5141 | Val Loss: 1.5081 Current learning rate: 2.5e-05\n",
      "EarlyStopping counter: 1 out of 20\n"
     ]
    },
    {
     "name": "stderr",
     "output_type": "stream",
     "text": [
      "Training Epoch 232: 100%|██████████| 8629/8629 [00:37<00:00, 230.87it/s]\n"
     ]
    },
    {
     "name": "stdout",
     "output_type": "stream",
     "text": [
      "Epoch 232/300 | Train Loss: 1.5133 | Val Loss: 1.5055 Current learning rate: 2.5e-05\n"
     ]
    },
    {
     "name": "stderr",
     "output_type": "stream",
     "text": [
      "Training Epoch 233: 100%|██████████| 8629/8629 [00:37<00:00, 231.27it/s]\n"
     ]
    },
    {
     "name": "stdout",
     "output_type": "stream",
     "text": [
      "Epoch 233/300 | Train Loss: 1.5138 | Val Loss: 1.5072 Current learning rate: 1.25e-05\n",
      "EarlyStopping counter: 1 out of 20\n"
     ]
    },
    {
     "name": "stderr",
     "output_type": "stream",
     "text": [
      "Training Epoch 234: 100%|██████████| 8629/8629 [00:37<00:00, 227.81it/s]\n"
     ]
    },
    {
     "name": "stdout",
     "output_type": "stream",
     "text": [
      "Epoch 234/300 | Train Loss: 1.5069 | Val Loss: 1.5015 Current learning rate: 1.25e-05\n"
     ]
    },
    {
     "name": "stderr",
     "output_type": "stream",
     "text": [
      "Training Epoch 235: 100%|██████████| 8629/8629 [00:37<00:00, 230.63it/s]\n"
     ]
    },
    {
     "name": "stdout",
     "output_type": "stream",
     "text": [
      "Epoch 235/300 | Train Loss: 1.5064 | Val Loss: 1.5023 Current learning rate: 1.25e-05\n",
      "EarlyStopping counter: 1 out of 20\n"
     ]
    },
    {
     "name": "stderr",
     "output_type": "stream",
     "text": [
      "Training Epoch 236: 100%|██████████| 8629/8629 [00:37<00:00, 230.68it/s]\n"
     ]
    },
    {
     "name": "stdout",
     "output_type": "stream",
     "text": [
      "Epoch 236/300 | Train Loss: 1.5058 | Val Loss: 1.5016 Current learning rate: 1.25e-05\n",
      "EarlyStopping counter: 2 out of 20\n"
     ]
    },
    {
     "name": "stderr",
     "output_type": "stream",
     "text": [
      "Training Epoch 237: 100%|██████████| 8629/8629 [00:37<00:00, 230.82it/s]\n"
     ]
    },
    {
     "name": "stdout",
     "output_type": "stream",
     "text": [
      "Epoch 237/300 | Train Loss: 1.5059 | Val Loss: 1.5024 Current learning rate: 1.25e-05\n",
      "EarlyStopping counter: 3 out of 20\n"
     ]
    },
    {
     "name": "stderr",
     "output_type": "stream",
     "text": [
      "Training Epoch 238: 100%|██████████| 8629/8629 [00:37<00:00, 231.08it/s]\n"
     ]
    },
    {
     "name": "stdout",
     "output_type": "stream",
     "text": [
      "Epoch 238/300 | Train Loss: 1.5055 | Val Loss: 1.5018 Current learning rate: 1.25e-05\n",
      "EarlyStopping counter: 4 out of 20\n"
     ]
    },
    {
     "name": "stderr",
     "output_type": "stream",
     "text": [
      "Training Epoch 239: 100%|██████████| 8629/8629 [00:37<00:00, 230.99it/s]\n"
     ]
    },
    {
     "name": "stdout",
     "output_type": "stream",
     "text": [
      "Epoch 239/300 | Train Loss: 1.5063 | Val Loss: 1.5020 Current learning rate: 1.25e-05\n",
      "EarlyStopping counter: 5 out of 20\n"
     ]
    },
    {
     "name": "stderr",
     "output_type": "stream",
     "text": [
      "Training Epoch 240: 100%|██████████| 8629/8629 [00:37<00:00, 230.86it/s]\n"
     ]
    },
    {
     "name": "stdout",
     "output_type": "stream",
     "text": [
      "Epoch 240/300 | Train Loss: 1.5058 | Val Loss: 1.5012 Current learning rate: 1.25e-05\n"
     ]
    },
    {
     "name": "stderr",
     "output_type": "stream",
     "text": [
      "Training Epoch 241: 100%|██████████| 8629/8629 [00:37<00:00, 231.07it/s]\n"
     ]
    },
    {
     "name": "stdout",
     "output_type": "stream",
     "text": [
      "Epoch 241/300 | Train Loss: 1.5069 | Val Loss: 1.5020 Current learning rate: 1.25e-05\n",
      "EarlyStopping counter: 1 out of 20\n"
     ]
    },
    {
     "name": "stderr",
     "output_type": "stream",
     "text": [
      "Training Epoch 242: 100%|██████████| 8629/8629 [00:37<00:00, 230.91it/s]\n"
     ]
    },
    {
     "name": "stdout",
     "output_type": "stream",
     "text": [
      "Epoch 242/300 | Train Loss: 1.5065 | Val Loss: 1.5022 Current learning rate: 1.25e-05\n",
      "EarlyStopping counter: 2 out of 20\n"
     ]
    },
    {
     "name": "stderr",
     "output_type": "stream",
     "text": [
      "Training Epoch 243: 100%|██████████| 8629/8629 [00:37<00:00, 231.19it/s]\n"
     ]
    },
    {
     "name": "stdout",
     "output_type": "stream",
     "text": [
      "Epoch 243/300 | Train Loss: 1.5055 | Val Loss: 1.5007 Current learning rate: 1.25e-05\n"
     ]
    },
    {
     "name": "stderr",
     "output_type": "stream",
     "text": [
      "Training Epoch 244: 100%|██████████| 8629/8629 [00:37<00:00, 231.07it/s]\n"
     ]
    },
    {
     "name": "stdout",
     "output_type": "stream",
     "text": [
      "Epoch 244/300 | Train Loss: 1.5058 | Val Loss: 1.5014 Current learning rate: 6.25e-06\n",
      "EarlyStopping counter: 1 out of 20\n"
     ]
    },
    {
     "name": "stderr",
     "output_type": "stream",
     "text": [
      "Training Epoch 245: 100%|██████████| 8629/8629 [00:37<00:00, 230.57it/s]\n"
     ]
    },
    {
     "name": "stdout",
     "output_type": "stream",
     "text": [
      "Epoch 245/300 | Train Loss: 1.5017 | Val Loss: 1.4992 Current learning rate: 6.25e-06\n"
     ]
    },
    {
     "name": "stderr",
     "output_type": "stream",
     "text": [
      "Training Epoch 246: 100%|██████████| 8629/8629 [00:37<00:00, 230.90it/s]\n"
     ]
    },
    {
     "name": "stdout",
     "output_type": "stream",
     "text": [
      "Epoch 246/300 | Train Loss: 1.5032 | Val Loss: 1.4986 Current learning rate: 6.25e-06\n"
     ]
    },
    {
     "name": "stderr",
     "output_type": "stream",
     "text": [
      "Training Epoch 247: 100%|██████████| 8629/8629 [00:37<00:00, 230.61it/s]\n"
     ]
    },
    {
     "name": "stdout",
     "output_type": "stream",
     "text": [
      "Epoch 247/300 | Train Loss: 1.5016 | Val Loss: 1.4988 Current learning rate: 6.25e-06\n",
      "EarlyStopping counter: 1 out of 20\n"
     ]
    },
    {
     "name": "stderr",
     "output_type": "stream",
     "text": [
      "Training Epoch 248: 100%|██████████| 8629/8629 [00:37<00:00, 230.94it/s]\n"
     ]
    },
    {
     "name": "stdout",
     "output_type": "stream",
     "text": [
      "Epoch 248/300 | Train Loss: 1.5024 | Val Loss: 1.4984 Current learning rate: 6.25e-06\n"
     ]
    },
    {
     "name": "stderr",
     "output_type": "stream",
     "text": [
      "Training Epoch 249: 100%|██████████| 8629/8629 [00:37<00:00, 230.83it/s]\n"
     ]
    },
    {
     "name": "stdout",
     "output_type": "stream",
     "text": [
      "Epoch 249/300 | Train Loss: 1.5023 | Val Loss: 1.4990 Current learning rate: 6.25e-06\n",
      "EarlyStopping counter: 1 out of 20\n"
     ]
    },
    {
     "name": "stderr",
     "output_type": "stream",
     "text": [
      "Training Epoch 250: 100%|██████████| 8629/8629 [00:37<00:00, 230.75it/s]\n"
     ]
    },
    {
     "name": "stdout",
     "output_type": "stream",
     "text": [
      "Epoch 250/300 | Train Loss: 1.5023 | Val Loss: 1.4985 Current learning rate: 6.25e-06\n",
      "EarlyStopping counter: 2 out of 20\n"
     ]
    },
    {
     "name": "stderr",
     "output_type": "stream",
     "text": [
      "Training Epoch 251: 100%|██████████| 8629/8629 [00:37<00:00, 230.85it/s]\n"
     ]
    },
    {
     "name": "stdout",
     "output_type": "stream",
     "text": [
      "Epoch 251/300 | Train Loss: 1.5012 | Val Loss: 1.4984 Current learning rate: 6.25e-06\n"
     ]
    },
    {
     "name": "stderr",
     "output_type": "stream",
     "text": [
      "Training Epoch 252: 100%|██████████| 8629/8629 [00:37<00:00, 230.96it/s]\n"
     ]
    },
    {
     "name": "stdout",
     "output_type": "stream",
     "text": [
      "Epoch 252/300 | Train Loss: 1.5023 | Val Loss: 1.4987 Current learning rate: 6.25e-06\n",
      "EarlyStopping counter: 1 out of 20\n"
     ]
    },
    {
     "name": "stderr",
     "output_type": "stream",
     "text": [
      "Training Epoch 253: 100%|██████████| 8629/8629 [00:37<00:00, 230.65it/s]\n"
     ]
    },
    {
     "name": "stdout",
     "output_type": "stream",
     "text": [
      "Epoch 253/300 | Train Loss: 1.5021 | Val Loss: 1.4984 Current learning rate: 6.25e-06\n"
     ]
    },
    {
     "name": "stderr",
     "output_type": "stream",
     "text": [
      "Training Epoch 254: 100%|██████████| 8629/8629 [00:37<00:00, 230.85it/s]\n"
     ]
    },
    {
     "name": "stdout",
     "output_type": "stream",
     "text": [
      "Epoch 254/300 | Train Loss: 1.5014 | Val Loss: 1.4983 Current learning rate: 6.25e-06\n"
     ]
    },
    {
     "name": "stderr",
     "output_type": "stream",
     "text": [
      "Training Epoch 255: 100%|██████████| 8629/8629 [00:37<00:00, 230.61it/s]\n"
     ]
    },
    {
     "name": "stdout",
     "output_type": "stream",
     "text": [
      "Epoch 255/300 | Train Loss: 1.5009 | Val Loss: 1.4983 Current learning rate: 6.25e-06\n",
      "EarlyStopping counter: 1 out of 20\n"
     ]
    },
    {
     "name": "stderr",
     "output_type": "stream",
     "text": [
      "Training Epoch 256: 100%|██████████| 8629/8629 [00:37<00:00, 230.97it/s]\n"
     ]
    },
    {
     "name": "stdout",
     "output_type": "stream",
     "text": [
      "Epoch 256/300 | Train Loss: 1.5015 | Val Loss: 1.4980 Current learning rate: 6.25e-06\n"
     ]
    },
    {
     "name": "stderr",
     "output_type": "stream",
     "text": [
      "Training Epoch 257: 100%|██████████| 8629/8629 [00:37<00:00, 230.28it/s]\n"
     ]
    },
    {
     "name": "stdout",
     "output_type": "stream",
     "text": [
      "Epoch 257/300 | Train Loss: 1.5019 | Val Loss: 1.4981 Current learning rate: 6.25e-06\n",
      "EarlyStopping counter: 1 out of 20\n"
     ]
    },
    {
     "name": "stderr",
     "output_type": "stream",
     "text": [
      "Training Epoch 258: 100%|██████████| 8629/8629 [00:37<00:00, 230.37it/s]\n"
     ]
    },
    {
     "name": "stdout",
     "output_type": "stream",
     "text": [
      "Epoch 258/300 | Train Loss: 1.5022 | Val Loss: 1.4978 Current learning rate: 6.25e-06\n"
     ]
    },
    {
     "name": "stderr",
     "output_type": "stream",
     "text": [
      "Training Epoch 259: 100%|██████████| 8629/8629 [00:37<00:00, 230.87it/s]\n"
     ]
    },
    {
     "name": "stdout",
     "output_type": "stream",
     "text": [
      "Epoch 259/300 | Train Loss: 1.5022 | Val Loss: 1.4984 Current learning rate: 6.25e-06\n",
      "EarlyStopping counter: 1 out of 20\n"
     ]
    },
    {
     "name": "stderr",
     "output_type": "stream",
     "text": [
      "Training Epoch 260: 100%|██████████| 8629/8629 [00:37<00:00, 231.37it/s]\n"
     ]
    },
    {
     "name": "stdout",
     "output_type": "stream",
     "text": [
      "Epoch 260/300 | Train Loss: 1.5011 | Val Loss: 1.4970 Current learning rate: 6.25e-06\n"
     ]
    },
    {
     "name": "stderr",
     "output_type": "stream",
     "text": [
      "Training Epoch 261: 100%|██████████| 8629/8629 [00:37<00:00, 231.12it/s]\n"
     ]
    },
    {
     "name": "stdout",
     "output_type": "stream",
     "text": [
      "Epoch 261/300 | Train Loss: 1.5016 | Val Loss: 1.4983 Current learning rate: 3.125e-06\n",
      "EarlyStopping counter: 1 out of 20\n"
     ]
    },
    {
     "name": "stderr",
     "output_type": "stream",
     "text": [
      "Training Epoch 262: 100%|██████████| 8629/8629 [00:37<00:00, 231.22it/s]\n"
     ]
    },
    {
     "name": "stdout",
     "output_type": "stream",
     "text": [
      "Epoch 262/300 | Train Loss: 1.4999 | Val Loss: 1.4963 Current learning rate: 3.125e-06\n"
     ]
    },
    {
     "name": "stderr",
     "output_type": "stream",
     "text": [
      "Training Epoch 263: 100%|██████████| 8629/8629 [00:37<00:00, 231.02it/s]\n"
     ]
    },
    {
     "name": "stdout",
     "output_type": "stream",
     "text": [
      "Epoch 263/300 | Train Loss: 1.4997 | Val Loss: 1.4966 Current learning rate: 3.125e-06\n",
      "EarlyStopping counter: 1 out of 20\n"
     ]
    },
    {
     "name": "stderr",
     "output_type": "stream",
     "text": [
      "Training Epoch 264: 100%|██████████| 8629/8629 [00:37<00:00, 230.89it/s]\n"
     ]
    },
    {
     "name": "stdout",
     "output_type": "stream",
     "text": [
      "Epoch 264/300 | Train Loss: 1.4997 | Val Loss: 1.4964 Current learning rate: 3.125e-06\n",
      "EarlyStopping counter: 2 out of 20\n"
     ]
    },
    {
     "name": "stderr",
     "output_type": "stream",
     "text": [
      "Training Epoch 265: 100%|██████████| 8629/8629 [00:37<00:00, 231.13it/s]\n"
     ]
    },
    {
     "name": "stdout",
     "output_type": "stream",
     "text": [
      "Epoch 265/300 | Train Loss: 1.4995 | Val Loss: 1.4964 Current learning rate: 3.125e-06\n",
      "EarlyStopping counter: 3 out of 20\n"
     ]
    },
    {
     "name": "stderr",
     "output_type": "stream",
     "text": [
      "Training Epoch 266: 100%|██████████| 8629/8629 [00:37<00:00, 230.85it/s]\n"
     ]
    },
    {
     "name": "stdout",
     "output_type": "stream",
     "text": [
      "Epoch 266/300 | Train Loss: 1.5001 | Val Loss: 1.4968 Current learning rate: 3.125e-06\n",
      "EarlyStopping counter: 4 out of 20\n"
     ]
    },
    {
     "name": "stderr",
     "output_type": "stream",
     "text": [
      "Training Epoch 267: 100%|██████████| 8629/8629 [00:37<00:00, 231.13it/s]\n"
     ]
    },
    {
     "name": "stdout",
     "output_type": "stream",
     "text": [
      "Epoch 267/300 | Train Loss: 1.4979 | Val Loss: 1.4961 Current learning rate: 3.125e-06\n"
     ]
    },
    {
     "name": "stderr",
     "output_type": "stream",
     "text": [
      "Training Epoch 268: 100%|██████████| 8629/8629 [00:37<00:00, 230.91it/s]\n"
     ]
    },
    {
     "name": "stdout",
     "output_type": "stream",
     "text": [
      "Epoch 268/300 | Train Loss: 1.4994 | Val Loss: 1.4963 Current learning rate: 3.125e-06\n",
      "EarlyStopping counter: 1 out of 20\n"
     ]
    },
    {
     "name": "stderr",
     "output_type": "stream",
     "text": [
      "Training Epoch 269: 100%|██████████| 8629/8629 [00:37<00:00, 230.82it/s]\n"
     ]
    },
    {
     "name": "stdout",
     "output_type": "stream",
     "text": [
      "Epoch 269/300 | Train Loss: 1.4987 | Val Loss: 1.4963 Current learning rate: 3.125e-06\n",
      "EarlyStopping counter: 2 out of 20\n"
     ]
    },
    {
     "name": "stderr",
     "output_type": "stream",
     "text": [
      "Training Epoch 270: 100%|██████████| 8629/8629 [00:37<00:00, 231.12it/s]\n"
     ]
    },
    {
     "name": "stdout",
     "output_type": "stream",
     "text": [
      "Epoch 270/300 | Train Loss: 1.4983 | Val Loss: 1.4961 Current learning rate: 3.125e-06\n"
     ]
    },
    {
     "name": "stderr",
     "output_type": "stream",
     "text": [
      "Training Epoch 271: 100%|██████████| 8629/8629 [00:37<00:00, 230.77it/s]\n"
     ]
    },
    {
     "name": "stdout",
     "output_type": "stream",
     "text": [
      "Epoch 271/300 | Train Loss: 1.5000 | Val Loss: 1.4962 Current learning rate: 3.125e-06\n",
      "EarlyStopping counter: 1 out of 20\n"
     ]
    },
    {
     "name": "stderr",
     "output_type": "stream",
     "text": [
      "Training Epoch 272: 100%|██████████| 8629/8629 [00:37<00:00, 230.51it/s]\n"
     ]
    },
    {
     "name": "stdout",
     "output_type": "stream",
     "text": [
      "Epoch 272/300 | Train Loss: 1.4996 | Val Loss: 1.4958 Current learning rate: 3.125e-06\n"
     ]
    },
    {
     "name": "stderr",
     "output_type": "stream",
     "text": [
      "Training Epoch 273: 100%|██████████| 8629/8629 [00:37<00:00, 230.74it/s]\n"
     ]
    },
    {
     "name": "stdout",
     "output_type": "stream",
     "text": [
      "Epoch 273/300 | Train Loss: 1.4995 | Val Loss: 1.4962 Current learning rate: 1.5625e-06\n",
      "EarlyStopping counter: 1 out of 20\n"
     ]
    },
    {
     "name": "stderr",
     "output_type": "stream",
     "text": [
      "Training Epoch 274: 100%|██████████| 8629/8629 [00:37<00:00, 230.98it/s]\n"
     ]
    },
    {
     "name": "stdout",
     "output_type": "stream",
     "text": [
      "Epoch 274/300 | Train Loss: 1.4986 | Val Loss: 1.4957 Current learning rate: 1.5625e-06\n"
     ]
    },
    {
     "name": "stderr",
     "output_type": "stream",
     "text": [
      "Training Epoch 275: 100%|██████████| 8629/8629 [00:37<00:00, 230.95it/s]\n"
     ]
    },
    {
     "name": "stdout",
     "output_type": "stream",
     "text": [
      "Epoch 275/300 | Train Loss: 1.4995 | Val Loss: 1.4957 Current learning rate: 1.5625e-06\n"
     ]
    },
    {
     "name": "stderr",
     "output_type": "stream",
     "text": [
      "Training Epoch 276: 100%|██████████| 8629/8629 [00:37<00:00, 230.89it/s]\n"
     ]
    },
    {
     "name": "stdout",
     "output_type": "stream",
     "text": [
      "Epoch 276/300 | Train Loss: 1.4976 | Val Loss: 1.4958 Current learning rate: 1.5625e-06\n",
      "EarlyStopping counter: 1 out of 20\n"
     ]
    },
    {
     "name": "stderr",
     "output_type": "stream",
     "text": [
      "Training Epoch 277: 100%|██████████| 8629/8629 [00:37<00:00, 231.03it/s]\n"
     ]
    },
    {
     "name": "stdout",
     "output_type": "stream",
     "text": [
      "Epoch 277/300 | Train Loss: 1.4983 | Val Loss: 1.4955 Current learning rate: 1.5625e-06\n"
     ]
    },
    {
     "name": "stderr",
     "output_type": "stream",
     "text": [
      "Training Epoch 278: 100%|██████████| 8629/8629 [00:37<00:00, 230.55it/s]\n"
     ]
    },
    {
     "name": "stdout",
     "output_type": "stream",
     "text": [
      "Epoch 278/300 | Train Loss: 1.4993 | Val Loss: 1.4959 Current learning rate: 1.5625e-06\n",
      "EarlyStopping counter: 1 out of 20\n"
     ]
    },
    {
     "name": "stderr",
     "output_type": "stream",
     "text": [
      "Training Epoch 279: 100%|██████████| 8629/8629 [00:37<00:00, 230.88it/s]\n"
     ]
    },
    {
     "name": "stdout",
     "output_type": "stream",
     "text": [
      "Epoch 279/300 | Train Loss: 1.4988 | Val Loss: 1.4956 Current learning rate: 1.5625e-06\n",
      "EarlyStopping counter: 2 out of 20\n"
     ]
    },
    {
     "name": "stderr",
     "output_type": "stream",
     "text": [
      "Training Epoch 280: 100%|██████████| 8629/8629 [00:37<00:00, 231.02it/s]\n"
     ]
    },
    {
     "name": "stdout",
     "output_type": "stream",
     "text": [
      "Epoch 280/300 | Train Loss: 1.4988 | Val Loss: 1.4955 Current learning rate: 1.5625e-06\n",
      "EarlyStopping counter: 3 out of 20\n"
     ]
    },
    {
     "name": "stderr",
     "output_type": "stream",
     "text": [
      "Training Epoch 281: 100%|██████████| 8629/8629 [00:37<00:00, 228.41it/s]\n"
     ]
    },
    {
     "name": "stdout",
     "output_type": "stream",
     "text": [
      "Epoch 281/300 | Train Loss: 1.4984 | Val Loss: 1.4956 Current learning rate: 1.5625e-06\n",
      "EarlyStopping counter: 4 out of 20\n"
     ]
    },
    {
     "name": "stderr",
     "output_type": "stream",
     "text": [
      "Training Epoch 282: 100%|██████████| 8629/8629 [00:37<00:00, 230.48it/s]\n"
     ]
    },
    {
     "name": "stdout",
     "output_type": "stream",
     "text": [
      "Epoch 282/300 | Train Loss: 1.4990 | Val Loss: 1.4956 Current learning rate: 7.8125e-07\n",
      "EarlyStopping counter: 5 out of 20\n"
     ]
    },
    {
     "name": "stderr",
     "output_type": "stream",
     "text": [
      "Training Epoch 283: 100%|██████████| 8629/8629 [00:37<00:00, 230.48it/s]\n"
     ]
    },
    {
     "name": "stdout",
     "output_type": "stream",
     "text": [
      "Epoch 283/300 | Train Loss: 1.4983 | Val Loss: 1.4951 Current learning rate: 7.8125e-07\n"
     ]
    },
    {
     "name": "stderr",
     "output_type": "stream",
     "text": [
      "Training Epoch 284: 100%|██████████| 8629/8629 [00:37<00:00, 230.34it/s]\n"
     ]
    },
    {
     "name": "stdout",
     "output_type": "stream",
     "text": [
      "Epoch 284/300 | Train Loss: 1.4994 | Val Loss: 1.4950 Current learning rate: 7.8125e-07\n"
     ]
    },
    {
     "name": "stderr",
     "output_type": "stream",
     "text": [
      "Training Epoch 285: 100%|██████████| 8629/8629 [00:37<00:00, 230.79it/s]\n"
     ]
    },
    {
     "name": "stdout",
     "output_type": "stream",
     "text": [
      "Epoch 285/300 | Train Loss: 1.4990 | Val Loss: 1.4950 Current learning rate: 7.8125e-07\n"
     ]
    },
    {
     "name": "stderr",
     "output_type": "stream",
     "text": [
      "Training Epoch 286: 100%|██████████| 8629/8629 [00:37<00:00, 230.52it/s]\n"
     ]
    },
    {
     "name": "stdout",
     "output_type": "stream",
     "text": [
      "Epoch 286/300 | Train Loss: 1.4979 | Val Loss: 1.4951 Current learning rate: 7.8125e-07\n",
      "EarlyStopping counter: 1 out of 20\n"
     ]
    },
    {
     "name": "stderr",
     "output_type": "stream",
     "text": [
      "Training Epoch 287: 100%|██████████| 8629/8629 [00:37<00:00, 230.53it/s]\n"
     ]
    },
    {
     "name": "stdout",
     "output_type": "stream",
     "text": [
      "Epoch 287/300 | Train Loss: 1.4979 | Val Loss: 1.4950 Current learning rate: 7.8125e-07\n",
      "EarlyStopping counter: 2 out of 20\n"
     ]
    },
    {
     "name": "stderr",
     "output_type": "stream",
     "text": [
      "Training Epoch 288: 100%|██████████| 8629/8629 [00:37<00:00, 230.56it/s]\n"
     ]
    },
    {
     "name": "stdout",
     "output_type": "stream",
     "text": [
      "Epoch 288/300 | Train Loss: 1.4985 | Val Loss: 1.4950 Current learning rate: 3.90625e-07\n",
      "EarlyStopping counter: 3 out of 20\n"
     ]
    },
    {
     "name": "stderr",
     "output_type": "stream",
     "text": [
      "Training Epoch 289: 100%|██████████| 8629/8629 [00:37<00:00, 230.69it/s]\n"
     ]
    },
    {
     "name": "stdout",
     "output_type": "stream",
     "text": [
      "Epoch 289/300 | Train Loss: 1.4978 | Val Loss: 1.4949 Current learning rate: 3.90625e-07\n"
     ]
    },
    {
     "name": "stderr",
     "output_type": "stream",
     "text": [
      "Training Epoch 290: 100%|██████████| 8629/8629 [00:37<00:00, 230.99it/s]\n"
     ]
    },
    {
     "name": "stdout",
     "output_type": "stream",
     "text": [
      "Epoch 290/300 | Train Loss: 1.4981 | Val Loss: 1.4949 Current learning rate: 3.90625e-07\n"
     ]
    },
    {
     "name": "stderr",
     "output_type": "stream",
     "text": [
      "Training Epoch 291: 100%|██████████| 8629/8629 [00:37<00:00, 230.98it/s]\n"
     ]
    },
    {
     "name": "stdout",
     "output_type": "stream",
     "text": [
      "Epoch 291/300 | Train Loss: 1.4977 | Val Loss: 1.4949 Current learning rate: 3.90625e-07\n",
      "EarlyStopping counter: 1 out of 20\n"
     ]
    },
    {
     "name": "stderr",
     "output_type": "stream",
     "text": [
      "Training Epoch 292: 100%|██████████| 8629/8629 [00:37<00:00, 230.97it/s]\n"
     ]
    },
    {
     "name": "stdout",
     "output_type": "stream",
     "text": [
      "Epoch 292/300 | Train Loss: 1.4981 | Val Loss: 1.4949 Current learning rate: 3.90625e-07\n"
     ]
    },
    {
     "name": "stderr",
     "output_type": "stream",
     "text": [
      "Training Epoch 293: 100%|██████████| 8629/8629 [00:37<00:00, 231.20it/s]\n"
     ]
    },
    {
     "name": "stdout",
     "output_type": "stream",
     "text": [
      "Epoch 293/300 | Train Loss: 1.4977 | Val Loss: 1.4949 Current learning rate: 3.90625e-07\n",
      "EarlyStopping counter: 1 out of 20\n"
     ]
    },
    {
     "name": "stderr",
     "output_type": "stream",
     "text": [
      "Training Epoch 294: 100%|██████████| 8629/8629 [00:37<00:00, 231.08it/s]\n"
     ]
    },
    {
     "name": "stdout",
     "output_type": "stream",
     "text": [
      "Epoch 294/300 | Train Loss: 1.4975 | Val Loss: 1.4950 Current learning rate: 1.953125e-07\n",
      "EarlyStopping counter: 2 out of 20\n"
     ]
    },
    {
     "name": "stderr",
     "output_type": "stream",
     "text": [
      "Training Epoch 295: 100%|██████████| 8629/8629 [00:37<00:00, 231.24it/s]\n"
     ]
    },
    {
     "name": "stdout",
     "output_type": "stream",
     "text": [
      "Epoch 295/300 | Train Loss: 1.4969 | Val Loss: 1.4950 Current learning rate: 1.953125e-07\n",
      "EarlyStopping counter: 3 out of 20\n"
     ]
    },
    {
     "name": "stderr",
     "output_type": "stream",
     "text": [
      "Training Epoch 296: 100%|██████████| 8629/8629 [00:37<00:00, 231.29it/s]\n"
     ]
    },
    {
     "name": "stdout",
     "output_type": "stream",
     "text": [
      "Epoch 296/300 | Train Loss: 1.4971 | Val Loss: 1.4949 Current learning rate: 1.953125e-07\n",
      "EarlyStopping counter: 4 out of 20\n"
     ]
    },
    {
     "name": "stderr",
     "output_type": "stream",
     "text": [
      "Training Epoch 297: 100%|██████████| 8629/8629 [00:37<00:00, 230.69it/s]\n"
     ]
    },
    {
     "name": "stdout",
     "output_type": "stream",
     "text": [
      "Epoch 297/300 | Train Loss: 1.4975 | Val Loss: 1.4949 Current learning rate: 1.953125e-07\n",
      "EarlyStopping counter: 5 out of 20\n"
     ]
    },
    {
     "name": "stderr",
     "output_type": "stream",
     "text": [
      "Training Epoch 298: 100%|██████████| 8629/8629 [00:37<00:00, 230.69it/s]\n"
     ]
    },
    {
     "name": "stdout",
     "output_type": "stream",
     "text": [
      "Epoch 298/300 | Train Loss: 1.4973 | Val Loss: 1.4950 Current learning rate: 1.953125e-07\n",
      "EarlyStopping counter: 6 out of 20\n"
     ]
    },
    {
     "name": "stderr",
     "output_type": "stream",
     "text": [
      "Training Epoch 299: 100%|██████████| 8629/8629 [00:37<00:00, 230.82it/s]\n"
     ]
    },
    {
     "name": "stdout",
     "output_type": "stream",
     "text": [
      "Epoch 299/300 | Train Loss: 1.4974 | Val Loss: 1.4950 Current learning rate: 1.953125e-07\n",
      "EarlyStopping counter: 7 out of 20\n"
     ]
    },
    {
     "name": "stderr",
     "output_type": "stream",
     "text": [
      "Training Epoch 300: 100%|██████████| 8629/8629 [00:37<00:00, 230.69it/s]\n"
     ]
    },
    {
     "name": "stdout",
     "output_type": "stream",
     "text": [
      "Epoch 300/300 | Train Loss: 1.4973 | Val Loss: 1.4950 Current learning rate: 1.953125e-07\n",
      "EarlyStopping counter: 8 out of 20\n",
      "Best model saved: Bi_LSTMWithMulAttention_input-2_hidden-32_layers-2_heads-2_lr-0.000000_loss-1.494910_batch-16_epoch-300_seq-2.pth\n",
      "CPU times: total: 3h 29min 21s\n",
      "Wall time: 3h 29min 58s\n"
     ]
    }
   ],
   "source": [
    "%%time\n",
    "# ====== 训练循环 ======\n",
    "num_epochs = 300\n",
    "best_loss = np.inf\n",
    "early_stopping_patience = 20\n",
    "early_stopping_counter = 0\n",
    "loss_values = []\n",
    "\n",
    "for epoch in range(num_epochs):\n",
    "    model.train()\n",
    "    train_losses = []\n",
    "    for x_batch, y_state_batch, y_time_batch in tqdm(train_loader, desc=f\"Training Epoch {epoch+1}\"):\n",
    "        x_batch = x_batch.to(device).float()\n",
    "        y_state_batch = y_state_batch.to(device).long()\n",
    "        y_time_batch = y_time_batch.to(device).float()\n",
    "        \n",
    "        # 前向传播\n",
    "        state_pred, time_pred = model(x_batch)\n",
    "        \n",
    "        # 计算损失\n",
    "        loss_state = criterion_state(state_pred, y_state_batch)\n",
    "        loss_time = criterion_time(time_pred, y_time_batch)\n",
    "        total_loss = loss_state + 0 * loss_time  # 调整权重\n",
    "        \n",
    "        # 反向传播\n",
    "        optimizer.zero_grad()\n",
    "        total_loss.backward()\n",
    "        torch.nn.utils.clip_grad_norm_(model.parameters(), 1.0)\n",
    "        optimizer.step()\n",
    "        \n",
    "        train_losses.append(total_loss.item())\n",
    "    \n",
    "    # 验证\n",
    "    model.eval()\n",
    "    val_losses = []\n",
    "    with torch.no_grad():\n",
    "        for x_val, y_state_val, y_time_val in test_loader:\n",
    "            x_val = x_val.to(device).float()\n",
    "            y_state_val = y_state_val.to(device).long()\n",
    "            y_time_val = y_time_val.to(device).float()\n",
    "            \n",
    "            state_pred, time_pred = model(x_val)\n",
    "            loss_state = criterion_state(state_pred, y_state_val)\n",
    "            loss_time = criterion_time(time_pred, y_time_val)\n",
    "            val_loss = loss_state + 0 * loss_time\n",
    "            val_losses.append(val_loss.item())\n",
    "    \n",
    "    # 学习率调整\n",
    "    avg_train_loss = np.mean(train_losses)\n",
    "    avg_val_loss = np.mean(val_losses)\n",
    "    scheduler.step(avg_train_loss)\n",
    "    loss_values.append([avg_train_loss, avg_val_loss])\n",
    "    \n",
    "    # 训练结束后打印当前学习率\n",
    "    current_lr = optimizer.param_groups[0]['lr']\n",
    "    print(f\"Epoch {epoch+1}/{num_epochs} | Train Loss: {avg_train_loss:.4f} | Val Loss: {avg_val_loss:.4f}\",f\"Current learning rate: {current_lr}\")\n",
    "    \n",
    "    # 早停机制\n",
    "    if avg_val_loss - best_loss < -0.000001: #(1) 判断验证损失是否降低\n",
    "        if best_loss - val_loss > 0.03:\n",
    "            early_stopping_counter = 0\n",
    "        best_loss = avg_val_loss\n",
    "        best_model = deepcopy(model.state_dict()) #保存最佳模型：将最佳模型的参数保存到 best_model。\n",
    "    else:\n",
    "        early_stopping_counter += 1\n",
    "        print(f'EarlyStopping counter: {early_stopping_counter} out of {early_stopping_patience}')\n",
    "        if early_stopping_counter >= early_stopping_patience:\n",
    "            model.load_state_dict(best_model)\n",
    "            print('Early stopping')\n",
    "            break #避免模型在验证集上过拟合，通过提前停止训练来提高泛化能力。\n",
    "    \n",
    "    \n",
    "# 训练结束后保存最佳模型\n",
    "if best_model is not None:\n",
    "    # 构造模型文件名\n",
    "    model_name = \"Bi_LSTMWithMulAttention\"\n",
    "    learning_rate = scheduler.optimizer.param_groups[0]['lr']\n",
    "    filename = f\"{model_name}_input-{input_size}_hidden-{hidden_size}_layers-{num_layers}_heads-{num_heads}_lr-{learning_rate:.6f}_loss-{best_loss:.6f}_batch-{batch_size}_epoch-{epoch+1}_seq-{sequence_length}.pth\"\n",
    "    \n",
    "    # 保存模型\n",
    "    torch.save(best_model, os.path.join('./model', filename))\n",
    "    print(f\"Best model saved: {filename}\")\n",
    "else:\n",
    "    print(\"No model was saved because no valid model was found during training.\")"
   ]
  },
  {
   "cell_type": "markdown",
   "id": "6e213cee-3076-4710-80b5-2d70d209d66e",
   "metadata": {},
   "source": [
    "## 5.3 绘制损失曲线"
   ]
  },
  {
   "cell_type": "code",
   "execution_count": 143,
   "id": "f726f78d-d94c-408a-b2a4-9222db281a66",
   "metadata": {},
   "outputs": [
    {
     "data": {
      "image/png": "[encoded data removed]",
      "text/plain": [
       "<Figure size 640x480 with 1 Axes>"
      ]
     },
     "metadata": {},
     "output_type": "display_data"
    }
   ],
   "source": [
    "loss_values = np.array(loss_values)\n",
    "plt.plot(loss_values[:, 0], label='Train Loss')\n",
    "plt.plot(loss_values[:, 1], label='Validation Loss')\n",
    "plt.legend()\n",
    "plt.show()"
   ]
  },
  {
   "cell_type": "markdown",
   "id": "f8ba4f24-2dd8-482a-8036-b2be2d94b76b",
   "metadata": {},
   "source": [
    "## 5.4 模型评估"
   ]
  },
  {
   "cell_type": "markdown",
   "id": "517c2f16-4942-4e71-86d0-0e2f7cb58960",
   "metadata": {
    "jp-MarkdownHeadingCollapsed": true,
    "tags": []
   },
   "source": [
    "### 0.加载历史模型进行评估"
   ]
  },
  {
   "cell_type": "code",
   "execution_count": null,
   "id": "eee236fc-94c9-48de-ac9b-98feeeceaac2",
   "metadata": {},
   "outputs": [],
   "source": [
    "import torch\n",
    "import torch.nn as nn\n",
    "from sklearn.metrics import accuracy_score, f1_score, confusion_matrix\n",
    "import seaborn as sns\n",
    "import matplotlib.pyplot as plt\n",
    "\n",
    "\n",
    "\n",
    "# 加载模型\n",
    "model_path = 'C:/Users/Administrator/Desktop/My research/2_ML_predict_product/model/Bi_LSTMWithMulAttention_input-1_hidden-32_layers-2_heads-2_lr-0.000100_loss-1.866484_batch-128_epoch-202_seq-4.pth'\n",
    "device = torch.device(\"cuda\" if torch.cuda.is_available() else \"cpu\")\n",
    "\n",
    "# ====== 参数设置 ======\n",
    "input_size = 1       # 输入特征维度：[encoded_label, time]\n",
    "hidden_size = 32\n",
    "num_layers = 2\n",
    "num_state_classes = len(state_encoder.classes_)  # 自动获取类别数\n",
    "num_heads = 2\n",
    "# ====== 初始化模型 ======\n",
    "model = LSTMWithMulAttention(\n",
    "    input_size=input_size,\n",
    "    hidden_size=hidden_size,\n",
    "    num_layers=num_layers,\n",
    "    num_state_classes=num_state_classes,\n",
    "    dropout_rate=0.3,\n",
    "    num_heads=num_heads\n",
    ").to(device)\n",
    "\n",
    "\n",
    "model.load_state_dict(torch.load(model_path, map_location=device))\n",
    "model.to(device)\n",
    "model.eval()\n",
    "\n",
    "# 初始化评估指标\n",
    "all_acc_scores = []\n",
    "all_f1_scores = []\n",
    "all_confusion_matrices = []\n",
    "state_preds = []\n",
    "state_targets = []\n",
    "\n",
    "# 获取所有可能的类别数\n",
    "num_state_classes = len(state_encoder.classes_)\n",
    "\n",
    "with torch.no_grad():\n",
    "    for x_val, y_state_val in train_loader:\n",
    "        x_val = x_val.to(device).float()\n",
    "        y_state_val = y_state_val.to(device).long()\n",
    "        y_state_val = y_state_val.squeeze(-1)\n",
    "\n",
    "        state_pred = model(x_val)\n",
    "        state_preds.extend(torch.argmax(state_pred, dim=1).cpu().numpy())\n",
    "        preds = torch.argmax(state_pred, dim=1).cpu().numpy()\n",
    "        \n",
    "        targets = y_state_val.cpu().numpy()\n",
    "        state_targets.extend(y_state_val.cpu().numpy())\n",
    "\n",
    "        # 计算当前批次的评估指标\n",
    "        acc = accuracy_score(targets, preds)\n",
    "        f1 = f1_score(targets, preds, average='weighted')\n",
    "        \n",
    "        # 确保混淆矩阵形状一致，指定所有可能的类别\n",
    "        cm = confusion_matrix(targets, preds, labels=list(range(num_state_classes)))\n",
    "\n",
    "        all_acc_scores.append(acc)\n",
    "        all_f1_scores.append(f1)\n",
    "        all_confusion_matrices.append(cm)\n",
    "\n",
    "# 合并混淆矩阵\n",
    "final_cm = sum(all_confusion_matrices)\n",
    "print(\"Final Confusion Matrix:\\n\", final_cm)\n",
    "\n",
    "# 计算平均准确率和 F1 分数\n",
    "avg_acc = np.mean(all_acc_scores)\n",
    "avg_f1 = np.mean(all_f1_scores)\n",
    "print(\"Average Accuracy:\", avg_acc)\n",
    "print(\"Average F1 Score:\", avg_f1)\n",
    "\n",
    "print(\"Accuracy:\", accuracy_score(state_targets, state_preds))\n",
    "print(\"F1 Score:\", f1_score(state_targets, state_preds, average='weighted'))\n",
    "\n",
    "# 可视化混淆矩阵\n",
    "cm = confusion_matrix(state_targets, state_preds)\n",
    "plt.figure(figsize=(25, 20))\n",
    "sns.heatmap(cm, annot=True, fmt='d', cmap='Blues', xticklabels=state_encoder.classes_, yticklabels=state_encoder.classes_)\n",
    "plt.xlabel('Predicted')\n",
    "plt.ylabel('True')\n",
    "plt.title('Confusion Matrix')\n",
    "plt.show()\n",
    "\n",
    "# 保存混淆矩阵到 CSV 文件\n",
    "df_cm = pd.DataFrame(cm, index=state_encoder.classes_, columns=state_encoder.classes_)\n",
    "#df_cm.to_csv(\"confusion_matrix.csv\")"
   ]
  },
  {
   "cell_type": "markdown",
   "id": "306d5272-df97-4e8a-a7c4-da6e17127e2b",
   "metadata": {
    "tags": []
   },
   "source": [
    "### 1.3 单输出模型评估-分类问题"
   ]
  },
  {
   "cell_type": "code",
   "execution_count": 144,
   "id": "5e4e6bfb-582b-4b7e-ab04-fa28a3eb53d6",
   "metadata": {},
   "outputs": [
    {
     "name": "stdout",
     "output_type": "stream",
     "text": [
      "Final Confusion Matrix:\n",
      " [[ 128   25   12 ...    0    0    0]\n",
      " [  30 1150   58 ...    0    0    0]\n",
      " [  16  159 1071 ...    0    0    0]\n",
      " ...\n",
      " [   0    0    0 ...    0    0    0]\n",
      " [   0    0    0 ...    0    0    0]\n",
      " [   0    0    0 ...    0    0    0]]\n",
      "Accuracy: 0.49479816895547235\n",
      "F1 Score: 0.47392402054972105\n"
     ]
    },
    {
     "data": {
      "image/png": "[encoded data removed]",
      "text/plain": [
       "<Figure size 2500x2000 with 2 Axes>"
      ]
     },
     "metadata": {},
     "output_type": "display_data"
    }
   ],
   "source": [
    "from sklearn.metrics import accuracy_score, f1_score, confusion_matrix\n",
    "\n",
    "all_acc_scores = []\n",
    "all_f1_scores = []\n",
    "all_confusion_matrices = []\n",
    "state_preds = []\n",
    "state_targets = []\n",
    "\n",
    "# 获取所有可能的类别数\n",
    "num_state_classes = len(state_encoder.classes_)\n",
    "\n",
    "with torch.no_grad():\n",
    "    for x_val, y_state_val in test_loader:\n",
    "        x_val = x_val.to(device).float()\n",
    "        y_state_val = y_state_val.to(device).long()\n",
    "        y_state_val = y_state_val.squeeze(-1)\n",
    "\n",
    "        state_pred = model(x_val)\n",
    "        state_preds.extend(torch.argmax(state_pred, dim=1).cpu().numpy())\n",
    "        preds = torch.argmax(state_pred, dim=1).cpu().numpy()\n",
    "        \n",
    "        targets = y_state_val.cpu().numpy()\n",
    "        state_targets.extend(y_state_val.cpu().numpy())\n",
    "\n",
    "        # 计算当前批次的评估指标\n",
    "        acc = accuracy_score(targets, preds)\n",
    "        f1 = f1_score(targets, preds, average='weighted')\n",
    "        \n",
    "        # 确保混淆矩阵形状一致，指定所有可能的类别\n",
    "        cm = confusion_matrix(targets, preds, labels=list(range(num_state_classes)))\n",
    "\n",
    "        all_acc_scores.append(acc)\n",
    "        all_f1_scores.append(f1)\n",
    "        all_confusion_matrices.append(cm)\n",
    "\n",
    "# 合并混淆矩阵\n",
    "final_cm = sum(all_confusion_matrices)\n",
    "print(\"Final Confusion Matrix:\\n\", final_cm)\n",
    "\n",
    "# # 计算平均准确率和 F1 分数\n",
    "# avg_acc = np.mean(all_acc_scores)\n",
    "# avg_f1 = np.mean(all_f1_scores)\n",
    "# print(\"Average Accuracy:\", avg_acc)\n",
    "# print(\"Average F1 Score:\", avg_f1)\n",
    "\n",
    "print(\"Accuracy:\", accuracy_score(state_targets, state_preds))\n",
    "print(\"F1 Score:\", f1_score(state_targets, state_preds, average='weighted'))\n",
    "#print(\"Confusion Matrix:\\n\", confusion_matrix(state_targets, state_preds))\n",
    "import seaborn as sns\n",
    "import matplotlib.pyplot as plt\n",
    "\n",
    "cm = confusion_matrix(state_targets, state_preds)\n",
    "plt.figure(figsize=(25, 20))\n",
    "sns.heatmap(cm, annot=True, fmt='d', cmap='Blues', xticklabels=range(num_state_classes), yticklabels=range(num_state_classes))\n",
    "plt.xlabel('Predicted')\n",
    "plt.ylabel('True')\n",
    "plt.title('Confusion Matrix')\n",
    "plt.show()"
   ]
  },
  {
   "cell_type": "markdown",
   "id": "ede839cb-b5df-4145-a1fb-c860191c089b",
   "metadata": {},
   "source": [
    "混淆矩阵结果提取"
   ]
  },
  {
   "cell_type": "code",
   "execution_count": 145,
   "id": "b5369cfb-c718-4ead-94bd-bf855cc0fb7b",
   "metadata": {},
   "outputs": [
    {
     "name": "stdout",
     "output_type": "stream",
     "text": [
      "每个物种的预测统计结果：\n",
      "    物种  正确预测次数 正确率(%) 错误预测为物种 1  错误次数 1 错误预测为物种 2  错误次数 2 错误预测为物种 3  错误次数 3\n",
      " 1_0_3    1221  57.40     1_1_2     344     1_0_2   141.0     1_0_4   130.0\n",
      " 1_0_1    1150  68.17     1_1_3     115     1_1_2    80.0     1_0_4    66.0\n",
      " 1_1_0    1146  72.03     1_2_0     120     1_0_1   110.0     1_1_3    63.0\n",
      " 1_0_2    1071  60.65     1_0_1     159     1_0_3   117.0     1_1_3    75.0\n",
      " 1_2_0     983  84.31     1_1_0      49     1_1_1    41.0     1_1_2    28.0\n",
      " 1_0_4     833  49.82     1_1_3     227     1_0_3   132.0     1_0_5   100.0\n",
      " 1_0_5     713  52.16     1_0_1     197     1_1_4   179.0     1_0_4    51.0\n",
      " 1_1_2     669  40.35     1_2_0     318     1_0_3   225.0     1_1_3   110.0\n",
      " 1_1_3     655  57.56     1_0_4     180     1_0_1    59.0     1_0_3    38.0\n",
      " 1_1_4     411  44.63     1_0_1     169     1_0_5   168.0     1_0_4    47.0\n",
      " 1_1_5     359  54.73     1_0_2     126     1_0_6    62.0     1_0_3    22.0\n",
      " 1_1_1     330  30.84     1_1_0     155     1_0_2   147.0     1_0_1   128.0\n",
      " 1_1_6     248  63.92     1_0_3      65     1_0_7    23.0     1_0_4    17.0\n",
      " 1_2_5     146  81.11     1_0_3      17     1_1_4     4.0     1_1_6     3.0\n",
      " 1_0_6     143  25.49     1_0_2     131     1_1_5    98.0     1_0_3    40.0\n",
      " 1_0_0     128  34.59     1_1_3      75     1_1_2    43.0     1_0_1    25.0\n",
      " 1_2_2      78  20.86     1_1_0     155     1_1_3    90.0     1_2_0     9.0\n",
      " 1_3_0      62  22.38     1_2_0     114     1_1_0    92.0     1_1_2     6.0\n",
      " 2_0_9      54  21.43     1_0_4      39     1_0_3    35.0     1_0_6    25.0\n",
      " 2_0_7      54  14.36     1_0_3      55     1_0_5    54.0     1_0_2    47.0\n",
      " 1_0_7      43  18.14     1_0_3      97     1_1_6    41.0     1_0_5    10.0\n",
      " 2_0_8      42  13.29     1_0_3      44     1_0_6    44.0     1_0_4    42.0\n",
      " 1_2_4      42  50.60     1_0_2      16     1_0_6     5.0     1_1_1     4.0\n",
      " 1_2_3      41  68.33     1_0_1       6     1_1_4     5.0     1_1_2     3.0\n",
      " 1_2_1      34   8.76     1_1_2     133     1_2_0    80.0     1_1_0    52.0\n",
      " 2_0_6      23   6.65     1_0_4      69     1_0_3    36.0     1_0_5    34.0\n",
      "2_0_10      15   9.15     1_0_4      33     1_0_6    22.0     1_0_3    20.0\n",
      " 2_0_5       7   3.24     1_0_4      39     1_0_3    31.0     1_0_1    25.0\n",
      " 1_2_6       0   0.00     1_0_4       5     1_0_2     1.0     1_1_5     1.0\n",
      " 2_0_4       0   0.00     1_0_3       7     1_0_1     6.0     1_0_2     5.0\n",
      " 1_1_7       0   0.00     1_0_4      30     1_1_5     4.0     1_0_2     2.0\n",
      " 1_0_9       0   0.00     1_0_3       3     1_1_5     2.0     1_0_2     1.0\n",
      " 1_0_8       0   0.00     1_0_3      11     1_1_6     2.0     1_0_2     1.0\n",
      " 2_1_1       0   0.00     1_1_2       3     1_0_4     2.0     1_1_1     2.0\n",
      " 2_2_0       0   0.00     1_2_0       9     1_1_0     2.0     1_1_2     2.0\n",
      " 2_3_0       0   0.00     1_2_0      16     1_1_0     8.0     1_0_2     1.0\n",
      " 2_4_0       0   0.00     1_2_0      25     1_1_0     4.0     1_1_1     1.0\n",
      " 3_9_0       0   0.00     1_2_0      12       NaN     NaN       NaN     NaN\n",
      " 3_9_2       0   0.00     1_2_0       2       NaN     NaN       NaN     NaN\n"
     ]
    }
   ],
   "source": [
    "import numpy as np\n",
    "import pandas as pd\n",
    "\n",
    "# 假设 final_cm 是最终的混淆矩阵\n",
    "# final_cm = confusion_matrix(state_targets, state_preds)\n",
    "\n",
    "# 获取所有可能的类别数和类别名称\n",
    "num_state_classes = len(final_cm)\n",
    "classes = state_encoder.classes_  # 物种名称列表\n",
    "\n",
    "# 初始化统计字典\n",
    "correct_rates = {}  # 存储每个物种的正确率\n",
    "correct_counts = {}  # 存储每个物种的正确预测次数\n",
    "wrong_predictions = {}  # 存储每个物种预测错误的目标物种及次数\n",
    "\n",
    "# 遍历混淆矩阵，计算每个物种的正确率、正确预测次数和错误预测分布\n",
    "for i in range(num_state_classes):\n",
    "    total_samples = np.sum(final_cm[i, :])  # 第 i 类别的总样本数\n",
    "    correct_predictions = final_cm[i, i]  # 第 i 类别的正确预测次数\n",
    "    \n",
    "    if total_samples > 0:\n",
    "        correct_rates[i] = (correct_predictions / total_samples) * 100  # 正确率\n",
    "    else:\n",
    "        correct_rates[i] = 0  # 如果该类别没有样本，则正确率为 0\n",
    "    \n",
    "    # 记录正确预测次数\n",
    "    correct_counts[i] = correct_predictions\n",
    "    \n",
    "    # 统计错误预测的目标物种及次数\n",
    "    wrong_pred = {}\n",
    "    for j in range(num_state_classes):\n",
    "        if i != j and final_cm[i, j] > 0:  # 排除对角线元素（正确预测）\n",
    "            wrong_pred[classes[j]] = final_cm[i, j]  # 使用物种名称代替编号\n",
    "    \n",
    "    # 按错误次数降序排序，取前 3 个\n",
    "    wrong_predictions[i] = sorted(wrong_pred.items(), key=lambda x: x[1], reverse=True)[:3]\n",
    "\n",
    "# 创建 DataFrame 表格\n",
    "data = []\n",
    "for species_idx in range(num_state_classes):\n",
    "    species_name = classes[species_idx]  # 当前物种名称\n",
    "    row = {\n",
    "        \"物种\": species_name,\n",
    "        \"正确预测次数\": correct_counts[species_idx],\n",
    "        \"正确率(%)\": f\"{correct_rates[species_idx]:.2f}\"\n",
    "    }\n",
    "    for idx, (target_species_name, count) in enumerate(wrong_predictions[species_idx]):\n",
    "        row[f\"错误预测为物种 {idx+1}\"] = target_species_name  # 错误预测的目标物种名称\n",
    "        row[f\"错误次数 {idx+1}\"] = count\n",
    "    data.append(row)\n",
    "\n",
    "# 转换为 DataFrame\n",
    "df = pd.DataFrame(data)\n",
    "\n",
    "# 确保列顺序整齐\n",
    "columns_order = [\"物种\", \"正确预测次数\", \"正确率(%)\"]  # 新增列插入到第二列\n",
    "for i in range(3):  # 最多显示前 3 个错误预测\n",
    "    columns_order.extend([f\"错误预测为物种 {i+1}\", f\"错误次数 {i+1}\"])\n",
    "df = df[columns_order]\n",
    "\n",
    "# 按照正确预测次数降序排列\n",
    "df_sorted = df.sort_values(by=\"正确预测次数\", ascending=False)\n",
    "\n",
    "# 输出表格\n",
    "print(\"每个物种的预测统计结果：\")\n",
    "print(df_sorted.to_string(index=False))\n",
    "\n",
    "# 将排序后的数据保存到 CSV 文件\n",
    "df_sorted.to_csv(\"species_prediction_stats_sorted.csv\", index=False)"
   ]
  },
  {
   "cell_type": "code",
   "execution_count": 146,
   "id": "62752699-e164-4927-a44a-ebcec4891c84",
   "metadata": {},
   "outputs": [
    {
     "name": "stdout",
     "output_type": "stream",
     "text": [
      "所有物种类型的数量： 39\n",
      "物种编号及对应的物种名称：\n",
      "类别 0: 1_0_0\n",
      "类别 1: 1_0_1\n",
      "类别 2: 1_0_2\n",
      "类别 3: 1_0_3\n",
      "类别 4: 1_0_4\n",
      "类别 5: 1_0_5\n",
      "类别 6: 1_0_6\n",
      "类别 7: 1_0_7\n",
      "类别 8: 1_0_8\n",
      "类别 9: 1_0_9\n",
      "类别 10: 1_1_0\n",
      "类别 11: 1_1_1\n",
      "类别 12: 1_1_2\n",
      "类别 13: 1_1_3\n",
      "类别 14: 1_1_4\n",
      "类别 15: 1_1_5\n",
      "类别 16: 1_1_6\n",
      "类别 17: 1_1_7\n",
      "类别 18: 1_2_0\n",
      "类别 19: 1_2_1\n",
      "类别 20: 1_2_2\n",
      "类别 21: 1_2_3\n",
      "类别 22: 1_2_4\n",
      "类别 23: 1_2_5\n",
      "类别 24: 1_2_6\n",
      "类别 25: 1_3_0\n",
      "类别 26: 2_0_10\n",
      "类别 27: 2_0_4\n",
      "类别 28: 2_0_5\n",
      "类别 29: 2_0_6\n",
      "类别 30: 2_0_7\n",
      "类别 31: 2_0_8\n",
      "类别 32: 2_0_9\n",
      "类别 33: 2_1_1\n",
      "类别 34: 2_2_0\n",
      "类别 35: 2_3_0\n",
      "类别 36: 2_4_0\n",
      "类别 37: 3_9_0\n",
      "类别 38: 3_9_2\n"
     ]
    }
   ],
   "source": [
    "print(\"所有物种类型的数量：\",len(state_encoder.classes_))\n",
    "#state_encoder.classes_\n",
    "\n",
    "# 获取 state_encoder.classes_ 的内容\n",
    "classes = state_encoder.classes_\n",
    "\n",
    "# 输出每个物种的编号及其对应的名称\n",
    "print(\"物种编号及对应的物种名称：\")\n",
    "for idx, class_name in enumerate(classes):\n",
    "    print(f\"类别 {idx}: {class_name}\")"
   ]
  },
  {
   "cell_type": "markdown",
   "id": "89b6fe87-6687-475e-b3eb-e227a2d22c03",
   "metadata": {
    "jp-MarkdownHeadingCollapsed": true,
    "tags": []
   },
   "source": [
    "### 2. 多输出模型评估 - 评估分类和回归任务"
   ]
  },
  {
   "cell_type": "code",
   "execution_count": 38,
   "id": "599f8038-6193-486c-a53b-a01cfb193635",
   "metadata": {},
   "outputs": [
    {
     "name": "stdout",
     "output_type": "stream",
     "text": [
      "\n",
      "===== 状态分类评估 =====\n",
      "准确率: 0.5370129321274617\n",
      "\n",
      "===== 时间预测评估 =====\n",
      "RMSE: 849.34\n",
      "MAE: 386.94\n"
     ]
    },
    {
     "data": {
      "image/png": "[encoded data removed]",
      "text/plain": [
       "<Figure size 800x600 with 1 Axes>"
      ]
     },
     "metadata": {},
     "output_type": "display_data"
    },
    {
     "name": "stdout",
     "output_type": "stream",
     "text": [
      "state_accuracy: 0.5370129321274617\n",
      "time_rmse: 849.336216149921\n",
      "time_mae: 386.9372283037189\n"
     ]
    }
   ],
   "source": [
    "from sklearn.metrics import accuracy_score, classification_report, mean_squared_error, mean_absolute_error\n",
    "import matplotlib.pyplot as plt\n",
    "\n",
    "# 初始化存储容器\n",
    "state_preds = []\n",
    "time_preds = []\n",
    "state_targets = []\n",
    "time_targets = []\n",
    "model.eval()\n",
    "\n",
    "with torch.no_grad():\n",
    "    for x_batch, y_state, y_time in test_loader:\n",
    "        x_batch = x_batch.to(device).float()\n",
    "\n",
    "        # 前向传播\n",
    "        state_pred, time_pred = model(x_batch)\n",
    "\n",
    "        # 收集预测结果\n",
    "        state_preds.extend(torch.argmax(state_pred, dim=1).cpu().numpy())  # 取类别索引\n",
    "        time_preds.extend(time_pred.cpu().numpy())\n",
    "\n",
    "        # 收集真实标签\n",
    "        state_targets.extend(y_state.cpu().numpy())\n",
    "        time_targets.extend(y_time.cpu().numpy())\n",
    "\n",
    "# ====== 分类任务评估 ======\n",
    "print(\"\\n===== 状态分类评估 =====\")\n",
    "print(\"准确率:\", accuracy_score(state_targets, state_preds))\n",
    "# print(classification_report(\n",
    "#     state_targets, \n",
    "#     state_preds,\n",
    "#     target_names=state_encoder.classes_  # 使用之前保存的编码器类别名\n",
    "# ))\n",
    "\n",
    "\n",
    "# ====== 时间回归评估 ======\n",
    "print(\"\\n===== 时间预测评估 =====\")\n",
    "rmse = np.sqrt(mean_squared_error(time_targets, time_preds))\n",
    "mae = mean_absolute_error(time_targets, time_preds)\n",
    "print(f\"RMSE: {rmse:.2f}\")\n",
    "print(f\"MAE: {mae:.2f}\")\n",
    "\n",
    "# 时间预测散点图\n",
    "plt.figure(figsize=(8, 6))\n",
    "plt.scatter(time_targets, time_preds, alpha=0.3)\n",
    "plt.plot([min(time_targets), max(time_targets)], \n",
    "         [min(time_targets), max(time_targets)], 'r--')\n",
    "plt.xlabel(\"Target time\")\n",
    "plt.ylabel(\"Predicted time\")\n",
    "plt.show()\n",
    "\n",
    "\n",
    "print(\"state_accuracy:\", accuracy_score(state_targets, state_preds))\n",
    "print(\"time_rmse:\", rmse)\n",
    "print(\"time_mae:\", mae)\n",
    "\n",
    "\n"
   ]
  },
  {
   "cell_type": "markdown",
   "id": "3925311e-3344-4e92-b94e-ad0105a950b1",
   "metadata": {},
   "source": [
    "# 六. 模型深度调优训练"
   ]
  },
  {
   "cell_type": "markdown",
   "id": "586b0fc6-c12b-4698-90f1-6f34f3b29d50",
   "metadata": {},
   "source": [
    "## 6.1.类权重法"
   ]
  },
  {
   "cell_type": "markdown",
   "id": "ca82a485-6212-4885-bb60-e5a38afd1a4c",
   "metadata": {},
   "source": [
    "### 1. 计算类权重矩阵 "
   ]
  },
  {
   "cell_type": "markdown",
   "id": "b495663c-d2fc-4d95-92d7-79589b83d643",
   "metadata": {
    "tags": []
   },
   "source": [
    "#### 1.1 wi = min(1.0 / (n_i * recall_i),w_max)"
   ]
  },
  {
   "cell_type": "code",
   "execution_count": 114,
   "id": "2fa7b8ed-a5fb-432d-aaf9-ccc552cc04e2",
   "metadata": {},
   "outputs": [
    {
     "name": "stdout",
     "output_type": "stream",
     "text": [
      "Class Weights: [2.97821767e-04 3.06581247e-05 3.31222356e-05 2.90022849e-05\n",
      " 4.23932919e-05 5.09206782e-05 2.47837695e-04 7.54059281e-04\n",
      " 3.54407923e+00 3.54407923e+00 3.08180801e-05 1.09385159e-04\n",
      " 5.19659706e-05 5.40255976e-05 8.60213393e-05 9.95527860e-05\n",
      " 1.44656293e-04 3.54407923e+00 3.62010135e-05 1.04237596e-03\n",
      " 4.60269982e-04 8.64409500e-04 8.43828288e-04 2.42745149e-04\n",
      " 3.54407923e+00 5.71625610e-04 2.36271805e-03 3.54407923e+00\n",
      " 2.95339703e-03 1.68765602e-03 5.90679788e-04 7.54059273e-04\n",
      " 6.56310872e-04 3.54407923e+00 3.54407923e+00 3.54407923e+00\n",
      " 3.54407923e+00 3.54407923e+00 3.54407923e+00]\n"
     ]
    }
   ],
   "source": [
    "import numpy as np\n",
    "from sklearn.metrics import confusion_matrix\n",
    "\n",
    "def calculate_class_weights(confusion_matrix, epsilon=1e-5, w_max=100.0):\n",
    "    \"\"\"\n",
    "    根据混淆矩阵计算类权重。\n",
    "    \n",
    "    参数：\n",
    "    - confusion_matrix: 混淆矩阵，shape=(num_classes, num_classes)\n",
    "    - epsilon: 平滑参数，防止除零，默认值为 1e-5\n",
    "    - w_max: 权重上限，默认值为 100.0\n",
    "    \n",
    "    返回：\n",
    "    - weights: 每个类别的权重，shape=(num_classes,)\n",
    "    \"\"\"\n",
    "    num_classes = confusion_matrix.shape[0]\n",
    "    weights = np.zeros(num_classes)\n",
    "    \n",
    "    for i in range(num_classes):\n",
    "        # 真阳性 (TP)\n",
    "        TP = confusion_matrix[i, i]\n",
    "        # 假阴性 (FN)，即真实为 i 但预测为其他类别的数量\n",
    "        FN = np.sum(confusion_matrix[i, :]) - TP\n",
    "        # 类别 i 的总样本数\n",
    "        n_i = TP + FN\n",
    "        \n",
    "        if n_i == 0:\n",
    "            # 如果类别 i 在测试集中没有样本，设置默认权重\n",
    "            weights[i] = 1.0\n",
    "        else:\n",
    "            # 平滑召回率\n",
    "            recall_i = (TP + epsilon) / (TP + FN + epsilon)\n",
    "            # 计算权重\n",
    "            weights[i] = 1.0 / (n_i * recall_i)\n",
    "            # 限制权重上限\n",
    "            weights[i] = min(weights[i], w_max)\n",
    "    \n",
    "    # 归一化权重，使其总和等于类别数（可选）\n",
    "    weights = weights / np.sum(weights) * num_classes\n",
    "    \n",
    "    return weights\n",
    "\n",
    "# 使用你的混淆矩阵计算权重\n",
    "class_weights = calculate_class_weights(final_cm)\n",
    "print(\"Class Weights:\", class_weights)"
   ]
  },
  {
   "cell_type": "markdown",
   "id": "89480b21-a0bb-4502-a3d2-c6effbafd246",
   "metadata": {
    "jp-MarkdownHeadingCollapsed": true,
    "tags": []
   },
   "source": [
    "#### 1.2 wi 手动设定"
   ]
  },
  {
   "cell_type": "code",
   "execution_count": 130,
   "id": "b77d6342-2684-40df-820f-e15c20f2fb2a",
   "metadata": {},
   "outputs": [
    {
     "name": "stdout",
     "output_type": "stream",
     "text": [
      "Classes with zero recall: [ 8  9 17 24 27 33 34 35 36 37 38]\n"
     ]
    }
   ],
   "source": [
    "import numpy as np\n",
    "\n",
    "# 假设 final_cm 是合并后的混淆矩阵\n",
    "# final_cm = ...\n",
    "\n",
    "# 找出对角线上为零的类别索引\n",
    "zero_recall_classes = np.where(np.diag(final_cm) == 0)[0]\n",
    "print(\"Classes with zero recall:\", zero_recall_classes)"
   ]
  },
  {
   "cell_type": "code",
   "execution_count": 140,
   "id": "9c61dde1-d95a-4fb8-8747-c3e654be3c24",
   "metadata": {},
   "outputs": [
    {
     "name": "stdout",
     "output_type": "stream",
     "text": [
      "Class weights: [1.e+00 1.e+00 1.e+00 1.e+00 1.e+00 1.e+00 1.e+00 1.e+00 1.e+00 1.e+00\n",
      " 1.e+00 1.e+00 1.e+00 1.e+00 1.e+00 1.e+00 1.e+00 1.e+00 1.e+00 1.e+00\n",
      " 1.e+00 1.e+00 1.e+00 1.e+00 1.e+00 1.e+00 1.e+00 1.e+00 1.e+00 1.e+00\n",
      " 1.e+15 1.e+00 1.e+00 1.e+00 1.e+00 1.e+00 1.e+00 1.e+00 1.e+00]\n"
     ]
    }
   ],
   "source": [
    "# 设置大权重值\n",
    "large_weight = 1000000000000000\n",
    "\n",
    "# 初始化类别权重数组，所有类别权重初始为1\n",
    "num_state_classes = len(state_encoder.classes_)\n",
    "class_weights = np.ones(num_state_classes)\n",
    "\n",
    "class_weights[30] = large_weight\n",
    "\n",
    "# 转换为 PyTorch 张量\n",
    "#class_weights = torch.tensor(class_weights, dtype=torch.float32).to(device)\n",
    "\n",
    "print(\"Class weights:\", class_weights)"
   ]
  },
  {
   "cell_type": "code",
   "execution_count": 125,
   "id": "eca15187-3421-4e60-bd1b-1d65feedefd1",
   "metadata": {},
   "outputs": [
    {
     "name": "stdout",
     "output_type": "stream",
     "text": [
      "Class weights: [1.e+00 1.e+00 1.e+00 1.e+00 1.e+00 1.e+00 1.e+00 1.e+00 1.e+04 1.e+04\n",
      " 1.e+00 1.e+00 1.e+00 1.e+00 1.e+00 1.e+00 1.e+00 1.e+04 1.e+00 1.e+00\n",
      " 1.e+00 1.e+00 1.e+00 1.e+00 1.e+04 1.e+00 1.e+00 1.e+04 1.e+00 1.e+00\n",
      " 1.e+00 1.e+00 1.e+00 1.e+04 1.e+04 1.e+04 1.e+04 1.e+04 1.e+04]\n"
     ]
    }
   ],
   "source": [
    "# 设置大权重值\n",
    "large_weight = 1\n",
    "\n",
    "# 初始化类别权重数组，所有类别权重初始为1\n",
    "num_state_classes = len(state_encoder.classes_)\n",
    "class_weights = np.ones(num_state_classes)\n",
    "\n",
    "# 为零召回率的类别设置大权重\n",
    "for cls in zero_recall_classes:\n",
    "    class_weights[cls] = large_weight\n",
    "\n",
    "# 转换为 PyTorch 张量\n",
    "#class_weights = torch.tensor(class_weights, dtype=torch.float32).to(device)\n",
    "\n",
    "print(\"Class weights:\", class_weights)"
   ]
  },
  {
   "cell_type": "markdown",
   "id": "4dd9c8ca-dee0-4750-9df5-7065884d259b",
   "metadata": {},
   "source": [
    "### 2.加权损失函数代码"
   ]
  },
  {
   "cell_type": "code",
   "execution_count": 141,
   "id": "b6dbb854-2d44-4f73-bcae-f0303cfa8724",
   "metadata": {},
   "outputs": [],
   "source": [
    "import torch\n",
    "import torch.nn as nn\n",
    "\n",
    "# 将权重转换为 tensor，并移动到与模型相同的设备\n",
    "device = torch.device(\"cuda\" if torch.cuda.is_available() else \"cpu\")\n",
    "class_weights_tensor = torch.tensor(class_weights, dtype=torch.float32).to(device)\n",
    "\n",
    "# 定义加权交叉熵损失函数\n",
    "criterion = nn.CrossEntropyLoss(weight=class_weights_tensor,reduction='mean')\n",
    "optimizer = optim.Adam(model.parameters(), lr=0.00001)\n",
    "scheduler = ReduceLROnPlateau(optimizer, 'min', factor=0.5, patience=5)"
   ]
  },
  {
   "cell_type": "markdown",
   "id": "cf23029d-b40b-435a-8d50-c4bc295c592f",
   "metadata": {},
   "source": [
    "返回继续执行上述的训练模型代码"
   ]
  }
 ],
 "metadata": {
  "kernelspec": {
   "display_name": "pytorch",
   "language": "python",
   "name": "python3"
  },
  "language_info": {
   "codemirror_mode": {
    "name": "ipython",
    "version": 3
   },
   "file_extension": ".py",
   "mimetype": "text/x-python",
   "name": "python",
   "nbconvert_exporter": "python",
   "pygments_lexer": "ipython3",
   "version": "3.8.20"
  }
 },
 "nbformat": 4,
 "nbformat_minor": 5
}
